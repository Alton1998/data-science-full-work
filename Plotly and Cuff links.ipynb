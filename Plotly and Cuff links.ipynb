{
 "cells": [
  {
   "cell_type": "code",
   "execution_count": 1,
   "id": "7099b985",
   "metadata": {},
   "outputs": [],
   "source": [
    "import pandas as pd\n",
    "import numpy as np\n",
    "from matplotlib import pyplot as plt\n",
    "%matplotlib inline"
   ]
  },
  {
   "cell_type": "code",
   "execution_count": 2,
   "id": "a16478e9",
   "metadata": {},
   "outputs": [
    {
     "name": "stdout",
     "output_type": "stream",
     "text": [
      "5.9.0\n"
     ]
    }
   ],
   "source": [
    "from plotly import __version__\n",
    "print(__version__)"
   ]
  },
  {
   "cell_type": "code",
   "execution_count": 3,
   "id": "ad54b472",
   "metadata": {},
   "outputs": [],
   "source": [
    "import cufflinks as cf"
   ]
  },
  {
   "cell_type": "code",
   "execution_count": 4,
   "id": "08bc6b04",
   "metadata": {},
   "outputs": [],
   "source": [
    "from plotly.offline import download_plotlyjs,init_notebook_mode,plot,iplot"
   ]
  },
  {
   "cell_type": "code",
   "execution_count": 5,
   "id": "9502895d",
   "metadata": {},
   "outputs": [
    {
     "data": {
      "text/html": [
       "        <script type=\"text/javascript\">\n",
       "        window.PlotlyConfig = {MathJaxConfig: 'local'};\n",
       "        if (window.MathJax && window.MathJax.Hub && window.MathJax.Hub.Config) {window.MathJax.Hub.Config({SVG: {font: \"STIX-Web\"}});}\n",
       "        if (typeof require !== 'undefined') {\n",
       "        require.undef(\"plotly\");\n",
       "        requirejs.config({\n",
       "            paths: {\n",
       "                'plotly': ['https://cdn.plot.ly/plotly-2.12.1.min']\n",
       "            }\n",
       "        });\n",
       "        require(['plotly'], function(Plotly) {\n",
       "            window._Plotly = Plotly;\n",
       "        });\n",
       "        }\n",
       "        </script>\n",
       "        "
      ]
     },
     "metadata": {},
     "output_type": "display_data"
    }
   ],
   "source": [
    "init_notebook_mode(connected=True)"
   ]
  },
  {
   "cell_type": "code",
   "execution_count": 6,
   "id": "4d195e44",
   "metadata": {},
   "outputs": [
    {
     "data": {
      "text/html": [
       "        <script type=\"text/javascript\">\n",
       "        window.PlotlyConfig = {MathJaxConfig: 'local'};\n",
       "        if (window.MathJax && window.MathJax.Hub && window.MathJax.Hub.Config) {window.MathJax.Hub.Config({SVG: {font: \"STIX-Web\"}});}\n",
       "        if (typeof require !== 'undefined') {\n",
       "        require.undef(\"plotly\");\n",
       "        requirejs.config({\n",
       "            paths: {\n",
       "                'plotly': ['https://cdn.plot.ly/plotly-2.12.1.min']\n",
       "            }\n",
       "        });\n",
       "        require(['plotly'], function(Plotly) {\n",
       "            window._Plotly = Plotly;\n",
       "        });\n",
       "        }\n",
       "        </script>\n",
       "        "
      ]
     },
     "metadata": {},
     "output_type": "display_data"
    }
   ],
   "source": [
    "cf.go_offline()# Use cufflinks offline"
   ]
  },
  {
   "cell_type": "code",
   "execution_count": 7,
   "id": "98a9e76c",
   "metadata": {},
   "outputs": [],
   "source": [
    "# Data \n",
    "df = pd.DataFrame(np.random.randn(100,4),columns=\"A B C D\".split())"
   ]
  },
  {
   "cell_type": "code",
   "execution_count": 8,
   "id": "c41c30d3",
   "metadata": {},
   "outputs": [
    {
     "data": {
      "text/html": [
       "<div>\n",
       "<style scoped>\n",
       "    .dataframe tbody tr th:only-of-type {\n",
       "        vertical-align: middle;\n",
       "    }\n",
       "\n",
       "    .dataframe tbody tr th {\n",
       "        vertical-align: top;\n",
       "    }\n",
       "\n",
       "    .dataframe thead th {\n",
       "        text-align: right;\n",
       "    }\n",
       "</style>\n",
       "<table border=\"1\" class=\"dataframe\">\n",
       "  <thead>\n",
       "    <tr style=\"text-align: right;\">\n",
       "      <th></th>\n",
       "      <th>A</th>\n",
       "      <th>B</th>\n",
       "      <th>C</th>\n",
       "      <th>D</th>\n",
       "    </tr>\n",
       "  </thead>\n",
       "  <tbody>\n",
       "    <tr>\n",
       "      <th>0</th>\n",
       "      <td>0.644621</td>\n",
       "      <td>-0.221608</td>\n",
       "      <td>0.701298</td>\n",
       "      <td>0.771069</td>\n",
       "    </tr>\n",
       "    <tr>\n",
       "      <th>1</th>\n",
       "      <td>0.407822</td>\n",
       "      <td>1.715855</td>\n",
       "      <td>0.131129</td>\n",
       "      <td>-0.086733</td>\n",
       "    </tr>\n",
       "    <tr>\n",
       "      <th>2</th>\n",
       "      <td>-0.276587</td>\n",
       "      <td>-0.623774</td>\n",
       "      <td>-0.681397</td>\n",
       "      <td>-0.929228</td>\n",
       "    </tr>\n",
       "    <tr>\n",
       "      <th>3</th>\n",
       "      <td>0.104567</td>\n",
       "      <td>1.717182</td>\n",
       "      <td>0.762627</td>\n",
       "      <td>-0.087227</td>\n",
       "    </tr>\n",
       "    <tr>\n",
       "      <th>4</th>\n",
       "      <td>0.083241</td>\n",
       "      <td>-0.196812</td>\n",
       "      <td>1.881057</td>\n",
       "      <td>-1.835409</td>\n",
       "    </tr>\n",
       "  </tbody>\n",
       "</table>\n",
       "</div>"
      ],
      "text/plain": [
       "          A         B         C         D\n",
       "0  0.644621 -0.221608  0.701298  0.771069\n",
       "1  0.407822  1.715855  0.131129 -0.086733\n",
       "2 -0.276587 -0.623774 -0.681397 -0.929228\n",
       "3  0.104567  1.717182  0.762627 -0.087227\n",
       "4  0.083241 -0.196812  1.881057 -1.835409"
      ]
     },
     "execution_count": 8,
     "metadata": {},
     "output_type": "execute_result"
    }
   ],
   "source": [
    "df.head()"
   ]
  },
  {
   "cell_type": "code",
   "execution_count": 9,
   "id": "b836c815",
   "metadata": {},
   "outputs": [],
   "source": [
    "df2 = pd.DataFrame({'Category':['A','B','C'],'Values':[32,43,50]})"
   ]
  },
  {
   "cell_type": "code",
   "execution_count": 10,
   "id": "e1ea305d",
   "metadata": {},
   "outputs": [
    {
     "data": {
      "text/html": [
       "<div>\n",
       "<style scoped>\n",
       "    .dataframe tbody tr th:only-of-type {\n",
       "        vertical-align: middle;\n",
       "    }\n",
       "\n",
       "    .dataframe tbody tr th {\n",
       "        vertical-align: top;\n",
       "    }\n",
       "\n",
       "    .dataframe thead th {\n",
       "        text-align: right;\n",
       "    }\n",
       "</style>\n",
       "<table border=\"1\" class=\"dataframe\">\n",
       "  <thead>\n",
       "    <tr style=\"text-align: right;\">\n",
       "      <th></th>\n",
       "      <th>Category</th>\n",
       "      <th>Values</th>\n",
       "    </tr>\n",
       "  </thead>\n",
       "  <tbody>\n",
       "    <tr>\n",
       "      <th>0</th>\n",
       "      <td>A</td>\n",
       "      <td>32</td>\n",
       "    </tr>\n",
       "    <tr>\n",
       "      <th>1</th>\n",
       "      <td>B</td>\n",
       "      <td>43</td>\n",
       "    </tr>\n",
       "    <tr>\n",
       "      <th>2</th>\n",
       "      <td>C</td>\n",
       "      <td>50</td>\n",
       "    </tr>\n",
       "  </tbody>\n",
       "</table>\n",
       "</div>"
      ],
      "text/plain": [
       "  Category  Values\n",
       "0        A      32\n",
       "1        B      43\n",
       "2        C      50"
      ]
     },
     "execution_count": 10,
     "metadata": {},
     "output_type": "execute_result"
    }
   ],
   "source": [
    "df2"
   ]
  },
  {
   "cell_type": "code",
   "execution_count": 12,
   "id": "3430894d",
   "metadata": {},
   "outputs": [
    {
     "data": {
      "text/plain": [
       "<AxesSubplot:>"
      ]
     },
     "execution_count": 12,
     "metadata": {},
     "output_type": "execute_result"
    },
    {
     "data": {
      "image/png": "[encoded data removed]",
      "text/plain": [
       "<Figure size 640x480 with 1 Axes>"
      ]
     },
     "metadata": {},
     "output_type": "display_data"
    }
   ],
   "source": [
    "df.plot()"
   ]
  },
  {
   "cell_type": "code",
   "execution_count": 13,
   "id": "0fea5855",
   "metadata": {},
   "outputs": [
    {
     "data": {
      "application/vnd.plotly.v1+json": {
       "config": {
        "linkText": "Export to plot.ly",
        "plotlyServerURL": "https://plot.ly",
        "showLink": true
       },
       "data": [
        {
         "line": {
          "color": "rgba(255, 153, 51, 1.0)",
          "dash": "solid",
          "shape": "linear",
          "width": 1.3
         },
         "mode": "lines",
         "name": "A",
         "text": "",
         "type": "scatter",
         "x": [
          0,
          1,
          2,
          3,
          4,
          5,
          6,
          7,
          8,
          9,
          10,
          11,
          12,
          13,
          14,
          15,
          16,
          17,
          18,
          19,
          20,
          21,
          22,
          23,
          24,
          25,
          26,
          27,
          28,
          29,
          30,
          31,
          32,
          33,
          34,
          35,
          36,
          37,
          38,
          39,
          40,
          41,
          42,
          43,
          44,
          45,
          46,
          47,
          48,
          49,
          50,
          51,
          52,
          53,
          54,
          55,
          56,
          57,
          58,
          59,
          60,
          61,
          62,
          63,
          64,
          65,
          66,
          67,
          68,
          69,
          70,
          71,
          72,
          73,
          74,
          75,
          76,
          77,
          78,
          79,
          80,
          81,
          82,
          83,
          84,
          85,
          86,
          87,
          88,
          89,
          90,
          91,
          92,
          93,
          94,
          95,
          96,
          97,
          98,
          99
         ],
         "y": [
          0.6446209978304961,
          0.4078221920136122,
          -0.2765872970204885,
          0.10456735638555388,
          0.08324133721186451,
          0.057440297633351456,
          -1.2171690355819085,
          -0.09196308817524182,
          -1.4384482006426815,
          -0.9066078684780878,
          -3.0647955779058393,
          -0.5927155310656024,
          1.583409055253283,
          0.234106386964043,
          1.2987088354934264,
          -0.07913794969622139,
          1.9820971873442788,
          0.5300957800919711,
          0.0561241346154549,
          0.015369674156755879,
          -1.2127715104199281,
          0.035053315533376254,
          0.7118746375710167,
          -0.1952185441372051,
          -0.7579919569364388,
          0.8382884169380316,
          -0.2523101224096548,
          0.6311895916493456,
          -1.4756247761832622,
          -1.9698270932740207,
          -1.3372120572711683,
          -0.0055887604966179906,
          -1.7516160926744089,
          0.543208412020896,
          0.707473240158141,
          0.6593860529630602,
          -0.966138313509074,
          1.2445708261621509,
          -1.0802389340212704,
          0.5086900141225315,
          0.06968362854003969,
          -0.6676088576024096,
          -0.6772597043552857,
          1.0685188366936331,
          -1.197023278836309,
          1.3296472778183843,
          -1.7352843284646196,
          -1.0582875565845407,
          1.0617180487815374,
          1.4540725943983606,
          0.5317907297889919,
          0.7420563485732212,
          -0.18793332995515025,
          -1.2305655757068716,
          -0.1772600412850589,
          -1.148239267934772,
          0.4037983500944594,
          0.9812475937057795,
          -0.4956402857253395,
          -0.28809363061450555,
          -0.6487072922681356,
          0.8481841770338829,
          -0.3114926773390753,
          0.3471058665605341,
          2.8359142899847587,
          -0.10683669988149225,
          0.7333023074176133,
          -0.9756817628998831,
          -1.4734885498421182,
          -0.8026545150142835,
          -0.9084824357349854,
          0.451034781575594,
          -0.14441496470423662,
          -1.9756483521255614,
          -0.5332455788412271,
          -0.63886776707257,
          -2.2713107658786433,
          -0.40268261110912806,
          -1.953505525568803,
          0.21002398901558625,
          0.5515111078971915,
          1.8137764486502015,
          -0.5238352930793719,
          -0.2822937597610257,
          0.41863932362537837,
          0.10282204212326963,
          2.0754089376632825,
          0.6972799565874593,
          1.1614656583668113,
          1.3623377423265945,
          0.10708896322825404,
          -0.35965989943947024,
          0.7454316477825902,
          -0.5002942850467338,
          0.3404751564352129,
          -0.7529900522556313,
          0.21081704514965283,
          1.753849340431904,
          0.8556437691539508,
          0.701648831151324
         ]
        },
        {
         "line": {
          "color": "rgba(55, 128, 191, 1.0)",
          "dash": "solid",
          "shape": "linear",
          "width": 1.3
         },
         "mode": "lines",
         "name": "B",
         "text": "",
         "type": "scatter",
         "x": [
          0,
          1,
          2,
          3,
          4,
          5,
          6,
          7,
          8,
          9,
          10,
          11,
          12,
          13,
          14,
          15,
          16,
          17,
          18,
          19,
          20,
          21,
          22,
          23,
          24,
          25,
          26,
          27,
          28,
          29,
          30,
          31,
          32,
          33,
          34,
          35,
          36,
          37,
          38,
          39,
          40,
          41,
          42,
          43,
          44,
          45,
          46,
          47,
          48,
          49,
          50,
          51,
          52,
          53,
          54,
          55,
          56,
          57,
          58,
          59,
          60,
          61,
          62,
          63,
          64,
          65,
          66,
          67,
          68,
          69,
          70,
          71,
          72,
          73,
          74,
          75,
          76,
          77,
          78,
          79,
          80,
          81,
          82,
          83,
          84,
          85,
          86,
          87,
          88,
          89,
          90,
          91,
          92,
          93,
          94,
          95,
          96,
          97,
          98,
          99
         ],
         "y": [
          -0.22160750690840028,
          1.7158554903880332,
          -0.6237740459654896,
          1.7171818589480066,
          -0.1968115099154782,
          -0.9178801038802831,
          -0.8648477636664242,
          -0.26311475476438756,
          -0.3644265939925632,
          -0.9804658128967962,
          1.0326790474999514,
          -1.5535104837887026,
          -0.16460272611477467,
          1.4317841740173647,
          0.13868359918099005,
          -0.26283282569495164,
          1.4671591243018076,
          0.9928316600028886,
          1.798718933737595,
          -0.12194429267969392,
          -1.2135185401556021,
          -0.5676843906954775,
          0.5466472148108473,
          1.5064364433330995,
          0.2294216562379941,
          -0.45183094530211637,
          -0.5990162630544981,
          1.2093106738320492,
          -0.5115952740366038,
          -1.3389739304237893,
          -0.05705254876762868,
          0.18038672055746063,
          1.7979243126872604,
          -0.9180546332511316,
          0.00838642535099962,
          -0.7440498127142733,
          0.42076697337853947,
          -1.4875438989362184,
          0.25306783994077015,
          1.8824847563507707,
          -0.5169299902217411,
          0.2883651291147273,
          -0.8722294837074352,
          0.2519290622637881,
          -1.8324172801056757,
          0.37575977161583207,
          0.9443994946857267,
          0.24775429904167792,
          -0.8099720675420381,
          0.8227450644967887,
          0.21290770852438837,
          -0.4753072455838816,
          -0.3011324544818885,
          -0.003528999951231824,
          -0.19640311199830598,
          0.34129342746016,
          0.8817453262399159,
          -0.14964935915574884,
          0.6386867039194815,
          1.6888518942380055,
          -0.954599303308324,
          -1.3586802403670986,
          -0.805279213474311,
          0.6484073187263913,
          0.23471787263488347,
          1.573593064081298,
          1.4803498296832225,
          -0.6778894932880246,
          -2.7440090441649985,
          0.5807543021017987,
          -0.8878887797836558,
          1.3493372535410566,
          -1.1731712522803317,
          0.9009129011476739,
          0.9927017366728492,
          -1.1113954750547725,
          -0.3911079194019816,
          -0.5604947607506066,
          -0.5130962215220196,
          0.296256896974686,
          -0.1897579204290804,
          -0.19731011276449487,
          1.2797615737542352,
          -0.3117436598969686,
          2.2371515544398384,
          1.1906124852355693,
          0.2381106335734882,
          -0.6858170151367708,
          1.150058581328844,
          0.19314586783555093,
          -1.3262365216682042,
          0.22266823381194942,
          -1.1045743475961767,
          -1.0501370436953776,
          1.2875349619480438,
          -1.570363318967189,
          -0.5266463105521983,
          0.5167043413713699,
          0.3411124470341882,
          2.987140002245271
         ]
        },
        {
         "line": {
          "color": "rgba(50, 171, 96, 1.0)",
          "dash": "solid",
          "shape": "linear",
          "width": 1.3
         },
         "mode": "lines",
         "name": "C",
         "text": "",
         "type": "scatter",
         "x": [
          0,
          1,
          2,
          3,
          4,
          5,
          6,
          7,
          8,
          9,
          10,
          11,
          12,
          13,
          14,
          15,
          16,
          17,
          18,
          19,
          20,
          21,
          22,
          23,
          24,
          25,
          26,
          27,
          28,
          29,
          30,
          31,
          32,
          33,
          34,
          35,
          36,
          37,
          38,
          39,
          40,
          41,
          42,
          43,
          44,
          45,
          46,
          47,
          48,
          49,
          50,
          51,
          52,
          53,
          54,
          55,
          56,
          57,
          58,
          59,
          60,
          61,
          62,
          63,
          64,
          65,
          66,
          67,
          68,
          69,
          70,
          71,
          72,
          73,
          74,
          75,
          76,
          77,
          78,
          79,
          80,
          81,
          82,
          83,
          84,
          85,
          86,
          87,
          88,
          89,
          90,
          91,
          92,
          93,
          94,
          95,
          96,
          97,
          98,
          99
         ],
         "y": [
          0.7012976858107476,
          0.13112876716322586,
          -0.6813970857853648,
          0.7626266599309006,
          1.8810574004548166,
          0.26033565690448307,
          0.4994790522032047,
          -0.5084750662647777,
          -0.5434176656881163,
          -2.4633927204653046,
          -0.6521249562522544,
          -0.14670782107135424,
          -0.3174865144850475,
          -1.0042400464938952,
          0.6658921866196987,
          0.19034364831626227,
          1.1553870061215892,
          -0.17220095106498723,
          -1.0537714587104434,
          0.500045590396657,
          -0.13451386173465865,
          -0.027892374212246027,
          1.4066424663771657,
          -0.6820547117786162,
          1.0939135918061562,
          1.079296940566886,
          0.010327137081296395,
          -0.9089530044668371,
          2.212218263471134,
          -0.02509365027062667,
          -0.07972747706023059,
          -0.011931537356809503,
          1.2590405432240899,
          -1.5154813110587153,
          -0.7681836657343759,
          0.07029045933967852,
          -0.6261877114432143,
          -0.29890390207145945,
          0.8076891914560079,
          -0.48900643341240624,
          -0.18229600927999168,
          1.2646900813903714,
          0.48761724025730246,
          -0.32419552319665174,
          -0.3195952241608016,
          -0.2141181762540822,
          -0.4732029597170572,
          2.065565663723758,
          -0.7236430797381805,
          -0.1879291151185566,
          1.9650445644037815,
          -2.647997803888273,
          0.0624412739324384,
          0.4214371683701604,
          0.32244681261181213,
          -1.1463309502872436,
          -0.4122642638641093,
          -0.1019974330153135,
          -0.42661888713341123,
          -0.2032627792764815,
          -2.076143637926378,
          -1.0133586709182414,
          0.5425889770145909,
          1.4972767985169795,
          1.3827028866954683,
          -0.9567475197195758,
          -1.6271696404774703,
          -0.04767927054525452,
          -0.3337362568629179,
          -2.5211967071004056,
          -0.7214255274482855,
          -1.6968238348366882,
          -0.8641714143407009,
          1.1314545083027825,
          -0.3464497033574137,
          -0.08399129750322462,
          -1.0997606369501673,
          1.6386602115224296,
          -0.24795699938403845,
          -0.8475456890457912,
          1.2632786197352313,
          -1.3752607005938815,
          -0.17727174377038782,
          -1.1141912635712727,
          0.9038545843165967,
          1.6682151489585701,
          -1.1539416875491058,
          0.26573596340025707,
          0.42537973515492217,
          -1.009847889051133,
          0.6854654840509039,
          -0.14944373300586317,
          1.5099303656959975,
          0.5367132482238024,
          0.5108694434056651,
          0.06396679098017176,
          0.4182402609127113,
          -0.45882135707575805,
          -0.6637807264473049,
          0.42826449790203475
         ]
        },
        {
         "line": {
          "color": "rgba(128, 0, 128, 1.0)",
          "dash": "solid",
          "shape": "linear",
          "width": 1.3
         },
         "mode": "lines",
         "name": "D",
         "text": "",
         "type": "scatter",
         "x": [
          0,
          1,
          2,
          3,
          4,
          5,
          6,
          7,
          8,
          9,
          10,
          11,
          12,
          13,
          14,
          15,
          16,
          17,
          18,
          19,
          20,
          21,
          22,
          23,
          24,
          25,
          26,
          27,
          28,
          29,
          30,
          31,
          32,
          33,
          34,
          35,
          36,
          37,
          38,
          39,
          40,
          41,
          42,
          43,
          44,
          45,
          46,
          47,
          48,
          49,
          50,
          51,
          52,
          53,
          54,
          55,
          56,
          57,
          58,
          59,
          60,
          61,
          62,
          63,
          64,
          65,
          66,
          67,
          68,
          69,
          70,
          71,
          72,
          73,
          74,
          75,
          76,
          77,
          78,
          79,
          80,
          81,
          82,
          83,
          84,
          85,
          86,
          87,
          88,
          89,
          90,
          91,
          92,
          93,
          94,
          95,
          96,
          97,
          98,
          99
         ],
         "y": [
          0.7710685342518336,
          -0.08673281835562326,
          -0.9292275667399005,
          -0.08722718385502183,
          -1.8354093130966138,
          -2.3669215228779104,
          1.0162186933207766,
          -1.051591957466034,
          1.311789236964196,
          1.2835110909421699,
          -0.18647269648908388,
          -1.9897111315816265,
          -0.188104262986079,
          -0.40678348264882264,
          -0.2081853041598393,
          -1.0675398634804543,
          0.15879813814960225,
          -0.9335573209804557,
          -1.1794506269311265,
          -0.5086145798998463,
          0.19250525161798482,
          1.2816815797315007,
          0.5456407114917887,
          2.174008157133585,
          0.9716299509781058,
          1.4476394585223482,
          0.8031719567415391,
          0.6338801065749562,
          -1.3396047068103658,
          0.26898247138012976,
          0.06953687683686048,
          -0.782279081821717,
          0.8152780357039893,
          -0.5821296951628023,
          -0.08306425552288532,
          -1.2125532805221355,
          -0.01998873872392119,
          -1.7947383874599883,
          0.3722827373475316,
          0.34592233613599366,
          0.4469249252617456,
          0.9376267695284086,
          1.0977292764220554,
          0.90152666289788,
          0.6406890057757472,
          -0.7343690997457678,
          -1.1469319828890387,
          -3.5805232475388453,
          1.7333269996330503,
          -0.16988381138361097,
          0.053954263262173154,
          -1.5588014795073613,
          1.3637212251412825,
          0.6635556331193656,
          -0.9590459929753491,
          -0.18672923056468158,
          -0.04536186834589831,
          -0.986179375093094,
          0.3438924264706309,
          0.6693067098234198,
          -0.422152846774601,
          -0.82902191445765,
          0.6962418591367862,
          -0.9336714089215007,
          0.2771700521454067,
          -0.20530361172490166,
          -0.3870473361922757,
          0.04887067149170552,
          -0.5806307167987539,
          -0.06758041697691812,
          -0.9927284682004818,
          0.03569548773964057,
          0.6970934325532863,
          0.5200703942540074,
          -0.40308030657266836,
          0.26654996695149374,
          0.6133970024769643,
          0.7127654020511173,
          1.2338043037286743,
          0.6657650184138121,
          -1.0658224426141822,
          1.1329112648803752,
          0.4257779515125473,
          0.48174393345883953,
          -1.0064697749288969,
          0.8144570677497984,
          0.09904712954893766,
          -0.01667907684784322,
          -1.4899988133514555,
          -1.2307960774775202,
          1.5475895067518977,
          -0.6295026903629481,
          0.7470095780965724,
          -0.494454673834522,
          1.2715278291971563,
          0.8734646191239015,
          -0.21238519250933158,
          -1.0630629919021253,
          -0.01077421943135205,
          -1.0048395012750386
         ]
        }
       ],
       "layout": {
        "legend": {
         "bgcolor": "#F5F6F9",
         "font": {
          "color": "#4D5663"
         }
        },
        "paper_bgcolor": "#F5F6F9",
        "plot_bgcolor": "#F5F6F9",
        "template": {
         "data": {
          "bar": [
           {
            "error_x": {
             "color": "#2a3f5f"
            },
            "error_y": {
             "color": "#2a3f5f"
            },
            "marker": {
             "line": {
              "color": "#E5ECF6",
              "width": 0.5
             },
             "pattern": {
              "fillmode": "overlay",
              "size": 10,
              "solidity": 0.2
             }
            },
            "type": "bar"
           }
          ],
          "barpolar": [
           {
            "marker": {
             "line": {
              "color": "#E5ECF6",
              "width": 0.5
             },
             "pattern": {
              "fillmode": "overlay",
              "size": 10,
              "solidity": 0.2
             }
            },
            "type": "barpolar"
           }
          ],
          "carpet": [
           {
            "aaxis": {
             "endlinecolor": "#2a3f5f",
             "gridcolor": "white",
             "linecolor": "white",
             "minorgridcolor": "white",
             "startlinecolor": "#2a3f5f"
            },
            "baxis": {
             "endlinecolor": "#2a3f5f",
             "gridcolor": "white",
             "linecolor": "white",
             "minorgridcolor": "white",
             "startlinecolor": "#2a3f5f"
            },
            "type": "carpet"
           }
          ],
          "choropleth": [
           {
            "colorbar": {
             "outlinewidth": 0,
             "ticks": ""
            },
            "type": "choropleth"
           }
          ],
          "contour": [
           {
            "colorbar": {
             "outlinewidth": 0,
             "ticks": ""
            },
            "colorscale": [
             [
              0,
              "#0d0887"
             ],
             [
              0.1111111111111111,
              "#46039f"
             ],
             [
              0.2222222222222222,
              "#7201a8"
             ],
             [
              0.3333333333333333,
              "#9c179e"
             ],
             [
              0.4444444444444444,
              "#bd3786"
             ],
             [
              0.5555555555555556,
              "#d8576b"
             ],
             [
              0.6666666666666666,
              "#ed7953"
             ],
             [
              0.7777777777777778,
              "#fb9f3a"
             ],
             [
              0.8888888888888888,
              "#fdca26"
             ],
             [
              1,
              "#f0f921"
             ]
            ],
            "type": "contour"
           }
          ],
          "contourcarpet": [
           {
            "colorbar": {
             "outlinewidth": 0,
             "ticks": ""
            },
            "type": "contourcarpet"
           }
          ],
          "heatmap": [
           {
            "colorbar": {
             "outlinewidth": 0,
             "ticks": ""
            },
            "colorscale": [
             [
              0,
              "#0d0887"
             ],
             [
              0.1111111111111111,
              "#46039f"
             ],
             [
              0.2222222222222222,
              "#7201a8"
             ],
             [
              0.3333333333333333,
              "#9c179e"
             ],
             [
              0.4444444444444444,
              "#bd3786"
             ],
             [
              0.5555555555555556,
              "#d8576b"
             ],
             [
              0.6666666666666666,
              "#ed7953"
             ],
             [
              0.7777777777777778,
              "#fb9f3a"
             ],
             [
              0.8888888888888888,
              "#fdca26"
             ],
             [
              1,
              "#f0f921"
             ]
            ],
            "type": "heatmap"
           }
          ],
          "heatmapgl": [
           {
            "colorbar": {
             "outlinewidth": 0,
             "ticks": ""
            },
            "colorscale": [
             [
              0,
              "#0d0887"
             ],
             [
              0.1111111111111111,
              "#46039f"
             ],
             [
              0.2222222222222222,
              "#7201a8"
             ],
             [
              0.3333333333333333,
              "#9c179e"
             ],
             [
              0.4444444444444444,
              "#bd3786"
             ],
             [
              0.5555555555555556,
              "#d8576b"
             ],
             [
              0.6666666666666666,
              "#ed7953"
             ],
             [
              0.7777777777777778,
              "#fb9f3a"
             ],
             [
              0.8888888888888888,
              "#fdca26"
             ],
             [
              1,
              "#f0f921"
             ]
            ],
            "type": "heatmapgl"
           }
          ],
          "histogram": [
           {
            "marker": {
             "pattern": {
              "fillmode": "overlay",
              "size": 10,
              "solidity": 0.2
             }
            },
            "type": "histogram"
           }
          ],
          "histogram2d": [
           {
            "colorbar": {
             "outlinewidth": 0,
             "ticks": ""
            },
            "colorscale": [
             [
              0,
              "#0d0887"
             ],
             [
              0.1111111111111111,
              "#46039f"
             ],
             [
              0.2222222222222222,
              "#7201a8"
             ],
             [
              0.3333333333333333,
              "#9c179e"
             ],
             [
              0.4444444444444444,
              "#bd3786"
             ],
             [
              0.5555555555555556,
              "#d8576b"
             ],
             [
              0.6666666666666666,
              "#ed7953"
             ],
             [
              0.7777777777777778,
              "#fb9f3a"
             ],
             [
              0.8888888888888888,
              "#fdca26"
             ],
             [
              1,
              "#f0f921"
             ]
            ],
            "type": "histogram2d"
           }
          ],
          "histogram2dcontour": [
           {
            "colorbar": {
             "outlinewidth": 0,
             "ticks": ""
            },
            "colorscale": [
             [
              0,
              "#0d0887"
             ],
             [
              0.1111111111111111,
              "#46039f"
             ],
             [
              0.2222222222222222,
              "#7201a8"
             ],
             [
              0.3333333333333333,
              "#9c179e"
             ],
             [
              0.4444444444444444,
              "#bd3786"
             ],
             [
              0.5555555555555556,
              "#d8576b"
             ],
             [
              0.6666666666666666,
              "#ed7953"
             ],
             [
              0.7777777777777778,
              "#fb9f3a"
             ],
             [
              0.8888888888888888,
              "#fdca26"
             ],
             [
              1,
              "#f0f921"
             ]
            ],
            "type": "histogram2dcontour"
           }
          ],
          "mesh3d": [
           {
            "colorbar": {
             "outlinewidth": 0,
             "ticks": ""
            },
            "type": "mesh3d"
           }
          ],
          "parcoords": [
           {
            "line": {
             "colorbar": {
              "outlinewidth": 0,
              "ticks": ""
             }
            },
            "type": "parcoords"
           }
          ],
          "pie": [
           {
            "automargin": true,
            "type": "pie"
           }
          ],
          "scatter": [
           {
            "fillpattern": {
             "fillmode": "overlay",
             "size": 10,
             "solidity": 0.2
            },
            "type": "scatter"
           }
          ],
          "scatter3d": [
           {
            "line": {
             "colorbar": {
              "outlinewidth": 0,
              "ticks": ""
             }
            },
            "marker": {
             "colorbar": {
              "outlinewidth": 0,
              "ticks": ""
             }
            },
            "type": "scatter3d"
           }
          ],
          "scattercarpet": [
           {
            "marker": {
             "colorbar": {
              "outlinewidth": 0,
              "ticks": ""
             }
            },
            "type": "scattercarpet"
           }
          ],
          "scattergeo": [
           {
            "marker": {
             "colorbar": {
              "outlinewidth": 0,
              "ticks": ""
             }
            },
            "type": "scattergeo"
           }
          ],
          "scattergl": [
           {
            "marker": {
             "colorbar": {
              "outlinewidth": 0,
              "ticks": ""
             }
            },
            "type": "scattergl"
           }
          ],
          "scattermapbox": [
           {
            "marker": {
             "colorbar": {
              "outlinewidth": 0,
              "ticks": ""
             }
            },
            "type": "scattermapbox"
           }
          ],
          "scatterpolar": [
           {
            "marker": {
             "colorbar": {
              "outlinewidth": 0,
              "ticks": ""
             }
            },
            "type": "scatterpolar"
           }
          ],
          "scatterpolargl": [
           {
            "marker": {
             "colorbar": {
              "outlinewidth": 0,
              "ticks": ""
             }
            },
            "type": "scatterpolargl"
           }
          ],
          "scatterternary": [
           {
            "marker": {
             "colorbar": {
              "outlinewidth": 0,
              "ticks": ""
             }
            },
            "type": "scatterternary"
           }
          ],
          "surface": [
           {
            "colorbar": {
             "outlinewidth": 0,
             "ticks": ""
            },
            "colorscale": [
             [
              0,
              "#0d0887"
             ],
             [
              0.1111111111111111,
              "#46039f"
             ],
             [
              0.2222222222222222,
              "#7201a8"
             ],
             [
              0.3333333333333333,
              "#9c179e"
             ],
             [
              0.4444444444444444,
              "#bd3786"
             ],
             [
              0.5555555555555556,
              "#d8576b"
             ],
             [
              0.6666666666666666,
              "#ed7953"
             ],
             [
              0.7777777777777778,
              "#fb9f3a"
             ],
             [
              0.8888888888888888,
              "#fdca26"
             ],
             [
              1,
              "#f0f921"
             ]
            ],
            "type": "surface"
           }
          ],
          "table": [
           {
            "cells": {
             "fill": {
              "color": "#EBF0F8"
             },
             "line": {
              "color": "white"
             }
            },
            "header": {
             "fill": {
              "color": "#C8D4E3"
             },
             "line": {
              "color": "white"
             }
            },
            "type": "table"
           }
          ]
         },
         "layout": {
          "annotationdefaults": {
           "arrowcolor": "#2a3f5f",
           "arrowhead": 0,
           "arrowwidth": 1
          },
          "autotypenumbers": "strict",
          "coloraxis": {
           "colorbar": {
            "outlinewidth": 0,
            "ticks": ""
           }
          },
          "colorscale": {
           "diverging": [
            [
             0,
             "#8e0152"
            ],
            [
             0.1,
             "#c51b7d"
            ],
            [
             0.2,
             "#de77ae"
            ],
            [
             0.3,
             "#f1b6da"
            ],
            [
             0.4,
             "#fde0ef"
            ],
            [
             0.5,
             "#f7f7f7"
            ],
            [
             0.6,
             "#e6f5d0"
            ],
            [
             0.7,
             "#b8e186"
            ],
            [
             0.8,
             "#7fbc41"
            ],
            [
             0.9,
             "#4d9221"
            ],
            [
             1,
             "#276419"
            ]
           ],
           "sequential": [
            [
             0,
             "#0d0887"
            ],
            [
             0.1111111111111111,
             "#46039f"
            ],
            [
             0.2222222222222222,
             "#7201a8"
            ],
            [
             0.3333333333333333,
             "#9c179e"
            ],
            [
             0.4444444444444444,
             "#bd3786"
            ],
            [
             0.5555555555555556,
             "#d8576b"
            ],
            [
             0.6666666666666666,
             "#ed7953"
            ],
            [
             0.7777777777777778,
             "#fb9f3a"
            ],
            [
             0.8888888888888888,
             "#fdca26"
            ],
            [
             1,
             "#f0f921"
            ]
           ],
           "sequentialminus": [
            [
             0,
             "#0d0887"
            ],
            [
             0.1111111111111111,
             "#46039f"
            ],
            [
             0.2222222222222222,
             "#7201a8"
            ],
            [
             0.3333333333333333,
             "#9c179e"
            ],
            [
             0.4444444444444444,
             "#bd3786"
            ],
            [
             0.5555555555555556,
             "#d8576b"
            ],
            [
             0.6666666666666666,
             "#ed7953"
            ],
            [
             0.7777777777777778,
             "#fb9f3a"
            ],
            [
             0.8888888888888888,
             "#fdca26"
            ],
            [
             1,
             "#f0f921"
            ]
           ]
          },
          "colorway": [
           "#636efa",
           "#EF553B",
           "#00cc96",
           "#ab63fa",
           "#FFA15A",
           "#19d3f3",
           "#FF6692",
           "#B6E880",
           "#FF97FF",
           "#FECB52"
          ],
          "font": {
           "color": "#2a3f5f"
          },
          "geo": {
           "bgcolor": "white",
           "lakecolor": "white",
           "landcolor": "#E5ECF6",
           "showlakes": true,
           "showland": true,
           "subunitcolor": "white"
          },
          "hoverlabel": {
           "align": "left"
          },
          "hovermode": "closest",
          "mapbox": {
           "style": "light"
          },
          "paper_bgcolor": "white",
          "plot_bgcolor": "#E5ECF6",
          "polar": {
           "angularaxis": {
            "gridcolor": "white",
            "linecolor": "white",
            "ticks": ""
           },
           "bgcolor": "#E5ECF6",
           "radialaxis": {
            "gridcolor": "white",
            "linecolor": "white",
            "ticks": ""
           }
          },
          "scene": {
           "xaxis": {
            "backgroundcolor": "#E5ECF6",
            "gridcolor": "white",
            "gridwidth": 2,
            "linecolor": "white",
            "showbackground": true,
            "ticks": "",
            "zerolinecolor": "white"
           },
           "yaxis": {
            "backgroundcolor": "#E5ECF6",
            "gridcolor": "white",
            "gridwidth": 2,
            "linecolor": "white",
            "showbackground": true,
            "ticks": "",
            "zerolinecolor": "white"
           },
           "zaxis": {
            "backgroundcolor": "#E5ECF6",
            "gridcolor": "white",
            "gridwidth": 2,
            "linecolor": "white",
            "showbackground": true,
            "ticks": "",
            "zerolinecolor": "white"
           }
          },
          "shapedefaults": {
           "line": {
            "color": "#2a3f5f"
           }
          },
          "ternary": {
           "aaxis": {
            "gridcolor": "white",
            "linecolor": "white",
            "ticks": ""
           },
           "baxis": {
            "gridcolor": "white",
            "linecolor": "white",
            "ticks": ""
           },
           "bgcolor": "#E5ECF6",
           "caxis": {
            "gridcolor": "white",
            "linecolor": "white",
            "ticks": ""
           }
          },
          "title": {
           "x": 0.05
          },
          "xaxis": {
           "automargin": true,
           "gridcolor": "white",
           "linecolor": "white",
           "ticks": "",
           "title": {
            "standoff": 15
           },
           "zerolinecolor": "white",
           "zerolinewidth": 2
          },
          "yaxis": {
           "automargin": true,
           "gridcolor": "white",
           "linecolor": "white",
           "ticks": "",
           "title": {
            "standoff": 15
           },
           "zerolinecolor": "white",
           "zerolinewidth": 2
          }
         }
        },
        "title": {
         "font": {
          "color": "#4D5663"
         }
        },
        "xaxis": {
         "gridcolor": "#E1E5ED",
         "showgrid": true,
         "tickfont": {
          "color": "#4D5663"
         },
         "title": {
          "font": {
           "color": "#4D5663"
          },
          "text": ""
         },
         "zerolinecolor": "#E1E5ED"
        },
        "yaxis": {
         "gridcolor": "#E1E5ED",
         "showgrid": true,
         "tickfont": {
          "color": "#4D5663"
         },
         "title": {
          "font": {
           "color": "#4D5663"
          },
          "text": ""
         },
         "zerolinecolor": "#E1E5ED"
        }
       }
      },
      "text/html": [
       "<div>                            <div id=\"57b80b44-5dc4-4b27-9db3-d85981dfdd88\" class=\"plotly-graph-div\" style=\"height:525px; width:100%;\"></div>            <script type=\"text/javascript\">                require([\"plotly\"], function(Plotly) {                    window.PLOTLYENV=window.PLOTLYENV || {};\n",
       "                    window.PLOTLYENV.BASE_URL='https://plot.ly';                                    if (document.getElementById(\"57b80b44-5dc4-4b27-9db3-d85981dfdd88\")) {                    Plotly.newPlot(                        \"57b80b44-5dc4-4b27-9db3-d85981dfdd88\",                        [{\"line\":{\"color\":\"rgba(255, 153, 51, 1.0)\",\"dash\":\"solid\",\"shape\":\"linear\",\"width\":1.3},\"mode\":\"lines\",\"name\":\"A\",\"text\":\"\",\"x\":[0,1,2,3,4,5,6,7,8,9,10,11,12,13,14,15,16,17,18,19,20,21,22,23,24,25,26,27,28,29,30,31,32,33,34,35,36,37,38,39,40,41,42,43,44,45,46,47,48,49,50,51,52,53,54,55,56,57,58,59,60,61,62,63,64,65,66,67,68,69,70,71,72,73,74,75,76,77,78,79,80,81,82,83,84,85,86,87,88,89,90,91,92,93,94,95,96,97,98,99],\"y\":[0.6446209978304961,0.4078221920136122,-0.2765872970204885,0.10456735638555388,0.08324133721186451,0.057440297633351456,-1.2171690355819085,-0.09196308817524182,-1.4384482006426815,-0.9066078684780878,-3.0647955779058393,-0.5927155310656024,1.583409055253283,0.234106386964043,1.2987088354934264,-0.07913794969622139,1.9820971873442788,0.5300957800919711,0.0561241346154549,0.015369674156755879,-1.2127715104199281,0.035053315533376254,0.7118746375710167,-0.1952185441372051,-0.7579919569364388,0.8382884169380316,-0.2523101224096548,0.6311895916493456,-1.4756247761832622,-1.9698270932740207,-1.3372120572711683,-0.0055887604966179906,-1.7516160926744089,0.543208412020896,0.707473240158141,0.6593860529630602,-0.966138313509074,1.2445708261621509,-1.0802389340212704,0.5086900141225315,0.06968362854003969,-0.6676088576024096,-0.6772597043552857,1.0685188366936331,-1.197023278836309,1.3296472778183843,-1.7352843284646196,-1.0582875565845407,1.0617180487815374,1.4540725943983606,0.5317907297889919,0.7420563485732212,-0.18793332995515025,-1.2305655757068716,-0.1772600412850589,-1.148239267934772,0.4037983500944594,0.9812475937057795,-0.4956402857253395,-0.28809363061450555,-0.6487072922681356,0.8481841770338829,-0.3114926773390753,0.3471058665605341,2.8359142899847587,-0.10683669988149225,0.7333023074176133,-0.9756817628998831,-1.4734885498421182,-0.8026545150142835,-0.9084824357349854,0.451034781575594,-0.14441496470423662,-1.9756483521255614,-0.5332455788412271,-0.63886776707257,-2.2713107658786433,-0.40268261110912806,-1.953505525568803,0.21002398901558625,0.5515111078971915,1.8137764486502015,-0.5238352930793719,-0.2822937597610257,0.41863932362537837,0.10282204212326963,2.0754089376632825,0.6972799565874593,1.1614656583668113,1.3623377423265945,0.10708896322825404,-0.35965989943947024,0.7454316477825902,-0.5002942850467338,0.3404751564352129,-0.7529900522556313,0.21081704514965283,1.753849340431904,0.8556437691539508,0.701648831151324],\"type\":\"scatter\"},{\"line\":{\"color\":\"rgba(55, 128, 191, 1.0)\",\"dash\":\"solid\",\"shape\":\"linear\",\"width\":1.3},\"mode\":\"lines\",\"name\":\"B\",\"text\":\"\",\"x\":[0,1,2,3,4,5,6,7,8,9,10,11,12,13,14,15,16,17,18,19,20,21,22,23,24,25,26,27,28,29,30,31,32,33,34,35,36,37,38,39,40,41,42,43,44,45,46,47,48,49,50,51,52,53,54,55,56,57,58,59,60,61,62,63,64,65,66,67,68,69,70,71,72,73,74,75,76,77,78,79,80,81,82,83,84,85,86,87,88,89,90,91,92,93,94,95,96,97,98,99],\"y\":[-0.22160750690840028,1.7158554903880332,-0.6237740459654896,1.7171818589480066,-0.1968115099154782,-0.9178801038802831,-0.8648477636664242,-0.26311475476438756,-0.3644265939925632,-0.9804658128967962,1.0326790474999514,-1.5535104837887026,-0.16460272611477467,1.4317841740173647,0.13868359918099005,-0.26283282569495164,1.4671591243018076,0.9928316600028886,1.798718933737595,-0.12194429267969392,-1.2135185401556021,-0.5676843906954775,0.5466472148108473,1.5064364433330995,0.2294216562379941,-0.45183094530211637,-0.5990162630544981,1.2093106738320492,-0.5115952740366038,-1.3389739304237893,-0.05705254876762868,0.18038672055746063,1.7979243126872604,-0.9180546332511316,0.00838642535099962,-0.7440498127142733,0.42076697337853947,-1.4875438989362184,0.25306783994077015,1.8824847563507707,-0.5169299902217411,0.2883651291147273,-0.8722294837074352,0.2519290622637881,-1.8324172801056757,0.37575977161583207,0.9443994946857267,0.24775429904167792,-0.8099720675420381,0.8227450644967887,0.21290770852438837,-0.4753072455838816,-0.3011324544818885,-0.003528999951231824,-0.19640311199830598,0.34129342746016,0.8817453262399159,-0.14964935915574884,0.6386867039194815,1.6888518942380055,-0.954599303308324,-1.3586802403670986,-0.805279213474311,0.6484073187263913,0.23471787263488347,1.573593064081298,1.4803498296832225,-0.6778894932880246,-2.7440090441649985,0.5807543021017987,-0.8878887797836558,1.3493372535410566,-1.1731712522803317,0.9009129011476739,0.9927017366728492,-1.1113954750547725,-0.3911079194019816,-0.5604947607506066,-0.5130962215220196,0.296256896974686,-0.1897579204290804,-0.19731011276449487,1.2797615737542352,-0.3117436598969686,2.2371515544398384,1.1906124852355693,0.2381106335734882,-0.6858170151367708,1.150058581328844,0.19314586783555093,-1.3262365216682042,0.22266823381194942,-1.1045743475961767,-1.0501370436953776,1.2875349619480438,-1.570363318967189,-0.5266463105521983,0.5167043413713699,0.3411124470341882,2.987140002245271],\"type\":\"scatter\"},{\"line\":{\"color\":\"rgba(50, 171, 96, 1.0)\",\"dash\":\"solid\",\"shape\":\"linear\",\"width\":1.3},\"mode\":\"lines\",\"name\":\"C\",\"text\":\"\",\"x\":[0,1,2,3,4,5,6,7,8,9,10,11,12,13,14,15,16,17,18,19,20,21,22,23,24,25,26,27,28,29,30,31,32,33,34,35,36,37,38,39,40,41,42,43,44,45,46,47,48,49,50,51,52,53,54,55,56,57,58,59,60,61,62,63,64,65,66,67,68,69,70,71,72,73,74,75,76,77,78,79,80,81,82,83,84,85,86,87,88,89,90,91,92,93,94,95,96,97,98,99],\"y\":[0.7012976858107476,0.13112876716322586,-0.6813970857853648,0.7626266599309006,1.8810574004548166,0.26033565690448307,0.4994790522032047,-0.5084750662647777,-0.5434176656881163,-2.4633927204653046,-0.6521249562522544,-0.14670782107135424,-0.3174865144850475,-1.0042400464938952,0.6658921866196987,0.19034364831626227,1.1553870061215892,-0.17220095106498723,-1.0537714587104434,0.500045590396657,-0.13451386173465865,-0.027892374212246027,1.4066424663771657,-0.6820547117786162,1.0939135918061562,1.079296940566886,0.010327137081296395,-0.9089530044668371,2.212218263471134,-0.02509365027062667,-0.07972747706023059,-0.011931537356809503,1.2590405432240899,-1.5154813110587153,-0.7681836657343759,0.07029045933967852,-0.6261877114432143,-0.29890390207145945,0.8076891914560079,-0.48900643341240624,-0.18229600927999168,1.2646900813903714,0.48761724025730246,-0.32419552319665174,-0.3195952241608016,-0.2141181762540822,-0.4732029597170572,2.065565663723758,-0.7236430797381805,-0.1879291151185566,1.9650445644037815,-2.647997803888273,0.0624412739324384,0.4214371683701604,0.32244681261181213,-1.1463309502872436,-0.4122642638641093,-0.1019974330153135,-0.42661888713341123,-0.2032627792764815,-2.076143637926378,-1.0133586709182414,0.5425889770145909,1.4972767985169795,1.3827028866954683,-0.9567475197195758,-1.6271696404774703,-0.04767927054525452,-0.3337362568629179,-2.5211967071004056,-0.7214255274482855,-1.6968238348366882,-0.8641714143407009,1.1314545083027825,-0.3464497033574137,-0.08399129750322462,-1.0997606369501673,1.6386602115224296,-0.24795699938403845,-0.8475456890457912,1.2632786197352313,-1.3752607005938815,-0.17727174377038782,-1.1141912635712727,0.9038545843165967,1.6682151489585701,-1.1539416875491058,0.26573596340025707,0.42537973515492217,-1.009847889051133,0.6854654840509039,-0.14944373300586317,1.5099303656959975,0.5367132482238024,0.5108694434056651,0.06396679098017176,0.4182402609127113,-0.45882135707575805,-0.6637807264473049,0.42826449790203475],\"type\":\"scatter\"},{\"line\":{\"color\":\"rgba(128, 0, 128, 1.0)\",\"dash\":\"solid\",\"shape\":\"linear\",\"width\":1.3},\"mode\":\"lines\",\"name\":\"D\",\"text\":\"\",\"x\":[0,1,2,3,4,5,6,7,8,9,10,11,12,13,14,15,16,17,18,19,20,21,22,23,24,25,26,27,28,29,30,31,32,33,34,35,36,37,38,39,40,41,42,43,44,45,46,47,48,49,50,51,52,53,54,55,56,57,58,59,60,61,62,63,64,65,66,67,68,69,70,71,72,73,74,75,76,77,78,79,80,81,82,83,84,85,86,87,88,89,90,91,92,93,94,95,96,97,98,99],\"y\":[0.7710685342518336,-0.08673281835562326,-0.9292275667399005,-0.08722718385502183,-1.8354093130966138,-2.3669215228779104,1.0162186933207766,-1.051591957466034,1.311789236964196,1.2835110909421699,-0.18647269648908388,-1.9897111315816265,-0.188104262986079,-0.40678348264882264,-0.2081853041598393,-1.0675398634804543,0.15879813814960225,-0.9335573209804557,-1.1794506269311265,-0.5086145798998463,0.19250525161798482,1.2816815797315007,0.5456407114917887,2.174008157133585,0.9716299509781058,1.4476394585223482,0.8031719567415391,0.6338801065749562,-1.3396047068103658,0.26898247138012976,0.06953687683686048,-0.782279081821717,0.8152780357039893,-0.5821296951628023,-0.08306425552288532,-1.2125532805221355,-0.01998873872392119,-1.7947383874599883,0.3722827373475316,0.34592233613599366,0.4469249252617456,0.9376267695284086,1.0977292764220554,0.90152666289788,0.6406890057757472,-0.7343690997457678,-1.1469319828890387,-3.5805232475388453,1.7333269996330503,-0.16988381138361097,0.053954263262173154,-1.5588014795073613,1.3637212251412825,0.6635556331193656,-0.9590459929753491,-0.18672923056468158,-0.04536186834589831,-0.986179375093094,0.3438924264706309,0.6693067098234198,-0.422152846774601,-0.82902191445765,0.6962418591367862,-0.9336714089215007,0.2771700521454067,-0.20530361172490166,-0.3870473361922757,0.04887067149170552,-0.5806307167987539,-0.06758041697691812,-0.9927284682004818,0.03569548773964057,0.6970934325532863,0.5200703942540074,-0.40308030657266836,0.26654996695149374,0.6133970024769643,0.7127654020511173,1.2338043037286743,0.6657650184138121,-1.0658224426141822,1.1329112648803752,0.4257779515125473,0.48174393345883953,-1.0064697749288969,0.8144570677497984,0.09904712954893766,-0.01667907684784322,-1.4899988133514555,-1.2307960774775202,1.5475895067518977,-0.6295026903629481,0.7470095780965724,-0.494454673834522,1.2715278291971563,0.8734646191239015,-0.21238519250933158,-1.0630629919021253,-0.01077421943135205,-1.0048395012750386],\"type\":\"scatter\"}],                        {\"legend\":{\"bgcolor\":\"#F5F6F9\",\"font\":{\"color\":\"#4D5663\"}},\"paper_bgcolor\":\"#F5F6F9\",\"plot_bgcolor\":\"#F5F6F9\",\"template\":{\"data\":{\"barpolar\":[{\"marker\":{\"line\":{\"color\":\"#E5ECF6\",\"width\":0.5},\"pattern\":{\"fillmode\":\"overlay\",\"size\":10,\"solidity\":0.2}},\"type\":\"barpolar\"}],\"bar\":[{\"error_x\":{\"color\":\"#2a3f5f\"},\"error_y\":{\"color\":\"#2a3f5f\"},\"marker\":{\"line\":{\"color\":\"#E5ECF6\",\"width\":0.5},\"pattern\":{\"fillmode\":\"overlay\",\"size\":10,\"solidity\":0.2}},\"type\":\"bar\"}],\"carpet\":[{\"aaxis\":{\"endlinecolor\":\"#2a3f5f\",\"gridcolor\":\"white\",\"linecolor\":\"white\",\"minorgridcolor\":\"white\",\"startlinecolor\":\"#2a3f5f\"},\"baxis\":{\"endlinecolor\":\"#2a3f5f\",\"gridcolor\":\"white\",\"linecolor\":\"white\",\"minorgridcolor\":\"white\",\"startlinecolor\":\"#2a3f5f\"},\"type\":\"carpet\"}],\"choropleth\":[{\"colorbar\":{\"outlinewidth\":0,\"ticks\":\"\"},\"type\":\"choropleth\"}],\"contourcarpet\":[{\"colorbar\":{\"outlinewidth\":0,\"ticks\":\"\"},\"type\":\"contourcarpet\"}],\"contour\":[{\"colorbar\":{\"outlinewidth\":0,\"ticks\":\"\"},\"colorscale\":[[0.0,\"#0d0887\"],[0.1111111111111111,\"#46039f\"],[0.2222222222222222,\"#7201a8\"],[0.3333333333333333,\"#9c179e\"],[0.4444444444444444,\"#bd3786\"],[0.5555555555555556,\"#d8576b\"],[0.6666666666666666,\"#ed7953\"],[0.7777777777777778,\"#fb9f3a\"],[0.8888888888888888,\"#fdca26\"],[1.0,\"#f0f921\"]],\"type\":\"contour\"}],\"heatmapgl\":[{\"colorbar\":{\"outlinewidth\":0,\"ticks\":\"\"},\"colorscale\":[[0.0,\"#0d0887\"],[0.1111111111111111,\"#46039f\"],[0.2222222222222222,\"#7201a8\"],[0.3333333333333333,\"#9c179e\"],[0.4444444444444444,\"#bd3786\"],[0.5555555555555556,\"#d8576b\"],[0.6666666666666666,\"#ed7953\"],[0.7777777777777778,\"#fb9f3a\"],[0.8888888888888888,\"#fdca26\"],[1.0,\"#f0f921\"]],\"type\":\"heatmapgl\"}],\"heatmap\":[{\"colorbar\":{\"outlinewidth\":0,\"ticks\":\"\"},\"colorscale\":[[0.0,\"#0d0887\"],[0.1111111111111111,\"#46039f\"],[0.2222222222222222,\"#7201a8\"],[0.3333333333333333,\"#9c179e\"],[0.4444444444444444,\"#bd3786\"],[0.5555555555555556,\"#d8576b\"],[0.6666666666666666,\"#ed7953\"],[0.7777777777777778,\"#fb9f3a\"],[0.8888888888888888,\"#fdca26\"],[1.0,\"#f0f921\"]],\"type\":\"heatmap\"}],\"histogram2dcontour\":[{\"colorbar\":{\"outlinewidth\":0,\"ticks\":\"\"},\"colorscale\":[[0.0,\"#0d0887\"],[0.1111111111111111,\"#46039f\"],[0.2222222222222222,\"#7201a8\"],[0.3333333333333333,\"#9c179e\"],[0.4444444444444444,\"#bd3786\"],[0.5555555555555556,\"#d8576b\"],[0.6666666666666666,\"#ed7953\"],[0.7777777777777778,\"#fb9f3a\"],[0.8888888888888888,\"#fdca26\"],[1.0,\"#f0f921\"]],\"type\":\"histogram2dcontour\"}],\"histogram2d\":[{\"colorbar\":{\"outlinewidth\":0,\"ticks\":\"\"},\"colorscale\":[[0.0,\"#0d0887\"],[0.1111111111111111,\"#46039f\"],[0.2222222222222222,\"#7201a8\"],[0.3333333333333333,\"#9c179e\"],[0.4444444444444444,\"#bd3786\"],[0.5555555555555556,\"#d8576b\"],[0.6666666666666666,\"#ed7953\"],[0.7777777777777778,\"#fb9f3a\"],[0.8888888888888888,\"#fdca26\"],[1.0,\"#f0f921\"]],\"type\":\"histogram2d\"}],\"histogram\":[{\"marker\":{\"pattern\":{\"fillmode\":\"overlay\",\"size\":10,\"solidity\":0.2}},\"type\":\"histogram\"}],\"mesh3d\":[{\"colorbar\":{\"outlinewidth\":0,\"ticks\":\"\"},\"type\":\"mesh3d\"}],\"parcoords\":[{\"line\":{\"colorbar\":{\"outlinewidth\":0,\"ticks\":\"\"}},\"type\":\"parcoords\"}],\"pie\":[{\"automargin\":true,\"type\":\"pie\"}],\"scatter3d\":[{\"line\":{\"colorbar\":{\"outlinewidth\":0,\"ticks\":\"\"}},\"marker\":{\"colorbar\":{\"outlinewidth\":0,\"ticks\":\"\"}},\"type\":\"scatter3d\"}],\"scattercarpet\":[{\"marker\":{\"colorbar\":{\"outlinewidth\":0,\"ticks\":\"\"}},\"type\":\"scattercarpet\"}],\"scattergeo\":[{\"marker\":{\"colorbar\":{\"outlinewidth\":0,\"ticks\":\"\"}},\"type\":\"scattergeo\"}],\"scattergl\":[{\"marker\":{\"colorbar\":{\"outlinewidth\":0,\"ticks\":\"\"}},\"type\":\"scattergl\"}],\"scattermapbox\":[{\"marker\":{\"colorbar\":{\"outlinewidth\":0,\"ticks\":\"\"}},\"type\":\"scattermapbox\"}],\"scatterpolargl\":[{\"marker\":{\"colorbar\":{\"outlinewidth\":0,\"ticks\":\"\"}},\"type\":\"scatterpolargl\"}],\"scatterpolar\":[{\"marker\":{\"colorbar\":{\"outlinewidth\":0,\"ticks\":\"\"}},\"type\":\"scatterpolar\"}],\"scatter\":[{\"fillpattern\":{\"fillmode\":\"overlay\",\"size\":10,\"solidity\":0.2},\"type\":\"scatter\"}],\"scatterternary\":[{\"marker\":{\"colorbar\":{\"outlinewidth\":0,\"ticks\":\"\"}},\"type\":\"scatterternary\"}],\"surface\":[{\"colorbar\":{\"outlinewidth\":0,\"ticks\":\"\"},\"colorscale\":[[0.0,\"#0d0887\"],[0.1111111111111111,\"#46039f\"],[0.2222222222222222,\"#7201a8\"],[0.3333333333333333,\"#9c179e\"],[0.4444444444444444,\"#bd3786\"],[0.5555555555555556,\"#d8576b\"],[0.6666666666666666,\"#ed7953\"],[0.7777777777777778,\"#fb9f3a\"],[0.8888888888888888,\"#fdca26\"],[1.0,\"#f0f921\"]],\"type\":\"surface\"}],\"table\":[{\"cells\":{\"fill\":{\"color\":\"#EBF0F8\"},\"line\":{\"color\":\"white\"}},\"header\":{\"fill\":{\"color\":\"#C8D4E3\"},\"line\":{\"color\":\"white\"}},\"type\":\"table\"}]},\"layout\":{\"annotationdefaults\":{\"arrowcolor\":\"#2a3f5f\",\"arrowhead\":0,\"arrowwidth\":1},\"autotypenumbers\":\"strict\",\"coloraxis\":{\"colorbar\":{\"outlinewidth\":0,\"ticks\":\"\"}},\"colorscale\":{\"diverging\":[[0,\"#8e0152\"],[0.1,\"#c51b7d\"],[0.2,\"#de77ae\"],[0.3,\"#f1b6da\"],[0.4,\"#fde0ef\"],[0.5,\"#f7f7f7\"],[0.6,\"#e6f5d0\"],[0.7,\"#b8e186\"],[0.8,\"#7fbc41\"],[0.9,\"#4d9221\"],[1,\"#276419\"]],\"sequential\":[[0.0,\"#0d0887\"],[0.1111111111111111,\"#46039f\"],[0.2222222222222222,\"#7201a8\"],[0.3333333333333333,\"#9c179e\"],[0.4444444444444444,\"#bd3786\"],[0.5555555555555556,\"#d8576b\"],[0.6666666666666666,\"#ed7953\"],[0.7777777777777778,\"#fb9f3a\"],[0.8888888888888888,\"#fdca26\"],[1.0,\"#f0f921\"]],\"sequentialminus\":[[0.0,\"#0d0887\"],[0.1111111111111111,\"#46039f\"],[0.2222222222222222,\"#7201a8\"],[0.3333333333333333,\"#9c179e\"],[0.4444444444444444,\"#bd3786\"],[0.5555555555555556,\"#d8576b\"],[0.6666666666666666,\"#ed7953\"],[0.7777777777777778,\"#fb9f3a\"],[0.8888888888888888,\"#fdca26\"],[1.0,\"#f0f921\"]]},\"colorway\":[\"#636efa\",\"#EF553B\",\"#00cc96\",\"#ab63fa\",\"#FFA15A\",\"#19d3f3\",\"#FF6692\",\"#B6E880\",\"#FF97FF\",\"#FECB52\"],\"font\":{\"color\":\"#2a3f5f\"},\"geo\":{\"bgcolor\":\"white\",\"lakecolor\":\"white\",\"landcolor\":\"#E5ECF6\",\"showlakes\":true,\"showland\":true,\"subunitcolor\":\"white\"},\"hoverlabel\":{\"align\":\"left\"},\"hovermode\":\"closest\",\"mapbox\":{\"style\":\"light\"},\"paper_bgcolor\":\"white\",\"plot_bgcolor\":\"#E5ECF6\",\"polar\":{\"angularaxis\":{\"gridcolor\":\"white\",\"linecolor\":\"white\",\"ticks\":\"\"},\"bgcolor\":\"#E5ECF6\",\"radialaxis\":{\"gridcolor\":\"white\",\"linecolor\":\"white\",\"ticks\":\"\"}},\"scene\":{\"xaxis\":{\"backgroundcolor\":\"#E5ECF6\",\"gridcolor\":\"white\",\"gridwidth\":2,\"linecolor\":\"white\",\"showbackground\":true,\"ticks\":\"\",\"zerolinecolor\":\"white\"},\"yaxis\":{\"backgroundcolor\":\"#E5ECF6\",\"gridcolor\":\"white\",\"gridwidth\":2,\"linecolor\":\"white\",\"showbackground\":true,\"ticks\":\"\",\"zerolinecolor\":\"white\"},\"zaxis\":{\"backgroundcolor\":\"#E5ECF6\",\"gridcolor\":\"white\",\"gridwidth\":2,\"linecolor\":\"white\",\"showbackground\":true,\"ticks\":\"\",\"zerolinecolor\":\"white\"}},\"shapedefaults\":{\"line\":{\"color\":\"#2a3f5f\"}},\"ternary\":{\"aaxis\":{\"gridcolor\":\"white\",\"linecolor\":\"white\",\"ticks\":\"\"},\"baxis\":{\"gridcolor\":\"white\",\"linecolor\":\"white\",\"ticks\":\"\"},\"bgcolor\":\"#E5ECF6\",\"caxis\":{\"gridcolor\":\"white\",\"linecolor\":\"white\",\"ticks\":\"\"}},\"title\":{\"x\":0.05},\"xaxis\":{\"automargin\":true,\"gridcolor\":\"white\",\"linecolor\":\"white\",\"ticks\":\"\",\"title\":{\"standoff\":15},\"zerolinecolor\":\"white\",\"zerolinewidth\":2},\"yaxis\":{\"automargin\":true,\"gridcolor\":\"white\",\"linecolor\":\"white\",\"ticks\":\"\",\"title\":{\"standoff\":15},\"zerolinecolor\":\"white\",\"zerolinewidth\":2}}},\"title\":{\"font\":{\"color\":\"#4D5663\"}},\"xaxis\":{\"gridcolor\":\"#E1E5ED\",\"showgrid\":true,\"tickfont\":{\"color\":\"#4D5663\"},\"title\":{\"font\":{\"color\":\"#4D5663\"},\"text\":\"\"},\"zerolinecolor\":\"#E1E5ED\"},\"yaxis\":{\"gridcolor\":\"#E1E5ED\",\"showgrid\":true,\"tickfont\":{\"color\":\"#4D5663\"},\"title\":{\"font\":{\"color\":\"#4D5663\"},\"text\":\"\"},\"zerolinecolor\":\"#E1E5ED\"}},                        {\"showLink\": true, \"linkText\": \"Export to plot.ly\", \"plotlyServerURL\": \"https://plot.ly\", \"responsive\": true}                    ).then(function(){\n",
       "                            \n",
       "var gd = document.getElementById('57b80b44-5dc4-4b27-9db3-d85981dfdd88');\n",
       "var x = new MutationObserver(function (mutations, observer) {{\n",
       "        var display = window.getComputedStyle(gd).display;\n",
       "        if (!display || display === 'none') {{\n",
       "            console.log([gd, 'removed!']);\n",
       "            Plotly.purge(gd);\n",
       "            observer.disconnect();\n",
       "        }}\n",
       "}});\n",
       "\n",
       "// Listen for the removal of the full notebook cells\n",
       "var notebookContainer = gd.closest('#notebook-container');\n",
       "if (notebookContainer) {{\n",
       "    x.observe(notebookContainer, {childList: true});\n",
       "}}\n",
       "\n",
       "// Listen for the clearing of the current output cell\n",
       "var outputEl = gd.closest('.output');\n",
       "if (outputEl) {{\n",
       "    x.observe(outputEl, {childList: true});\n",
       "}}\n",
       "\n",
       "                        })                };                });            </script>        </div>"
      ]
     },
     "metadata": {},
     "output_type": "display_data"
    }
   ],
   "source": [
    "df.iplot() # interactive plot"
   ]
  },
  {
   "cell_type": "code",
   "execution_count": 14,
   "id": "4d6e8a4e",
   "metadata": {},
   "outputs": [
    {
     "data": {
      "application/vnd.plotly.v1+json": {
       "config": {
        "linkText": "Export to plot.ly",
        "plotlyServerURL": "https://plot.ly",
        "showLink": true
       },
       "data": [
        {
         "line": {
          "color": "rgba(255, 153, 51, 1.0)",
          "dash": "solid",
          "shape": "linear",
          "width": 1.3
         },
         "marker": {
          "size": 12,
          "symbol": "circle"
         },
         "mode": "markers",
         "name": "B",
         "text": "",
         "type": "scatter",
         "x": [
          0.6446209978304961,
          0.4078221920136122,
          -0.2765872970204885,
          0.10456735638555388,
          0.08324133721186451,
          0.057440297633351456,
          -1.2171690355819085,
          -0.09196308817524182,
          -1.4384482006426815,
          -0.9066078684780878,
          -3.0647955779058393,
          -0.5927155310656024,
          1.583409055253283,
          0.234106386964043,
          1.2987088354934264,
          -0.07913794969622139,
          1.9820971873442788,
          0.5300957800919711,
          0.0561241346154549,
          0.015369674156755879,
          -1.2127715104199281,
          0.035053315533376254,
          0.7118746375710167,
          -0.1952185441372051,
          -0.7579919569364388,
          0.8382884169380316,
          -0.2523101224096548,
          0.6311895916493456,
          -1.4756247761832622,
          -1.9698270932740207,
          -1.3372120572711683,
          -0.0055887604966179906,
          -1.7516160926744089,
          0.543208412020896,
          0.707473240158141,
          0.6593860529630602,
          -0.966138313509074,
          1.2445708261621509,
          -1.0802389340212704,
          0.5086900141225315,
          0.06968362854003969,
          -0.6676088576024096,
          -0.6772597043552857,
          1.0685188366936331,
          -1.197023278836309,
          1.3296472778183843,
          -1.7352843284646196,
          -1.0582875565845407,
          1.0617180487815374,
          1.4540725943983606,
          0.5317907297889919,
          0.7420563485732212,
          -0.18793332995515025,
          -1.2305655757068716,
          -0.1772600412850589,
          -1.148239267934772,
          0.4037983500944594,
          0.9812475937057795,
          -0.4956402857253395,
          -0.28809363061450555,
          -0.6487072922681356,
          0.8481841770338829,
          -0.3114926773390753,
          0.3471058665605341,
          2.8359142899847587,
          -0.10683669988149225,
          0.7333023074176133,
          -0.9756817628998831,
          -1.4734885498421182,
          -0.8026545150142835,
          -0.9084824357349854,
          0.451034781575594,
          -0.14441496470423662,
          -1.9756483521255614,
          -0.5332455788412271,
          -0.63886776707257,
          -2.2713107658786433,
          -0.40268261110912806,
          -1.953505525568803,
          0.21002398901558625,
          0.5515111078971915,
          1.8137764486502015,
          -0.5238352930793719,
          -0.2822937597610257,
          0.41863932362537837,
          0.10282204212326963,
          2.0754089376632825,
          0.6972799565874593,
          1.1614656583668113,
          1.3623377423265945,
          0.10708896322825404,
          -0.35965989943947024,
          0.7454316477825902,
          -0.5002942850467338,
          0.3404751564352129,
          -0.7529900522556313,
          0.21081704514965283,
          1.753849340431904,
          0.8556437691539508,
          0.701648831151324
         ],
         "y": [
          -0.22160750690840028,
          1.7158554903880332,
          -0.6237740459654896,
          1.7171818589480066,
          -0.1968115099154782,
          -0.9178801038802831,
          -0.8648477636664242,
          -0.26311475476438756,
          -0.3644265939925632,
          -0.9804658128967962,
          1.0326790474999514,
          -1.5535104837887026,
          -0.16460272611477467,
          1.4317841740173647,
          0.13868359918099005,
          -0.26283282569495164,
          1.4671591243018076,
          0.9928316600028886,
          1.798718933737595,
          -0.12194429267969392,
          -1.2135185401556021,
          -0.5676843906954775,
          0.5466472148108473,
          1.5064364433330995,
          0.2294216562379941,
          -0.45183094530211637,
          -0.5990162630544981,
          1.2093106738320492,
          -0.5115952740366038,
          -1.3389739304237893,
          -0.05705254876762868,
          0.18038672055746063,
          1.7979243126872604,
          -0.9180546332511316,
          0.00838642535099962,
          -0.7440498127142733,
          0.42076697337853947,
          -1.4875438989362184,
          0.25306783994077015,
          1.8824847563507707,
          -0.5169299902217411,
          0.2883651291147273,
          -0.8722294837074352,
          0.2519290622637881,
          -1.8324172801056757,
          0.37575977161583207,
          0.9443994946857267,
          0.24775429904167792,
          -0.8099720675420381,
          0.8227450644967887,
          0.21290770852438837,
          -0.4753072455838816,
          -0.3011324544818885,
          -0.003528999951231824,
          -0.19640311199830598,
          0.34129342746016,
          0.8817453262399159,
          -0.14964935915574884,
          0.6386867039194815,
          1.6888518942380055,
          -0.954599303308324,
          -1.3586802403670986,
          -0.805279213474311,
          0.6484073187263913,
          0.23471787263488347,
          1.573593064081298,
          1.4803498296832225,
          -0.6778894932880246,
          -2.7440090441649985,
          0.5807543021017987,
          -0.8878887797836558,
          1.3493372535410566,
          -1.1731712522803317,
          0.9009129011476739,
          0.9927017366728492,
          -1.1113954750547725,
          -0.3911079194019816,
          -0.5604947607506066,
          -0.5130962215220196,
          0.296256896974686,
          -0.1897579204290804,
          -0.19731011276449487,
          1.2797615737542352,
          -0.3117436598969686,
          2.2371515544398384,
          1.1906124852355693,
          0.2381106335734882,
          -0.6858170151367708,
          1.150058581328844,
          0.19314586783555093,
          -1.3262365216682042,
          0.22266823381194942,
          -1.1045743475961767,
          -1.0501370436953776,
          1.2875349619480438,
          -1.570363318967189,
          -0.5266463105521983,
          0.5167043413713699,
          0.3411124470341882,
          2.987140002245271
         ]
        }
       ],
       "layout": {
        "legend": {
         "bgcolor": "#F5F6F9",
         "font": {
          "color": "#4D5663"
         }
        },
        "paper_bgcolor": "#F5F6F9",
        "plot_bgcolor": "#F5F6F9",
        "template": {
         "data": {
          "bar": [
           {
            "error_x": {
             "color": "#2a3f5f"
            },
            "error_y": {
             "color": "#2a3f5f"
            },
            "marker": {
             "line": {
              "color": "#E5ECF6",
              "width": 0.5
             },
             "pattern": {
              "fillmode": "overlay",
              "size": 10,
              "solidity": 0.2
             }
            },
            "type": "bar"
           }
          ],
          "barpolar": [
           {
            "marker": {
             "line": {
              "color": "#E5ECF6",
              "width": 0.5
             },
             "pattern": {
              "fillmode": "overlay",
              "size": 10,
              "solidity": 0.2
             }
            },
            "type": "barpolar"
           }
          ],
          "carpet": [
           {
            "aaxis": {
             "endlinecolor": "#2a3f5f",
             "gridcolor": "white",
             "linecolor": "white",
             "minorgridcolor": "white",
             "startlinecolor": "#2a3f5f"
            },
            "baxis": {
             "endlinecolor": "#2a3f5f",
             "gridcolor": "white",
             "linecolor": "white",
             "minorgridcolor": "white",
             "startlinecolor": "#2a3f5f"
            },
            "type": "carpet"
           }
          ],
          "choropleth": [
           {
            "colorbar": {
             "outlinewidth": 0,
             "ticks": ""
            },
            "type": "choropleth"
           }
          ],
          "contour": [
           {
            "colorbar": {
             "outlinewidth": 0,
             "ticks": ""
            },
            "colorscale": [
             [
              0,
              "#0d0887"
             ],
             [
              0.1111111111111111,
              "#46039f"
             ],
             [
              0.2222222222222222,
              "#7201a8"
             ],
             [
              0.3333333333333333,
              "#9c179e"
             ],
             [
              0.4444444444444444,
              "#bd3786"
             ],
             [
              0.5555555555555556,
              "#d8576b"
             ],
             [
              0.6666666666666666,
              "#ed7953"
             ],
             [
              0.7777777777777778,
              "#fb9f3a"
             ],
             [
              0.8888888888888888,
              "#fdca26"
             ],
             [
              1,
              "#f0f921"
             ]
            ],
            "type": "contour"
           }
          ],
          "contourcarpet": [
           {
            "colorbar": {
             "outlinewidth": 0,
             "ticks": ""
            },
            "type": "contourcarpet"
           }
          ],
          "heatmap": [
           {
            "colorbar": {
             "outlinewidth": 0,
             "ticks": ""
            },
            "colorscale": [
             [
              0,
              "#0d0887"
             ],
             [
              0.1111111111111111,
              "#46039f"
             ],
             [
              0.2222222222222222,
              "#7201a8"
             ],
             [
              0.3333333333333333,
              "#9c179e"
             ],
             [
              0.4444444444444444,
              "#bd3786"
             ],
             [
              0.5555555555555556,
              "#d8576b"
             ],
             [
              0.6666666666666666,
              "#ed7953"
             ],
             [
              0.7777777777777778,
              "#fb9f3a"
             ],
             [
              0.8888888888888888,
              "#fdca26"
             ],
             [
              1,
              "#f0f921"
             ]
            ],
            "type": "heatmap"
           }
          ],
          "heatmapgl": [
           {
            "colorbar": {
             "outlinewidth": 0,
             "ticks": ""
            },
            "colorscale": [
             [
              0,
              "#0d0887"
             ],
             [
              0.1111111111111111,
              "#46039f"
             ],
             [
              0.2222222222222222,
              "#7201a8"
             ],
             [
              0.3333333333333333,
              "#9c179e"
             ],
             [
              0.4444444444444444,
              "#bd3786"
             ],
             [
              0.5555555555555556,
              "#d8576b"
             ],
             [
              0.6666666666666666,
              "#ed7953"
             ],
             [
              0.7777777777777778,
              "#fb9f3a"
             ],
             [
              0.8888888888888888,
              "#fdca26"
             ],
             [
              1,
              "#f0f921"
             ]
            ],
            "type": "heatmapgl"
           }
          ],
          "histogram": [
           {
            "marker": {
             "pattern": {
              "fillmode": "overlay",
              "size": 10,
              "solidity": 0.2
             }
            },
            "type": "histogram"
           }
          ],
          "histogram2d": [
           {
            "colorbar": {
             "outlinewidth": 0,
             "ticks": ""
            },
            "colorscale": [
             [
              0,
              "#0d0887"
             ],
             [
              0.1111111111111111,
              "#46039f"
             ],
             [
              0.2222222222222222,
              "#7201a8"
             ],
             [
              0.3333333333333333,
              "#9c179e"
             ],
             [
              0.4444444444444444,
              "#bd3786"
             ],
             [
              0.5555555555555556,
              "#d8576b"
             ],
             [
              0.6666666666666666,
              "#ed7953"
             ],
             [
              0.7777777777777778,
              "#fb9f3a"
             ],
             [
              0.8888888888888888,
              "#fdca26"
             ],
             [
              1,
              "#f0f921"
             ]
            ],
            "type": "histogram2d"
           }
          ],
          "histogram2dcontour": [
           {
            "colorbar": {
             "outlinewidth": 0,
             "ticks": ""
            },
            "colorscale": [
             [
              0,
              "#0d0887"
             ],
             [
              0.1111111111111111,
              "#46039f"
             ],
             [
              0.2222222222222222,
              "#7201a8"
             ],
             [
              0.3333333333333333,
              "#9c179e"
             ],
             [
              0.4444444444444444,
              "#bd3786"
             ],
             [
              0.5555555555555556,
              "#d8576b"
             ],
             [
              0.6666666666666666,
              "#ed7953"
             ],
             [
              0.7777777777777778,
              "#fb9f3a"
             ],
             [
              0.8888888888888888,
              "#fdca26"
             ],
             [
              1,
              "#f0f921"
             ]
            ],
            "type": "histogram2dcontour"
           }
          ],
          "mesh3d": [
           {
            "colorbar": {
             "outlinewidth": 0,
             "ticks": ""
            },
            "type": "mesh3d"
           }
          ],
          "parcoords": [
           {
            "line": {
             "colorbar": {
              "outlinewidth": 0,
              "ticks": ""
             }
            },
            "type": "parcoords"
           }
          ],
          "pie": [
           {
            "automargin": true,
            "type": "pie"
           }
          ],
          "scatter": [
           {
            "fillpattern": {
             "fillmode": "overlay",
             "size": 10,
             "solidity": 0.2
            },
            "type": "scatter"
           }
          ],
          "scatter3d": [
           {
            "line": {
             "colorbar": {
              "outlinewidth": 0,
              "ticks": ""
             }
            },
            "marker": {
             "colorbar": {
              "outlinewidth": 0,
              "ticks": ""
             }
            },
            "type": "scatter3d"
           }
          ],
          "scattercarpet": [
           {
            "marker": {
             "colorbar": {
              "outlinewidth": 0,
              "ticks": ""
             }
            },
            "type": "scattercarpet"
           }
          ],
          "scattergeo": [
           {
            "marker": {
             "colorbar": {
              "outlinewidth": 0,
              "ticks": ""
             }
            },
            "type": "scattergeo"
           }
          ],
          "scattergl": [
           {
            "marker": {
             "colorbar": {
              "outlinewidth": 0,
              "ticks": ""
             }
            },
            "type": "scattergl"
           }
          ],
          "scattermapbox": [
           {
            "marker": {
             "colorbar": {
              "outlinewidth": 0,
              "ticks": ""
             }
            },
            "type": "scattermapbox"
           }
          ],
          "scatterpolar": [
           {
            "marker": {
             "colorbar": {
              "outlinewidth": 0,
              "ticks": ""
             }
            },
            "type": "scatterpolar"
           }
          ],
          "scatterpolargl": [
           {
            "marker": {
             "colorbar": {
              "outlinewidth": 0,
              "ticks": ""
             }
            },
            "type": "scatterpolargl"
           }
          ],
          "scatterternary": [
           {
            "marker": {
             "colorbar": {
              "outlinewidth": 0,
              "ticks": ""
             }
            },
            "type": "scatterternary"
           }
          ],
          "surface": [
           {
            "colorbar": {
             "outlinewidth": 0,
             "ticks": ""
            },
            "colorscale": [
             [
              0,
              "#0d0887"
             ],
             [
              0.1111111111111111,
              "#46039f"
             ],
             [
              0.2222222222222222,
              "#7201a8"
             ],
             [
              0.3333333333333333,
              "#9c179e"
             ],
             [
              0.4444444444444444,
              "#bd3786"
             ],
             [
              0.5555555555555556,
              "#d8576b"
             ],
             [
              0.6666666666666666,
              "#ed7953"
             ],
             [
              0.7777777777777778,
              "#fb9f3a"
             ],
             [
              0.8888888888888888,
              "#fdca26"
             ],
             [
              1,
              "#f0f921"
             ]
            ],
            "type": "surface"
           }
          ],
          "table": [
           {
            "cells": {
             "fill": {
              "color": "#EBF0F8"
             },
             "line": {
              "color": "white"
             }
            },
            "header": {
             "fill": {
              "color": "#C8D4E3"
             },
             "line": {
              "color": "white"
             }
            },
            "type": "table"
           }
          ]
         },
         "layout": {
          "annotationdefaults": {
           "arrowcolor": "#2a3f5f",
           "arrowhead": 0,
           "arrowwidth": 1
          },
          "autotypenumbers": "strict",
          "coloraxis": {
           "colorbar": {
            "outlinewidth": 0,
            "ticks": ""
           }
          },
          "colorscale": {
           "diverging": [
            [
             0,
             "#8e0152"
            ],
            [
             0.1,
             "#c51b7d"
            ],
            [
             0.2,
             "#de77ae"
            ],
            [
             0.3,
             "#f1b6da"
            ],
            [
             0.4,
             "#fde0ef"
            ],
            [
             0.5,
             "#f7f7f7"
            ],
            [
             0.6,
             "#e6f5d0"
            ],
            [
             0.7,
             "#b8e186"
            ],
            [
             0.8,
             "#7fbc41"
            ],
            [
             0.9,
             "#4d9221"
            ],
            [
             1,
             "#276419"
            ]
           ],
           "sequential": [
            [
             0,
             "#0d0887"
            ],
            [
             0.1111111111111111,
             "#46039f"
            ],
            [
             0.2222222222222222,
             "#7201a8"
            ],
            [
             0.3333333333333333,
             "#9c179e"
            ],
            [
             0.4444444444444444,
             "#bd3786"
            ],
            [
             0.5555555555555556,
             "#d8576b"
            ],
            [
             0.6666666666666666,
             "#ed7953"
            ],
            [
             0.7777777777777778,
             "#fb9f3a"
            ],
            [
             0.8888888888888888,
             "#fdca26"
            ],
            [
             1,
             "#f0f921"
            ]
           ],
           "sequentialminus": [
            [
             0,
             "#0d0887"
            ],
            [
             0.1111111111111111,
             "#46039f"
            ],
            [
             0.2222222222222222,
             "#7201a8"
            ],
            [
             0.3333333333333333,
             "#9c179e"
            ],
            [
             0.4444444444444444,
             "#bd3786"
            ],
            [
             0.5555555555555556,
             "#d8576b"
            ],
            [
             0.6666666666666666,
             "#ed7953"
            ],
            [
             0.7777777777777778,
             "#fb9f3a"
            ],
            [
             0.8888888888888888,
             "#fdca26"
            ],
            [
             1,
             "#f0f921"
            ]
           ]
          },
          "colorway": [
           "#636efa",
           "#EF553B",
           "#00cc96",
           "#ab63fa",
           "#FFA15A",
           "#19d3f3",
           "#FF6692",
           "#B6E880",
           "#FF97FF",
           "#FECB52"
          ],
          "font": {
           "color": "#2a3f5f"
          },
          "geo": {
           "bgcolor": "white",
           "lakecolor": "white",
           "landcolor": "#E5ECF6",
           "showlakes": true,
           "showland": true,
           "subunitcolor": "white"
          },
          "hoverlabel": {
           "align": "left"
          },
          "hovermode": "closest",
          "mapbox": {
           "style": "light"
          },
          "paper_bgcolor": "white",
          "plot_bgcolor": "#E5ECF6",
          "polar": {
           "angularaxis": {
            "gridcolor": "white",
            "linecolor": "white",
            "ticks": ""
           },
           "bgcolor": "#E5ECF6",
           "radialaxis": {
            "gridcolor": "white",
            "linecolor": "white",
            "ticks": ""
           }
          },
          "scene": {
           "xaxis": {
            "backgroundcolor": "#E5ECF6",
            "gridcolor": "white",
            "gridwidth": 2,
            "linecolor": "white",
            "showbackground": true,
            "ticks": "",
            "zerolinecolor": "white"
           },
           "yaxis": {
            "backgroundcolor": "#E5ECF6",
            "gridcolor": "white",
            "gridwidth": 2,
            "linecolor": "white",
            "showbackground": true,
            "ticks": "",
            "zerolinecolor": "white"
           },
           "zaxis": {
            "backgroundcolor": "#E5ECF6",
            "gridcolor": "white",
            "gridwidth": 2,
            "linecolor": "white",
            "showbackground": true,
            "ticks": "",
            "zerolinecolor": "white"
           }
          },
          "shapedefaults": {
           "line": {
            "color": "#2a3f5f"
           }
          },
          "ternary": {
           "aaxis": {
            "gridcolor": "white",
            "linecolor": "white",
            "ticks": ""
           },
           "baxis": {
            "gridcolor": "white",
            "linecolor": "white",
            "ticks": ""
           },
           "bgcolor": "#E5ECF6",
           "caxis": {
            "gridcolor": "white",
            "linecolor": "white",
            "ticks": ""
           }
          },
          "title": {
           "x": 0.05
          },
          "xaxis": {
           "automargin": true,
           "gridcolor": "white",
           "linecolor": "white",
           "ticks": "",
           "title": {
            "standoff": 15
           },
           "zerolinecolor": "white",
           "zerolinewidth": 2
          },
          "yaxis": {
           "automargin": true,
           "gridcolor": "white",
           "linecolor": "white",
           "ticks": "",
           "title": {
            "standoff": 15
           },
           "zerolinecolor": "white",
           "zerolinewidth": 2
          }
         }
        },
        "title": {
         "font": {
          "color": "#4D5663"
         }
        },
        "xaxis": {
         "gridcolor": "#E1E5ED",
         "showgrid": true,
         "tickfont": {
          "color": "#4D5663"
         },
         "title": {
          "font": {
           "color": "#4D5663"
          },
          "text": ""
         },
         "zerolinecolor": "#E1E5ED"
        },
        "yaxis": {
         "gridcolor": "#E1E5ED",
         "showgrid": true,
         "tickfont": {
          "color": "#4D5663"
         },
         "title": {
          "font": {
           "color": "#4D5663"
          },
          "text": ""
         },
         "zerolinecolor": "#E1E5ED"
        }
       }
      },
      "text/html": [
       "<div>                            <div id=\"63a08b4f-bf84-40ce-9b82-5fd39f955344\" class=\"plotly-graph-div\" style=\"height:525px; width:100%;\"></div>            <script type=\"text/javascript\">                require([\"plotly\"], function(Plotly) {                    window.PLOTLYENV=window.PLOTLYENV || {};\n",
       "                    window.PLOTLYENV.BASE_URL='https://plot.ly';                                    if (document.getElementById(\"63a08b4f-bf84-40ce-9b82-5fd39f955344\")) {                    Plotly.newPlot(                        \"63a08b4f-bf84-40ce-9b82-5fd39f955344\",                        [{\"line\":{\"color\":\"rgba(255, 153, 51, 1.0)\",\"dash\":\"solid\",\"shape\":\"linear\",\"width\":1.3},\"marker\":{\"size\":12,\"symbol\":\"circle\"},\"mode\":\"markers\",\"name\":\"B\",\"text\":\"\",\"x\":[0.6446209978304961,0.4078221920136122,-0.2765872970204885,0.10456735638555388,0.08324133721186451,0.057440297633351456,-1.2171690355819085,-0.09196308817524182,-1.4384482006426815,-0.9066078684780878,-3.0647955779058393,-0.5927155310656024,1.583409055253283,0.234106386964043,1.2987088354934264,-0.07913794969622139,1.9820971873442788,0.5300957800919711,0.0561241346154549,0.015369674156755879,-1.2127715104199281,0.035053315533376254,0.7118746375710167,-0.1952185441372051,-0.7579919569364388,0.8382884169380316,-0.2523101224096548,0.6311895916493456,-1.4756247761832622,-1.9698270932740207,-1.3372120572711683,-0.0055887604966179906,-1.7516160926744089,0.543208412020896,0.707473240158141,0.6593860529630602,-0.966138313509074,1.2445708261621509,-1.0802389340212704,0.5086900141225315,0.06968362854003969,-0.6676088576024096,-0.6772597043552857,1.0685188366936331,-1.197023278836309,1.3296472778183843,-1.7352843284646196,-1.0582875565845407,1.0617180487815374,1.4540725943983606,0.5317907297889919,0.7420563485732212,-0.18793332995515025,-1.2305655757068716,-0.1772600412850589,-1.148239267934772,0.4037983500944594,0.9812475937057795,-0.4956402857253395,-0.28809363061450555,-0.6487072922681356,0.8481841770338829,-0.3114926773390753,0.3471058665605341,2.8359142899847587,-0.10683669988149225,0.7333023074176133,-0.9756817628998831,-1.4734885498421182,-0.8026545150142835,-0.9084824357349854,0.451034781575594,-0.14441496470423662,-1.9756483521255614,-0.5332455788412271,-0.63886776707257,-2.2713107658786433,-0.40268261110912806,-1.953505525568803,0.21002398901558625,0.5515111078971915,1.8137764486502015,-0.5238352930793719,-0.2822937597610257,0.41863932362537837,0.10282204212326963,2.0754089376632825,0.6972799565874593,1.1614656583668113,1.3623377423265945,0.10708896322825404,-0.35965989943947024,0.7454316477825902,-0.5002942850467338,0.3404751564352129,-0.7529900522556313,0.21081704514965283,1.753849340431904,0.8556437691539508,0.701648831151324],\"y\":[-0.22160750690840028,1.7158554903880332,-0.6237740459654896,1.7171818589480066,-0.1968115099154782,-0.9178801038802831,-0.8648477636664242,-0.26311475476438756,-0.3644265939925632,-0.9804658128967962,1.0326790474999514,-1.5535104837887026,-0.16460272611477467,1.4317841740173647,0.13868359918099005,-0.26283282569495164,1.4671591243018076,0.9928316600028886,1.798718933737595,-0.12194429267969392,-1.2135185401556021,-0.5676843906954775,0.5466472148108473,1.5064364433330995,0.2294216562379941,-0.45183094530211637,-0.5990162630544981,1.2093106738320492,-0.5115952740366038,-1.3389739304237893,-0.05705254876762868,0.18038672055746063,1.7979243126872604,-0.9180546332511316,0.00838642535099962,-0.7440498127142733,0.42076697337853947,-1.4875438989362184,0.25306783994077015,1.8824847563507707,-0.5169299902217411,0.2883651291147273,-0.8722294837074352,0.2519290622637881,-1.8324172801056757,0.37575977161583207,0.9443994946857267,0.24775429904167792,-0.8099720675420381,0.8227450644967887,0.21290770852438837,-0.4753072455838816,-0.3011324544818885,-0.003528999951231824,-0.19640311199830598,0.34129342746016,0.8817453262399159,-0.14964935915574884,0.6386867039194815,1.6888518942380055,-0.954599303308324,-1.3586802403670986,-0.805279213474311,0.6484073187263913,0.23471787263488347,1.573593064081298,1.4803498296832225,-0.6778894932880246,-2.7440090441649985,0.5807543021017987,-0.8878887797836558,1.3493372535410566,-1.1731712522803317,0.9009129011476739,0.9927017366728492,-1.1113954750547725,-0.3911079194019816,-0.5604947607506066,-0.5130962215220196,0.296256896974686,-0.1897579204290804,-0.19731011276449487,1.2797615737542352,-0.3117436598969686,2.2371515544398384,1.1906124852355693,0.2381106335734882,-0.6858170151367708,1.150058581328844,0.19314586783555093,-1.3262365216682042,0.22266823381194942,-1.1045743475961767,-1.0501370436953776,1.2875349619480438,-1.570363318967189,-0.5266463105521983,0.5167043413713699,0.3411124470341882,2.987140002245271],\"type\":\"scatter\"}],                        {\"legend\":{\"bgcolor\":\"#F5F6F9\",\"font\":{\"color\":\"#4D5663\"}},\"paper_bgcolor\":\"#F5F6F9\",\"plot_bgcolor\":\"#F5F6F9\",\"template\":{\"data\":{\"barpolar\":[{\"marker\":{\"line\":{\"color\":\"#E5ECF6\",\"width\":0.5},\"pattern\":{\"fillmode\":\"overlay\",\"size\":10,\"solidity\":0.2}},\"type\":\"barpolar\"}],\"bar\":[{\"error_x\":{\"color\":\"#2a3f5f\"},\"error_y\":{\"color\":\"#2a3f5f\"},\"marker\":{\"line\":{\"color\":\"#E5ECF6\",\"width\":0.5},\"pattern\":{\"fillmode\":\"overlay\",\"size\":10,\"solidity\":0.2}},\"type\":\"bar\"}],\"carpet\":[{\"aaxis\":{\"endlinecolor\":\"#2a3f5f\",\"gridcolor\":\"white\",\"linecolor\":\"white\",\"minorgridcolor\":\"white\",\"startlinecolor\":\"#2a3f5f\"},\"baxis\":{\"endlinecolor\":\"#2a3f5f\",\"gridcolor\":\"white\",\"linecolor\":\"white\",\"minorgridcolor\":\"white\",\"startlinecolor\":\"#2a3f5f\"},\"type\":\"carpet\"}],\"choropleth\":[{\"colorbar\":{\"outlinewidth\":0,\"ticks\":\"\"},\"type\":\"choropleth\"}],\"contourcarpet\":[{\"colorbar\":{\"outlinewidth\":0,\"ticks\":\"\"},\"type\":\"contourcarpet\"}],\"contour\":[{\"colorbar\":{\"outlinewidth\":0,\"ticks\":\"\"},\"colorscale\":[[0.0,\"#0d0887\"],[0.1111111111111111,\"#46039f\"],[0.2222222222222222,\"#7201a8\"],[0.3333333333333333,\"#9c179e\"],[0.4444444444444444,\"#bd3786\"],[0.5555555555555556,\"#d8576b\"],[0.6666666666666666,\"#ed7953\"],[0.7777777777777778,\"#fb9f3a\"],[0.8888888888888888,\"#fdca26\"],[1.0,\"#f0f921\"]],\"type\":\"contour\"}],\"heatmapgl\":[{\"colorbar\":{\"outlinewidth\":0,\"ticks\":\"\"},\"colorscale\":[[0.0,\"#0d0887\"],[0.1111111111111111,\"#46039f\"],[0.2222222222222222,\"#7201a8\"],[0.3333333333333333,\"#9c179e\"],[0.4444444444444444,\"#bd3786\"],[0.5555555555555556,\"#d8576b\"],[0.6666666666666666,\"#ed7953\"],[0.7777777777777778,\"#fb9f3a\"],[0.8888888888888888,\"#fdca26\"],[1.0,\"#f0f921\"]],\"type\":\"heatmapgl\"}],\"heatmap\":[{\"colorbar\":{\"outlinewidth\":0,\"ticks\":\"\"},\"colorscale\":[[0.0,\"#0d0887\"],[0.1111111111111111,\"#46039f\"],[0.2222222222222222,\"#7201a8\"],[0.3333333333333333,\"#9c179e\"],[0.4444444444444444,\"#bd3786\"],[0.5555555555555556,\"#d8576b\"],[0.6666666666666666,\"#ed7953\"],[0.7777777777777778,\"#fb9f3a\"],[0.8888888888888888,\"#fdca26\"],[1.0,\"#f0f921\"]],\"type\":\"heatmap\"}],\"histogram2dcontour\":[{\"colorbar\":{\"outlinewidth\":0,\"ticks\":\"\"},\"colorscale\":[[0.0,\"#0d0887\"],[0.1111111111111111,\"#46039f\"],[0.2222222222222222,\"#7201a8\"],[0.3333333333333333,\"#9c179e\"],[0.4444444444444444,\"#bd3786\"],[0.5555555555555556,\"#d8576b\"],[0.6666666666666666,\"#ed7953\"],[0.7777777777777778,\"#fb9f3a\"],[0.8888888888888888,\"#fdca26\"],[1.0,\"#f0f921\"]],\"type\":\"histogram2dcontour\"}],\"histogram2d\":[{\"colorbar\":{\"outlinewidth\":0,\"ticks\":\"\"},\"colorscale\":[[0.0,\"#0d0887\"],[0.1111111111111111,\"#46039f\"],[0.2222222222222222,\"#7201a8\"],[0.3333333333333333,\"#9c179e\"],[0.4444444444444444,\"#bd3786\"],[0.5555555555555556,\"#d8576b\"],[0.6666666666666666,\"#ed7953\"],[0.7777777777777778,\"#fb9f3a\"],[0.8888888888888888,\"#fdca26\"],[1.0,\"#f0f921\"]],\"type\":\"histogram2d\"}],\"histogram\":[{\"marker\":{\"pattern\":{\"fillmode\":\"overlay\",\"size\":10,\"solidity\":0.2}},\"type\":\"histogram\"}],\"mesh3d\":[{\"colorbar\":{\"outlinewidth\":0,\"ticks\":\"\"},\"type\":\"mesh3d\"}],\"parcoords\":[{\"line\":{\"colorbar\":{\"outlinewidth\":0,\"ticks\":\"\"}},\"type\":\"parcoords\"}],\"pie\":[{\"automargin\":true,\"type\":\"pie\"}],\"scatter3d\":[{\"line\":{\"colorbar\":{\"outlinewidth\":0,\"ticks\":\"\"}},\"marker\":{\"colorbar\":{\"outlinewidth\":0,\"ticks\":\"\"}},\"type\":\"scatter3d\"}],\"scattercarpet\":[{\"marker\":{\"colorbar\":{\"outlinewidth\":0,\"ticks\":\"\"}},\"type\":\"scattercarpet\"}],\"scattergeo\":[{\"marker\":{\"colorbar\":{\"outlinewidth\":0,\"ticks\":\"\"}},\"type\":\"scattergeo\"}],\"scattergl\":[{\"marker\":{\"colorbar\":{\"outlinewidth\":0,\"ticks\":\"\"}},\"type\":\"scattergl\"}],\"scattermapbox\":[{\"marker\":{\"colorbar\":{\"outlinewidth\":0,\"ticks\":\"\"}},\"type\":\"scattermapbox\"}],\"scatterpolargl\":[{\"marker\":{\"colorbar\":{\"outlinewidth\":0,\"ticks\":\"\"}},\"type\":\"scatterpolargl\"}],\"scatterpolar\":[{\"marker\":{\"colorbar\":{\"outlinewidth\":0,\"ticks\":\"\"}},\"type\":\"scatterpolar\"}],\"scatter\":[{\"fillpattern\":{\"fillmode\":\"overlay\",\"size\":10,\"solidity\":0.2},\"type\":\"scatter\"}],\"scatterternary\":[{\"marker\":{\"colorbar\":{\"outlinewidth\":0,\"ticks\":\"\"}},\"type\":\"scatterternary\"}],\"surface\":[{\"colorbar\":{\"outlinewidth\":0,\"ticks\":\"\"},\"colorscale\":[[0.0,\"#0d0887\"],[0.1111111111111111,\"#46039f\"],[0.2222222222222222,\"#7201a8\"],[0.3333333333333333,\"#9c179e\"],[0.4444444444444444,\"#bd3786\"],[0.5555555555555556,\"#d8576b\"],[0.6666666666666666,\"#ed7953\"],[0.7777777777777778,\"#fb9f3a\"],[0.8888888888888888,\"#fdca26\"],[1.0,\"#f0f921\"]],\"type\":\"surface\"}],\"table\":[{\"cells\":{\"fill\":{\"color\":\"#EBF0F8\"},\"line\":{\"color\":\"white\"}},\"header\":{\"fill\":{\"color\":\"#C8D4E3\"},\"line\":{\"color\":\"white\"}},\"type\":\"table\"}]},\"layout\":{\"annotationdefaults\":{\"arrowcolor\":\"#2a3f5f\",\"arrowhead\":0,\"arrowwidth\":1},\"autotypenumbers\":\"strict\",\"coloraxis\":{\"colorbar\":{\"outlinewidth\":0,\"ticks\":\"\"}},\"colorscale\":{\"diverging\":[[0,\"#8e0152\"],[0.1,\"#c51b7d\"],[0.2,\"#de77ae\"],[0.3,\"#f1b6da\"],[0.4,\"#fde0ef\"],[0.5,\"#f7f7f7\"],[0.6,\"#e6f5d0\"],[0.7,\"#b8e186\"],[0.8,\"#7fbc41\"],[0.9,\"#4d9221\"],[1,\"#276419\"]],\"sequential\":[[0.0,\"#0d0887\"],[0.1111111111111111,\"#46039f\"],[0.2222222222222222,\"#7201a8\"],[0.3333333333333333,\"#9c179e\"],[0.4444444444444444,\"#bd3786\"],[0.5555555555555556,\"#d8576b\"],[0.6666666666666666,\"#ed7953\"],[0.7777777777777778,\"#fb9f3a\"],[0.8888888888888888,\"#fdca26\"],[1.0,\"#f0f921\"]],\"sequentialminus\":[[0.0,\"#0d0887\"],[0.1111111111111111,\"#46039f\"],[0.2222222222222222,\"#7201a8\"],[0.3333333333333333,\"#9c179e\"],[0.4444444444444444,\"#bd3786\"],[0.5555555555555556,\"#d8576b\"],[0.6666666666666666,\"#ed7953\"],[0.7777777777777778,\"#fb9f3a\"],[0.8888888888888888,\"#fdca26\"],[1.0,\"#f0f921\"]]},\"colorway\":[\"#636efa\",\"#EF553B\",\"#00cc96\",\"#ab63fa\",\"#FFA15A\",\"#19d3f3\",\"#FF6692\",\"#B6E880\",\"#FF97FF\",\"#FECB52\"],\"font\":{\"color\":\"#2a3f5f\"},\"geo\":{\"bgcolor\":\"white\",\"lakecolor\":\"white\",\"landcolor\":\"#E5ECF6\",\"showlakes\":true,\"showland\":true,\"subunitcolor\":\"white\"},\"hoverlabel\":{\"align\":\"left\"},\"hovermode\":\"closest\",\"mapbox\":{\"style\":\"light\"},\"paper_bgcolor\":\"white\",\"plot_bgcolor\":\"#E5ECF6\",\"polar\":{\"angularaxis\":{\"gridcolor\":\"white\",\"linecolor\":\"white\",\"ticks\":\"\"},\"bgcolor\":\"#E5ECF6\",\"radialaxis\":{\"gridcolor\":\"white\",\"linecolor\":\"white\",\"ticks\":\"\"}},\"scene\":{\"xaxis\":{\"backgroundcolor\":\"#E5ECF6\",\"gridcolor\":\"white\",\"gridwidth\":2,\"linecolor\":\"white\",\"showbackground\":true,\"ticks\":\"\",\"zerolinecolor\":\"white\"},\"yaxis\":{\"backgroundcolor\":\"#E5ECF6\",\"gridcolor\":\"white\",\"gridwidth\":2,\"linecolor\":\"white\",\"showbackground\":true,\"ticks\":\"\",\"zerolinecolor\":\"white\"},\"zaxis\":{\"backgroundcolor\":\"#E5ECF6\",\"gridcolor\":\"white\",\"gridwidth\":2,\"linecolor\":\"white\",\"showbackground\":true,\"ticks\":\"\",\"zerolinecolor\":\"white\"}},\"shapedefaults\":{\"line\":{\"color\":\"#2a3f5f\"}},\"ternary\":{\"aaxis\":{\"gridcolor\":\"white\",\"linecolor\":\"white\",\"ticks\":\"\"},\"baxis\":{\"gridcolor\":\"white\",\"linecolor\":\"white\",\"ticks\":\"\"},\"bgcolor\":\"#E5ECF6\",\"caxis\":{\"gridcolor\":\"white\",\"linecolor\":\"white\",\"ticks\":\"\"}},\"title\":{\"x\":0.05},\"xaxis\":{\"automargin\":true,\"gridcolor\":\"white\",\"linecolor\":\"white\",\"ticks\":\"\",\"title\":{\"standoff\":15},\"zerolinecolor\":\"white\",\"zerolinewidth\":2},\"yaxis\":{\"automargin\":true,\"gridcolor\":\"white\",\"linecolor\":\"white\",\"ticks\":\"\",\"title\":{\"standoff\":15},\"zerolinecolor\":\"white\",\"zerolinewidth\":2}}},\"title\":{\"font\":{\"color\":\"#4D5663\"}},\"xaxis\":{\"gridcolor\":\"#E1E5ED\",\"showgrid\":true,\"tickfont\":{\"color\":\"#4D5663\"},\"title\":{\"font\":{\"color\":\"#4D5663\"},\"text\":\"\"},\"zerolinecolor\":\"#E1E5ED\"},\"yaxis\":{\"gridcolor\":\"#E1E5ED\",\"showgrid\":true,\"tickfont\":{\"color\":\"#4D5663\"},\"title\":{\"font\":{\"color\":\"#4D5663\"},\"text\":\"\"},\"zerolinecolor\":\"#E1E5ED\"}},                        {\"showLink\": true, \"linkText\": \"Export to plot.ly\", \"plotlyServerURL\": \"https://plot.ly\", \"responsive\": true}                    ).then(function(){\n",
       "                            \n",
       "var gd = document.getElementById('63a08b4f-bf84-40ce-9b82-5fd39f955344');\n",
       "var x = new MutationObserver(function (mutations, observer) {{\n",
       "        var display = window.getComputedStyle(gd).display;\n",
       "        if (!display || display === 'none') {{\n",
       "            console.log([gd, 'removed!']);\n",
       "            Plotly.purge(gd);\n",
       "            observer.disconnect();\n",
       "        }}\n",
       "}});\n",
       "\n",
       "// Listen for the removal of the full notebook cells\n",
       "var notebookContainer = gd.closest('#notebook-container');\n",
       "if (notebookContainer) {{\n",
       "    x.observe(notebookContainer, {childList: true});\n",
       "}}\n",
       "\n",
       "// Listen for the clearing of the current output cell\n",
       "var outputEl = gd.closest('.output');\n",
       "if (outputEl) {{\n",
       "    x.observe(outputEl, {childList: true});\n",
       "}}\n",
       "\n",
       "                        })                };                });            </script>        </div>"
      ]
     },
     "metadata": {},
     "output_type": "display_data"
    }
   ],
   "source": [
    "# Scatter plot\n",
    "df.iplot(kind='scatter',x='A',y='B',mode='markers')"
   ]
  },
  {
   "cell_type": "code",
   "execution_count": 16,
   "id": "e5914b91",
   "metadata": {},
   "outputs": [
    {
     "data": {
      "application/vnd.plotly.v1+json": {
       "config": {
        "linkText": "Export to plot.ly",
        "plotlyServerURL": "https://plot.ly",
        "showLink": true
       },
       "data": [
        {
         "marker": {
          "color": "rgba(255, 153, 51, 0.6)",
          "line": {
           "color": "rgba(255, 153, 51, 1.0)",
           "width": 1
          }
         },
         "name": "Values",
         "orientation": "v",
         "text": "",
         "type": "bar",
         "x": [
          "A",
          "B",
          "C"
         ],
         "y": [
          32,
          43,
          50
         ]
        }
       ],
       "layout": {
        "legend": {
         "bgcolor": "#F5F6F9",
         "font": {
          "color": "#4D5663"
         }
        },
        "paper_bgcolor": "#F5F6F9",
        "plot_bgcolor": "#F5F6F9",
        "template": {
         "data": {
          "bar": [
           {
            "error_x": {
             "color": "#2a3f5f"
            },
            "error_y": {
             "color": "#2a3f5f"
            },
            "marker": {
             "line": {
              "color": "#E5ECF6",
              "width": 0.5
             },
             "pattern": {
              "fillmode": "overlay",
              "size": 10,
              "solidity": 0.2
             }
            },
            "type": "bar"
           }
          ],
          "barpolar": [
           {
            "marker": {
             "line": {
              "color": "#E5ECF6",
              "width": 0.5
             },
             "pattern": {
              "fillmode": "overlay",
              "size": 10,
              "solidity": 0.2
             }
            },
            "type": "barpolar"
           }
          ],
          "carpet": [
           {
            "aaxis": {
             "endlinecolor": "#2a3f5f",
             "gridcolor": "white",
             "linecolor": "white",
             "minorgridcolor": "white",
             "startlinecolor": "#2a3f5f"
            },
            "baxis": {
             "endlinecolor": "#2a3f5f",
             "gridcolor": "white",
             "linecolor": "white",
             "minorgridcolor": "white",
             "startlinecolor": "#2a3f5f"
            },
            "type": "carpet"
           }
          ],
          "choropleth": [
           {
            "colorbar": {
             "outlinewidth": 0,
             "ticks": ""
            },
            "type": "choropleth"
           }
          ],
          "contour": [
           {
            "colorbar": {
             "outlinewidth": 0,
             "ticks": ""
            },
            "colorscale": [
             [
              0,
              "#0d0887"
             ],
             [
              0.1111111111111111,
              "#46039f"
             ],
             [
              0.2222222222222222,
              "#7201a8"
             ],
             [
              0.3333333333333333,
              "#9c179e"
             ],
             [
              0.4444444444444444,
              "#bd3786"
             ],
             [
              0.5555555555555556,
              "#d8576b"
             ],
             [
              0.6666666666666666,
              "#ed7953"
             ],
             [
              0.7777777777777778,
              "#fb9f3a"
             ],
             [
              0.8888888888888888,
              "#fdca26"
             ],
             [
              1,
              "#f0f921"
             ]
            ],
            "type": "contour"
           }
          ],
          "contourcarpet": [
           {
            "colorbar": {
             "outlinewidth": 0,
             "ticks": ""
            },
            "type": "contourcarpet"
           }
          ],
          "heatmap": [
           {
            "colorbar": {
             "outlinewidth": 0,
             "ticks": ""
            },
            "colorscale": [
             [
              0,
              "#0d0887"
             ],
             [
              0.1111111111111111,
              "#46039f"
             ],
             [
              0.2222222222222222,
              "#7201a8"
             ],
             [
              0.3333333333333333,
              "#9c179e"
             ],
             [
              0.4444444444444444,
              "#bd3786"
             ],
             [
              0.5555555555555556,
              "#d8576b"
             ],
             [
              0.6666666666666666,
              "#ed7953"
             ],
             [
              0.7777777777777778,
              "#fb9f3a"
             ],
             [
              0.8888888888888888,
              "#fdca26"
             ],
             [
              1,
              "#f0f921"
             ]
            ],
            "type": "heatmap"
           }
          ],
          "heatmapgl": [
           {
            "colorbar": {
             "outlinewidth": 0,
             "ticks": ""
            },
            "colorscale": [
             [
              0,
              "#0d0887"
             ],
             [
              0.1111111111111111,
              "#46039f"
             ],
             [
              0.2222222222222222,
              "#7201a8"
             ],
             [
              0.3333333333333333,
              "#9c179e"
             ],
             [
              0.4444444444444444,
              "#bd3786"
             ],
             [
              0.5555555555555556,
              "#d8576b"
             ],
             [
              0.6666666666666666,
              "#ed7953"
             ],
             [
              0.7777777777777778,
              "#fb9f3a"
             ],
             [
              0.8888888888888888,
              "#fdca26"
             ],
             [
              1,
              "#f0f921"
             ]
            ],
            "type": "heatmapgl"
           }
          ],
          "histogram": [
           {
            "marker": {
             "pattern": {
              "fillmode": "overlay",
              "size": 10,
              "solidity": 0.2
             }
            },
            "type": "histogram"
           }
          ],
          "histogram2d": [
           {
            "colorbar": {
             "outlinewidth": 0,
             "ticks": ""
            },
            "colorscale": [
             [
              0,
              "#0d0887"
             ],
             [
              0.1111111111111111,
              "#46039f"
             ],
             [
              0.2222222222222222,
              "#7201a8"
             ],
             [
              0.3333333333333333,
              "#9c179e"
             ],
             [
              0.4444444444444444,
              "#bd3786"
             ],
             [
              0.5555555555555556,
              "#d8576b"
             ],
             [
              0.6666666666666666,
              "#ed7953"
             ],
             [
              0.7777777777777778,
              "#fb9f3a"
             ],
             [
              0.8888888888888888,
              "#fdca26"
             ],
             [
              1,
              "#f0f921"
             ]
            ],
            "type": "histogram2d"
           }
          ],
          "histogram2dcontour": [
           {
            "colorbar": {
             "outlinewidth": 0,
             "ticks": ""
            },
            "colorscale": [
             [
              0,
              "#0d0887"
             ],
             [
              0.1111111111111111,
              "#46039f"
             ],
             [
              0.2222222222222222,
              "#7201a8"
             ],
             [
              0.3333333333333333,
              "#9c179e"
             ],
             [
              0.4444444444444444,
              "#bd3786"
             ],
             [
              0.5555555555555556,
              "#d8576b"
             ],
             [
              0.6666666666666666,
              "#ed7953"
             ],
             [
              0.7777777777777778,
              "#fb9f3a"
             ],
             [
              0.8888888888888888,
              "#fdca26"
             ],
             [
              1,
              "#f0f921"
             ]
            ],
            "type": "histogram2dcontour"
           }
          ],
          "mesh3d": [
           {
            "colorbar": {
             "outlinewidth": 0,
             "ticks": ""
            },
            "type": "mesh3d"
           }
          ],
          "parcoords": [
           {
            "line": {
             "colorbar": {
              "outlinewidth": 0,
              "ticks": ""
             }
            },
            "type": "parcoords"
           }
          ],
          "pie": [
           {
            "automargin": true,
            "type": "pie"
           }
          ],
          "scatter": [
           {
            "fillpattern": {
             "fillmode": "overlay",
             "size": 10,
             "solidity": 0.2
            },
            "type": "scatter"
           }
          ],
          "scatter3d": [
           {
            "line": {
             "colorbar": {
              "outlinewidth": 0,
              "ticks": ""
             }
            },
            "marker": {
             "colorbar": {
              "outlinewidth": 0,
              "ticks": ""
             }
            },
            "type": "scatter3d"
           }
          ],
          "scattercarpet": [
           {
            "marker": {
             "colorbar": {
              "outlinewidth": 0,
              "ticks": ""
             }
            },
            "type": "scattercarpet"
           }
          ],
          "scattergeo": [
           {
            "marker": {
             "colorbar": {
              "outlinewidth": 0,
              "ticks": ""
             }
            },
            "type": "scattergeo"
           }
          ],
          "scattergl": [
           {
            "marker": {
             "colorbar": {
              "outlinewidth": 0,
              "ticks": ""
             }
            },
            "type": "scattergl"
           }
          ],
          "scattermapbox": [
           {
            "marker": {
             "colorbar": {
              "outlinewidth": 0,
              "ticks": ""
             }
            },
            "type": "scattermapbox"
           }
          ],
          "scatterpolar": [
           {
            "marker": {
             "colorbar": {
              "outlinewidth": 0,
              "ticks": ""
             }
            },
            "type": "scatterpolar"
           }
          ],
          "scatterpolargl": [
           {
            "marker": {
             "colorbar": {
              "outlinewidth": 0,
              "ticks": ""
             }
            },
            "type": "scatterpolargl"
           }
          ],
          "scatterternary": [
           {
            "marker": {
             "colorbar": {
              "outlinewidth": 0,
              "ticks": ""
             }
            },
            "type": "scatterternary"
           }
          ],
          "surface": [
           {
            "colorbar": {
             "outlinewidth": 0,
             "ticks": ""
            },
            "colorscale": [
             [
              0,
              "#0d0887"
             ],
             [
              0.1111111111111111,
              "#46039f"
             ],
             [
              0.2222222222222222,
              "#7201a8"
             ],
             [
              0.3333333333333333,
              "#9c179e"
             ],
             [
              0.4444444444444444,
              "#bd3786"
             ],
             [
              0.5555555555555556,
              "#d8576b"
             ],
             [
              0.6666666666666666,
              "#ed7953"
             ],
             [
              0.7777777777777778,
              "#fb9f3a"
             ],
             [
              0.8888888888888888,
              "#fdca26"
             ],
             [
              1,
              "#f0f921"
             ]
            ],
            "type": "surface"
           }
          ],
          "table": [
           {
            "cells": {
             "fill": {
              "color": "#EBF0F8"
             },
             "line": {
              "color": "white"
             }
            },
            "header": {
             "fill": {
              "color": "#C8D4E3"
             },
             "line": {
              "color": "white"
             }
            },
            "type": "table"
           }
          ]
         },
         "layout": {
          "annotationdefaults": {
           "arrowcolor": "#2a3f5f",
           "arrowhead": 0,
           "arrowwidth": 1
          },
          "autotypenumbers": "strict",
          "coloraxis": {
           "colorbar": {
            "outlinewidth": 0,
            "ticks": ""
           }
          },
          "colorscale": {
           "diverging": [
            [
             0,
             "#8e0152"
            ],
            [
             0.1,
             "#c51b7d"
            ],
            [
             0.2,
             "#de77ae"
            ],
            [
             0.3,
             "#f1b6da"
            ],
            [
             0.4,
             "#fde0ef"
            ],
            [
             0.5,
             "#f7f7f7"
            ],
            [
             0.6,
             "#e6f5d0"
            ],
            [
             0.7,
             "#b8e186"
            ],
            [
             0.8,
             "#7fbc41"
            ],
            [
             0.9,
             "#4d9221"
            ],
            [
             1,
             "#276419"
            ]
           ],
           "sequential": [
            [
             0,
             "#0d0887"
            ],
            [
             0.1111111111111111,
             "#46039f"
            ],
            [
             0.2222222222222222,
             "#7201a8"
            ],
            [
             0.3333333333333333,
             "#9c179e"
            ],
            [
             0.4444444444444444,
             "#bd3786"
            ],
            [
             0.5555555555555556,
             "#d8576b"
            ],
            [
             0.6666666666666666,
             "#ed7953"
            ],
            [
             0.7777777777777778,
             "#fb9f3a"
            ],
            [
             0.8888888888888888,
             "#fdca26"
            ],
            [
             1,
             "#f0f921"
            ]
           ],
           "sequentialminus": [
            [
             0,
             "#0d0887"
            ],
            [
             0.1111111111111111,
             "#46039f"
            ],
            [
             0.2222222222222222,
             "#7201a8"
            ],
            [
             0.3333333333333333,
             "#9c179e"
            ],
            [
             0.4444444444444444,
             "#bd3786"
            ],
            [
             0.5555555555555556,
             "#d8576b"
            ],
            [
             0.6666666666666666,
             "#ed7953"
            ],
            [
             0.7777777777777778,
             "#fb9f3a"
            ],
            [
             0.8888888888888888,
             "#fdca26"
            ],
            [
             1,
             "#f0f921"
            ]
           ]
          },
          "colorway": [
           "#636efa",
           "#EF553B",
           "#00cc96",
           "#ab63fa",
           "#FFA15A",
           "#19d3f3",
           "#FF6692",
           "#B6E880",
           "#FF97FF",
           "#FECB52"
          ],
          "font": {
           "color": "#2a3f5f"
          },
          "geo": {
           "bgcolor": "white",
           "lakecolor": "white",
           "landcolor": "#E5ECF6",
           "showlakes": true,
           "showland": true,
           "subunitcolor": "white"
          },
          "hoverlabel": {
           "align": "left"
          },
          "hovermode": "closest",
          "mapbox": {
           "style": "light"
          },
          "paper_bgcolor": "white",
          "plot_bgcolor": "#E5ECF6",
          "polar": {
           "angularaxis": {
            "gridcolor": "white",
            "linecolor": "white",
            "ticks": ""
           },
           "bgcolor": "#E5ECF6",
           "radialaxis": {
            "gridcolor": "white",
            "linecolor": "white",
            "ticks": ""
           }
          },
          "scene": {
           "xaxis": {
            "backgroundcolor": "#E5ECF6",
            "gridcolor": "white",
            "gridwidth": 2,
            "linecolor": "white",
            "showbackground": true,
            "ticks": "",
            "zerolinecolor": "white"
           },
           "yaxis": {
            "backgroundcolor": "#E5ECF6",
            "gridcolor": "white",
            "gridwidth": 2,
            "linecolor": "white",
            "showbackground": true,
            "ticks": "",
            "zerolinecolor": "white"
           },
           "zaxis": {
            "backgroundcolor": "#E5ECF6",
            "gridcolor": "white",
            "gridwidth": 2,
            "linecolor": "white",
            "showbackground": true,
            "ticks": "",
            "zerolinecolor": "white"
           }
          },
          "shapedefaults": {
           "line": {
            "color": "#2a3f5f"
           }
          },
          "ternary": {
           "aaxis": {
            "gridcolor": "white",
            "linecolor": "white",
            "ticks": ""
           },
           "baxis": {
            "gridcolor": "white",
            "linecolor": "white",
            "ticks": ""
           },
           "bgcolor": "#E5ECF6",
           "caxis": {
            "gridcolor": "white",
            "linecolor": "white",
            "ticks": ""
           }
          },
          "title": {
           "x": 0.05
          },
          "xaxis": {
           "automargin": true,
           "gridcolor": "white",
           "linecolor": "white",
           "ticks": "",
           "title": {
            "standoff": 15
           },
           "zerolinecolor": "white",
           "zerolinewidth": 2
          },
          "yaxis": {
           "automargin": true,
           "gridcolor": "white",
           "linecolor": "white",
           "ticks": "",
           "title": {
            "standoff": 15
           },
           "zerolinecolor": "white",
           "zerolinewidth": 2
          }
         }
        },
        "title": {
         "font": {
          "color": "#4D5663"
         }
        },
        "xaxis": {
         "gridcolor": "#E1E5ED",
         "showgrid": true,
         "tickfont": {
          "color": "#4D5663"
         },
         "title": {
          "font": {
           "color": "#4D5663"
          },
          "text": ""
         },
         "zerolinecolor": "#E1E5ED"
        },
        "yaxis": {
         "gridcolor": "#E1E5ED",
         "showgrid": true,
         "tickfont": {
          "color": "#4D5663"
         },
         "title": {
          "font": {
           "color": "#4D5663"
          },
          "text": ""
         },
         "zerolinecolor": "#E1E5ED"
        }
       }
      },
      "text/html": [
       "<div>                            <div id=\"869991c3-5cbd-4e02-ab26-f1cdea96fa6f\" class=\"plotly-graph-div\" style=\"height:525px; width:100%;\"></div>            <script type=\"text/javascript\">                require([\"plotly\"], function(Plotly) {                    window.PLOTLYENV=window.PLOTLYENV || {};\n",
       "                    window.PLOTLYENV.BASE_URL='https://plot.ly';                                    if (document.getElementById(\"869991c3-5cbd-4e02-ab26-f1cdea96fa6f\")) {                    Plotly.newPlot(                        \"869991c3-5cbd-4e02-ab26-f1cdea96fa6f\",                        [{\"marker\":{\"color\":\"rgba(255, 153, 51, 0.6)\",\"line\":{\"color\":\"rgba(255, 153, 51, 1.0)\",\"width\":1}},\"name\":\"Values\",\"orientation\":\"v\",\"text\":\"\",\"x\":[\"A\",\"B\",\"C\"],\"y\":[32,43,50],\"type\":\"bar\"}],                        {\"legend\":{\"bgcolor\":\"#F5F6F9\",\"font\":{\"color\":\"#4D5663\"}},\"paper_bgcolor\":\"#F5F6F9\",\"plot_bgcolor\":\"#F5F6F9\",\"template\":{\"data\":{\"barpolar\":[{\"marker\":{\"line\":{\"color\":\"#E5ECF6\",\"width\":0.5},\"pattern\":{\"fillmode\":\"overlay\",\"size\":10,\"solidity\":0.2}},\"type\":\"barpolar\"}],\"bar\":[{\"error_x\":{\"color\":\"#2a3f5f\"},\"error_y\":{\"color\":\"#2a3f5f\"},\"marker\":{\"line\":{\"color\":\"#E5ECF6\",\"width\":0.5},\"pattern\":{\"fillmode\":\"overlay\",\"size\":10,\"solidity\":0.2}},\"type\":\"bar\"}],\"carpet\":[{\"aaxis\":{\"endlinecolor\":\"#2a3f5f\",\"gridcolor\":\"white\",\"linecolor\":\"white\",\"minorgridcolor\":\"white\",\"startlinecolor\":\"#2a3f5f\"},\"baxis\":{\"endlinecolor\":\"#2a3f5f\",\"gridcolor\":\"white\",\"linecolor\":\"white\",\"minorgridcolor\":\"white\",\"startlinecolor\":\"#2a3f5f\"},\"type\":\"carpet\"}],\"choropleth\":[{\"colorbar\":{\"outlinewidth\":0,\"ticks\":\"\"},\"type\":\"choropleth\"}],\"contourcarpet\":[{\"colorbar\":{\"outlinewidth\":0,\"ticks\":\"\"},\"type\":\"contourcarpet\"}],\"contour\":[{\"colorbar\":{\"outlinewidth\":0,\"ticks\":\"\"},\"colorscale\":[[0.0,\"#0d0887\"],[0.1111111111111111,\"#46039f\"],[0.2222222222222222,\"#7201a8\"],[0.3333333333333333,\"#9c179e\"],[0.4444444444444444,\"#bd3786\"],[0.5555555555555556,\"#d8576b\"],[0.6666666666666666,\"#ed7953\"],[0.7777777777777778,\"#fb9f3a\"],[0.8888888888888888,\"#fdca26\"],[1.0,\"#f0f921\"]],\"type\":\"contour\"}],\"heatmapgl\":[{\"colorbar\":{\"outlinewidth\":0,\"ticks\":\"\"},\"colorscale\":[[0.0,\"#0d0887\"],[0.1111111111111111,\"#46039f\"],[0.2222222222222222,\"#7201a8\"],[0.3333333333333333,\"#9c179e\"],[0.4444444444444444,\"#bd3786\"],[0.5555555555555556,\"#d8576b\"],[0.6666666666666666,\"#ed7953\"],[0.7777777777777778,\"#fb9f3a\"],[0.8888888888888888,\"#fdca26\"],[1.0,\"#f0f921\"]],\"type\":\"heatmapgl\"}],\"heatmap\":[{\"colorbar\":{\"outlinewidth\":0,\"ticks\":\"\"},\"colorscale\":[[0.0,\"#0d0887\"],[0.1111111111111111,\"#46039f\"],[0.2222222222222222,\"#7201a8\"],[0.3333333333333333,\"#9c179e\"],[0.4444444444444444,\"#bd3786\"],[0.5555555555555556,\"#d8576b\"],[0.6666666666666666,\"#ed7953\"],[0.7777777777777778,\"#fb9f3a\"],[0.8888888888888888,\"#fdca26\"],[1.0,\"#f0f921\"]],\"type\":\"heatmap\"}],\"histogram2dcontour\":[{\"colorbar\":{\"outlinewidth\":0,\"ticks\":\"\"},\"colorscale\":[[0.0,\"#0d0887\"],[0.1111111111111111,\"#46039f\"],[0.2222222222222222,\"#7201a8\"],[0.3333333333333333,\"#9c179e\"],[0.4444444444444444,\"#bd3786\"],[0.5555555555555556,\"#d8576b\"],[0.6666666666666666,\"#ed7953\"],[0.7777777777777778,\"#fb9f3a\"],[0.8888888888888888,\"#fdca26\"],[1.0,\"#f0f921\"]],\"type\":\"histogram2dcontour\"}],\"histogram2d\":[{\"colorbar\":{\"outlinewidth\":0,\"ticks\":\"\"},\"colorscale\":[[0.0,\"#0d0887\"],[0.1111111111111111,\"#46039f\"],[0.2222222222222222,\"#7201a8\"],[0.3333333333333333,\"#9c179e\"],[0.4444444444444444,\"#bd3786\"],[0.5555555555555556,\"#d8576b\"],[0.6666666666666666,\"#ed7953\"],[0.7777777777777778,\"#fb9f3a\"],[0.8888888888888888,\"#fdca26\"],[1.0,\"#f0f921\"]],\"type\":\"histogram2d\"}],\"histogram\":[{\"marker\":{\"pattern\":{\"fillmode\":\"overlay\",\"size\":10,\"solidity\":0.2}},\"type\":\"histogram\"}],\"mesh3d\":[{\"colorbar\":{\"outlinewidth\":0,\"ticks\":\"\"},\"type\":\"mesh3d\"}],\"parcoords\":[{\"line\":{\"colorbar\":{\"outlinewidth\":0,\"ticks\":\"\"}},\"type\":\"parcoords\"}],\"pie\":[{\"automargin\":true,\"type\":\"pie\"}],\"scatter3d\":[{\"line\":{\"colorbar\":{\"outlinewidth\":0,\"ticks\":\"\"}},\"marker\":{\"colorbar\":{\"outlinewidth\":0,\"ticks\":\"\"}},\"type\":\"scatter3d\"}],\"scattercarpet\":[{\"marker\":{\"colorbar\":{\"outlinewidth\":0,\"ticks\":\"\"}},\"type\":\"scattercarpet\"}],\"scattergeo\":[{\"marker\":{\"colorbar\":{\"outlinewidth\":0,\"ticks\":\"\"}},\"type\":\"scattergeo\"}],\"scattergl\":[{\"marker\":{\"colorbar\":{\"outlinewidth\":0,\"ticks\":\"\"}},\"type\":\"scattergl\"}],\"scattermapbox\":[{\"marker\":{\"colorbar\":{\"outlinewidth\":0,\"ticks\":\"\"}},\"type\":\"scattermapbox\"}],\"scatterpolargl\":[{\"marker\":{\"colorbar\":{\"outlinewidth\":0,\"ticks\":\"\"}},\"type\":\"scatterpolargl\"}],\"scatterpolar\":[{\"marker\":{\"colorbar\":{\"outlinewidth\":0,\"ticks\":\"\"}},\"type\":\"scatterpolar\"}],\"scatter\":[{\"fillpattern\":{\"fillmode\":\"overlay\",\"size\":10,\"solidity\":0.2},\"type\":\"scatter\"}],\"scatterternary\":[{\"marker\":{\"colorbar\":{\"outlinewidth\":0,\"ticks\":\"\"}},\"type\":\"scatterternary\"}],\"surface\":[{\"colorbar\":{\"outlinewidth\":0,\"ticks\":\"\"},\"colorscale\":[[0.0,\"#0d0887\"],[0.1111111111111111,\"#46039f\"],[0.2222222222222222,\"#7201a8\"],[0.3333333333333333,\"#9c179e\"],[0.4444444444444444,\"#bd3786\"],[0.5555555555555556,\"#d8576b\"],[0.6666666666666666,\"#ed7953\"],[0.7777777777777778,\"#fb9f3a\"],[0.8888888888888888,\"#fdca26\"],[1.0,\"#f0f921\"]],\"type\":\"surface\"}],\"table\":[{\"cells\":{\"fill\":{\"color\":\"#EBF0F8\"},\"line\":{\"color\":\"white\"}},\"header\":{\"fill\":{\"color\":\"#C8D4E3\"},\"line\":{\"color\":\"white\"}},\"type\":\"table\"}]},\"layout\":{\"annotationdefaults\":{\"arrowcolor\":\"#2a3f5f\",\"arrowhead\":0,\"arrowwidth\":1},\"autotypenumbers\":\"strict\",\"coloraxis\":{\"colorbar\":{\"outlinewidth\":0,\"ticks\":\"\"}},\"colorscale\":{\"diverging\":[[0,\"#8e0152\"],[0.1,\"#c51b7d\"],[0.2,\"#de77ae\"],[0.3,\"#f1b6da\"],[0.4,\"#fde0ef\"],[0.5,\"#f7f7f7\"],[0.6,\"#e6f5d0\"],[0.7,\"#b8e186\"],[0.8,\"#7fbc41\"],[0.9,\"#4d9221\"],[1,\"#276419\"]],\"sequential\":[[0.0,\"#0d0887\"],[0.1111111111111111,\"#46039f\"],[0.2222222222222222,\"#7201a8\"],[0.3333333333333333,\"#9c179e\"],[0.4444444444444444,\"#bd3786\"],[0.5555555555555556,\"#d8576b\"],[0.6666666666666666,\"#ed7953\"],[0.7777777777777778,\"#fb9f3a\"],[0.8888888888888888,\"#fdca26\"],[1.0,\"#f0f921\"]],\"sequentialminus\":[[0.0,\"#0d0887\"],[0.1111111111111111,\"#46039f\"],[0.2222222222222222,\"#7201a8\"],[0.3333333333333333,\"#9c179e\"],[0.4444444444444444,\"#bd3786\"],[0.5555555555555556,\"#d8576b\"],[0.6666666666666666,\"#ed7953\"],[0.7777777777777778,\"#fb9f3a\"],[0.8888888888888888,\"#fdca26\"],[1.0,\"#f0f921\"]]},\"colorway\":[\"#636efa\",\"#EF553B\",\"#00cc96\",\"#ab63fa\",\"#FFA15A\",\"#19d3f3\",\"#FF6692\",\"#B6E880\",\"#FF97FF\",\"#FECB52\"],\"font\":{\"color\":\"#2a3f5f\"},\"geo\":{\"bgcolor\":\"white\",\"lakecolor\":\"white\",\"landcolor\":\"#E5ECF6\",\"showlakes\":true,\"showland\":true,\"subunitcolor\":\"white\"},\"hoverlabel\":{\"align\":\"left\"},\"hovermode\":\"closest\",\"mapbox\":{\"style\":\"light\"},\"paper_bgcolor\":\"white\",\"plot_bgcolor\":\"#E5ECF6\",\"polar\":{\"angularaxis\":{\"gridcolor\":\"white\",\"linecolor\":\"white\",\"ticks\":\"\"},\"bgcolor\":\"#E5ECF6\",\"radialaxis\":{\"gridcolor\":\"white\",\"linecolor\":\"white\",\"ticks\":\"\"}},\"scene\":{\"xaxis\":{\"backgroundcolor\":\"#E5ECF6\",\"gridcolor\":\"white\",\"gridwidth\":2,\"linecolor\":\"white\",\"showbackground\":true,\"ticks\":\"\",\"zerolinecolor\":\"white\"},\"yaxis\":{\"backgroundcolor\":\"#E5ECF6\",\"gridcolor\":\"white\",\"gridwidth\":2,\"linecolor\":\"white\",\"showbackground\":true,\"ticks\":\"\",\"zerolinecolor\":\"white\"},\"zaxis\":{\"backgroundcolor\":\"#E5ECF6\",\"gridcolor\":\"white\",\"gridwidth\":2,\"linecolor\":\"white\",\"showbackground\":true,\"ticks\":\"\",\"zerolinecolor\":\"white\"}},\"shapedefaults\":{\"line\":{\"color\":\"#2a3f5f\"}},\"ternary\":{\"aaxis\":{\"gridcolor\":\"white\",\"linecolor\":\"white\",\"ticks\":\"\"},\"baxis\":{\"gridcolor\":\"white\",\"linecolor\":\"white\",\"ticks\":\"\"},\"bgcolor\":\"#E5ECF6\",\"caxis\":{\"gridcolor\":\"white\",\"linecolor\":\"white\",\"ticks\":\"\"}},\"title\":{\"x\":0.05},\"xaxis\":{\"automargin\":true,\"gridcolor\":\"white\",\"linecolor\":\"white\",\"ticks\":\"\",\"title\":{\"standoff\":15},\"zerolinecolor\":\"white\",\"zerolinewidth\":2},\"yaxis\":{\"automargin\":true,\"gridcolor\":\"white\",\"linecolor\":\"white\",\"ticks\":\"\",\"title\":{\"standoff\":15},\"zerolinecolor\":\"white\",\"zerolinewidth\":2}}},\"title\":{\"font\":{\"color\":\"#4D5663\"}},\"xaxis\":{\"gridcolor\":\"#E1E5ED\",\"showgrid\":true,\"tickfont\":{\"color\":\"#4D5663\"},\"title\":{\"font\":{\"color\":\"#4D5663\"},\"text\":\"\"},\"zerolinecolor\":\"#E1E5ED\"},\"yaxis\":{\"gridcolor\":\"#E1E5ED\",\"showgrid\":true,\"tickfont\":{\"color\":\"#4D5663\"},\"title\":{\"font\":{\"color\":\"#4D5663\"},\"text\":\"\"},\"zerolinecolor\":\"#E1E5ED\"}},                        {\"showLink\": true, \"linkText\": \"Export to plot.ly\", \"plotlyServerURL\": \"https://plot.ly\", \"responsive\": true}                    ).then(function(){\n",
       "                            \n",
       "var gd = document.getElementById('869991c3-5cbd-4e02-ab26-f1cdea96fa6f');\n",
       "var x = new MutationObserver(function (mutations, observer) {{\n",
       "        var display = window.getComputedStyle(gd).display;\n",
       "        if (!display || display === 'none') {{\n",
       "            console.log([gd, 'removed!']);\n",
       "            Plotly.purge(gd);\n",
       "            observer.disconnect();\n",
       "        }}\n",
       "}});\n",
       "\n",
       "// Listen for the removal of the full notebook cells\n",
       "var notebookContainer = gd.closest('#notebook-container');\n",
       "if (notebookContainer) {{\n",
       "    x.observe(notebookContainer, {childList: true});\n",
       "}}\n",
       "\n",
       "// Listen for the clearing of the current output cell\n",
       "var outputEl = gd.closest('.output');\n",
       "if (outputEl) {{\n",
       "    x.observe(outputEl, {childList: true});\n",
       "}}\n",
       "\n",
       "                        })                };                });            </script>        </div>"
      ]
     },
     "metadata": {},
     "output_type": "display_data"
    }
   ],
   "source": [
    "df2.iplot(kind='bar',x='Category',y='Values')"
   ]
  },
  {
   "cell_type": "code",
   "execution_count": 17,
   "id": "c2164e83",
   "metadata": {},
   "outputs": [
    {
     "data": {
      "application/vnd.plotly.v1+json": {
       "config": {
        "linkText": "Export to plot.ly",
        "plotlyServerURL": "https://plot.ly",
        "showLink": true
       },
       "data": [
        {
         "marker": {
          "color": "rgba(255, 153, 51, 0.6)",
          "line": {
           "color": "rgba(255, 153, 51, 1.0)",
           "width": 1
          }
         },
         "name": "None",
         "orientation": "v",
         "text": "",
         "type": "bar",
         "x": [
          "A",
          "B",
          "C",
          "D"
         ],
         "y": [
          100,
          100,
          100,
          100
         ]
        }
       ],
       "layout": {
        "legend": {
         "bgcolor": "#F5F6F9",
         "font": {
          "color": "#4D5663"
         }
        },
        "paper_bgcolor": "#F5F6F9",
        "plot_bgcolor": "#F5F6F9",
        "template": {
         "data": {
          "bar": [
           {
            "error_x": {
             "color": "#2a3f5f"
            },
            "error_y": {
             "color": "#2a3f5f"
            },
            "marker": {
             "line": {
              "color": "#E5ECF6",
              "width": 0.5
             },
             "pattern": {
              "fillmode": "overlay",
              "size": 10,
              "solidity": 0.2
             }
            },
            "type": "bar"
           }
          ],
          "barpolar": [
           {
            "marker": {
             "line": {
              "color": "#E5ECF6",
              "width": 0.5
             },
             "pattern": {
              "fillmode": "overlay",
              "size": 10,
              "solidity": 0.2
             }
            },
            "type": "barpolar"
           }
          ],
          "carpet": [
           {
            "aaxis": {
             "endlinecolor": "#2a3f5f",
             "gridcolor": "white",
             "linecolor": "white",
             "minorgridcolor": "white",
             "startlinecolor": "#2a3f5f"
            },
            "baxis": {
             "endlinecolor": "#2a3f5f",
             "gridcolor": "white",
             "linecolor": "white",
             "minorgridcolor": "white",
             "startlinecolor": "#2a3f5f"
            },
            "type": "carpet"
           }
          ],
          "choropleth": [
           {
            "colorbar": {
             "outlinewidth": 0,
             "ticks": ""
            },
            "type": "choropleth"
           }
          ],
          "contour": [
           {
            "colorbar": {
             "outlinewidth": 0,
             "ticks": ""
            },
            "colorscale": [
             [
              0,
              "#0d0887"
             ],
             [
              0.1111111111111111,
              "#46039f"
             ],
             [
              0.2222222222222222,
              "#7201a8"
             ],
             [
              0.3333333333333333,
              "#9c179e"
             ],
             [
              0.4444444444444444,
              "#bd3786"
             ],
             [
              0.5555555555555556,
              "#d8576b"
             ],
             [
              0.6666666666666666,
              "#ed7953"
             ],
             [
              0.7777777777777778,
              "#fb9f3a"
             ],
             [
              0.8888888888888888,
              "#fdca26"
             ],
             [
              1,
              "#f0f921"
             ]
            ],
            "type": "contour"
           }
          ],
          "contourcarpet": [
           {
            "colorbar": {
             "outlinewidth": 0,
             "ticks": ""
            },
            "type": "contourcarpet"
           }
          ],
          "heatmap": [
           {
            "colorbar": {
             "outlinewidth": 0,
             "ticks": ""
            },
            "colorscale": [
             [
              0,
              "#0d0887"
             ],
             [
              0.1111111111111111,
              "#46039f"
             ],
             [
              0.2222222222222222,
              "#7201a8"
             ],
             [
              0.3333333333333333,
              "#9c179e"
             ],
             [
              0.4444444444444444,
              "#bd3786"
             ],
             [
              0.5555555555555556,
              "#d8576b"
             ],
             [
              0.6666666666666666,
              "#ed7953"
             ],
             [
              0.7777777777777778,
              "#fb9f3a"
             ],
             [
              0.8888888888888888,
              "#fdca26"
             ],
             [
              1,
              "#f0f921"
             ]
            ],
            "type": "heatmap"
           }
          ],
          "heatmapgl": [
           {
            "colorbar": {
             "outlinewidth": 0,
             "ticks": ""
            },
            "colorscale": [
             [
              0,
              "#0d0887"
             ],
             [
              0.1111111111111111,
              "#46039f"
             ],
             [
              0.2222222222222222,
              "#7201a8"
             ],
             [
              0.3333333333333333,
              "#9c179e"
             ],
             [
              0.4444444444444444,
              "#bd3786"
             ],
             [
              0.5555555555555556,
              "#d8576b"
             ],
             [
              0.6666666666666666,
              "#ed7953"
             ],
             [
              0.7777777777777778,
              "#fb9f3a"
             ],
             [
              0.8888888888888888,
              "#fdca26"
             ],
             [
              1,
              "#f0f921"
             ]
            ],
            "type": "heatmapgl"
           }
          ],
          "histogram": [
           {
            "marker": {
             "pattern": {
              "fillmode": "overlay",
              "size": 10,
              "solidity": 0.2
             }
            },
            "type": "histogram"
           }
          ],
          "histogram2d": [
           {
            "colorbar": {
             "outlinewidth": 0,
             "ticks": ""
            },
            "colorscale": [
             [
              0,
              "#0d0887"
             ],
             [
              0.1111111111111111,
              "#46039f"
             ],
             [
              0.2222222222222222,
              "#7201a8"
             ],
             [
              0.3333333333333333,
              "#9c179e"
             ],
             [
              0.4444444444444444,
              "#bd3786"
             ],
             [
              0.5555555555555556,
              "#d8576b"
             ],
             [
              0.6666666666666666,
              "#ed7953"
             ],
             [
              0.7777777777777778,
              "#fb9f3a"
             ],
             [
              0.8888888888888888,
              "#fdca26"
             ],
             [
              1,
              "#f0f921"
             ]
            ],
            "type": "histogram2d"
           }
          ],
          "histogram2dcontour": [
           {
            "colorbar": {
             "outlinewidth": 0,
             "ticks": ""
            },
            "colorscale": [
             [
              0,
              "#0d0887"
             ],
             [
              0.1111111111111111,
              "#46039f"
             ],
             [
              0.2222222222222222,
              "#7201a8"
             ],
             [
              0.3333333333333333,
              "#9c179e"
             ],
             [
              0.4444444444444444,
              "#bd3786"
             ],
             [
              0.5555555555555556,
              "#d8576b"
             ],
             [
              0.6666666666666666,
              "#ed7953"
             ],
             [
              0.7777777777777778,
              "#fb9f3a"
             ],
             [
              0.8888888888888888,
              "#fdca26"
             ],
             [
              1,
              "#f0f921"
             ]
            ],
            "type": "histogram2dcontour"
           }
          ],
          "mesh3d": [
           {
            "colorbar": {
             "outlinewidth": 0,
             "ticks": ""
            },
            "type": "mesh3d"
           }
          ],
          "parcoords": [
           {
            "line": {
             "colorbar": {
              "outlinewidth": 0,
              "ticks": ""
             }
            },
            "type": "parcoords"
           }
          ],
          "pie": [
           {
            "automargin": true,
            "type": "pie"
           }
          ],
          "scatter": [
           {
            "fillpattern": {
             "fillmode": "overlay",
             "size": 10,
             "solidity": 0.2
            },
            "type": "scatter"
           }
          ],
          "scatter3d": [
           {
            "line": {
             "colorbar": {
              "outlinewidth": 0,
              "ticks": ""
             }
            },
            "marker": {
             "colorbar": {
              "outlinewidth": 0,
              "ticks": ""
             }
            },
            "type": "scatter3d"
           }
          ],
          "scattercarpet": [
           {
            "marker": {
             "colorbar": {
              "outlinewidth": 0,
              "ticks": ""
             }
            },
            "type": "scattercarpet"
           }
          ],
          "scattergeo": [
           {
            "marker": {
             "colorbar": {
              "outlinewidth": 0,
              "ticks": ""
             }
            },
            "type": "scattergeo"
           }
          ],
          "scattergl": [
           {
            "marker": {
             "colorbar": {
              "outlinewidth": 0,
              "ticks": ""
             }
            },
            "type": "scattergl"
           }
          ],
          "scattermapbox": [
           {
            "marker": {
             "colorbar": {
              "outlinewidth": 0,
              "ticks": ""
             }
            },
            "type": "scattermapbox"
           }
          ],
          "scatterpolar": [
           {
            "marker": {
             "colorbar": {
              "outlinewidth": 0,
              "ticks": ""
             }
            },
            "type": "scatterpolar"
           }
          ],
          "scatterpolargl": [
           {
            "marker": {
             "colorbar": {
              "outlinewidth": 0,
              "ticks": ""
             }
            },
            "type": "scatterpolargl"
           }
          ],
          "scatterternary": [
           {
            "marker": {
             "colorbar": {
              "outlinewidth": 0,
              "ticks": ""
             }
            },
            "type": "scatterternary"
           }
          ],
          "surface": [
           {
            "colorbar": {
             "outlinewidth": 0,
             "ticks": ""
            },
            "colorscale": [
             [
              0,
              "#0d0887"
             ],
             [
              0.1111111111111111,
              "#46039f"
             ],
             [
              0.2222222222222222,
              "#7201a8"
             ],
             [
              0.3333333333333333,
              "#9c179e"
             ],
             [
              0.4444444444444444,
              "#bd3786"
             ],
             [
              0.5555555555555556,
              "#d8576b"
             ],
             [
              0.6666666666666666,
              "#ed7953"
             ],
             [
              0.7777777777777778,
              "#fb9f3a"
             ],
             [
              0.8888888888888888,
              "#fdca26"
             ],
             [
              1,
              "#f0f921"
             ]
            ],
            "type": "surface"
           }
          ],
          "table": [
           {
            "cells": {
             "fill": {
              "color": "#EBF0F8"
             },
             "line": {
              "color": "white"
             }
            },
            "header": {
             "fill": {
              "color": "#C8D4E3"
             },
             "line": {
              "color": "white"
             }
            },
            "type": "table"
           }
          ]
         },
         "layout": {
          "annotationdefaults": {
           "arrowcolor": "#2a3f5f",
           "arrowhead": 0,
           "arrowwidth": 1
          },
          "autotypenumbers": "strict",
          "coloraxis": {
           "colorbar": {
            "outlinewidth": 0,
            "ticks": ""
           }
          },
          "colorscale": {
           "diverging": [
            [
             0,
             "#8e0152"
            ],
            [
             0.1,
             "#c51b7d"
            ],
            [
             0.2,
             "#de77ae"
            ],
            [
             0.3,
             "#f1b6da"
            ],
            [
             0.4,
             "#fde0ef"
            ],
            [
             0.5,
             "#f7f7f7"
            ],
            [
             0.6,
             "#e6f5d0"
            ],
            [
             0.7,
             "#b8e186"
            ],
            [
             0.8,
             "#7fbc41"
            ],
            [
             0.9,
             "#4d9221"
            ],
            [
             1,
             "#276419"
            ]
           ],
           "sequential": [
            [
             0,
             "#0d0887"
            ],
            [
             0.1111111111111111,
             "#46039f"
            ],
            [
             0.2222222222222222,
             "#7201a8"
            ],
            [
             0.3333333333333333,
             "#9c179e"
            ],
            [
             0.4444444444444444,
             "#bd3786"
            ],
            [
             0.5555555555555556,
             "#d8576b"
            ],
            [
             0.6666666666666666,
             "#ed7953"
            ],
            [
             0.7777777777777778,
             "#fb9f3a"
            ],
            [
             0.8888888888888888,
             "#fdca26"
            ],
            [
             1,
             "#f0f921"
            ]
           ],
           "sequentialminus": [
            [
             0,
             "#0d0887"
            ],
            [
             0.1111111111111111,
             "#46039f"
            ],
            [
             0.2222222222222222,
             "#7201a8"
            ],
            [
             0.3333333333333333,
             "#9c179e"
            ],
            [
             0.4444444444444444,
             "#bd3786"
            ],
            [
             0.5555555555555556,
             "#d8576b"
            ],
            [
             0.6666666666666666,
             "#ed7953"
            ],
            [
             0.7777777777777778,
             "#fb9f3a"
            ],
            [
             0.8888888888888888,
             "#fdca26"
            ],
            [
             1,
             "#f0f921"
            ]
           ]
          },
          "colorway": [
           "#636efa",
           "#EF553B",
           "#00cc96",
           "#ab63fa",
           "#FFA15A",
           "#19d3f3",
           "#FF6692",
           "#B6E880",
           "#FF97FF",
           "#FECB52"
          ],
          "font": {
           "color": "#2a3f5f"
          },
          "geo": {
           "bgcolor": "white",
           "lakecolor": "white",
           "landcolor": "#E5ECF6",
           "showlakes": true,
           "showland": true,
           "subunitcolor": "white"
          },
          "hoverlabel": {
           "align": "left"
          },
          "hovermode": "closest",
          "mapbox": {
           "style": "light"
          },
          "paper_bgcolor": "white",
          "plot_bgcolor": "#E5ECF6",
          "polar": {
           "angularaxis": {
            "gridcolor": "white",
            "linecolor": "white",
            "ticks": ""
           },
           "bgcolor": "#E5ECF6",
           "radialaxis": {
            "gridcolor": "white",
            "linecolor": "white",
            "ticks": ""
           }
          },
          "scene": {
           "xaxis": {
            "backgroundcolor": "#E5ECF6",
            "gridcolor": "white",
            "gridwidth": 2,
            "linecolor": "white",
            "showbackground": true,
            "ticks": "",
            "zerolinecolor": "white"
           },
           "yaxis": {
            "backgroundcolor": "#E5ECF6",
            "gridcolor": "white",
            "gridwidth": 2,
            "linecolor": "white",
            "showbackground": true,
            "ticks": "",
            "zerolinecolor": "white"
           },
           "zaxis": {
            "backgroundcolor": "#E5ECF6",
            "gridcolor": "white",
            "gridwidth": 2,
            "linecolor": "white",
            "showbackground": true,
            "ticks": "",
            "zerolinecolor": "white"
           }
          },
          "shapedefaults": {
           "line": {
            "color": "#2a3f5f"
           }
          },
          "ternary": {
           "aaxis": {
            "gridcolor": "white",
            "linecolor": "white",
            "ticks": ""
           },
           "baxis": {
            "gridcolor": "white",
            "linecolor": "white",
            "ticks": ""
           },
           "bgcolor": "#E5ECF6",
           "caxis": {
            "gridcolor": "white",
            "linecolor": "white",
            "ticks": ""
           }
          },
          "title": {
           "x": 0.05
          },
          "xaxis": {
           "automargin": true,
           "gridcolor": "white",
           "linecolor": "white",
           "ticks": "",
           "title": {
            "standoff": 15
           },
           "zerolinecolor": "white",
           "zerolinewidth": 2
          },
          "yaxis": {
           "automargin": true,
           "gridcolor": "white",
           "linecolor": "white",
           "ticks": "",
           "title": {
            "standoff": 15
           },
           "zerolinecolor": "white",
           "zerolinewidth": 2
          }
         }
        },
        "title": {
         "font": {
          "color": "#4D5663"
         }
        },
        "xaxis": {
         "gridcolor": "#E1E5ED",
         "showgrid": true,
         "tickfont": {
          "color": "#4D5663"
         },
         "title": {
          "font": {
           "color": "#4D5663"
          },
          "text": ""
         },
         "zerolinecolor": "#E1E5ED"
        },
        "yaxis": {
         "gridcolor": "#E1E5ED",
         "showgrid": true,
         "tickfont": {
          "color": "#4D5663"
         },
         "title": {
          "font": {
           "color": "#4D5663"
          },
          "text": ""
         },
         "zerolinecolor": "#E1E5ED"
        }
       }
      },
      "text/html": [
       "<div>                            <div id=\"50c4b5e7-935a-4402-a72e-51e43b6e672c\" class=\"plotly-graph-div\" style=\"height:525px; width:100%;\"></div>            <script type=\"text/javascript\">                require([\"plotly\"], function(Plotly) {                    window.PLOTLYENV=window.PLOTLYENV || {};\n",
       "                    window.PLOTLYENV.BASE_URL='https://plot.ly';                                    if (document.getElementById(\"50c4b5e7-935a-4402-a72e-51e43b6e672c\")) {                    Plotly.newPlot(                        \"50c4b5e7-935a-4402-a72e-51e43b6e672c\",                        [{\"marker\":{\"color\":\"rgba(255, 153, 51, 0.6)\",\"line\":{\"color\":\"rgba(255, 153, 51, 1.0)\",\"width\":1}},\"name\":\"None\",\"orientation\":\"v\",\"text\":\"\",\"x\":[\"A\",\"B\",\"C\",\"D\"],\"y\":[100,100,100,100],\"type\":\"bar\"}],                        {\"legend\":{\"bgcolor\":\"#F5F6F9\",\"font\":{\"color\":\"#4D5663\"}},\"paper_bgcolor\":\"#F5F6F9\",\"plot_bgcolor\":\"#F5F6F9\",\"template\":{\"data\":{\"barpolar\":[{\"marker\":{\"line\":{\"color\":\"#E5ECF6\",\"width\":0.5},\"pattern\":{\"fillmode\":\"overlay\",\"size\":10,\"solidity\":0.2}},\"type\":\"barpolar\"}],\"bar\":[{\"error_x\":{\"color\":\"#2a3f5f\"},\"error_y\":{\"color\":\"#2a3f5f\"},\"marker\":{\"line\":{\"color\":\"#E5ECF6\",\"width\":0.5},\"pattern\":{\"fillmode\":\"overlay\",\"size\":10,\"solidity\":0.2}},\"type\":\"bar\"}],\"carpet\":[{\"aaxis\":{\"endlinecolor\":\"#2a3f5f\",\"gridcolor\":\"white\",\"linecolor\":\"white\",\"minorgridcolor\":\"white\",\"startlinecolor\":\"#2a3f5f\"},\"baxis\":{\"endlinecolor\":\"#2a3f5f\",\"gridcolor\":\"white\",\"linecolor\":\"white\",\"minorgridcolor\":\"white\",\"startlinecolor\":\"#2a3f5f\"},\"type\":\"carpet\"}],\"choropleth\":[{\"colorbar\":{\"outlinewidth\":0,\"ticks\":\"\"},\"type\":\"choropleth\"}],\"contourcarpet\":[{\"colorbar\":{\"outlinewidth\":0,\"ticks\":\"\"},\"type\":\"contourcarpet\"}],\"contour\":[{\"colorbar\":{\"outlinewidth\":0,\"ticks\":\"\"},\"colorscale\":[[0.0,\"#0d0887\"],[0.1111111111111111,\"#46039f\"],[0.2222222222222222,\"#7201a8\"],[0.3333333333333333,\"#9c179e\"],[0.4444444444444444,\"#bd3786\"],[0.5555555555555556,\"#d8576b\"],[0.6666666666666666,\"#ed7953\"],[0.7777777777777778,\"#fb9f3a\"],[0.8888888888888888,\"#fdca26\"],[1.0,\"#f0f921\"]],\"type\":\"contour\"}],\"heatmapgl\":[{\"colorbar\":{\"outlinewidth\":0,\"ticks\":\"\"},\"colorscale\":[[0.0,\"#0d0887\"],[0.1111111111111111,\"#46039f\"],[0.2222222222222222,\"#7201a8\"],[0.3333333333333333,\"#9c179e\"],[0.4444444444444444,\"#bd3786\"],[0.5555555555555556,\"#d8576b\"],[0.6666666666666666,\"#ed7953\"],[0.7777777777777778,\"#fb9f3a\"],[0.8888888888888888,\"#fdca26\"],[1.0,\"#f0f921\"]],\"type\":\"heatmapgl\"}],\"heatmap\":[{\"colorbar\":{\"outlinewidth\":0,\"ticks\":\"\"},\"colorscale\":[[0.0,\"#0d0887\"],[0.1111111111111111,\"#46039f\"],[0.2222222222222222,\"#7201a8\"],[0.3333333333333333,\"#9c179e\"],[0.4444444444444444,\"#bd3786\"],[0.5555555555555556,\"#d8576b\"],[0.6666666666666666,\"#ed7953\"],[0.7777777777777778,\"#fb9f3a\"],[0.8888888888888888,\"#fdca26\"],[1.0,\"#f0f921\"]],\"type\":\"heatmap\"}],\"histogram2dcontour\":[{\"colorbar\":{\"outlinewidth\":0,\"ticks\":\"\"},\"colorscale\":[[0.0,\"#0d0887\"],[0.1111111111111111,\"#46039f\"],[0.2222222222222222,\"#7201a8\"],[0.3333333333333333,\"#9c179e\"],[0.4444444444444444,\"#bd3786\"],[0.5555555555555556,\"#d8576b\"],[0.6666666666666666,\"#ed7953\"],[0.7777777777777778,\"#fb9f3a\"],[0.8888888888888888,\"#fdca26\"],[1.0,\"#f0f921\"]],\"type\":\"histogram2dcontour\"}],\"histogram2d\":[{\"colorbar\":{\"outlinewidth\":0,\"ticks\":\"\"},\"colorscale\":[[0.0,\"#0d0887\"],[0.1111111111111111,\"#46039f\"],[0.2222222222222222,\"#7201a8\"],[0.3333333333333333,\"#9c179e\"],[0.4444444444444444,\"#bd3786\"],[0.5555555555555556,\"#d8576b\"],[0.6666666666666666,\"#ed7953\"],[0.7777777777777778,\"#fb9f3a\"],[0.8888888888888888,\"#fdca26\"],[1.0,\"#f0f921\"]],\"type\":\"histogram2d\"}],\"histogram\":[{\"marker\":{\"pattern\":{\"fillmode\":\"overlay\",\"size\":10,\"solidity\":0.2}},\"type\":\"histogram\"}],\"mesh3d\":[{\"colorbar\":{\"outlinewidth\":0,\"ticks\":\"\"},\"type\":\"mesh3d\"}],\"parcoords\":[{\"line\":{\"colorbar\":{\"outlinewidth\":0,\"ticks\":\"\"}},\"type\":\"parcoords\"}],\"pie\":[{\"automargin\":true,\"type\":\"pie\"}],\"scatter3d\":[{\"line\":{\"colorbar\":{\"outlinewidth\":0,\"ticks\":\"\"}},\"marker\":{\"colorbar\":{\"outlinewidth\":0,\"ticks\":\"\"}},\"type\":\"scatter3d\"}],\"scattercarpet\":[{\"marker\":{\"colorbar\":{\"outlinewidth\":0,\"ticks\":\"\"}},\"type\":\"scattercarpet\"}],\"scattergeo\":[{\"marker\":{\"colorbar\":{\"outlinewidth\":0,\"ticks\":\"\"}},\"type\":\"scattergeo\"}],\"scattergl\":[{\"marker\":{\"colorbar\":{\"outlinewidth\":0,\"ticks\":\"\"}},\"type\":\"scattergl\"}],\"scattermapbox\":[{\"marker\":{\"colorbar\":{\"outlinewidth\":0,\"ticks\":\"\"}},\"type\":\"scattermapbox\"}],\"scatterpolargl\":[{\"marker\":{\"colorbar\":{\"outlinewidth\":0,\"ticks\":\"\"}},\"type\":\"scatterpolargl\"}],\"scatterpolar\":[{\"marker\":{\"colorbar\":{\"outlinewidth\":0,\"ticks\":\"\"}},\"type\":\"scatterpolar\"}],\"scatter\":[{\"fillpattern\":{\"fillmode\":\"overlay\",\"size\":10,\"solidity\":0.2},\"type\":\"scatter\"}],\"scatterternary\":[{\"marker\":{\"colorbar\":{\"outlinewidth\":0,\"ticks\":\"\"}},\"type\":\"scatterternary\"}],\"surface\":[{\"colorbar\":{\"outlinewidth\":0,\"ticks\":\"\"},\"colorscale\":[[0.0,\"#0d0887\"],[0.1111111111111111,\"#46039f\"],[0.2222222222222222,\"#7201a8\"],[0.3333333333333333,\"#9c179e\"],[0.4444444444444444,\"#bd3786\"],[0.5555555555555556,\"#d8576b\"],[0.6666666666666666,\"#ed7953\"],[0.7777777777777778,\"#fb9f3a\"],[0.8888888888888888,\"#fdca26\"],[1.0,\"#f0f921\"]],\"type\":\"surface\"}],\"table\":[{\"cells\":{\"fill\":{\"color\":\"#EBF0F8\"},\"line\":{\"color\":\"white\"}},\"header\":{\"fill\":{\"color\":\"#C8D4E3\"},\"line\":{\"color\":\"white\"}},\"type\":\"table\"}]},\"layout\":{\"annotationdefaults\":{\"arrowcolor\":\"#2a3f5f\",\"arrowhead\":0,\"arrowwidth\":1},\"autotypenumbers\":\"strict\",\"coloraxis\":{\"colorbar\":{\"outlinewidth\":0,\"ticks\":\"\"}},\"colorscale\":{\"diverging\":[[0,\"#8e0152\"],[0.1,\"#c51b7d\"],[0.2,\"#de77ae\"],[0.3,\"#f1b6da\"],[0.4,\"#fde0ef\"],[0.5,\"#f7f7f7\"],[0.6,\"#e6f5d0\"],[0.7,\"#b8e186\"],[0.8,\"#7fbc41\"],[0.9,\"#4d9221\"],[1,\"#276419\"]],\"sequential\":[[0.0,\"#0d0887\"],[0.1111111111111111,\"#46039f\"],[0.2222222222222222,\"#7201a8\"],[0.3333333333333333,\"#9c179e\"],[0.4444444444444444,\"#bd3786\"],[0.5555555555555556,\"#d8576b\"],[0.6666666666666666,\"#ed7953\"],[0.7777777777777778,\"#fb9f3a\"],[0.8888888888888888,\"#fdca26\"],[1.0,\"#f0f921\"]],\"sequentialminus\":[[0.0,\"#0d0887\"],[0.1111111111111111,\"#46039f\"],[0.2222222222222222,\"#7201a8\"],[0.3333333333333333,\"#9c179e\"],[0.4444444444444444,\"#bd3786\"],[0.5555555555555556,\"#d8576b\"],[0.6666666666666666,\"#ed7953\"],[0.7777777777777778,\"#fb9f3a\"],[0.8888888888888888,\"#fdca26\"],[1.0,\"#f0f921\"]]},\"colorway\":[\"#636efa\",\"#EF553B\",\"#00cc96\",\"#ab63fa\",\"#FFA15A\",\"#19d3f3\",\"#FF6692\",\"#B6E880\",\"#FF97FF\",\"#FECB52\"],\"font\":{\"color\":\"#2a3f5f\"},\"geo\":{\"bgcolor\":\"white\",\"lakecolor\":\"white\",\"landcolor\":\"#E5ECF6\",\"showlakes\":true,\"showland\":true,\"subunitcolor\":\"white\"},\"hoverlabel\":{\"align\":\"left\"},\"hovermode\":\"closest\",\"mapbox\":{\"style\":\"light\"},\"paper_bgcolor\":\"white\",\"plot_bgcolor\":\"#E5ECF6\",\"polar\":{\"angularaxis\":{\"gridcolor\":\"white\",\"linecolor\":\"white\",\"ticks\":\"\"},\"bgcolor\":\"#E5ECF6\",\"radialaxis\":{\"gridcolor\":\"white\",\"linecolor\":\"white\",\"ticks\":\"\"}},\"scene\":{\"xaxis\":{\"backgroundcolor\":\"#E5ECF6\",\"gridcolor\":\"white\",\"gridwidth\":2,\"linecolor\":\"white\",\"showbackground\":true,\"ticks\":\"\",\"zerolinecolor\":\"white\"},\"yaxis\":{\"backgroundcolor\":\"#E5ECF6\",\"gridcolor\":\"white\",\"gridwidth\":2,\"linecolor\":\"white\",\"showbackground\":true,\"ticks\":\"\",\"zerolinecolor\":\"white\"},\"zaxis\":{\"backgroundcolor\":\"#E5ECF6\",\"gridcolor\":\"white\",\"gridwidth\":2,\"linecolor\":\"white\",\"showbackground\":true,\"ticks\":\"\",\"zerolinecolor\":\"white\"}},\"shapedefaults\":{\"line\":{\"color\":\"#2a3f5f\"}},\"ternary\":{\"aaxis\":{\"gridcolor\":\"white\",\"linecolor\":\"white\",\"ticks\":\"\"},\"baxis\":{\"gridcolor\":\"white\",\"linecolor\":\"white\",\"ticks\":\"\"},\"bgcolor\":\"#E5ECF6\",\"caxis\":{\"gridcolor\":\"white\",\"linecolor\":\"white\",\"ticks\":\"\"}},\"title\":{\"x\":0.05},\"xaxis\":{\"automargin\":true,\"gridcolor\":\"white\",\"linecolor\":\"white\",\"ticks\":\"\",\"title\":{\"standoff\":15},\"zerolinecolor\":\"white\",\"zerolinewidth\":2},\"yaxis\":{\"automargin\":true,\"gridcolor\":\"white\",\"linecolor\":\"white\",\"ticks\":\"\",\"title\":{\"standoff\":15},\"zerolinecolor\":\"white\",\"zerolinewidth\":2}}},\"title\":{\"font\":{\"color\":\"#4D5663\"}},\"xaxis\":{\"gridcolor\":\"#E1E5ED\",\"showgrid\":true,\"tickfont\":{\"color\":\"#4D5663\"},\"title\":{\"font\":{\"color\":\"#4D5663\"},\"text\":\"\"},\"zerolinecolor\":\"#E1E5ED\"},\"yaxis\":{\"gridcolor\":\"#E1E5ED\",\"showgrid\":true,\"tickfont\":{\"color\":\"#4D5663\"},\"title\":{\"font\":{\"color\":\"#4D5663\"},\"text\":\"\"},\"zerolinecolor\":\"#E1E5ED\"}},                        {\"showLink\": true, \"linkText\": \"Export to plot.ly\", \"plotlyServerURL\": \"https://plot.ly\", \"responsive\": true}                    ).then(function(){\n",
       "                            \n",
       "var gd = document.getElementById('50c4b5e7-935a-4402-a72e-51e43b6e672c');\n",
       "var x = new MutationObserver(function (mutations, observer) {{\n",
       "        var display = window.getComputedStyle(gd).display;\n",
       "        if (!display || display === 'none') {{\n",
       "            console.log([gd, 'removed!']);\n",
       "            Plotly.purge(gd);\n",
       "            observer.disconnect();\n",
       "        }}\n",
       "}});\n",
       "\n",
       "// Listen for the removal of the full notebook cells\n",
       "var notebookContainer = gd.closest('#notebook-container');\n",
       "if (notebookContainer) {{\n",
       "    x.observe(notebookContainer, {childList: true});\n",
       "}}\n",
       "\n",
       "// Listen for the clearing of the current output cell\n",
       "var outputEl = gd.closest('.output');\n",
       "if (outputEl) {{\n",
       "    x.observe(outputEl, {childList: true});\n",
       "}}\n",
       "\n",
       "                        })                };                });            </script>        </div>"
      ]
     },
     "metadata": {},
     "output_type": "display_data"
    }
   ],
   "source": [
    "df.count().iplot(kind='bar')"
   ]
  },
  {
   "cell_type": "code",
   "execution_count": 18,
   "id": "ec52b2fe",
   "metadata": {},
   "outputs": [
    {
     "data": {
      "application/vnd.plotly.v1+json": {
       "config": {
        "linkText": "Export to plot.ly",
        "plotlyServerURL": "https://plot.ly",
        "showLink": true
       },
       "data": [
        {
         "boxpoints": false,
         "line": {
          "width": 1.3
         },
         "marker": {
          "color": "rgba(255, 153, 51, 1.0)"
         },
         "name": "A",
         "orientation": "v",
         "type": "box",
         "y": [
          0.6446209978304961,
          0.4078221920136122,
          -0.2765872970204885,
          0.10456735638555388,
          0.08324133721186451,
          0.057440297633351456,
          -1.2171690355819085,
          -0.09196308817524182,
          -1.4384482006426815,
          -0.9066078684780878,
          -3.0647955779058393,
          -0.5927155310656024,
          1.583409055253283,
          0.234106386964043,
          1.2987088354934264,
          -0.07913794969622139,
          1.9820971873442788,
          0.5300957800919711,
          0.0561241346154549,
          0.015369674156755879,
          -1.2127715104199281,
          0.035053315533376254,
          0.7118746375710167,
          -0.1952185441372051,
          -0.7579919569364388,
          0.8382884169380316,
          -0.2523101224096548,
          0.6311895916493456,
          -1.4756247761832622,
          -1.9698270932740207,
          -1.3372120572711683,
          -0.0055887604966179906,
          -1.7516160926744089,
          0.543208412020896,
          0.707473240158141,
          0.6593860529630602,
          -0.966138313509074,
          1.2445708261621509,
          -1.0802389340212704,
          0.5086900141225315,
          0.06968362854003969,
          -0.6676088576024096,
          -0.6772597043552857,
          1.0685188366936331,
          -1.197023278836309,
          1.3296472778183843,
          -1.7352843284646196,
          -1.0582875565845407,
          1.0617180487815374,
          1.4540725943983606,
          0.5317907297889919,
          0.7420563485732212,
          -0.18793332995515025,
          -1.2305655757068716,
          -0.1772600412850589,
          -1.148239267934772,
          0.4037983500944594,
          0.9812475937057795,
          -0.4956402857253395,
          -0.28809363061450555,
          -0.6487072922681356,
          0.8481841770338829,
          -0.3114926773390753,
          0.3471058665605341,
          2.8359142899847587,
          -0.10683669988149225,
          0.7333023074176133,
          -0.9756817628998831,
          -1.4734885498421182,
          -0.8026545150142835,
          -0.9084824357349854,
          0.451034781575594,
          -0.14441496470423662,
          -1.9756483521255614,
          -0.5332455788412271,
          -0.63886776707257,
          -2.2713107658786433,
          -0.40268261110912806,
          -1.953505525568803,
          0.21002398901558625,
          0.5515111078971915,
          1.8137764486502015,
          -0.5238352930793719,
          -0.2822937597610257,
          0.41863932362537837,
          0.10282204212326963,
          2.0754089376632825,
          0.6972799565874593,
          1.1614656583668113,
          1.3623377423265945,
          0.10708896322825404,
          -0.35965989943947024,
          0.7454316477825902,
          -0.5002942850467338,
          0.3404751564352129,
          -0.7529900522556313,
          0.21081704514965283,
          1.753849340431904,
          0.8556437691539508,
          0.701648831151324
         ]
        },
        {
         "boxpoints": false,
         "line": {
          "width": 1.3
         },
         "marker": {
          "color": "rgba(55, 128, 191, 1.0)"
         },
         "name": "B",
         "orientation": "v",
         "type": "box",
         "y": [
          -0.22160750690840028,
          1.7158554903880332,
          -0.6237740459654896,
          1.7171818589480066,
          -0.1968115099154782,
          -0.9178801038802831,
          -0.8648477636664242,
          -0.26311475476438756,
          -0.3644265939925632,
          -0.9804658128967962,
          1.0326790474999514,
          -1.5535104837887026,
          -0.16460272611477467,
          1.4317841740173647,
          0.13868359918099005,
          -0.26283282569495164,
          1.4671591243018076,
          0.9928316600028886,
          1.798718933737595,
          -0.12194429267969392,
          -1.2135185401556021,
          -0.5676843906954775,
          0.5466472148108473,
          1.5064364433330995,
          0.2294216562379941,
          -0.45183094530211637,
          -0.5990162630544981,
          1.2093106738320492,
          -0.5115952740366038,
          -1.3389739304237893,
          -0.05705254876762868,
          0.18038672055746063,
          1.7979243126872604,
          -0.9180546332511316,
          0.00838642535099962,
          -0.7440498127142733,
          0.42076697337853947,
          -1.4875438989362184,
          0.25306783994077015,
          1.8824847563507707,
          -0.5169299902217411,
          0.2883651291147273,
          -0.8722294837074352,
          0.2519290622637881,
          -1.8324172801056757,
          0.37575977161583207,
          0.9443994946857267,
          0.24775429904167792,
          -0.8099720675420381,
          0.8227450644967887,
          0.21290770852438837,
          -0.4753072455838816,
          -0.3011324544818885,
          -0.003528999951231824,
          -0.19640311199830598,
          0.34129342746016,
          0.8817453262399159,
          -0.14964935915574884,
          0.6386867039194815,
          1.6888518942380055,
          -0.954599303308324,
          -1.3586802403670986,
          -0.805279213474311,
          0.6484073187263913,
          0.23471787263488347,
          1.573593064081298,
          1.4803498296832225,
          -0.6778894932880246,
          -2.7440090441649985,
          0.5807543021017987,
          -0.8878887797836558,
          1.3493372535410566,
          -1.1731712522803317,
          0.9009129011476739,
          0.9927017366728492,
          -1.1113954750547725,
          -0.3911079194019816,
          -0.5604947607506066,
          -0.5130962215220196,
          0.296256896974686,
          -0.1897579204290804,
          -0.19731011276449487,
          1.2797615737542352,
          -0.3117436598969686,
          2.2371515544398384,
          1.1906124852355693,
          0.2381106335734882,
          -0.6858170151367708,
          1.150058581328844,
          0.19314586783555093,
          -1.3262365216682042,
          0.22266823381194942,
          -1.1045743475961767,
          -1.0501370436953776,
          1.2875349619480438,
          -1.570363318967189,
          -0.5266463105521983,
          0.5167043413713699,
          0.3411124470341882,
          2.987140002245271
         ]
        },
        {
         "boxpoints": false,
         "line": {
          "width": 1.3
         },
         "marker": {
          "color": "rgba(50, 171, 96, 1.0)"
         },
         "name": "C",
         "orientation": "v",
         "type": "box",
         "y": [
          0.7012976858107476,
          0.13112876716322586,
          -0.6813970857853648,
          0.7626266599309006,
          1.8810574004548166,
          0.26033565690448307,
          0.4994790522032047,
          -0.5084750662647777,
          -0.5434176656881163,
          -2.4633927204653046,
          -0.6521249562522544,
          -0.14670782107135424,
          -0.3174865144850475,
          -1.0042400464938952,
          0.6658921866196987,
          0.19034364831626227,
          1.1553870061215892,
          -0.17220095106498723,
          -1.0537714587104434,
          0.500045590396657,
          -0.13451386173465865,
          -0.027892374212246027,
          1.4066424663771657,
          -0.6820547117786162,
          1.0939135918061562,
          1.079296940566886,
          0.010327137081296395,
          -0.9089530044668371,
          2.212218263471134,
          -0.02509365027062667,
          -0.07972747706023059,
          -0.011931537356809503,
          1.2590405432240899,
          -1.5154813110587153,
          -0.7681836657343759,
          0.07029045933967852,
          -0.6261877114432143,
          -0.29890390207145945,
          0.8076891914560079,
          -0.48900643341240624,
          -0.18229600927999168,
          1.2646900813903714,
          0.48761724025730246,
          -0.32419552319665174,
          -0.3195952241608016,
          -0.2141181762540822,
          -0.4732029597170572,
          2.065565663723758,
          -0.7236430797381805,
          -0.1879291151185566,
          1.9650445644037815,
          -2.647997803888273,
          0.0624412739324384,
          0.4214371683701604,
          0.32244681261181213,
          -1.1463309502872436,
          -0.4122642638641093,
          -0.1019974330153135,
          -0.42661888713341123,
          -0.2032627792764815,
          -2.076143637926378,
          -1.0133586709182414,
          0.5425889770145909,
          1.4972767985169795,
          1.3827028866954683,
          -0.9567475197195758,
          -1.6271696404774703,
          -0.04767927054525452,
          -0.3337362568629179,
          -2.5211967071004056,
          -0.7214255274482855,
          -1.6968238348366882,
          -0.8641714143407009,
          1.1314545083027825,
          -0.3464497033574137,
          -0.08399129750322462,
          -1.0997606369501673,
          1.6386602115224296,
          -0.24795699938403845,
          -0.8475456890457912,
          1.2632786197352313,
          -1.3752607005938815,
          -0.17727174377038782,
          -1.1141912635712727,
          0.9038545843165967,
          1.6682151489585701,
          -1.1539416875491058,
          0.26573596340025707,
          0.42537973515492217,
          -1.009847889051133,
          0.6854654840509039,
          -0.14944373300586317,
          1.5099303656959975,
          0.5367132482238024,
          0.5108694434056651,
          0.06396679098017176,
          0.4182402609127113,
          -0.45882135707575805,
          -0.6637807264473049,
          0.42826449790203475
         ]
        },
        {
         "boxpoints": false,
         "line": {
          "width": 1.3
         },
         "marker": {
          "color": "rgba(128, 0, 128, 1.0)"
         },
         "name": "D",
         "orientation": "v",
         "type": "box",
         "y": [
          0.7710685342518336,
          -0.08673281835562326,
          -0.9292275667399005,
          -0.08722718385502183,
          -1.8354093130966138,
          -2.3669215228779104,
          1.0162186933207766,
          -1.051591957466034,
          1.311789236964196,
          1.2835110909421699,
          -0.18647269648908388,
          -1.9897111315816265,
          -0.188104262986079,
          -0.40678348264882264,
          -0.2081853041598393,
          -1.0675398634804543,
          0.15879813814960225,
          -0.9335573209804557,
          -1.1794506269311265,
          -0.5086145798998463,
          0.19250525161798482,
          1.2816815797315007,
          0.5456407114917887,
          2.174008157133585,
          0.9716299509781058,
          1.4476394585223482,
          0.8031719567415391,
          0.6338801065749562,
          -1.3396047068103658,
          0.26898247138012976,
          0.06953687683686048,
          -0.782279081821717,
          0.8152780357039893,
          -0.5821296951628023,
          -0.08306425552288532,
          -1.2125532805221355,
          -0.01998873872392119,
          -1.7947383874599883,
          0.3722827373475316,
          0.34592233613599366,
          0.4469249252617456,
          0.9376267695284086,
          1.0977292764220554,
          0.90152666289788,
          0.6406890057757472,
          -0.7343690997457678,
          -1.1469319828890387,
          -3.5805232475388453,
          1.7333269996330503,
          -0.16988381138361097,
          0.053954263262173154,
          -1.5588014795073613,
          1.3637212251412825,
          0.6635556331193656,
          -0.9590459929753491,
          -0.18672923056468158,
          -0.04536186834589831,
          -0.986179375093094,
          0.3438924264706309,
          0.6693067098234198,
          -0.422152846774601,
          -0.82902191445765,
          0.6962418591367862,
          -0.9336714089215007,
          0.2771700521454067,
          -0.20530361172490166,
          -0.3870473361922757,
          0.04887067149170552,
          -0.5806307167987539,
          -0.06758041697691812,
          -0.9927284682004818,
          0.03569548773964057,
          0.6970934325532863,
          0.5200703942540074,
          -0.40308030657266836,
          0.26654996695149374,
          0.6133970024769643,
          0.7127654020511173,
          1.2338043037286743,
          0.6657650184138121,
          -1.0658224426141822,
          1.1329112648803752,
          0.4257779515125473,
          0.48174393345883953,
          -1.0064697749288969,
          0.8144570677497984,
          0.09904712954893766,
          -0.01667907684784322,
          -1.4899988133514555,
          -1.2307960774775202,
          1.5475895067518977,
          -0.6295026903629481,
          0.7470095780965724,
          -0.494454673834522,
          1.2715278291971563,
          0.8734646191239015,
          -0.21238519250933158,
          -1.0630629919021253,
          -0.01077421943135205,
          -1.0048395012750386
         ]
        }
       ],
       "layout": {
        "legend": {
         "bgcolor": "#F5F6F9",
         "font": {
          "color": "#4D5663"
         }
        },
        "paper_bgcolor": "#F5F6F9",
        "plot_bgcolor": "#F5F6F9",
        "template": {
         "data": {
          "bar": [
           {
            "error_x": {
             "color": "#2a3f5f"
            },
            "error_y": {
             "color": "#2a3f5f"
            },
            "marker": {
             "line": {
              "color": "#E5ECF6",
              "width": 0.5
             },
             "pattern": {
              "fillmode": "overlay",
              "size": 10,
              "solidity": 0.2
             }
            },
            "type": "bar"
           }
          ],
          "barpolar": [
           {
            "marker": {
             "line": {
              "color": "#E5ECF6",
              "width": 0.5
             },
             "pattern": {
              "fillmode": "overlay",
              "size": 10,
              "solidity": 0.2
             }
            },
            "type": "barpolar"
           }
          ],
          "carpet": [
           {
            "aaxis": {
             "endlinecolor": "#2a3f5f",
             "gridcolor": "white",
             "linecolor": "white",
             "minorgridcolor": "white",
             "startlinecolor": "#2a3f5f"
            },
            "baxis": {
             "endlinecolor": "#2a3f5f",
             "gridcolor": "white",
             "linecolor": "white",
             "minorgridcolor": "white",
             "startlinecolor": "#2a3f5f"
            },
            "type": "carpet"
           }
          ],
          "choropleth": [
           {
            "colorbar": {
             "outlinewidth": 0,
             "ticks": ""
            },
            "type": "choropleth"
           }
          ],
          "contour": [
           {
            "colorbar": {
             "outlinewidth": 0,
             "ticks": ""
            },
            "colorscale": [
             [
              0,
              "#0d0887"
             ],
             [
              0.1111111111111111,
              "#46039f"
             ],
             [
              0.2222222222222222,
              "#7201a8"
             ],
             [
              0.3333333333333333,
              "#9c179e"
             ],
             [
              0.4444444444444444,
              "#bd3786"
             ],
             [
              0.5555555555555556,
              "#d8576b"
             ],
             [
              0.6666666666666666,
              "#ed7953"
             ],
             [
              0.7777777777777778,
              "#fb9f3a"
             ],
             [
              0.8888888888888888,
              "#fdca26"
             ],
             [
              1,
              "#f0f921"
             ]
            ],
            "type": "contour"
           }
          ],
          "contourcarpet": [
           {
            "colorbar": {
             "outlinewidth": 0,
             "ticks": ""
            },
            "type": "contourcarpet"
           }
          ],
          "heatmap": [
           {
            "colorbar": {
             "outlinewidth": 0,
             "ticks": ""
            },
            "colorscale": [
             [
              0,
              "#0d0887"
             ],
             [
              0.1111111111111111,
              "#46039f"
             ],
             [
              0.2222222222222222,
              "#7201a8"
             ],
             [
              0.3333333333333333,
              "#9c179e"
             ],
             [
              0.4444444444444444,
              "#bd3786"
             ],
             [
              0.5555555555555556,
              "#d8576b"
             ],
             [
              0.6666666666666666,
              "#ed7953"
             ],
             [
              0.7777777777777778,
              "#fb9f3a"
             ],
             [
              0.8888888888888888,
              "#fdca26"
             ],
             [
              1,
              "#f0f921"
             ]
            ],
            "type": "heatmap"
           }
          ],
          "heatmapgl": [
           {
            "colorbar": {
             "outlinewidth": 0,
             "ticks": ""
            },
            "colorscale": [
             [
              0,
              "#0d0887"
             ],
             [
              0.1111111111111111,
              "#46039f"
             ],
             [
              0.2222222222222222,
              "#7201a8"
             ],
             [
              0.3333333333333333,
              "#9c179e"
             ],
             [
              0.4444444444444444,
              "#bd3786"
             ],
             [
              0.5555555555555556,
              "#d8576b"
             ],
             [
              0.6666666666666666,
              "#ed7953"
             ],
             [
              0.7777777777777778,
              "#fb9f3a"
             ],
             [
              0.8888888888888888,
              "#fdca26"
             ],
             [
              1,
              "#f0f921"
             ]
            ],
            "type": "heatmapgl"
           }
          ],
          "histogram": [
           {
            "marker": {
             "pattern": {
              "fillmode": "overlay",
              "size": 10,
              "solidity": 0.2
             }
            },
            "type": "histogram"
           }
          ],
          "histogram2d": [
           {
            "colorbar": {
             "outlinewidth": 0,
             "ticks": ""
            },
            "colorscale": [
             [
              0,
              "#0d0887"
             ],
             [
              0.1111111111111111,
              "#46039f"
             ],
             [
              0.2222222222222222,
              "#7201a8"
             ],
             [
              0.3333333333333333,
              "#9c179e"
             ],
             [
              0.4444444444444444,
              "#bd3786"
             ],
             [
              0.5555555555555556,
              "#d8576b"
             ],
             [
              0.6666666666666666,
              "#ed7953"
             ],
             [
              0.7777777777777778,
              "#fb9f3a"
             ],
             [
              0.8888888888888888,
              "#fdca26"
             ],
             [
              1,
              "#f0f921"
             ]
            ],
            "type": "histogram2d"
           }
          ],
          "histogram2dcontour": [
           {
            "colorbar": {
             "outlinewidth": 0,
             "ticks": ""
            },
            "colorscale": [
             [
              0,
              "#0d0887"
             ],
             [
              0.1111111111111111,
              "#46039f"
             ],
             [
              0.2222222222222222,
              "#7201a8"
             ],
             [
              0.3333333333333333,
              "#9c179e"
             ],
             [
              0.4444444444444444,
              "#bd3786"
             ],
             [
              0.5555555555555556,
              "#d8576b"
             ],
             [
              0.6666666666666666,
              "#ed7953"
             ],
             [
              0.7777777777777778,
              "#fb9f3a"
             ],
             [
              0.8888888888888888,
              "#fdca26"
             ],
             [
              1,
              "#f0f921"
             ]
            ],
            "type": "histogram2dcontour"
           }
          ],
          "mesh3d": [
           {
            "colorbar": {
             "outlinewidth": 0,
             "ticks": ""
            },
            "type": "mesh3d"
           }
          ],
          "parcoords": [
           {
            "line": {
             "colorbar": {
              "outlinewidth": 0,
              "ticks": ""
             }
            },
            "type": "parcoords"
           }
          ],
          "pie": [
           {
            "automargin": true,
            "type": "pie"
           }
          ],
          "scatter": [
           {
            "fillpattern": {
             "fillmode": "overlay",
             "size": 10,
             "solidity": 0.2
            },
            "type": "scatter"
           }
          ],
          "scatter3d": [
           {
            "line": {
             "colorbar": {
              "outlinewidth": 0,
              "ticks": ""
             }
            },
            "marker": {
             "colorbar": {
              "outlinewidth": 0,
              "ticks": ""
             }
            },
            "type": "scatter3d"
           }
          ],
          "scattercarpet": [
           {
            "marker": {
             "colorbar": {
              "outlinewidth": 0,
              "ticks": ""
             }
            },
            "type": "scattercarpet"
           }
          ],
          "scattergeo": [
           {
            "marker": {
             "colorbar": {
              "outlinewidth": 0,
              "ticks": ""
             }
            },
            "type": "scattergeo"
           }
          ],
          "scattergl": [
           {
            "marker": {
             "colorbar": {
              "outlinewidth": 0,
              "ticks": ""
             }
            },
            "type": "scattergl"
           }
          ],
          "scattermapbox": [
           {
            "marker": {
             "colorbar": {
              "outlinewidth": 0,
              "ticks": ""
             }
            },
            "type": "scattermapbox"
           }
          ],
          "scatterpolar": [
           {
            "marker": {
             "colorbar": {
              "outlinewidth": 0,
              "ticks": ""
             }
            },
            "type": "scatterpolar"
           }
          ],
          "scatterpolargl": [
           {
            "marker": {
             "colorbar": {
              "outlinewidth": 0,
              "ticks": ""
             }
            },
            "type": "scatterpolargl"
           }
          ],
          "scatterternary": [
           {
            "marker": {
             "colorbar": {
              "outlinewidth": 0,
              "ticks": ""
             }
            },
            "type": "scatterternary"
           }
          ],
          "surface": [
           {
            "colorbar": {
             "outlinewidth": 0,
             "ticks": ""
            },
            "colorscale": [
             [
              0,
              "#0d0887"
             ],
             [
              0.1111111111111111,
              "#46039f"
             ],
             [
              0.2222222222222222,
              "#7201a8"
             ],
             [
              0.3333333333333333,
              "#9c179e"
             ],
             [
              0.4444444444444444,
              "#bd3786"
             ],
             [
              0.5555555555555556,
              "#d8576b"
             ],
             [
              0.6666666666666666,
              "#ed7953"
             ],
             [
              0.7777777777777778,
              "#fb9f3a"
             ],
             [
              0.8888888888888888,
              "#fdca26"
             ],
             [
              1,
              "#f0f921"
             ]
            ],
            "type": "surface"
           }
          ],
          "table": [
           {
            "cells": {
             "fill": {
              "color": "#EBF0F8"
             },
             "line": {
              "color": "white"
             }
            },
            "header": {
             "fill": {
              "color": "#C8D4E3"
             },
             "line": {
              "color": "white"
             }
            },
            "type": "table"
           }
          ]
         },
         "layout": {
          "annotationdefaults": {
           "arrowcolor": "#2a3f5f",
           "arrowhead": 0,
           "arrowwidth": 1
          },
          "autotypenumbers": "strict",
          "coloraxis": {
           "colorbar": {
            "outlinewidth": 0,
            "ticks": ""
           }
          },
          "colorscale": {
           "diverging": [
            [
             0,
             "#8e0152"
            ],
            [
             0.1,
             "#c51b7d"
            ],
            [
             0.2,
             "#de77ae"
            ],
            [
             0.3,
             "#f1b6da"
            ],
            [
             0.4,
             "#fde0ef"
            ],
            [
             0.5,
             "#f7f7f7"
            ],
            [
             0.6,
             "#e6f5d0"
            ],
            [
             0.7,
             "#b8e186"
            ],
            [
             0.8,
             "#7fbc41"
            ],
            [
             0.9,
             "#4d9221"
            ],
            [
             1,
             "#276419"
            ]
           ],
           "sequential": [
            [
             0,
             "#0d0887"
            ],
            [
             0.1111111111111111,
             "#46039f"
            ],
            [
             0.2222222222222222,
             "#7201a8"
            ],
            [
             0.3333333333333333,
             "#9c179e"
            ],
            [
             0.4444444444444444,
             "#bd3786"
            ],
            [
             0.5555555555555556,
             "#d8576b"
            ],
            [
             0.6666666666666666,
             "#ed7953"
            ],
            [
             0.7777777777777778,
             "#fb9f3a"
            ],
            [
             0.8888888888888888,
             "#fdca26"
            ],
            [
             1,
             "#f0f921"
            ]
           ],
           "sequentialminus": [
            [
             0,
             "#0d0887"
            ],
            [
             0.1111111111111111,
             "#46039f"
            ],
            [
             0.2222222222222222,
             "#7201a8"
            ],
            [
             0.3333333333333333,
             "#9c179e"
            ],
            [
             0.4444444444444444,
             "#bd3786"
            ],
            [
             0.5555555555555556,
             "#d8576b"
            ],
            [
             0.6666666666666666,
             "#ed7953"
            ],
            [
             0.7777777777777778,
             "#fb9f3a"
            ],
            [
             0.8888888888888888,
             "#fdca26"
            ],
            [
             1,
             "#f0f921"
            ]
           ]
          },
          "colorway": [
           "#636efa",
           "#EF553B",
           "#00cc96",
           "#ab63fa",
           "#FFA15A",
           "#19d3f3",
           "#FF6692",
           "#B6E880",
           "#FF97FF",
           "#FECB52"
          ],
          "font": {
           "color": "#2a3f5f"
          },
          "geo": {
           "bgcolor": "white",
           "lakecolor": "white",
           "landcolor": "#E5ECF6",
           "showlakes": true,
           "showland": true,
           "subunitcolor": "white"
          },
          "hoverlabel": {
           "align": "left"
          },
          "hovermode": "closest",
          "mapbox": {
           "style": "light"
          },
          "paper_bgcolor": "white",
          "plot_bgcolor": "#E5ECF6",
          "polar": {
           "angularaxis": {
            "gridcolor": "white",
            "linecolor": "white",
            "ticks": ""
           },
           "bgcolor": "#E5ECF6",
           "radialaxis": {
            "gridcolor": "white",
            "linecolor": "white",
            "ticks": ""
           }
          },
          "scene": {
           "xaxis": {
            "backgroundcolor": "#E5ECF6",
            "gridcolor": "white",
            "gridwidth": 2,
            "linecolor": "white",
            "showbackground": true,
            "ticks": "",
            "zerolinecolor": "white"
           },
           "yaxis": {
            "backgroundcolor": "#E5ECF6",
            "gridcolor": "white",
            "gridwidth": 2,
            "linecolor": "white",
            "showbackground": true,
            "ticks": "",
            "zerolinecolor": "white"
           },
           "zaxis": {
            "backgroundcolor": "#E5ECF6",
            "gridcolor": "white",
            "gridwidth": 2,
            "linecolor": "white",
            "showbackground": true,
            "ticks": "",
            "zerolinecolor": "white"
           }
          },
          "shapedefaults": {
           "line": {
            "color": "#2a3f5f"
           }
          },
          "ternary": {
           "aaxis": {
            "gridcolor": "white",
            "linecolor": "white",
            "ticks": ""
           },
           "baxis": {
            "gridcolor": "white",
            "linecolor": "white",
            "ticks": ""
           },
           "bgcolor": "#E5ECF6",
           "caxis": {
            "gridcolor": "white",
            "linecolor": "white",
            "ticks": ""
           }
          },
          "title": {
           "x": 0.05
          },
          "xaxis": {
           "automargin": true,
           "gridcolor": "white",
           "linecolor": "white",
           "ticks": "",
           "title": {
            "standoff": 15
           },
           "zerolinecolor": "white",
           "zerolinewidth": 2
          },
          "yaxis": {
           "automargin": true,
           "gridcolor": "white",
           "linecolor": "white",
           "ticks": "",
           "title": {
            "standoff": 15
           },
           "zerolinecolor": "white",
           "zerolinewidth": 2
          }
         }
        },
        "title": {
         "font": {
          "color": "#4D5663"
         }
        },
        "xaxis": {
         "gridcolor": "#E1E5ED",
         "showgrid": true,
         "tickfont": {
          "color": "#4D5663"
         },
         "title": {
          "font": {
           "color": "#4D5663"
          },
          "text": ""
         },
         "zerolinecolor": "#E1E5ED"
        },
        "yaxis": {
         "gridcolor": "#E1E5ED",
         "showgrid": true,
         "tickfont": {
          "color": "#4D5663"
         },
         "title": {
          "font": {
           "color": "#4D5663"
          },
          "text": ""
         },
         "zerolinecolor": "#E1E5ED"
        }
       }
      },
      "text/html": [
       "<div>                            <div id=\"b037358e-67da-4c89-bfdb-243527f4b276\" class=\"plotly-graph-div\" style=\"height:525px; width:100%;\"></div>            <script type=\"text/javascript\">                require([\"plotly\"], function(Plotly) {                    window.PLOTLYENV=window.PLOTLYENV || {};\n",
       "                    window.PLOTLYENV.BASE_URL='https://plot.ly';                                    if (document.getElementById(\"b037358e-67da-4c89-bfdb-243527f4b276\")) {                    Plotly.newPlot(                        \"b037358e-67da-4c89-bfdb-243527f4b276\",                        [{\"boxpoints\":false,\"line\":{\"width\":1.3},\"marker\":{\"color\":\"rgba(255, 153, 51, 1.0)\"},\"name\":\"A\",\"orientation\":\"v\",\"y\":[0.6446209978304961,0.4078221920136122,-0.2765872970204885,0.10456735638555388,0.08324133721186451,0.057440297633351456,-1.2171690355819085,-0.09196308817524182,-1.4384482006426815,-0.9066078684780878,-3.0647955779058393,-0.5927155310656024,1.583409055253283,0.234106386964043,1.2987088354934264,-0.07913794969622139,1.9820971873442788,0.5300957800919711,0.0561241346154549,0.015369674156755879,-1.2127715104199281,0.035053315533376254,0.7118746375710167,-0.1952185441372051,-0.7579919569364388,0.8382884169380316,-0.2523101224096548,0.6311895916493456,-1.4756247761832622,-1.9698270932740207,-1.3372120572711683,-0.0055887604966179906,-1.7516160926744089,0.543208412020896,0.707473240158141,0.6593860529630602,-0.966138313509074,1.2445708261621509,-1.0802389340212704,0.5086900141225315,0.06968362854003969,-0.6676088576024096,-0.6772597043552857,1.0685188366936331,-1.197023278836309,1.3296472778183843,-1.7352843284646196,-1.0582875565845407,1.0617180487815374,1.4540725943983606,0.5317907297889919,0.7420563485732212,-0.18793332995515025,-1.2305655757068716,-0.1772600412850589,-1.148239267934772,0.4037983500944594,0.9812475937057795,-0.4956402857253395,-0.28809363061450555,-0.6487072922681356,0.8481841770338829,-0.3114926773390753,0.3471058665605341,2.8359142899847587,-0.10683669988149225,0.7333023074176133,-0.9756817628998831,-1.4734885498421182,-0.8026545150142835,-0.9084824357349854,0.451034781575594,-0.14441496470423662,-1.9756483521255614,-0.5332455788412271,-0.63886776707257,-2.2713107658786433,-0.40268261110912806,-1.953505525568803,0.21002398901558625,0.5515111078971915,1.8137764486502015,-0.5238352930793719,-0.2822937597610257,0.41863932362537837,0.10282204212326963,2.0754089376632825,0.6972799565874593,1.1614656583668113,1.3623377423265945,0.10708896322825404,-0.35965989943947024,0.7454316477825902,-0.5002942850467338,0.3404751564352129,-0.7529900522556313,0.21081704514965283,1.753849340431904,0.8556437691539508,0.701648831151324],\"type\":\"box\"},{\"boxpoints\":false,\"line\":{\"width\":1.3},\"marker\":{\"color\":\"rgba(55, 128, 191, 1.0)\"},\"name\":\"B\",\"orientation\":\"v\",\"y\":[-0.22160750690840028,1.7158554903880332,-0.6237740459654896,1.7171818589480066,-0.1968115099154782,-0.9178801038802831,-0.8648477636664242,-0.26311475476438756,-0.3644265939925632,-0.9804658128967962,1.0326790474999514,-1.5535104837887026,-0.16460272611477467,1.4317841740173647,0.13868359918099005,-0.26283282569495164,1.4671591243018076,0.9928316600028886,1.798718933737595,-0.12194429267969392,-1.2135185401556021,-0.5676843906954775,0.5466472148108473,1.5064364433330995,0.2294216562379941,-0.45183094530211637,-0.5990162630544981,1.2093106738320492,-0.5115952740366038,-1.3389739304237893,-0.05705254876762868,0.18038672055746063,1.7979243126872604,-0.9180546332511316,0.00838642535099962,-0.7440498127142733,0.42076697337853947,-1.4875438989362184,0.25306783994077015,1.8824847563507707,-0.5169299902217411,0.2883651291147273,-0.8722294837074352,0.2519290622637881,-1.8324172801056757,0.37575977161583207,0.9443994946857267,0.24775429904167792,-0.8099720675420381,0.8227450644967887,0.21290770852438837,-0.4753072455838816,-0.3011324544818885,-0.003528999951231824,-0.19640311199830598,0.34129342746016,0.8817453262399159,-0.14964935915574884,0.6386867039194815,1.6888518942380055,-0.954599303308324,-1.3586802403670986,-0.805279213474311,0.6484073187263913,0.23471787263488347,1.573593064081298,1.4803498296832225,-0.6778894932880246,-2.7440090441649985,0.5807543021017987,-0.8878887797836558,1.3493372535410566,-1.1731712522803317,0.9009129011476739,0.9927017366728492,-1.1113954750547725,-0.3911079194019816,-0.5604947607506066,-0.5130962215220196,0.296256896974686,-0.1897579204290804,-0.19731011276449487,1.2797615737542352,-0.3117436598969686,2.2371515544398384,1.1906124852355693,0.2381106335734882,-0.6858170151367708,1.150058581328844,0.19314586783555093,-1.3262365216682042,0.22266823381194942,-1.1045743475961767,-1.0501370436953776,1.2875349619480438,-1.570363318967189,-0.5266463105521983,0.5167043413713699,0.3411124470341882,2.987140002245271],\"type\":\"box\"},{\"boxpoints\":false,\"line\":{\"width\":1.3},\"marker\":{\"color\":\"rgba(50, 171, 96, 1.0)\"},\"name\":\"C\",\"orientation\":\"v\",\"y\":[0.7012976858107476,0.13112876716322586,-0.6813970857853648,0.7626266599309006,1.8810574004548166,0.26033565690448307,0.4994790522032047,-0.5084750662647777,-0.5434176656881163,-2.4633927204653046,-0.6521249562522544,-0.14670782107135424,-0.3174865144850475,-1.0042400464938952,0.6658921866196987,0.19034364831626227,1.1553870061215892,-0.17220095106498723,-1.0537714587104434,0.500045590396657,-0.13451386173465865,-0.027892374212246027,1.4066424663771657,-0.6820547117786162,1.0939135918061562,1.079296940566886,0.010327137081296395,-0.9089530044668371,2.212218263471134,-0.02509365027062667,-0.07972747706023059,-0.011931537356809503,1.2590405432240899,-1.5154813110587153,-0.7681836657343759,0.07029045933967852,-0.6261877114432143,-0.29890390207145945,0.8076891914560079,-0.48900643341240624,-0.18229600927999168,1.2646900813903714,0.48761724025730246,-0.32419552319665174,-0.3195952241608016,-0.2141181762540822,-0.4732029597170572,2.065565663723758,-0.7236430797381805,-0.1879291151185566,1.9650445644037815,-2.647997803888273,0.0624412739324384,0.4214371683701604,0.32244681261181213,-1.1463309502872436,-0.4122642638641093,-0.1019974330153135,-0.42661888713341123,-0.2032627792764815,-2.076143637926378,-1.0133586709182414,0.5425889770145909,1.4972767985169795,1.3827028866954683,-0.9567475197195758,-1.6271696404774703,-0.04767927054525452,-0.3337362568629179,-2.5211967071004056,-0.7214255274482855,-1.6968238348366882,-0.8641714143407009,1.1314545083027825,-0.3464497033574137,-0.08399129750322462,-1.0997606369501673,1.6386602115224296,-0.24795699938403845,-0.8475456890457912,1.2632786197352313,-1.3752607005938815,-0.17727174377038782,-1.1141912635712727,0.9038545843165967,1.6682151489585701,-1.1539416875491058,0.26573596340025707,0.42537973515492217,-1.009847889051133,0.6854654840509039,-0.14944373300586317,1.5099303656959975,0.5367132482238024,0.5108694434056651,0.06396679098017176,0.4182402609127113,-0.45882135707575805,-0.6637807264473049,0.42826449790203475],\"type\":\"box\"},{\"boxpoints\":false,\"line\":{\"width\":1.3},\"marker\":{\"color\":\"rgba(128, 0, 128, 1.0)\"},\"name\":\"D\",\"orientation\":\"v\",\"y\":[0.7710685342518336,-0.08673281835562326,-0.9292275667399005,-0.08722718385502183,-1.8354093130966138,-2.3669215228779104,1.0162186933207766,-1.051591957466034,1.311789236964196,1.2835110909421699,-0.18647269648908388,-1.9897111315816265,-0.188104262986079,-0.40678348264882264,-0.2081853041598393,-1.0675398634804543,0.15879813814960225,-0.9335573209804557,-1.1794506269311265,-0.5086145798998463,0.19250525161798482,1.2816815797315007,0.5456407114917887,2.174008157133585,0.9716299509781058,1.4476394585223482,0.8031719567415391,0.6338801065749562,-1.3396047068103658,0.26898247138012976,0.06953687683686048,-0.782279081821717,0.8152780357039893,-0.5821296951628023,-0.08306425552288532,-1.2125532805221355,-0.01998873872392119,-1.7947383874599883,0.3722827373475316,0.34592233613599366,0.4469249252617456,0.9376267695284086,1.0977292764220554,0.90152666289788,0.6406890057757472,-0.7343690997457678,-1.1469319828890387,-3.5805232475388453,1.7333269996330503,-0.16988381138361097,0.053954263262173154,-1.5588014795073613,1.3637212251412825,0.6635556331193656,-0.9590459929753491,-0.18672923056468158,-0.04536186834589831,-0.986179375093094,0.3438924264706309,0.6693067098234198,-0.422152846774601,-0.82902191445765,0.6962418591367862,-0.9336714089215007,0.2771700521454067,-0.20530361172490166,-0.3870473361922757,0.04887067149170552,-0.5806307167987539,-0.06758041697691812,-0.9927284682004818,0.03569548773964057,0.6970934325532863,0.5200703942540074,-0.40308030657266836,0.26654996695149374,0.6133970024769643,0.7127654020511173,1.2338043037286743,0.6657650184138121,-1.0658224426141822,1.1329112648803752,0.4257779515125473,0.48174393345883953,-1.0064697749288969,0.8144570677497984,0.09904712954893766,-0.01667907684784322,-1.4899988133514555,-1.2307960774775202,1.5475895067518977,-0.6295026903629481,0.7470095780965724,-0.494454673834522,1.2715278291971563,0.8734646191239015,-0.21238519250933158,-1.0630629919021253,-0.01077421943135205,-1.0048395012750386],\"type\":\"box\"}],                        {\"legend\":{\"bgcolor\":\"#F5F6F9\",\"font\":{\"color\":\"#4D5663\"}},\"paper_bgcolor\":\"#F5F6F9\",\"plot_bgcolor\":\"#F5F6F9\",\"template\":{\"data\":{\"barpolar\":[{\"marker\":{\"line\":{\"color\":\"#E5ECF6\",\"width\":0.5},\"pattern\":{\"fillmode\":\"overlay\",\"size\":10,\"solidity\":0.2}},\"type\":\"barpolar\"}],\"bar\":[{\"error_x\":{\"color\":\"#2a3f5f\"},\"error_y\":{\"color\":\"#2a3f5f\"},\"marker\":{\"line\":{\"color\":\"#E5ECF6\",\"width\":0.5},\"pattern\":{\"fillmode\":\"overlay\",\"size\":10,\"solidity\":0.2}},\"type\":\"bar\"}],\"carpet\":[{\"aaxis\":{\"endlinecolor\":\"#2a3f5f\",\"gridcolor\":\"white\",\"linecolor\":\"white\",\"minorgridcolor\":\"white\",\"startlinecolor\":\"#2a3f5f\"},\"baxis\":{\"endlinecolor\":\"#2a3f5f\",\"gridcolor\":\"white\",\"linecolor\":\"white\",\"minorgridcolor\":\"white\",\"startlinecolor\":\"#2a3f5f\"},\"type\":\"carpet\"}],\"choropleth\":[{\"colorbar\":{\"outlinewidth\":0,\"ticks\":\"\"},\"type\":\"choropleth\"}],\"contourcarpet\":[{\"colorbar\":{\"outlinewidth\":0,\"ticks\":\"\"},\"type\":\"contourcarpet\"}],\"contour\":[{\"colorbar\":{\"outlinewidth\":0,\"ticks\":\"\"},\"colorscale\":[[0.0,\"#0d0887\"],[0.1111111111111111,\"#46039f\"],[0.2222222222222222,\"#7201a8\"],[0.3333333333333333,\"#9c179e\"],[0.4444444444444444,\"#bd3786\"],[0.5555555555555556,\"#d8576b\"],[0.6666666666666666,\"#ed7953\"],[0.7777777777777778,\"#fb9f3a\"],[0.8888888888888888,\"#fdca26\"],[1.0,\"#f0f921\"]],\"type\":\"contour\"}],\"heatmapgl\":[{\"colorbar\":{\"outlinewidth\":0,\"ticks\":\"\"},\"colorscale\":[[0.0,\"#0d0887\"],[0.1111111111111111,\"#46039f\"],[0.2222222222222222,\"#7201a8\"],[0.3333333333333333,\"#9c179e\"],[0.4444444444444444,\"#bd3786\"],[0.5555555555555556,\"#d8576b\"],[0.6666666666666666,\"#ed7953\"],[0.7777777777777778,\"#fb9f3a\"],[0.8888888888888888,\"#fdca26\"],[1.0,\"#f0f921\"]],\"type\":\"heatmapgl\"}],\"heatmap\":[{\"colorbar\":{\"outlinewidth\":0,\"ticks\":\"\"},\"colorscale\":[[0.0,\"#0d0887\"],[0.1111111111111111,\"#46039f\"],[0.2222222222222222,\"#7201a8\"],[0.3333333333333333,\"#9c179e\"],[0.4444444444444444,\"#bd3786\"],[0.5555555555555556,\"#d8576b\"],[0.6666666666666666,\"#ed7953\"],[0.7777777777777778,\"#fb9f3a\"],[0.8888888888888888,\"#fdca26\"],[1.0,\"#f0f921\"]],\"type\":\"heatmap\"}],\"histogram2dcontour\":[{\"colorbar\":{\"outlinewidth\":0,\"ticks\":\"\"},\"colorscale\":[[0.0,\"#0d0887\"],[0.1111111111111111,\"#46039f\"],[0.2222222222222222,\"#7201a8\"],[0.3333333333333333,\"#9c179e\"],[0.4444444444444444,\"#bd3786\"],[0.5555555555555556,\"#d8576b\"],[0.6666666666666666,\"#ed7953\"],[0.7777777777777778,\"#fb9f3a\"],[0.8888888888888888,\"#fdca26\"],[1.0,\"#f0f921\"]],\"type\":\"histogram2dcontour\"}],\"histogram2d\":[{\"colorbar\":{\"outlinewidth\":0,\"ticks\":\"\"},\"colorscale\":[[0.0,\"#0d0887\"],[0.1111111111111111,\"#46039f\"],[0.2222222222222222,\"#7201a8\"],[0.3333333333333333,\"#9c179e\"],[0.4444444444444444,\"#bd3786\"],[0.5555555555555556,\"#d8576b\"],[0.6666666666666666,\"#ed7953\"],[0.7777777777777778,\"#fb9f3a\"],[0.8888888888888888,\"#fdca26\"],[1.0,\"#f0f921\"]],\"type\":\"histogram2d\"}],\"histogram\":[{\"marker\":{\"pattern\":{\"fillmode\":\"overlay\",\"size\":10,\"solidity\":0.2}},\"type\":\"histogram\"}],\"mesh3d\":[{\"colorbar\":{\"outlinewidth\":0,\"ticks\":\"\"},\"type\":\"mesh3d\"}],\"parcoords\":[{\"line\":{\"colorbar\":{\"outlinewidth\":0,\"ticks\":\"\"}},\"type\":\"parcoords\"}],\"pie\":[{\"automargin\":true,\"type\":\"pie\"}],\"scatter3d\":[{\"line\":{\"colorbar\":{\"outlinewidth\":0,\"ticks\":\"\"}},\"marker\":{\"colorbar\":{\"outlinewidth\":0,\"ticks\":\"\"}},\"type\":\"scatter3d\"}],\"scattercarpet\":[{\"marker\":{\"colorbar\":{\"outlinewidth\":0,\"ticks\":\"\"}},\"type\":\"scattercarpet\"}],\"scattergeo\":[{\"marker\":{\"colorbar\":{\"outlinewidth\":0,\"ticks\":\"\"}},\"type\":\"scattergeo\"}],\"scattergl\":[{\"marker\":{\"colorbar\":{\"outlinewidth\":0,\"ticks\":\"\"}},\"type\":\"scattergl\"}],\"scattermapbox\":[{\"marker\":{\"colorbar\":{\"outlinewidth\":0,\"ticks\":\"\"}},\"type\":\"scattermapbox\"}],\"scatterpolargl\":[{\"marker\":{\"colorbar\":{\"outlinewidth\":0,\"ticks\":\"\"}},\"type\":\"scatterpolargl\"}],\"scatterpolar\":[{\"marker\":{\"colorbar\":{\"outlinewidth\":0,\"ticks\":\"\"}},\"type\":\"scatterpolar\"}],\"scatter\":[{\"fillpattern\":{\"fillmode\":\"overlay\",\"size\":10,\"solidity\":0.2},\"type\":\"scatter\"}],\"scatterternary\":[{\"marker\":{\"colorbar\":{\"outlinewidth\":0,\"ticks\":\"\"}},\"type\":\"scatterternary\"}],\"surface\":[{\"colorbar\":{\"outlinewidth\":0,\"ticks\":\"\"},\"colorscale\":[[0.0,\"#0d0887\"],[0.1111111111111111,\"#46039f\"],[0.2222222222222222,\"#7201a8\"],[0.3333333333333333,\"#9c179e\"],[0.4444444444444444,\"#bd3786\"],[0.5555555555555556,\"#d8576b\"],[0.6666666666666666,\"#ed7953\"],[0.7777777777777778,\"#fb9f3a\"],[0.8888888888888888,\"#fdca26\"],[1.0,\"#f0f921\"]],\"type\":\"surface\"}],\"table\":[{\"cells\":{\"fill\":{\"color\":\"#EBF0F8\"},\"line\":{\"color\":\"white\"}},\"header\":{\"fill\":{\"color\":\"#C8D4E3\"},\"line\":{\"color\":\"white\"}},\"type\":\"table\"}]},\"layout\":{\"annotationdefaults\":{\"arrowcolor\":\"#2a3f5f\",\"arrowhead\":0,\"arrowwidth\":1},\"autotypenumbers\":\"strict\",\"coloraxis\":{\"colorbar\":{\"outlinewidth\":0,\"ticks\":\"\"}},\"colorscale\":{\"diverging\":[[0,\"#8e0152\"],[0.1,\"#c51b7d\"],[0.2,\"#de77ae\"],[0.3,\"#f1b6da\"],[0.4,\"#fde0ef\"],[0.5,\"#f7f7f7\"],[0.6,\"#e6f5d0\"],[0.7,\"#b8e186\"],[0.8,\"#7fbc41\"],[0.9,\"#4d9221\"],[1,\"#276419\"]],\"sequential\":[[0.0,\"#0d0887\"],[0.1111111111111111,\"#46039f\"],[0.2222222222222222,\"#7201a8\"],[0.3333333333333333,\"#9c179e\"],[0.4444444444444444,\"#bd3786\"],[0.5555555555555556,\"#d8576b\"],[0.6666666666666666,\"#ed7953\"],[0.7777777777777778,\"#fb9f3a\"],[0.8888888888888888,\"#fdca26\"],[1.0,\"#f0f921\"]],\"sequentialminus\":[[0.0,\"#0d0887\"],[0.1111111111111111,\"#46039f\"],[0.2222222222222222,\"#7201a8\"],[0.3333333333333333,\"#9c179e\"],[0.4444444444444444,\"#bd3786\"],[0.5555555555555556,\"#d8576b\"],[0.6666666666666666,\"#ed7953\"],[0.7777777777777778,\"#fb9f3a\"],[0.8888888888888888,\"#fdca26\"],[1.0,\"#f0f921\"]]},\"colorway\":[\"#636efa\",\"#EF553B\",\"#00cc96\",\"#ab63fa\",\"#FFA15A\",\"#19d3f3\",\"#FF6692\",\"#B6E880\",\"#FF97FF\",\"#FECB52\"],\"font\":{\"color\":\"#2a3f5f\"},\"geo\":{\"bgcolor\":\"white\",\"lakecolor\":\"white\",\"landcolor\":\"#E5ECF6\",\"showlakes\":true,\"showland\":true,\"subunitcolor\":\"white\"},\"hoverlabel\":{\"align\":\"left\"},\"hovermode\":\"closest\",\"mapbox\":{\"style\":\"light\"},\"paper_bgcolor\":\"white\",\"plot_bgcolor\":\"#E5ECF6\",\"polar\":{\"angularaxis\":{\"gridcolor\":\"white\",\"linecolor\":\"white\",\"ticks\":\"\"},\"bgcolor\":\"#E5ECF6\",\"radialaxis\":{\"gridcolor\":\"white\",\"linecolor\":\"white\",\"ticks\":\"\"}},\"scene\":{\"xaxis\":{\"backgroundcolor\":\"#E5ECF6\",\"gridcolor\":\"white\",\"gridwidth\":2,\"linecolor\":\"white\",\"showbackground\":true,\"ticks\":\"\",\"zerolinecolor\":\"white\"},\"yaxis\":{\"backgroundcolor\":\"#E5ECF6\",\"gridcolor\":\"white\",\"gridwidth\":2,\"linecolor\":\"white\",\"showbackground\":true,\"ticks\":\"\",\"zerolinecolor\":\"white\"},\"zaxis\":{\"backgroundcolor\":\"#E5ECF6\",\"gridcolor\":\"white\",\"gridwidth\":2,\"linecolor\":\"white\",\"showbackground\":true,\"ticks\":\"\",\"zerolinecolor\":\"white\"}},\"shapedefaults\":{\"line\":{\"color\":\"#2a3f5f\"}},\"ternary\":{\"aaxis\":{\"gridcolor\":\"white\",\"linecolor\":\"white\",\"ticks\":\"\"},\"baxis\":{\"gridcolor\":\"white\",\"linecolor\":\"white\",\"ticks\":\"\"},\"bgcolor\":\"#E5ECF6\",\"caxis\":{\"gridcolor\":\"white\",\"linecolor\":\"white\",\"ticks\":\"\"}},\"title\":{\"x\":0.05},\"xaxis\":{\"automargin\":true,\"gridcolor\":\"white\",\"linecolor\":\"white\",\"ticks\":\"\",\"title\":{\"standoff\":15},\"zerolinecolor\":\"white\",\"zerolinewidth\":2},\"yaxis\":{\"automargin\":true,\"gridcolor\":\"white\",\"linecolor\":\"white\",\"ticks\":\"\",\"title\":{\"standoff\":15},\"zerolinecolor\":\"white\",\"zerolinewidth\":2}}},\"title\":{\"font\":{\"color\":\"#4D5663\"}},\"xaxis\":{\"gridcolor\":\"#E1E5ED\",\"showgrid\":true,\"tickfont\":{\"color\":\"#4D5663\"},\"title\":{\"font\":{\"color\":\"#4D5663\"},\"text\":\"\"},\"zerolinecolor\":\"#E1E5ED\"},\"yaxis\":{\"gridcolor\":\"#E1E5ED\",\"showgrid\":true,\"tickfont\":{\"color\":\"#4D5663\"},\"title\":{\"font\":{\"color\":\"#4D5663\"},\"text\":\"\"},\"zerolinecolor\":\"#E1E5ED\"}},                        {\"showLink\": true, \"linkText\": \"Export to plot.ly\", \"plotlyServerURL\": \"https://plot.ly\", \"responsive\": true}                    ).then(function(){\n",
       "                            \n",
       "var gd = document.getElementById('b037358e-67da-4c89-bfdb-243527f4b276');\n",
       "var x = new MutationObserver(function (mutations, observer) {{\n",
       "        var display = window.getComputedStyle(gd).display;\n",
       "        if (!display || display === 'none') {{\n",
       "            console.log([gd, 'removed!']);\n",
       "            Plotly.purge(gd);\n",
       "            observer.disconnect();\n",
       "        }}\n",
       "}});\n",
       "\n",
       "// Listen for the removal of the full notebook cells\n",
       "var notebookContainer = gd.closest('#notebook-container');\n",
       "if (notebookContainer) {{\n",
       "    x.observe(notebookContainer, {childList: true});\n",
       "}}\n",
       "\n",
       "// Listen for the clearing of the current output cell\n",
       "var outputEl = gd.closest('.output');\n",
       "if (outputEl) {{\n",
       "    x.observe(outputEl, {childList: true});\n",
       "}}\n",
       "\n",
       "                        })                };                });            </script>        </div>"
      ]
     },
     "metadata": {},
     "output_type": "display_data"
    }
   ],
   "source": [
    "df.iplot(kind='box')"
   ]
  },
  {
   "cell_type": "code",
   "execution_count": 20,
   "id": "0758739e",
   "metadata": {},
   "outputs": [],
   "source": [
    "df3 = pd.DataFrame({'x':[1,2,3,4,5],'y':[10,20,30,20,10],'z':[500,400,300,200,100]})"
   ]
  },
  {
   "cell_type": "code",
   "execution_count": 21,
   "id": "2a0a8a29",
   "metadata": {},
   "outputs": [
    {
     "data": {
      "application/vnd.plotly.v1+json": {
       "config": {
        "linkText": "Export to plot.ly",
        "plotlyServerURL": "https://plot.ly",
        "showLink": true
       },
       "data": [
        {
         "colorscale": [
          [
           0,
           "rgb(255, 153, 51)"
          ],
          [
           0.1111111111111111,
           "rgb(55, 128, 191)"
          ],
          [
           0.2222222222222222,
           "rgb(50, 171, 96)"
          ],
          [
           0.3333333333333333,
           "rgb(128, 0, 128)"
          ],
          [
           0.4444444444444444,
           "rgb(219, 64, 82)"
          ],
          [
           0.5555555555555556,
           "rgb(0, 128, 128)"
          ],
          [
           0.6666666666666666,
           "rgb(255, 255, 51)"
          ],
          [
           0.7777777777777778,
           "rgb(128, 128, 0)"
          ],
          [
           0.8888888888888888,
           "rgb(251, 128, 114)"
          ],
          [
           1,
           "rgb(128, 177, 211)"
          ]
         ],
         "type": "surface",
         "x": [
          0,
          1,
          2,
          3,
          4
         ],
         "y": [
          "x",
          "y",
          "z"
         ],
         "z": [
          [
           1,
           2,
           3,
           4,
           5
          ],
          [
           10,
           20,
           30,
           20,
           10
          ],
          [
           500,
           400,
           300,
           200,
           100
          ]
         ]
        }
       ],
       "layout": {
        "legend": {
         "bgcolor": "#F5F6F9",
         "font": {
          "color": "#4D5663"
         }
        },
        "paper_bgcolor": "#F5F6F9",
        "plot_bgcolor": "#F5F6F9",
        "template": {
         "data": {
          "bar": [
           {
            "error_x": {
             "color": "#2a3f5f"
            },
            "error_y": {
             "color": "#2a3f5f"
            },
            "marker": {
             "line": {
              "color": "#E5ECF6",
              "width": 0.5
             },
             "pattern": {
              "fillmode": "overlay",
              "size": 10,
              "solidity": 0.2
             }
            },
            "type": "bar"
           }
          ],
          "barpolar": [
           {
            "marker": {
             "line": {
              "color": "#E5ECF6",
              "width": 0.5
             },
             "pattern": {
              "fillmode": "overlay",
              "size": 10,
              "solidity": 0.2
             }
            },
            "type": "barpolar"
           }
          ],
          "carpet": [
           {
            "aaxis": {
             "endlinecolor": "#2a3f5f",
             "gridcolor": "white",
             "linecolor": "white",
             "minorgridcolor": "white",
             "startlinecolor": "#2a3f5f"
            },
            "baxis": {
             "endlinecolor": "#2a3f5f",
             "gridcolor": "white",
             "linecolor": "white",
             "minorgridcolor": "white",
             "startlinecolor": "#2a3f5f"
            },
            "type": "carpet"
           }
          ],
          "choropleth": [
           {
            "colorbar": {
             "outlinewidth": 0,
             "ticks": ""
            },
            "type": "choropleth"
           }
          ],
          "contour": [
           {
            "colorbar": {
             "outlinewidth": 0,
             "ticks": ""
            },
            "colorscale": [
             [
              0,
              "#0d0887"
             ],
             [
              0.1111111111111111,
              "#46039f"
             ],
             [
              0.2222222222222222,
              "#7201a8"
             ],
             [
              0.3333333333333333,
              "#9c179e"
             ],
             [
              0.4444444444444444,
              "#bd3786"
             ],
             [
              0.5555555555555556,
              "#d8576b"
             ],
             [
              0.6666666666666666,
              "#ed7953"
             ],
             [
              0.7777777777777778,
              "#fb9f3a"
             ],
             [
              0.8888888888888888,
              "#fdca26"
             ],
             [
              1,
              "#f0f921"
             ]
            ],
            "type": "contour"
           }
          ],
          "contourcarpet": [
           {
            "colorbar": {
             "outlinewidth": 0,
             "ticks": ""
            },
            "type": "contourcarpet"
           }
          ],
          "heatmap": [
           {
            "colorbar": {
             "outlinewidth": 0,
             "ticks": ""
            },
            "colorscale": [
             [
              0,
              "#0d0887"
             ],
             [
              0.1111111111111111,
              "#46039f"
             ],
             [
              0.2222222222222222,
              "#7201a8"
             ],
             [
              0.3333333333333333,
              "#9c179e"
             ],
             [
              0.4444444444444444,
              "#bd3786"
             ],
             [
              0.5555555555555556,
              "#d8576b"
             ],
             [
              0.6666666666666666,
              "#ed7953"
             ],
             [
              0.7777777777777778,
              "#fb9f3a"
             ],
             [
              0.8888888888888888,
              "#fdca26"
             ],
             [
              1,
              "#f0f921"
             ]
            ],
            "type": "heatmap"
           }
          ],
          "heatmapgl": [
           {
            "colorbar": {
             "outlinewidth": 0,
             "ticks": ""
            },
            "colorscale": [
             [
              0,
              "#0d0887"
             ],
             [
              0.1111111111111111,
              "#46039f"
             ],
             [
              0.2222222222222222,
              "#7201a8"
             ],
             [
              0.3333333333333333,
              "#9c179e"
             ],
             [
              0.4444444444444444,
              "#bd3786"
             ],
             [
              0.5555555555555556,
              "#d8576b"
             ],
             [
              0.6666666666666666,
              "#ed7953"
             ],
             [
              0.7777777777777778,
              "#fb9f3a"
             ],
             [
              0.8888888888888888,
              "#fdca26"
             ],
             [
              1,
              "#f0f921"
             ]
            ],
            "type": "heatmapgl"
           }
          ],
          "histogram": [
           {
            "marker": {
             "pattern": {
              "fillmode": "overlay",
              "size": 10,
              "solidity": 0.2
             }
            },
            "type": "histogram"
           }
          ],
          "histogram2d": [
           {
            "colorbar": {
             "outlinewidth": 0,
             "ticks": ""
            },
            "colorscale": [
             [
              0,
              "#0d0887"
             ],
             [
              0.1111111111111111,
              "#46039f"
             ],
             [
              0.2222222222222222,
              "#7201a8"
             ],
             [
              0.3333333333333333,
              "#9c179e"
             ],
             [
              0.4444444444444444,
              "#bd3786"
             ],
             [
              0.5555555555555556,
              "#d8576b"
             ],
             [
              0.6666666666666666,
              "#ed7953"
             ],
             [
              0.7777777777777778,
              "#fb9f3a"
             ],
             [
              0.8888888888888888,
              "#fdca26"
             ],
             [
              1,
              "#f0f921"
             ]
            ],
            "type": "histogram2d"
           }
          ],
          "histogram2dcontour": [
           {
            "colorbar": {
             "outlinewidth": 0,
             "ticks": ""
            },
            "colorscale": [
             [
              0,
              "#0d0887"
             ],
             [
              0.1111111111111111,
              "#46039f"
             ],
             [
              0.2222222222222222,
              "#7201a8"
             ],
             [
              0.3333333333333333,
              "#9c179e"
             ],
             [
              0.4444444444444444,
              "#bd3786"
             ],
             [
              0.5555555555555556,
              "#d8576b"
             ],
             [
              0.6666666666666666,
              "#ed7953"
             ],
             [
              0.7777777777777778,
              "#fb9f3a"
             ],
             [
              0.8888888888888888,
              "#fdca26"
             ],
             [
              1,
              "#f0f921"
             ]
            ],
            "type": "histogram2dcontour"
           }
          ],
          "mesh3d": [
           {
            "colorbar": {
             "outlinewidth": 0,
             "ticks": ""
            },
            "type": "mesh3d"
           }
          ],
          "parcoords": [
           {
            "line": {
             "colorbar": {
              "outlinewidth": 0,
              "ticks": ""
             }
            },
            "type": "parcoords"
           }
          ],
          "pie": [
           {
            "automargin": true,
            "type": "pie"
           }
          ],
          "scatter": [
           {
            "fillpattern": {
             "fillmode": "overlay",
             "size": 10,
             "solidity": 0.2
            },
            "type": "scatter"
           }
          ],
          "scatter3d": [
           {
            "line": {
             "colorbar": {
              "outlinewidth": 0,
              "ticks": ""
             }
            },
            "marker": {
             "colorbar": {
              "outlinewidth": 0,
              "ticks": ""
             }
            },
            "type": "scatter3d"
           }
          ],
          "scattercarpet": [
           {
            "marker": {
             "colorbar": {
              "outlinewidth": 0,
              "ticks": ""
             }
            },
            "type": "scattercarpet"
           }
          ],
          "scattergeo": [
           {
            "marker": {
             "colorbar": {
              "outlinewidth": 0,
              "ticks": ""
             }
            },
            "type": "scattergeo"
           }
          ],
          "scattergl": [
           {
            "marker": {
             "colorbar": {
              "outlinewidth": 0,
              "ticks": ""
             }
            },
            "type": "scattergl"
           }
          ],
          "scattermapbox": [
           {
            "marker": {
             "colorbar": {
              "outlinewidth": 0,
              "ticks": ""
             }
            },
            "type": "scattermapbox"
           }
          ],
          "scatterpolar": [
           {
            "marker": {
             "colorbar": {
              "outlinewidth": 0,
              "ticks": ""
             }
            },
            "type": "scatterpolar"
           }
          ],
          "scatterpolargl": [
           {
            "marker": {
             "colorbar": {
              "outlinewidth": 0,
              "ticks": ""
             }
            },
            "type": "scatterpolargl"
           }
          ],
          "scatterternary": [
           {
            "marker": {
             "colorbar": {
              "outlinewidth": 0,
              "ticks": ""
             }
            },
            "type": "scatterternary"
           }
          ],
          "surface": [
           {
            "colorbar": {
             "outlinewidth": 0,
             "ticks": ""
            },
            "colorscale": [
             [
              0,
              "#0d0887"
             ],
             [
              0.1111111111111111,
              "#46039f"
             ],
             [
              0.2222222222222222,
              "#7201a8"
             ],
             [
              0.3333333333333333,
              "#9c179e"
             ],
             [
              0.4444444444444444,
              "#bd3786"
             ],
             [
              0.5555555555555556,
              "#d8576b"
             ],
             [
              0.6666666666666666,
              "#ed7953"
             ],
             [
              0.7777777777777778,
              "#fb9f3a"
             ],
             [
              0.8888888888888888,
              "#fdca26"
             ],
             [
              1,
              "#f0f921"
             ]
            ],
            "type": "surface"
           }
          ],
          "table": [
           {
            "cells": {
             "fill": {
              "color": "#EBF0F8"
             },
             "line": {
              "color": "white"
             }
            },
            "header": {
             "fill": {
              "color": "#C8D4E3"
             },
             "line": {
              "color": "white"
             }
            },
            "type": "table"
           }
          ]
         },
         "layout": {
          "annotationdefaults": {
           "arrowcolor": "#2a3f5f",
           "arrowhead": 0,
           "arrowwidth": 1
          },
          "autotypenumbers": "strict",
          "coloraxis": {
           "colorbar": {
            "outlinewidth": 0,
            "ticks": ""
           }
          },
          "colorscale": {
           "diverging": [
            [
             0,
             "#8e0152"
            ],
            [
             0.1,
             "#c51b7d"
            ],
            [
             0.2,
             "#de77ae"
            ],
            [
             0.3,
             "#f1b6da"
            ],
            [
             0.4,
             "#fde0ef"
            ],
            [
             0.5,
             "#f7f7f7"
            ],
            [
             0.6,
             "#e6f5d0"
            ],
            [
             0.7,
             "#b8e186"
            ],
            [
             0.8,
             "#7fbc41"
            ],
            [
             0.9,
             "#4d9221"
            ],
            [
             1,
             "#276419"
            ]
           ],
           "sequential": [
            [
             0,
             "#0d0887"
            ],
            [
             0.1111111111111111,
             "#46039f"
            ],
            [
             0.2222222222222222,
             "#7201a8"
            ],
            [
             0.3333333333333333,
             "#9c179e"
            ],
            [
             0.4444444444444444,
             "#bd3786"
            ],
            [
             0.5555555555555556,
             "#d8576b"
            ],
            [
             0.6666666666666666,
             "#ed7953"
            ],
            [
             0.7777777777777778,
             "#fb9f3a"
            ],
            [
             0.8888888888888888,
             "#fdca26"
            ],
            [
             1,
             "#f0f921"
            ]
           ],
           "sequentialminus": [
            [
             0,
             "#0d0887"
            ],
            [
             0.1111111111111111,
             "#46039f"
            ],
            [
             0.2222222222222222,
             "#7201a8"
            ],
            [
             0.3333333333333333,
             "#9c179e"
            ],
            [
             0.4444444444444444,
             "#bd3786"
            ],
            [
             0.5555555555555556,
             "#d8576b"
            ],
            [
             0.6666666666666666,
             "#ed7953"
            ],
            [
             0.7777777777777778,
             "#fb9f3a"
            ],
            [
             0.8888888888888888,
             "#fdca26"
            ],
            [
             1,
             "#f0f921"
            ]
           ]
          },
          "colorway": [
           "#636efa",
           "#EF553B",
           "#00cc96",
           "#ab63fa",
           "#FFA15A",
           "#19d3f3",
           "#FF6692",
           "#B6E880",
           "#FF97FF",
           "#FECB52"
          ],
          "font": {
           "color": "#2a3f5f"
          },
          "geo": {
           "bgcolor": "white",
           "lakecolor": "white",
           "landcolor": "#E5ECF6",
           "showlakes": true,
           "showland": true,
           "subunitcolor": "white"
          },
          "hoverlabel": {
           "align": "left"
          },
          "hovermode": "closest",
          "mapbox": {
           "style": "light"
          },
          "paper_bgcolor": "white",
          "plot_bgcolor": "#E5ECF6",
          "polar": {
           "angularaxis": {
            "gridcolor": "white",
            "linecolor": "white",
            "ticks": ""
           },
           "bgcolor": "#E5ECF6",
           "radialaxis": {
            "gridcolor": "white",
            "linecolor": "white",
            "ticks": ""
           }
          },
          "scene": {
           "xaxis": {
            "backgroundcolor": "#E5ECF6",
            "gridcolor": "white",
            "gridwidth": 2,
            "linecolor": "white",
            "showbackground": true,
            "ticks": "",
            "zerolinecolor": "white"
           },
           "yaxis": {
            "backgroundcolor": "#E5ECF6",
            "gridcolor": "white",
            "gridwidth": 2,
            "linecolor": "white",
            "showbackground": true,
            "ticks": "",
            "zerolinecolor": "white"
           },
           "zaxis": {
            "backgroundcolor": "#E5ECF6",
            "gridcolor": "white",
            "gridwidth": 2,
            "linecolor": "white",
            "showbackground": true,
            "ticks": "",
            "zerolinecolor": "white"
           }
          },
          "shapedefaults": {
           "line": {
            "color": "#2a3f5f"
           }
          },
          "ternary": {
           "aaxis": {
            "gridcolor": "white",
            "linecolor": "white",
            "ticks": ""
           },
           "baxis": {
            "gridcolor": "white",
            "linecolor": "white",
            "ticks": ""
           },
           "bgcolor": "#E5ECF6",
           "caxis": {
            "gridcolor": "white",
            "linecolor": "white",
            "ticks": ""
           }
          },
          "title": {
           "x": 0.05
          },
          "xaxis": {
           "automargin": true,
           "gridcolor": "white",
           "linecolor": "white",
           "ticks": "",
           "title": {
            "standoff": 15
           },
           "zerolinecolor": "white",
           "zerolinewidth": 2
          },
          "yaxis": {
           "automargin": true,
           "gridcolor": "white",
           "linecolor": "white",
           "ticks": "",
           "title": {
            "standoff": 15
           },
           "zerolinecolor": "white",
           "zerolinewidth": 2
          }
         }
        },
        "title": {
         "font": {
          "color": "#4D5663"
         }
        },
        "xaxis": {
         "gridcolor": "#E1E5ED",
         "showgrid": true,
         "tickfont": {
          "color": "#4D5663"
         },
         "title": {
          "font": {
           "color": "#4D5663"
          },
          "text": ""
         },
         "zerolinecolor": "#E1E5ED"
        },
        "yaxis": {
         "gridcolor": "#E1E5ED",
         "showgrid": true,
         "tickfont": {
          "color": "#4D5663"
         },
         "title": {
          "font": {
           "color": "#4D5663"
          },
          "text": ""
         },
         "zerolinecolor": "#E1E5ED"
        }
       }
      },
      "text/html": [
       "<div>                            <div id=\"0e994b08-20e3-4ae9-9efd-3f325e60aa61\" class=\"plotly-graph-div\" style=\"height:525px; width:100%;\"></div>            <script type=\"text/javascript\">                require([\"plotly\"], function(Plotly) {                    window.PLOTLYENV=window.PLOTLYENV || {};\n",
       "                    window.PLOTLYENV.BASE_URL='https://plot.ly';                                    if (document.getElementById(\"0e994b08-20e3-4ae9-9efd-3f325e60aa61\")) {                    Plotly.newPlot(                        \"0e994b08-20e3-4ae9-9efd-3f325e60aa61\",                        [{\"colorscale\":[[0.0,\"rgb(255, 153, 51)\"],[0.1111111111111111,\"rgb(55, 128, 191)\"],[0.2222222222222222,\"rgb(50, 171, 96)\"],[0.3333333333333333,\"rgb(128, 0, 128)\"],[0.4444444444444444,\"rgb(219, 64, 82)\"],[0.5555555555555556,\"rgb(0, 128, 128)\"],[0.6666666666666666,\"rgb(255, 255, 51)\"],[0.7777777777777778,\"rgb(128, 128, 0)\"],[0.8888888888888888,\"rgb(251, 128, 114)\"],[1.0,\"rgb(128, 177, 211)\"]],\"x\":[0,1,2,3,4],\"y\":[\"x\",\"y\",\"z\"],\"z\":[[1,2,3,4,5],[10,20,30,20,10],[500,400,300,200,100]],\"type\":\"surface\"}],                        {\"legend\":{\"bgcolor\":\"#F5F6F9\",\"font\":{\"color\":\"#4D5663\"}},\"paper_bgcolor\":\"#F5F6F9\",\"plot_bgcolor\":\"#F5F6F9\",\"template\":{\"data\":{\"barpolar\":[{\"marker\":{\"line\":{\"color\":\"#E5ECF6\",\"width\":0.5},\"pattern\":{\"fillmode\":\"overlay\",\"size\":10,\"solidity\":0.2}},\"type\":\"barpolar\"}],\"bar\":[{\"error_x\":{\"color\":\"#2a3f5f\"},\"error_y\":{\"color\":\"#2a3f5f\"},\"marker\":{\"line\":{\"color\":\"#E5ECF6\",\"width\":0.5},\"pattern\":{\"fillmode\":\"overlay\",\"size\":10,\"solidity\":0.2}},\"type\":\"bar\"}],\"carpet\":[{\"aaxis\":{\"endlinecolor\":\"#2a3f5f\",\"gridcolor\":\"white\",\"linecolor\":\"white\",\"minorgridcolor\":\"white\",\"startlinecolor\":\"#2a3f5f\"},\"baxis\":{\"endlinecolor\":\"#2a3f5f\",\"gridcolor\":\"white\",\"linecolor\":\"white\",\"minorgridcolor\":\"white\",\"startlinecolor\":\"#2a3f5f\"},\"type\":\"carpet\"}],\"choropleth\":[{\"colorbar\":{\"outlinewidth\":0,\"ticks\":\"\"},\"type\":\"choropleth\"}],\"contourcarpet\":[{\"colorbar\":{\"outlinewidth\":0,\"ticks\":\"\"},\"type\":\"contourcarpet\"}],\"contour\":[{\"colorbar\":{\"outlinewidth\":0,\"ticks\":\"\"},\"colorscale\":[[0.0,\"#0d0887\"],[0.1111111111111111,\"#46039f\"],[0.2222222222222222,\"#7201a8\"],[0.3333333333333333,\"#9c179e\"],[0.4444444444444444,\"#bd3786\"],[0.5555555555555556,\"#d8576b\"],[0.6666666666666666,\"#ed7953\"],[0.7777777777777778,\"#fb9f3a\"],[0.8888888888888888,\"#fdca26\"],[1.0,\"#f0f921\"]],\"type\":\"contour\"}],\"heatmapgl\":[{\"colorbar\":{\"outlinewidth\":0,\"ticks\":\"\"},\"colorscale\":[[0.0,\"#0d0887\"],[0.1111111111111111,\"#46039f\"],[0.2222222222222222,\"#7201a8\"],[0.3333333333333333,\"#9c179e\"],[0.4444444444444444,\"#bd3786\"],[0.5555555555555556,\"#d8576b\"],[0.6666666666666666,\"#ed7953\"],[0.7777777777777778,\"#fb9f3a\"],[0.8888888888888888,\"#fdca26\"],[1.0,\"#f0f921\"]],\"type\":\"heatmapgl\"}],\"heatmap\":[{\"colorbar\":{\"outlinewidth\":0,\"ticks\":\"\"},\"colorscale\":[[0.0,\"#0d0887\"],[0.1111111111111111,\"#46039f\"],[0.2222222222222222,\"#7201a8\"],[0.3333333333333333,\"#9c179e\"],[0.4444444444444444,\"#bd3786\"],[0.5555555555555556,\"#d8576b\"],[0.6666666666666666,\"#ed7953\"],[0.7777777777777778,\"#fb9f3a\"],[0.8888888888888888,\"#fdca26\"],[1.0,\"#f0f921\"]],\"type\":\"heatmap\"}],\"histogram2dcontour\":[{\"colorbar\":{\"outlinewidth\":0,\"ticks\":\"\"},\"colorscale\":[[0.0,\"#0d0887\"],[0.1111111111111111,\"#46039f\"],[0.2222222222222222,\"#7201a8\"],[0.3333333333333333,\"#9c179e\"],[0.4444444444444444,\"#bd3786\"],[0.5555555555555556,\"#d8576b\"],[0.6666666666666666,\"#ed7953\"],[0.7777777777777778,\"#fb9f3a\"],[0.8888888888888888,\"#fdca26\"],[1.0,\"#f0f921\"]],\"type\":\"histogram2dcontour\"}],\"histogram2d\":[{\"colorbar\":{\"outlinewidth\":0,\"ticks\":\"\"},\"colorscale\":[[0.0,\"#0d0887\"],[0.1111111111111111,\"#46039f\"],[0.2222222222222222,\"#7201a8\"],[0.3333333333333333,\"#9c179e\"],[0.4444444444444444,\"#bd3786\"],[0.5555555555555556,\"#d8576b\"],[0.6666666666666666,\"#ed7953\"],[0.7777777777777778,\"#fb9f3a\"],[0.8888888888888888,\"#fdca26\"],[1.0,\"#f0f921\"]],\"type\":\"histogram2d\"}],\"histogram\":[{\"marker\":{\"pattern\":{\"fillmode\":\"overlay\",\"size\":10,\"solidity\":0.2}},\"type\":\"histogram\"}],\"mesh3d\":[{\"colorbar\":{\"outlinewidth\":0,\"ticks\":\"\"},\"type\":\"mesh3d\"}],\"parcoords\":[{\"line\":{\"colorbar\":{\"outlinewidth\":0,\"ticks\":\"\"}},\"type\":\"parcoords\"}],\"pie\":[{\"automargin\":true,\"type\":\"pie\"}],\"scatter3d\":[{\"line\":{\"colorbar\":{\"outlinewidth\":0,\"ticks\":\"\"}},\"marker\":{\"colorbar\":{\"outlinewidth\":0,\"ticks\":\"\"}},\"type\":\"scatter3d\"}],\"scattercarpet\":[{\"marker\":{\"colorbar\":{\"outlinewidth\":0,\"ticks\":\"\"}},\"type\":\"scattercarpet\"}],\"scattergeo\":[{\"marker\":{\"colorbar\":{\"outlinewidth\":0,\"ticks\":\"\"}},\"type\":\"scattergeo\"}],\"scattergl\":[{\"marker\":{\"colorbar\":{\"outlinewidth\":0,\"ticks\":\"\"}},\"type\":\"scattergl\"}],\"scattermapbox\":[{\"marker\":{\"colorbar\":{\"outlinewidth\":0,\"ticks\":\"\"}},\"type\":\"scattermapbox\"}],\"scatterpolargl\":[{\"marker\":{\"colorbar\":{\"outlinewidth\":0,\"ticks\":\"\"}},\"type\":\"scatterpolargl\"}],\"scatterpolar\":[{\"marker\":{\"colorbar\":{\"outlinewidth\":0,\"ticks\":\"\"}},\"type\":\"scatterpolar\"}],\"scatter\":[{\"fillpattern\":{\"fillmode\":\"overlay\",\"size\":10,\"solidity\":0.2},\"type\":\"scatter\"}],\"scatterternary\":[{\"marker\":{\"colorbar\":{\"outlinewidth\":0,\"ticks\":\"\"}},\"type\":\"scatterternary\"}],\"surface\":[{\"colorbar\":{\"outlinewidth\":0,\"ticks\":\"\"},\"colorscale\":[[0.0,\"#0d0887\"],[0.1111111111111111,\"#46039f\"],[0.2222222222222222,\"#7201a8\"],[0.3333333333333333,\"#9c179e\"],[0.4444444444444444,\"#bd3786\"],[0.5555555555555556,\"#d8576b\"],[0.6666666666666666,\"#ed7953\"],[0.7777777777777778,\"#fb9f3a\"],[0.8888888888888888,\"#fdca26\"],[1.0,\"#f0f921\"]],\"type\":\"surface\"}],\"table\":[{\"cells\":{\"fill\":{\"color\":\"#EBF0F8\"},\"line\":{\"color\":\"white\"}},\"header\":{\"fill\":{\"color\":\"#C8D4E3\"},\"line\":{\"color\":\"white\"}},\"type\":\"table\"}]},\"layout\":{\"annotationdefaults\":{\"arrowcolor\":\"#2a3f5f\",\"arrowhead\":0,\"arrowwidth\":1},\"autotypenumbers\":\"strict\",\"coloraxis\":{\"colorbar\":{\"outlinewidth\":0,\"ticks\":\"\"}},\"colorscale\":{\"diverging\":[[0,\"#8e0152\"],[0.1,\"#c51b7d\"],[0.2,\"#de77ae\"],[0.3,\"#f1b6da\"],[0.4,\"#fde0ef\"],[0.5,\"#f7f7f7\"],[0.6,\"#e6f5d0\"],[0.7,\"#b8e186\"],[0.8,\"#7fbc41\"],[0.9,\"#4d9221\"],[1,\"#276419\"]],\"sequential\":[[0.0,\"#0d0887\"],[0.1111111111111111,\"#46039f\"],[0.2222222222222222,\"#7201a8\"],[0.3333333333333333,\"#9c179e\"],[0.4444444444444444,\"#bd3786\"],[0.5555555555555556,\"#d8576b\"],[0.6666666666666666,\"#ed7953\"],[0.7777777777777778,\"#fb9f3a\"],[0.8888888888888888,\"#fdca26\"],[1.0,\"#f0f921\"]],\"sequentialminus\":[[0.0,\"#0d0887\"],[0.1111111111111111,\"#46039f\"],[0.2222222222222222,\"#7201a8\"],[0.3333333333333333,\"#9c179e\"],[0.4444444444444444,\"#bd3786\"],[0.5555555555555556,\"#d8576b\"],[0.6666666666666666,\"#ed7953\"],[0.7777777777777778,\"#fb9f3a\"],[0.8888888888888888,\"#fdca26\"],[1.0,\"#f0f921\"]]},\"colorway\":[\"#636efa\",\"#EF553B\",\"#00cc96\",\"#ab63fa\",\"#FFA15A\",\"#19d3f3\",\"#FF6692\",\"#B6E880\",\"#FF97FF\",\"#FECB52\"],\"font\":{\"color\":\"#2a3f5f\"},\"geo\":{\"bgcolor\":\"white\",\"lakecolor\":\"white\",\"landcolor\":\"#E5ECF6\",\"showlakes\":true,\"showland\":true,\"subunitcolor\":\"white\"},\"hoverlabel\":{\"align\":\"left\"},\"hovermode\":\"closest\",\"mapbox\":{\"style\":\"light\"},\"paper_bgcolor\":\"white\",\"plot_bgcolor\":\"#E5ECF6\",\"polar\":{\"angularaxis\":{\"gridcolor\":\"white\",\"linecolor\":\"white\",\"ticks\":\"\"},\"bgcolor\":\"#E5ECF6\",\"radialaxis\":{\"gridcolor\":\"white\",\"linecolor\":\"white\",\"ticks\":\"\"}},\"scene\":{\"xaxis\":{\"backgroundcolor\":\"#E5ECF6\",\"gridcolor\":\"white\",\"gridwidth\":2,\"linecolor\":\"white\",\"showbackground\":true,\"ticks\":\"\",\"zerolinecolor\":\"white\"},\"yaxis\":{\"backgroundcolor\":\"#E5ECF6\",\"gridcolor\":\"white\",\"gridwidth\":2,\"linecolor\":\"white\",\"showbackground\":true,\"ticks\":\"\",\"zerolinecolor\":\"white\"},\"zaxis\":{\"backgroundcolor\":\"#E5ECF6\",\"gridcolor\":\"white\",\"gridwidth\":2,\"linecolor\":\"white\",\"showbackground\":true,\"ticks\":\"\",\"zerolinecolor\":\"white\"}},\"shapedefaults\":{\"line\":{\"color\":\"#2a3f5f\"}},\"ternary\":{\"aaxis\":{\"gridcolor\":\"white\",\"linecolor\":\"white\",\"ticks\":\"\"},\"baxis\":{\"gridcolor\":\"white\",\"linecolor\":\"white\",\"ticks\":\"\"},\"bgcolor\":\"#E5ECF6\",\"caxis\":{\"gridcolor\":\"white\",\"linecolor\":\"white\",\"ticks\":\"\"}},\"title\":{\"x\":0.05},\"xaxis\":{\"automargin\":true,\"gridcolor\":\"white\",\"linecolor\":\"white\",\"ticks\":\"\",\"title\":{\"standoff\":15},\"zerolinecolor\":\"white\",\"zerolinewidth\":2},\"yaxis\":{\"automargin\":true,\"gridcolor\":\"white\",\"linecolor\":\"white\",\"ticks\":\"\",\"title\":{\"standoff\":15},\"zerolinecolor\":\"white\",\"zerolinewidth\":2}}},\"title\":{\"font\":{\"color\":\"#4D5663\"}},\"xaxis\":{\"gridcolor\":\"#E1E5ED\",\"showgrid\":true,\"tickfont\":{\"color\":\"#4D5663\"},\"title\":{\"font\":{\"color\":\"#4D5663\"},\"text\":\"\"},\"zerolinecolor\":\"#E1E5ED\"},\"yaxis\":{\"gridcolor\":\"#E1E5ED\",\"showgrid\":true,\"tickfont\":{\"color\":\"#4D5663\"},\"title\":{\"font\":{\"color\":\"#4D5663\"},\"text\":\"\"},\"zerolinecolor\":\"#E1E5ED\"}},                        {\"showLink\": true, \"linkText\": \"Export to plot.ly\", \"plotlyServerURL\": \"https://plot.ly\", \"responsive\": true}                    ).then(function(){\n",
       "                            \n",
       "var gd = document.getElementById('0e994b08-20e3-4ae9-9efd-3f325e60aa61');\n",
       "var x = new MutationObserver(function (mutations, observer) {{\n",
       "        var display = window.getComputedStyle(gd).display;\n",
       "        if (!display || display === 'none') {{\n",
       "            console.log([gd, 'removed!']);\n",
       "            Plotly.purge(gd);\n",
       "            observer.disconnect();\n",
       "        }}\n",
       "}});\n",
       "\n",
       "// Listen for the removal of the full notebook cells\n",
       "var notebookContainer = gd.closest('#notebook-container');\n",
       "if (notebookContainer) {{\n",
       "    x.observe(notebookContainer, {childList: true});\n",
       "}}\n",
       "\n",
       "// Listen for the clearing of the current output cell\n",
       "var outputEl = gd.closest('.output');\n",
       "if (outputEl) {{\n",
       "    x.observe(outputEl, {childList: true});\n",
       "}}\n",
       "\n",
       "                        })                };                });            </script>        </div>"
      ]
     },
     "metadata": {},
     "output_type": "display_data"
    }
   ],
   "source": [
    "df3.iplot(kind='surface')"
   ]
  },
  {
   "cell_type": "code",
   "execution_count": 22,
   "id": "83620620",
   "metadata": {},
   "outputs": [
    {
     "data": {
      "application/vnd.plotly.v1+json": {
       "config": {
        "linkText": "Export to plot.ly",
        "plotlyServerURL": "https://plot.ly",
        "showLink": true
       },
       "data": [
        {
         "histfunc": "count",
         "histnorm": "",
         "marker": {
          "color": "rgba(255, 153, 51, 1.0)",
          "line": {
           "color": "#4D5663",
           "width": 1.3
          }
         },
         "name": "A",
         "opacity": 0.8,
         "orientation": "v",
         "type": "histogram",
         "x": [
          0.6446209978304961,
          0.4078221920136122,
          -0.2765872970204885,
          0.10456735638555388,
          0.08324133721186451,
          0.057440297633351456,
          -1.2171690355819085,
          -0.09196308817524182,
          -1.4384482006426815,
          -0.9066078684780878,
          -3.0647955779058393,
          -0.5927155310656024,
          1.583409055253283,
          0.234106386964043,
          1.2987088354934264,
          -0.07913794969622139,
          1.9820971873442788,
          0.5300957800919711,
          0.0561241346154549,
          0.015369674156755879,
          -1.2127715104199281,
          0.035053315533376254,
          0.7118746375710167,
          -0.1952185441372051,
          -0.7579919569364388,
          0.8382884169380316,
          -0.2523101224096548,
          0.6311895916493456,
          -1.4756247761832622,
          -1.9698270932740207,
          -1.3372120572711683,
          -0.0055887604966179906,
          -1.7516160926744089,
          0.543208412020896,
          0.707473240158141,
          0.6593860529630602,
          -0.966138313509074,
          1.2445708261621509,
          -1.0802389340212704,
          0.5086900141225315,
          0.06968362854003969,
          -0.6676088576024096,
          -0.6772597043552857,
          1.0685188366936331,
          -1.197023278836309,
          1.3296472778183843,
          -1.7352843284646196,
          -1.0582875565845407,
          1.0617180487815374,
          1.4540725943983606,
          0.5317907297889919,
          0.7420563485732212,
          -0.18793332995515025,
          -1.2305655757068716,
          -0.1772600412850589,
          -1.148239267934772,
          0.4037983500944594,
          0.9812475937057795,
          -0.4956402857253395,
          -0.28809363061450555,
          -0.6487072922681356,
          0.8481841770338829,
          -0.3114926773390753,
          0.3471058665605341,
          2.8359142899847587,
          -0.10683669988149225,
          0.7333023074176133,
          -0.9756817628998831,
          -1.4734885498421182,
          -0.8026545150142835,
          -0.9084824357349854,
          0.451034781575594,
          -0.14441496470423662,
          -1.9756483521255614,
          -0.5332455788412271,
          -0.63886776707257,
          -2.2713107658786433,
          -0.40268261110912806,
          -1.953505525568803,
          0.21002398901558625,
          0.5515111078971915,
          1.8137764486502015,
          -0.5238352930793719,
          -0.2822937597610257,
          0.41863932362537837,
          0.10282204212326963,
          2.0754089376632825,
          0.6972799565874593,
          1.1614656583668113,
          1.3623377423265945,
          0.10708896322825404,
          -0.35965989943947024,
          0.7454316477825902,
          -0.5002942850467338,
          0.3404751564352129,
          -0.7529900522556313,
          0.21081704514965283,
          1.753849340431904,
          0.8556437691539508,
          0.701648831151324
         ]
        }
       ],
       "layout": {
        "barmode": "overlay",
        "legend": {
         "bgcolor": "#F5F6F9",
         "font": {
          "color": "#4D5663"
         }
        },
        "paper_bgcolor": "#F5F6F9",
        "plot_bgcolor": "#F5F6F9",
        "template": {
         "data": {
          "bar": [
           {
            "error_x": {
             "color": "#2a3f5f"
            },
            "error_y": {
             "color": "#2a3f5f"
            },
            "marker": {
             "line": {
              "color": "#E5ECF6",
              "width": 0.5
             },
             "pattern": {
              "fillmode": "overlay",
              "size": 10,
              "solidity": 0.2
             }
            },
            "type": "bar"
           }
          ],
          "barpolar": [
           {
            "marker": {
             "line": {
              "color": "#E5ECF6",
              "width": 0.5
             },
             "pattern": {
              "fillmode": "overlay",
              "size": 10,
              "solidity": 0.2
             }
            },
            "type": "barpolar"
           }
          ],
          "carpet": [
           {
            "aaxis": {
             "endlinecolor": "#2a3f5f",
             "gridcolor": "white",
             "linecolor": "white",
             "minorgridcolor": "white",
             "startlinecolor": "#2a3f5f"
            },
            "baxis": {
             "endlinecolor": "#2a3f5f",
             "gridcolor": "white",
             "linecolor": "white",
             "minorgridcolor": "white",
             "startlinecolor": "#2a3f5f"
            },
            "type": "carpet"
           }
          ],
          "choropleth": [
           {
            "colorbar": {
             "outlinewidth": 0,
             "ticks": ""
            },
            "type": "choropleth"
           }
          ],
          "contour": [
           {
            "colorbar": {
             "outlinewidth": 0,
             "ticks": ""
            },
            "colorscale": [
             [
              0,
              "#0d0887"
             ],
             [
              0.1111111111111111,
              "#46039f"
             ],
             [
              0.2222222222222222,
              "#7201a8"
             ],
             [
              0.3333333333333333,
              "#9c179e"
             ],
             [
              0.4444444444444444,
              "#bd3786"
             ],
             [
              0.5555555555555556,
              "#d8576b"
             ],
             [
              0.6666666666666666,
              "#ed7953"
             ],
             [
              0.7777777777777778,
              "#fb9f3a"
             ],
             [
              0.8888888888888888,
              "#fdca26"
             ],
             [
              1,
              "#f0f921"
             ]
            ],
            "type": "contour"
           }
          ],
          "contourcarpet": [
           {
            "colorbar": {
             "outlinewidth": 0,
             "ticks": ""
            },
            "type": "contourcarpet"
           }
          ],
          "heatmap": [
           {
            "colorbar": {
             "outlinewidth": 0,
             "ticks": ""
            },
            "colorscale": [
             [
              0,
              "#0d0887"
             ],
             [
              0.1111111111111111,
              "#46039f"
             ],
             [
              0.2222222222222222,
              "#7201a8"
             ],
             [
              0.3333333333333333,
              "#9c179e"
             ],
             [
              0.4444444444444444,
              "#bd3786"
             ],
             [
              0.5555555555555556,
              "#d8576b"
             ],
             [
              0.6666666666666666,
              "#ed7953"
             ],
             [
              0.7777777777777778,
              "#fb9f3a"
             ],
             [
              0.8888888888888888,
              "#fdca26"
             ],
             [
              1,
              "#f0f921"
             ]
            ],
            "type": "heatmap"
           }
          ],
          "heatmapgl": [
           {
            "colorbar": {
             "outlinewidth": 0,
             "ticks": ""
            },
            "colorscale": [
             [
              0,
              "#0d0887"
             ],
             [
              0.1111111111111111,
              "#46039f"
             ],
             [
              0.2222222222222222,
              "#7201a8"
             ],
             [
              0.3333333333333333,
              "#9c179e"
             ],
             [
              0.4444444444444444,
              "#bd3786"
             ],
             [
              0.5555555555555556,
              "#d8576b"
             ],
             [
              0.6666666666666666,
              "#ed7953"
             ],
             [
              0.7777777777777778,
              "#fb9f3a"
             ],
             [
              0.8888888888888888,
              "#fdca26"
             ],
             [
              1,
              "#f0f921"
             ]
            ],
            "type": "heatmapgl"
           }
          ],
          "histogram": [
           {
            "marker": {
             "pattern": {
              "fillmode": "overlay",
              "size": 10,
              "solidity": 0.2
             }
            },
            "type": "histogram"
           }
          ],
          "histogram2d": [
           {
            "colorbar": {
             "outlinewidth": 0,
             "ticks": ""
            },
            "colorscale": [
             [
              0,
              "#0d0887"
             ],
             [
              0.1111111111111111,
              "#46039f"
             ],
             [
              0.2222222222222222,
              "#7201a8"
             ],
             [
              0.3333333333333333,
              "#9c179e"
             ],
             [
              0.4444444444444444,
              "#bd3786"
             ],
             [
              0.5555555555555556,
              "#d8576b"
             ],
             [
              0.6666666666666666,
              "#ed7953"
             ],
             [
              0.7777777777777778,
              "#fb9f3a"
             ],
             [
              0.8888888888888888,
              "#fdca26"
             ],
             [
              1,
              "#f0f921"
             ]
            ],
            "type": "histogram2d"
           }
          ],
          "histogram2dcontour": [
           {
            "colorbar": {
             "outlinewidth": 0,
             "ticks": ""
            },
            "colorscale": [
             [
              0,
              "#0d0887"
             ],
             [
              0.1111111111111111,
              "#46039f"
             ],
             [
              0.2222222222222222,
              "#7201a8"
             ],
             [
              0.3333333333333333,
              "#9c179e"
             ],
             [
              0.4444444444444444,
              "#bd3786"
             ],
             [
              0.5555555555555556,
              "#d8576b"
             ],
             [
              0.6666666666666666,
              "#ed7953"
             ],
             [
              0.7777777777777778,
              "#fb9f3a"
             ],
             [
              0.8888888888888888,
              "#fdca26"
             ],
             [
              1,
              "#f0f921"
             ]
            ],
            "type": "histogram2dcontour"
           }
          ],
          "mesh3d": [
           {
            "colorbar": {
             "outlinewidth": 0,
             "ticks": ""
            },
            "type": "mesh3d"
           }
          ],
          "parcoords": [
           {
            "line": {
             "colorbar": {
              "outlinewidth": 0,
              "ticks": ""
             }
            },
            "type": "parcoords"
           }
          ],
          "pie": [
           {
            "automargin": true,
            "type": "pie"
           }
          ],
          "scatter": [
           {
            "fillpattern": {
             "fillmode": "overlay",
             "size": 10,
             "solidity": 0.2
            },
            "type": "scatter"
           }
          ],
          "scatter3d": [
           {
            "line": {
             "colorbar": {
              "outlinewidth": 0,
              "ticks": ""
             }
            },
            "marker": {
             "colorbar": {
              "outlinewidth": 0,
              "ticks": ""
             }
            },
            "type": "scatter3d"
           }
          ],
          "scattercarpet": [
           {
            "marker": {
             "colorbar": {
              "outlinewidth": 0,
              "ticks": ""
             }
            },
            "type": "scattercarpet"
           }
          ],
          "scattergeo": [
           {
            "marker": {
             "colorbar": {
              "outlinewidth": 0,
              "ticks": ""
             }
            },
            "type": "scattergeo"
           }
          ],
          "scattergl": [
           {
            "marker": {
             "colorbar": {
              "outlinewidth": 0,
              "ticks": ""
             }
            },
            "type": "scattergl"
           }
          ],
          "scattermapbox": [
           {
            "marker": {
             "colorbar": {
              "outlinewidth": 0,
              "ticks": ""
             }
            },
            "type": "scattermapbox"
           }
          ],
          "scatterpolar": [
           {
            "marker": {
             "colorbar": {
              "outlinewidth": 0,
              "ticks": ""
             }
            },
            "type": "scatterpolar"
           }
          ],
          "scatterpolargl": [
           {
            "marker": {
             "colorbar": {
              "outlinewidth": 0,
              "ticks": ""
             }
            },
            "type": "scatterpolargl"
           }
          ],
          "scatterternary": [
           {
            "marker": {
             "colorbar": {
              "outlinewidth": 0,
              "ticks": ""
             }
            },
            "type": "scatterternary"
           }
          ],
          "surface": [
           {
            "colorbar": {
             "outlinewidth": 0,
             "ticks": ""
            },
            "colorscale": [
             [
              0,
              "#0d0887"
             ],
             [
              0.1111111111111111,
              "#46039f"
             ],
             [
              0.2222222222222222,
              "#7201a8"
             ],
             [
              0.3333333333333333,
              "#9c179e"
             ],
             [
              0.4444444444444444,
              "#bd3786"
             ],
             [
              0.5555555555555556,
              "#d8576b"
             ],
             [
              0.6666666666666666,
              "#ed7953"
             ],
             [
              0.7777777777777778,
              "#fb9f3a"
             ],
             [
              0.8888888888888888,
              "#fdca26"
             ],
             [
              1,
              "#f0f921"
             ]
            ],
            "type": "surface"
           }
          ],
          "table": [
           {
            "cells": {
             "fill": {
              "color": "#EBF0F8"
             },
             "line": {
              "color": "white"
             }
            },
            "header": {
             "fill": {
              "color": "#C8D4E3"
             },
             "line": {
              "color": "white"
             }
            },
            "type": "table"
           }
          ]
         },
         "layout": {
          "annotationdefaults": {
           "arrowcolor": "#2a3f5f",
           "arrowhead": 0,
           "arrowwidth": 1
          },
          "autotypenumbers": "strict",
          "coloraxis": {
           "colorbar": {
            "outlinewidth": 0,
            "ticks": ""
           }
          },
          "colorscale": {
           "diverging": [
            [
             0,
             "#8e0152"
            ],
            [
             0.1,
             "#c51b7d"
            ],
            [
             0.2,
             "#de77ae"
            ],
            [
             0.3,
             "#f1b6da"
            ],
            [
             0.4,
             "#fde0ef"
            ],
            [
             0.5,
             "#f7f7f7"
            ],
            [
             0.6,
             "#e6f5d0"
            ],
            [
             0.7,
             "#b8e186"
            ],
            [
             0.8,
             "#7fbc41"
            ],
            [
             0.9,
             "#4d9221"
            ],
            [
             1,
             "#276419"
            ]
           ],
           "sequential": [
            [
             0,
             "#0d0887"
            ],
            [
             0.1111111111111111,
             "#46039f"
            ],
            [
             0.2222222222222222,
             "#7201a8"
            ],
            [
             0.3333333333333333,
             "#9c179e"
            ],
            [
             0.4444444444444444,
             "#bd3786"
            ],
            [
             0.5555555555555556,
             "#d8576b"
            ],
            [
             0.6666666666666666,
             "#ed7953"
            ],
            [
             0.7777777777777778,
             "#fb9f3a"
            ],
            [
             0.8888888888888888,
             "#fdca26"
            ],
            [
             1,
             "#f0f921"
            ]
           ],
           "sequentialminus": [
            [
             0,
             "#0d0887"
            ],
            [
             0.1111111111111111,
             "#46039f"
            ],
            [
             0.2222222222222222,
             "#7201a8"
            ],
            [
             0.3333333333333333,
             "#9c179e"
            ],
            [
             0.4444444444444444,
             "#bd3786"
            ],
            [
             0.5555555555555556,
             "#d8576b"
            ],
            [
             0.6666666666666666,
             "#ed7953"
            ],
            [
             0.7777777777777778,
             "#fb9f3a"
            ],
            [
             0.8888888888888888,
             "#fdca26"
            ],
            [
             1,
             "#f0f921"
            ]
           ]
          },
          "colorway": [
           "#636efa",
           "#EF553B",
           "#00cc96",
           "#ab63fa",
           "#FFA15A",
           "#19d3f3",
           "#FF6692",
           "#B6E880",
           "#FF97FF",
           "#FECB52"
          ],
          "font": {
           "color": "#2a3f5f"
          },
          "geo": {
           "bgcolor": "white",
           "lakecolor": "white",
           "landcolor": "#E5ECF6",
           "showlakes": true,
           "showland": true,
           "subunitcolor": "white"
          },
          "hoverlabel": {
           "align": "left"
          },
          "hovermode": "closest",
          "mapbox": {
           "style": "light"
          },
          "paper_bgcolor": "white",
          "plot_bgcolor": "#E5ECF6",
          "polar": {
           "angularaxis": {
            "gridcolor": "white",
            "linecolor": "white",
            "ticks": ""
           },
           "bgcolor": "#E5ECF6",
           "radialaxis": {
            "gridcolor": "white",
            "linecolor": "white",
            "ticks": ""
           }
          },
          "scene": {
           "xaxis": {
            "backgroundcolor": "#E5ECF6",
            "gridcolor": "white",
            "gridwidth": 2,
            "linecolor": "white",
            "showbackground": true,
            "ticks": "",
            "zerolinecolor": "white"
           },
           "yaxis": {
            "backgroundcolor": "#E5ECF6",
            "gridcolor": "white",
            "gridwidth": 2,
            "linecolor": "white",
            "showbackground": true,
            "ticks": "",
            "zerolinecolor": "white"
           },
           "zaxis": {
            "backgroundcolor": "#E5ECF6",
            "gridcolor": "white",
            "gridwidth": 2,
            "linecolor": "white",
            "showbackground": true,
            "ticks": "",
            "zerolinecolor": "white"
           }
          },
          "shapedefaults": {
           "line": {
            "color": "#2a3f5f"
           }
          },
          "ternary": {
           "aaxis": {
            "gridcolor": "white",
            "linecolor": "white",
            "ticks": ""
           },
           "baxis": {
            "gridcolor": "white",
            "linecolor": "white",
            "ticks": ""
           },
           "bgcolor": "#E5ECF6",
           "caxis": {
            "gridcolor": "white",
            "linecolor": "white",
            "ticks": ""
           }
          },
          "title": {
           "x": 0.05
          },
          "xaxis": {
           "automargin": true,
           "gridcolor": "white",
           "linecolor": "white",
           "ticks": "",
           "title": {
            "standoff": 15
           },
           "zerolinecolor": "white",
           "zerolinewidth": 2
          },
          "yaxis": {
           "automargin": true,
           "gridcolor": "white",
           "linecolor": "white",
           "ticks": "",
           "title": {
            "standoff": 15
           },
           "zerolinecolor": "white",
           "zerolinewidth": 2
          }
         }
        },
        "title": {
         "font": {
          "color": "#4D5663"
         }
        },
        "xaxis": {
         "gridcolor": "#E1E5ED",
         "showgrid": true,
         "tickfont": {
          "color": "#4D5663"
         },
         "title": {
          "font": {
           "color": "#4D5663"
          },
          "text": ""
         },
         "zerolinecolor": "#E1E5ED"
        },
        "yaxis": {
         "gridcolor": "#E1E5ED",
         "showgrid": true,
         "tickfont": {
          "color": "#4D5663"
         },
         "title": {
          "font": {
           "color": "#4D5663"
          },
          "text": ""
         },
         "zerolinecolor": "#E1E5ED"
        }
       }
      },
      "text/html": [
       "<div>                            <div id=\"ef409915-297d-4f71-b74a-50c34d92ed27\" class=\"plotly-graph-div\" style=\"height:525px; width:100%;\"></div>            <script type=\"text/javascript\">                require([\"plotly\"], function(Plotly) {                    window.PLOTLYENV=window.PLOTLYENV || {};\n",
       "                    window.PLOTLYENV.BASE_URL='https://plot.ly';                                    if (document.getElementById(\"ef409915-297d-4f71-b74a-50c34d92ed27\")) {                    Plotly.newPlot(                        \"ef409915-297d-4f71-b74a-50c34d92ed27\",                        [{\"histfunc\":\"count\",\"histnorm\":\"\",\"marker\":{\"color\":\"rgba(255, 153, 51, 1.0)\",\"line\":{\"color\":\"#4D5663\",\"width\":1.3}},\"name\":\"A\",\"opacity\":0.8,\"orientation\":\"v\",\"x\":[0.6446209978304961,0.4078221920136122,-0.2765872970204885,0.10456735638555388,0.08324133721186451,0.057440297633351456,-1.2171690355819085,-0.09196308817524182,-1.4384482006426815,-0.9066078684780878,-3.0647955779058393,-0.5927155310656024,1.583409055253283,0.234106386964043,1.2987088354934264,-0.07913794969622139,1.9820971873442788,0.5300957800919711,0.0561241346154549,0.015369674156755879,-1.2127715104199281,0.035053315533376254,0.7118746375710167,-0.1952185441372051,-0.7579919569364388,0.8382884169380316,-0.2523101224096548,0.6311895916493456,-1.4756247761832622,-1.9698270932740207,-1.3372120572711683,-0.0055887604966179906,-1.7516160926744089,0.543208412020896,0.707473240158141,0.6593860529630602,-0.966138313509074,1.2445708261621509,-1.0802389340212704,0.5086900141225315,0.06968362854003969,-0.6676088576024096,-0.6772597043552857,1.0685188366936331,-1.197023278836309,1.3296472778183843,-1.7352843284646196,-1.0582875565845407,1.0617180487815374,1.4540725943983606,0.5317907297889919,0.7420563485732212,-0.18793332995515025,-1.2305655757068716,-0.1772600412850589,-1.148239267934772,0.4037983500944594,0.9812475937057795,-0.4956402857253395,-0.28809363061450555,-0.6487072922681356,0.8481841770338829,-0.3114926773390753,0.3471058665605341,2.8359142899847587,-0.10683669988149225,0.7333023074176133,-0.9756817628998831,-1.4734885498421182,-0.8026545150142835,-0.9084824357349854,0.451034781575594,-0.14441496470423662,-1.9756483521255614,-0.5332455788412271,-0.63886776707257,-2.2713107658786433,-0.40268261110912806,-1.953505525568803,0.21002398901558625,0.5515111078971915,1.8137764486502015,-0.5238352930793719,-0.2822937597610257,0.41863932362537837,0.10282204212326963,2.0754089376632825,0.6972799565874593,1.1614656583668113,1.3623377423265945,0.10708896322825404,-0.35965989943947024,0.7454316477825902,-0.5002942850467338,0.3404751564352129,-0.7529900522556313,0.21081704514965283,1.753849340431904,0.8556437691539508,0.701648831151324],\"type\":\"histogram\"}],                        {\"barmode\":\"overlay\",\"legend\":{\"bgcolor\":\"#F5F6F9\",\"font\":{\"color\":\"#4D5663\"}},\"paper_bgcolor\":\"#F5F6F9\",\"plot_bgcolor\":\"#F5F6F9\",\"template\":{\"data\":{\"barpolar\":[{\"marker\":{\"line\":{\"color\":\"#E5ECF6\",\"width\":0.5},\"pattern\":{\"fillmode\":\"overlay\",\"size\":10,\"solidity\":0.2}},\"type\":\"barpolar\"}],\"bar\":[{\"error_x\":{\"color\":\"#2a3f5f\"},\"error_y\":{\"color\":\"#2a3f5f\"},\"marker\":{\"line\":{\"color\":\"#E5ECF6\",\"width\":0.5},\"pattern\":{\"fillmode\":\"overlay\",\"size\":10,\"solidity\":0.2}},\"type\":\"bar\"}],\"carpet\":[{\"aaxis\":{\"endlinecolor\":\"#2a3f5f\",\"gridcolor\":\"white\",\"linecolor\":\"white\",\"minorgridcolor\":\"white\",\"startlinecolor\":\"#2a3f5f\"},\"baxis\":{\"endlinecolor\":\"#2a3f5f\",\"gridcolor\":\"white\",\"linecolor\":\"white\",\"minorgridcolor\":\"white\",\"startlinecolor\":\"#2a3f5f\"},\"type\":\"carpet\"}],\"choropleth\":[{\"colorbar\":{\"outlinewidth\":0,\"ticks\":\"\"},\"type\":\"choropleth\"}],\"contourcarpet\":[{\"colorbar\":{\"outlinewidth\":0,\"ticks\":\"\"},\"type\":\"contourcarpet\"}],\"contour\":[{\"colorbar\":{\"outlinewidth\":0,\"ticks\":\"\"},\"colorscale\":[[0.0,\"#0d0887\"],[0.1111111111111111,\"#46039f\"],[0.2222222222222222,\"#7201a8\"],[0.3333333333333333,\"#9c179e\"],[0.4444444444444444,\"#bd3786\"],[0.5555555555555556,\"#d8576b\"],[0.6666666666666666,\"#ed7953\"],[0.7777777777777778,\"#fb9f3a\"],[0.8888888888888888,\"#fdca26\"],[1.0,\"#f0f921\"]],\"type\":\"contour\"}],\"heatmapgl\":[{\"colorbar\":{\"outlinewidth\":0,\"ticks\":\"\"},\"colorscale\":[[0.0,\"#0d0887\"],[0.1111111111111111,\"#46039f\"],[0.2222222222222222,\"#7201a8\"],[0.3333333333333333,\"#9c179e\"],[0.4444444444444444,\"#bd3786\"],[0.5555555555555556,\"#d8576b\"],[0.6666666666666666,\"#ed7953\"],[0.7777777777777778,\"#fb9f3a\"],[0.8888888888888888,\"#fdca26\"],[1.0,\"#f0f921\"]],\"type\":\"heatmapgl\"}],\"heatmap\":[{\"colorbar\":{\"outlinewidth\":0,\"ticks\":\"\"},\"colorscale\":[[0.0,\"#0d0887\"],[0.1111111111111111,\"#46039f\"],[0.2222222222222222,\"#7201a8\"],[0.3333333333333333,\"#9c179e\"],[0.4444444444444444,\"#bd3786\"],[0.5555555555555556,\"#d8576b\"],[0.6666666666666666,\"#ed7953\"],[0.7777777777777778,\"#fb9f3a\"],[0.8888888888888888,\"#fdca26\"],[1.0,\"#f0f921\"]],\"type\":\"heatmap\"}],\"histogram2dcontour\":[{\"colorbar\":{\"outlinewidth\":0,\"ticks\":\"\"},\"colorscale\":[[0.0,\"#0d0887\"],[0.1111111111111111,\"#46039f\"],[0.2222222222222222,\"#7201a8\"],[0.3333333333333333,\"#9c179e\"],[0.4444444444444444,\"#bd3786\"],[0.5555555555555556,\"#d8576b\"],[0.6666666666666666,\"#ed7953\"],[0.7777777777777778,\"#fb9f3a\"],[0.8888888888888888,\"#fdca26\"],[1.0,\"#f0f921\"]],\"type\":\"histogram2dcontour\"}],\"histogram2d\":[{\"colorbar\":{\"outlinewidth\":0,\"ticks\":\"\"},\"colorscale\":[[0.0,\"#0d0887\"],[0.1111111111111111,\"#46039f\"],[0.2222222222222222,\"#7201a8\"],[0.3333333333333333,\"#9c179e\"],[0.4444444444444444,\"#bd3786\"],[0.5555555555555556,\"#d8576b\"],[0.6666666666666666,\"#ed7953\"],[0.7777777777777778,\"#fb9f3a\"],[0.8888888888888888,\"#fdca26\"],[1.0,\"#f0f921\"]],\"type\":\"histogram2d\"}],\"histogram\":[{\"marker\":{\"pattern\":{\"fillmode\":\"overlay\",\"size\":10,\"solidity\":0.2}},\"type\":\"histogram\"}],\"mesh3d\":[{\"colorbar\":{\"outlinewidth\":0,\"ticks\":\"\"},\"type\":\"mesh3d\"}],\"parcoords\":[{\"line\":{\"colorbar\":{\"outlinewidth\":0,\"ticks\":\"\"}},\"type\":\"parcoords\"}],\"pie\":[{\"automargin\":true,\"type\":\"pie\"}],\"scatter3d\":[{\"line\":{\"colorbar\":{\"outlinewidth\":0,\"ticks\":\"\"}},\"marker\":{\"colorbar\":{\"outlinewidth\":0,\"ticks\":\"\"}},\"type\":\"scatter3d\"}],\"scattercarpet\":[{\"marker\":{\"colorbar\":{\"outlinewidth\":0,\"ticks\":\"\"}},\"type\":\"scattercarpet\"}],\"scattergeo\":[{\"marker\":{\"colorbar\":{\"outlinewidth\":0,\"ticks\":\"\"}},\"type\":\"scattergeo\"}],\"scattergl\":[{\"marker\":{\"colorbar\":{\"outlinewidth\":0,\"ticks\":\"\"}},\"type\":\"scattergl\"}],\"scattermapbox\":[{\"marker\":{\"colorbar\":{\"outlinewidth\":0,\"ticks\":\"\"}},\"type\":\"scattermapbox\"}],\"scatterpolargl\":[{\"marker\":{\"colorbar\":{\"outlinewidth\":0,\"ticks\":\"\"}},\"type\":\"scatterpolargl\"}],\"scatterpolar\":[{\"marker\":{\"colorbar\":{\"outlinewidth\":0,\"ticks\":\"\"}},\"type\":\"scatterpolar\"}],\"scatter\":[{\"fillpattern\":{\"fillmode\":\"overlay\",\"size\":10,\"solidity\":0.2},\"type\":\"scatter\"}],\"scatterternary\":[{\"marker\":{\"colorbar\":{\"outlinewidth\":0,\"ticks\":\"\"}},\"type\":\"scatterternary\"}],\"surface\":[{\"colorbar\":{\"outlinewidth\":0,\"ticks\":\"\"},\"colorscale\":[[0.0,\"#0d0887\"],[0.1111111111111111,\"#46039f\"],[0.2222222222222222,\"#7201a8\"],[0.3333333333333333,\"#9c179e\"],[0.4444444444444444,\"#bd3786\"],[0.5555555555555556,\"#d8576b\"],[0.6666666666666666,\"#ed7953\"],[0.7777777777777778,\"#fb9f3a\"],[0.8888888888888888,\"#fdca26\"],[1.0,\"#f0f921\"]],\"type\":\"surface\"}],\"table\":[{\"cells\":{\"fill\":{\"color\":\"#EBF0F8\"},\"line\":{\"color\":\"white\"}},\"header\":{\"fill\":{\"color\":\"#C8D4E3\"},\"line\":{\"color\":\"white\"}},\"type\":\"table\"}]},\"layout\":{\"annotationdefaults\":{\"arrowcolor\":\"#2a3f5f\",\"arrowhead\":0,\"arrowwidth\":1},\"autotypenumbers\":\"strict\",\"coloraxis\":{\"colorbar\":{\"outlinewidth\":0,\"ticks\":\"\"}},\"colorscale\":{\"diverging\":[[0,\"#8e0152\"],[0.1,\"#c51b7d\"],[0.2,\"#de77ae\"],[0.3,\"#f1b6da\"],[0.4,\"#fde0ef\"],[0.5,\"#f7f7f7\"],[0.6,\"#e6f5d0\"],[0.7,\"#b8e186\"],[0.8,\"#7fbc41\"],[0.9,\"#4d9221\"],[1,\"#276419\"]],\"sequential\":[[0.0,\"#0d0887\"],[0.1111111111111111,\"#46039f\"],[0.2222222222222222,\"#7201a8\"],[0.3333333333333333,\"#9c179e\"],[0.4444444444444444,\"#bd3786\"],[0.5555555555555556,\"#d8576b\"],[0.6666666666666666,\"#ed7953\"],[0.7777777777777778,\"#fb9f3a\"],[0.8888888888888888,\"#fdca26\"],[1.0,\"#f0f921\"]],\"sequentialminus\":[[0.0,\"#0d0887\"],[0.1111111111111111,\"#46039f\"],[0.2222222222222222,\"#7201a8\"],[0.3333333333333333,\"#9c179e\"],[0.4444444444444444,\"#bd3786\"],[0.5555555555555556,\"#d8576b\"],[0.6666666666666666,\"#ed7953\"],[0.7777777777777778,\"#fb9f3a\"],[0.8888888888888888,\"#fdca26\"],[1.0,\"#f0f921\"]]},\"colorway\":[\"#636efa\",\"#EF553B\",\"#00cc96\",\"#ab63fa\",\"#FFA15A\",\"#19d3f3\",\"#FF6692\",\"#B6E880\",\"#FF97FF\",\"#FECB52\"],\"font\":{\"color\":\"#2a3f5f\"},\"geo\":{\"bgcolor\":\"white\",\"lakecolor\":\"white\",\"landcolor\":\"#E5ECF6\",\"showlakes\":true,\"showland\":true,\"subunitcolor\":\"white\"},\"hoverlabel\":{\"align\":\"left\"},\"hovermode\":\"closest\",\"mapbox\":{\"style\":\"light\"},\"paper_bgcolor\":\"white\",\"plot_bgcolor\":\"#E5ECF6\",\"polar\":{\"angularaxis\":{\"gridcolor\":\"white\",\"linecolor\":\"white\",\"ticks\":\"\"},\"bgcolor\":\"#E5ECF6\",\"radialaxis\":{\"gridcolor\":\"white\",\"linecolor\":\"white\",\"ticks\":\"\"}},\"scene\":{\"xaxis\":{\"backgroundcolor\":\"#E5ECF6\",\"gridcolor\":\"white\",\"gridwidth\":2,\"linecolor\":\"white\",\"showbackground\":true,\"ticks\":\"\",\"zerolinecolor\":\"white\"},\"yaxis\":{\"backgroundcolor\":\"#E5ECF6\",\"gridcolor\":\"white\",\"gridwidth\":2,\"linecolor\":\"white\",\"showbackground\":true,\"ticks\":\"\",\"zerolinecolor\":\"white\"},\"zaxis\":{\"backgroundcolor\":\"#E5ECF6\",\"gridcolor\":\"white\",\"gridwidth\":2,\"linecolor\":\"white\",\"showbackground\":true,\"ticks\":\"\",\"zerolinecolor\":\"white\"}},\"shapedefaults\":{\"line\":{\"color\":\"#2a3f5f\"}},\"ternary\":{\"aaxis\":{\"gridcolor\":\"white\",\"linecolor\":\"white\",\"ticks\":\"\"},\"baxis\":{\"gridcolor\":\"white\",\"linecolor\":\"white\",\"ticks\":\"\"},\"bgcolor\":\"#E5ECF6\",\"caxis\":{\"gridcolor\":\"white\",\"linecolor\":\"white\",\"ticks\":\"\"}},\"title\":{\"x\":0.05},\"xaxis\":{\"automargin\":true,\"gridcolor\":\"white\",\"linecolor\":\"white\",\"ticks\":\"\",\"title\":{\"standoff\":15},\"zerolinecolor\":\"white\",\"zerolinewidth\":2},\"yaxis\":{\"automargin\":true,\"gridcolor\":\"white\",\"linecolor\":\"white\",\"ticks\":\"\",\"title\":{\"standoff\":15},\"zerolinecolor\":\"white\",\"zerolinewidth\":2}}},\"title\":{\"font\":{\"color\":\"#4D5663\"}},\"xaxis\":{\"gridcolor\":\"#E1E5ED\",\"showgrid\":true,\"tickfont\":{\"color\":\"#4D5663\"},\"title\":{\"font\":{\"color\":\"#4D5663\"},\"text\":\"\"},\"zerolinecolor\":\"#E1E5ED\"},\"yaxis\":{\"gridcolor\":\"#E1E5ED\",\"showgrid\":true,\"tickfont\":{\"color\":\"#4D5663\"},\"title\":{\"font\":{\"color\":\"#4D5663\"},\"text\":\"\"},\"zerolinecolor\":\"#E1E5ED\"}},                        {\"showLink\": true, \"linkText\": \"Export to plot.ly\", \"plotlyServerURL\": \"https://plot.ly\", \"responsive\": true}                    ).then(function(){\n",
       "                            \n",
       "var gd = document.getElementById('ef409915-297d-4f71-b74a-50c34d92ed27');\n",
       "var x = new MutationObserver(function (mutations, observer) {{\n",
       "        var display = window.getComputedStyle(gd).display;\n",
       "        if (!display || display === 'none') {{\n",
       "            console.log([gd, 'removed!']);\n",
       "            Plotly.purge(gd);\n",
       "            observer.disconnect();\n",
       "        }}\n",
       "}});\n",
       "\n",
       "// Listen for the removal of the full notebook cells\n",
       "var notebookContainer = gd.closest('#notebook-container');\n",
       "if (notebookContainer) {{\n",
       "    x.observe(notebookContainer, {childList: true});\n",
       "}}\n",
       "\n",
       "// Listen for the clearing of the current output cell\n",
       "var outputEl = gd.closest('.output');\n",
       "if (outputEl) {{\n",
       "    x.observe(outputEl, {childList: true});\n",
       "}}\n",
       "\n",
       "                        })                };                });            </script>        </div>"
      ]
     },
     "metadata": {},
     "output_type": "display_data"
    }
   ],
   "source": [
    "df['A'].iplot(kind='hist')"
   ]
  },
  {
   "cell_type": "code",
   "execution_count": 23,
   "id": "358f2101",
   "metadata": {},
   "outputs": [
    {
     "name": "stderr",
     "output_type": "stream",
     "text": [
      "C:\\Users\\dsouz\\anaconda3\\lib\\site-packages\\cufflinks\\plotlytools.py:849: FutureWarning:\n",
      "\n",
      "The pandas.np module is deprecated and will be removed from pandas in a future version. Import numpy directly instead.\n",
      "\n",
      "C:\\Users\\dsouz\\anaconda3\\lib\\site-packages\\cufflinks\\plotlytools.py:850: FutureWarning:\n",
      "\n",
      "The pandas.np module is deprecated and will be removed from pandas in a future version. Import numpy directly instead.\n",
      "\n"
     ]
    },
    {
     "data": {
      "application/vnd.plotly.v1+json": {
       "config": {
        "linkText": "Export to plot.ly",
        "plotlyServerURL": "https://plot.ly",
        "showLink": true
       },
       "data": [
        {
         "line": {
          "color": "rgba(255, 153, 51, 1.0)",
          "dash": "solid",
          "shape": "linear",
          "width": 1.3
         },
         "mode": "lines",
         "name": "A",
         "text": "",
         "type": "scatter",
         "x": [
          0,
          1,
          2,
          3,
          4,
          5,
          6,
          7,
          8,
          9,
          10,
          11,
          12,
          13,
          14,
          15,
          16,
          17,
          18,
          19,
          20,
          21,
          22,
          23,
          24,
          25,
          26,
          27,
          28,
          29,
          30,
          31,
          32,
          33,
          34,
          35,
          36,
          37,
          38,
          39,
          40,
          41,
          42,
          43,
          44,
          45,
          46,
          47,
          48,
          49,
          50,
          51,
          52,
          53,
          54,
          55,
          56,
          57,
          58,
          59,
          60,
          61,
          62,
          63,
          64,
          65,
          66,
          67,
          68,
          69,
          70,
          71,
          72,
          73,
          74,
          75,
          76,
          77,
          78,
          79,
          80,
          81,
          82,
          83,
          84,
          85,
          86,
          87,
          88,
          89,
          90,
          91,
          92,
          93,
          94,
          95,
          96,
          97,
          98,
          99
         ],
         "y": [
          0.6446209978304961,
          0.4078221920136122,
          -0.2765872970204885,
          0.10456735638555388,
          0.08324133721186451,
          0.057440297633351456,
          -1.2171690355819085,
          -0.09196308817524182,
          -1.4384482006426815,
          -0.9066078684780878,
          -3.0647955779058393,
          -0.5927155310656024,
          1.583409055253283,
          0.234106386964043,
          1.2987088354934264,
          -0.07913794969622139,
          1.9820971873442788,
          0.5300957800919711,
          0.0561241346154549,
          0.015369674156755879,
          -1.2127715104199281,
          0.035053315533376254,
          0.7118746375710167,
          -0.1952185441372051,
          -0.7579919569364388,
          0.8382884169380316,
          -0.2523101224096548,
          0.6311895916493456,
          -1.4756247761832622,
          -1.9698270932740207,
          -1.3372120572711683,
          -0.0055887604966179906,
          -1.7516160926744089,
          0.543208412020896,
          0.707473240158141,
          0.6593860529630602,
          -0.966138313509074,
          1.2445708261621509,
          -1.0802389340212704,
          0.5086900141225315,
          0.06968362854003969,
          -0.6676088576024096,
          -0.6772597043552857,
          1.0685188366936331,
          -1.197023278836309,
          1.3296472778183843,
          -1.7352843284646196,
          -1.0582875565845407,
          1.0617180487815374,
          1.4540725943983606,
          0.5317907297889919,
          0.7420563485732212,
          -0.18793332995515025,
          -1.2305655757068716,
          -0.1772600412850589,
          -1.148239267934772,
          0.4037983500944594,
          0.9812475937057795,
          -0.4956402857253395,
          -0.28809363061450555,
          -0.6487072922681356,
          0.8481841770338829,
          -0.3114926773390753,
          0.3471058665605341,
          2.8359142899847587,
          -0.10683669988149225,
          0.7333023074176133,
          -0.9756817628998831,
          -1.4734885498421182,
          -0.8026545150142835,
          -0.9084824357349854,
          0.451034781575594,
          -0.14441496470423662,
          -1.9756483521255614,
          -0.5332455788412271,
          -0.63886776707257,
          -2.2713107658786433,
          -0.40268261110912806,
          -1.953505525568803,
          0.21002398901558625,
          0.5515111078971915,
          1.8137764486502015,
          -0.5238352930793719,
          -0.2822937597610257,
          0.41863932362537837,
          0.10282204212326963,
          2.0754089376632825,
          0.6972799565874593,
          1.1614656583668113,
          1.3623377423265945,
          0.10708896322825404,
          -0.35965989943947024,
          0.7454316477825902,
          -0.5002942850467338,
          0.3404751564352129,
          -0.7529900522556313,
          0.21081704514965283,
          1.753849340431904,
          0.8556437691539508,
          0.701648831151324
         ]
        },
        {
         "line": {
          "color": "rgba(55, 128, 191, 1.0)",
          "dash": "solid",
          "shape": "linear",
          "width": 1.3
         },
         "mode": "lines",
         "name": "B",
         "text": "",
         "type": "scatter",
         "x": [
          0,
          1,
          2,
          3,
          4,
          5,
          6,
          7,
          8,
          9,
          10,
          11,
          12,
          13,
          14,
          15,
          16,
          17,
          18,
          19,
          20,
          21,
          22,
          23,
          24,
          25,
          26,
          27,
          28,
          29,
          30,
          31,
          32,
          33,
          34,
          35,
          36,
          37,
          38,
          39,
          40,
          41,
          42,
          43,
          44,
          45,
          46,
          47,
          48,
          49,
          50,
          51,
          52,
          53,
          54,
          55,
          56,
          57,
          58,
          59,
          60,
          61,
          62,
          63,
          64,
          65,
          66,
          67,
          68,
          69,
          70,
          71,
          72,
          73,
          74,
          75,
          76,
          77,
          78,
          79,
          80,
          81,
          82,
          83,
          84,
          85,
          86,
          87,
          88,
          89,
          90,
          91,
          92,
          93,
          94,
          95,
          96,
          97,
          98,
          99
         ],
         "y": [
          -0.22160750690840028,
          1.7158554903880332,
          -0.6237740459654896,
          1.7171818589480066,
          -0.1968115099154782,
          -0.9178801038802831,
          -0.8648477636664242,
          -0.26311475476438756,
          -0.3644265939925632,
          -0.9804658128967962,
          1.0326790474999514,
          -1.5535104837887026,
          -0.16460272611477467,
          1.4317841740173647,
          0.13868359918099005,
          -0.26283282569495164,
          1.4671591243018076,
          0.9928316600028886,
          1.798718933737595,
          -0.12194429267969392,
          -1.2135185401556021,
          -0.5676843906954775,
          0.5466472148108473,
          1.5064364433330995,
          0.2294216562379941,
          -0.45183094530211637,
          -0.5990162630544981,
          1.2093106738320492,
          -0.5115952740366038,
          -1.3389739304237893,
          -0.05705254876762868,
          0.18038672055746063,
          1.7979243126872604,
          -0.9180546332511316,
          0.00838642535099962,
          -0.7440498127142733,
          0.42076697337853947,
          -1.4875438989362184,
          0.25306783994077015,
          1.8824847563507707,
          -0.5169299902217411,
          0.2883651291147273,
          -0.8722294837074352,
          0.2519290622637881,
          -1.8324172801056757,
          0.37575977161583207,
          0.9443994946857267,
          0.24775429904167792,
          -0.8099720675420381,
          0.8227450644967887,
          0.21290770852438837,
          -0.4753072455838816,
          -0.3011324544818885,
          -0.003528999951231824,
          -0.19640311199830598,
          0.34129342746016,
          0.8817453262399159,
          -0.14964935915574884,
          0.6386867039194815,
          1.6888518942380055,
          -0.954599303308324,
          -1.3586802403670986,
          -0.805279213474311,
          0.6484073187263913,
          0.23471787263488347,
          1.573593064081298,
          1.4803498296832225,
          -0.6778894932880246,
          -2.7440090441649985,
          0.5807543021017987,
          -0.8878887797836558,
          1.3493372535410566,
          -1.1731712522803317,
          0.9009129011476739,
          0.9927017366728492,
          -1.1113954750547725,
          -0.3911079194019816,
          -0.5604947607506066,
          -0.5130962215220196,
          0.296256896974686,
          -0.1897579204290804,
          -0.19731011276449487,
          1.2797615737542352,
          -0.3117436598969686,
          2.2371515544398384,
          1.1906124852355693,
          0.2381106335734882,
          -0.6858170151367708,
          1.150058581328844,
          0.19314586783555093,
          -1.3262365216682042,
          0.22266823381194942,
          -1.1045743475961767,
          -1.0501370436953776,
          1.2875349619480438,
          -1.570363318967189,
          -0.5266463105521983,
          0.5167043413713699,
          0.3411124470341882,
          2.987140002245271
         ]
        },
        {
         "connectgaps": false,
         "fill": "tozeroy",
         "line": {
          "color": "green",
          "dash": "solid",
          "shape": "linear",
          "width": 0.5
         },
         "mode": "lines",
         "name": "Spread",
         "showlegend": false,
         "type": "scatter",
         "x": [
          0,
          1,
          2,
          3,
          4,
          5,
          6,
          7,
          8,
          9,
          10,
          11,
          12,
          13,
          14,
          15,
          16,
          17,
          18,
          19,
          20,
          21,
          22,
          23,
          24,
          25,
          26,
          27,
          28,
          29,
          30,
          31,
          32,
          33,
          34,
          35,
          36,
          37,
          38,
          39,
          40,
          41,
          42,
          43,
          44,
          45,
          46,
          47,
          48,
          49,
          50,
          51,
          52,
          53,
          54,
          55,
          56,
          57,
          58,
          59,
          60,
          61,
          62,
          63,
          64,
          65,
          66,
          67,
          68,
          69,
          70,
          71,
          72,
          73,
          74,
          75,
          76,
          77,
          78,
          79,
          80,
          81,
          82,
          83,
          84,
          85,
          86,
          87,
          88,
          89,
          90,
          91,
          92,
          93,
          94,
          95,
          96,
          97,
          98,
          99
         ],
         "xaxis": "x2",
         "y": [
          0.8662285047388963,
          "",
          0.34718674894500107,
          "",
          0.2800528471273427,
          0.9753204015136345,
          "",
          0.17115166658914574,
          "",
          0.07385794441870841,
          "",
          0.9607949527231002,
          1.7480117813680576,
          "",
          1.1600252363124364,
          0.18369487599873024,
          0.5149380630424711,
          "",
          "",
          0.1373139668364498,
          0.0007470297356739763,
          0.6027377062288537,
          0.16522742276016933,
          "",
          "",
          1.290119362240148,
          0.3467061406448433,
          "",
          "",
          "",
          "",
          "",
          "",
          1.4612630452720277,
          0.6990868148071413,
          1.4034358656773334,
          "",
          2.732114725098369,
          "",
          "",
          0.5866136187617809,
          "",
          0.19496977935214954,
          0.816589774429845,
          0.6353940012693666,
          0.9538875062025522,
          "",
          "",
          1.8716901163235755,
          0.6313275299015718,
          0.31888302126460355,
          1.2173635941571028,
          0.11319912452673828,
          "",
          0.019143070713247085,
          "",
          "",
          1.1308969528615282,
          "",
          "",
          0.30589201104018837,
          2.2068644174009817,
          0.49378653613523565,
          "",
          2.6011964173498754,
          "",
          "",
          "",
          1.2705204943228803,
          "",
          "",
          "",
          1.0287562875760952,
          "",
          "",
          0.47252770798220256,
          "",
          0.1578121496414785,
          "",
          "",
          0.741269028326272,
          2.011086561414696,
          "",
          0.029449900135942897,
          "",
          "",
          1.8372983040897943,
          1.38309697172423,
          0.011407077037967284,
          1.1691918744910437,
          1.4333254848964583,
          "",
          1.8500059953787669,
          0.5498427586486438,
          "",
          0.8173732667115577,
          0.7374633557018512,
          1.237144999060534,
          0.5145313221197626,
          ""
         ],
         "yaxis": "y2"
        },
        {
         "connectgaps": false,
         "fill": "tozeroy",
         "line": {
          "color": "red",
          "dash": "solid",
          "shape": "linear",
          "width": 0.5
         },
         "mode": "lines",
         "name": "Spread",
         "showlegend": false,
         "type": "scatter",
         "x": [
          0,
          1,
          2,
          3,
          4,
          5,
          6,
          7,
          8,
          9,
          10,
          11,
          12,
          13,
          14,
          15,
          16,
          17,
          18,
          19,
          20,
          21,
          22,
          23,
          24,
          25,
          26,
          27,
          28,
          29,
          30,
          31,
          32,
          33,
          34,
          35,
          36,
          37,
          38,
          39,
          40,
          41,
          42,
          43,
          44,
          45,
          46,
          47,
          48,
          49,
          50,
          51,
          52,
          53,
          54,
          55,
          56,
          57,
          58,
          59,
          60,
          61,
          62,
          63,
          64,
          65,
          66,
          67,
          68,
          69,
          70,
          71,
          72,
          73,
          74,
          75,
          76,
          77,
          78,
          79,
          80,
          81,
          82,
          83,
          84,
          85,
          86,
          87,
          88,
          89,
          90,
          91,
          92,
          93,
          94,
          95,
          96,
          97,
          98,
          99
         ],
         "xaxis": "x2",
         "y": [
          "",
          -1.308033298374421,
          "",
          -1.6126145025624528,
          "",
          "",
          -0.35232127191548424,
          "",
          -1.0740216066501183,
          "",
          -4.097474625405791,
          "",
          "",
          -1.1976777870533217,
          "",
          "",
          "",
          -0.46273587991091747,
          -1.7425947991221402,
          "",
          "",
          "",
          "",
          -1.7016549874703046,
          -0.9874136131744329,
          "",
          "",
          -0.5781210821827035,
          -0.9640295021466584,
          -0.6308531628502314,
          -1.2801595085035395,
          -0.18597548105407863,
          -3.549540405361669,
          "",
          "",
          "",
          -1.3869052868876135,
          "",
          -1.3333067739620406,
          -1.3737947422282393,
          "",
          -0.9559739867171368,
          "",
          "",
          "",
          "",
          -2.6796838231503464,
          -1.3060418556262186,
          "",
          "",
          "",
          "",
          "",
          -1.2270365757556398,
          "",
          -1.489532695394932,
          -0.47794697614545645,
          "",
          -1.134326989644821,
          -1.976945524852511,
          "",
          "",
          "",
          -0.30130145216585724,
          "",
          -1.6804297639627903,
          -0.7470475222656092,
          -0.29779226961185845,
          "",
          -1.383408817116082,
          -0.02059365595132967,
          -0.8983024719654626,
          "",
          -2.8765612532732354,
          -1.5259473155140764,
          "",
          -1.8802028464766618,
          "",
          -1.4404093040467834,
          -0.08623290795909974,
          "",
          "",
          -1.803596866833607,
          "",
          -1.8185122308144601,
          -1.0877904431122996,
          "",
          "",
          "",
          "",
          "",
          -0.5823281332514196,
          "",
          "",
          -0.947059805512831,
          "",
          "",
          "",
          "",
          -2.2854911710939474
         ],
         "yaxis": "y2"
        }
       ],
       "layout": {
        "hovermode": "x",
        "legend": {
         "bgcolor": "#F5F6F9",
         "font": {
          "color": "#4D5663"
         }
        },
        "paper_bgcolor": "#F5F6F9",
        "plot_bgcolor": "#F5F6F9",
        "template": {
         "data": {
          "bar": [
           {
            "error_x": {
             "color": "#2a3f5f"
            },
            "error_y": {
             "color": "#2a3f5f"
            },
            "marker": {
             "line": {
              "color": "#E5ECF6",
              "width": 0.5
             },
             "pattern": {
              "fillmode": "overlay",
              "size": 10,
              "solidity": 0.2
             }
            },
            "type": "bar"
           }
          ],
          "barpolar": [
           {
            "marker": {
             "line": {
              "color": "#E5ECF6",
              "width": 0.5
             },
             "pattern": {
              "fillmode": "overlay",
              "size": 10,
              "solidity": 0.2
             }
            },
            "type": "barpolar"
           }
          ],
          "carpet": [
           {
            "aaxis": {
             "endlinecolor": "#2a3f5f",
             "gridcolor": "white",
             "linecolor": "white",
             "minorgridcolor": "white",
             "startlinecolor": "#2a3f5f"
            },
            "baxis": {
             "endlinecolor": "#2a3f5f",
             "gridcolor": "white",
             "linecolor": "white",
             "minorgridcolor": "white",
             "startlinecolor": "#2a3f5f"
            },
            "type": "carpet"
           }
          ],
          "choropleth": [
           {
            "colorbar": {
             "outlinewidth": 0,
             "ticks": ""
            },
            "type": "choropleth"
           }
          ],
          "contour": [
           {
            "colorbar": {
             "outlinewidth": 0,
             "ticks": ""
            },
            "colorscale": [
             [
              0,
              "#0d0887"
             ],
             [
              0.1111111111111111,
              "#46039f"
             ],
             [
              0.2222222222222222,
              "#7201a8"
             ],
             [
              0.3333333333333333,
              "#9c179e"
             ],
             [
              0.4444444444444444,
              "#bd3786"
             ],
             [
              0.5555555555555556,
              "#d8576b"
             ],
             [
              0.6666666666666666,
              "#ed7953"
             ],
             [
              0.7777777777777778,
              "#fb9f3a"
             ],
             [
              0.8888888888888888,
              "#fdca26"
             ],
             [
              1,
              "#f0f921"
             ]
            ],
            "type": "contour"
           }
          ],
          "contourcarpet": [
           {
            "colorbar": {
             "outlinewidth": 0,
             "ticks": ""
            },
            "type": "contourcarpet"
           }
          ],
          "heatmap": [
           {
            "colorbar": {
             "outlinewidth": 0,
             "ticks": ""
            },
            "colorscale": [
             [
              0,
              "#0d0887"
             ],
             [
              0.1111111111111111,
              "#46039f"
             ],
             [
              0.2222222222222222,
              "#7201a8"
             ],
             [
              0.3333333333333333,
              "#9c179e"
             ],
             [
              0.4444444444444444,
              "#bd3786"
             ],
             [
              0.5555555555555556,
              "#d8576b"
             ],
             [
              0.6666666666666666,
              "#ed7953"
             ],
             [
              0.7777777777777778,
              "#fb9f3a"
             ],
             [
              0.8888888888888888,
              "#fdca26"
             ],
             [
              1,
              "#f0f921"
             ]
            ],
            "type": "heatmap"
           }
          ],
          "heatmapgl": [
           {
            "colorbar": {
             "outlinewidth": 0,
             "ticks": ""
            },
            "colorscale": [
             [
              0,
              "#0d0887"
             ],
             [
              0.1111111111111111,
              "#46039f"
             ],
             [
              0.2222222222222222,
              "#7201a8"
             ],
             [
              0.3333333333333333,
              "#9c179e"
             ],
             [
              0.4444444444444444,
              "#bd3786"
             ],
             [
              0.5555555555555556,
              "#d8576b"
             ],
             [
              0.6666666666666666,
              "#ed7953"
             ],
             [
              0.7777777777777778,
              "#fb9f3a"
             ],
             [
              0.8888888888888888,
              "#fdca26"
             ],
             [
              1,
              "#f0f921"
             ]
            ],
            "type": "heatmapgl"
           }
          ],
          "histogram": [
           {
            "marker": {
             "pattern": {
              "fillmode": "overlay",
              "size": 10,
              "solidity": 0.2
             }
            },
            "type": "histogram"
           }
          ],
          "histogram2d": [
           {
            "colorbar": {
             "outlinewidth": 0,
             "ticks": ""
            },
            "colorscale": [
             [
              0,
              "#0d0887"
             ],
             [
              0.1111111111111111,
              "#46039f"
             ],
             [
              0.2222222222222222,
              "#7201a8"
             ],
             [
              0.3333333333333333,
              "#9c179e"
             ],
             [
              0.4444444444444444,
              "#bd3786"
             ],
             [
              0.5555555555555556,
              "#d8576b"
             ],
             [
              0.6666666666666666,
              "#ed7953"
             ],
             [
              0.7777777777777778,
              "#fb9f3a"
             ],
             [
              0.8888888888888888,
              "#fdca26"
             ],
             [
              1,
              "#f0f921"
             ]
            ],
            "type": "histogram2d"
           }
          ],
          "histogram2dcontour": [
           {
            "colorbar": {
             "outlinewidth": 0,
             "ticks": ""
            },
            "colorscale": [
             [
              0,
              "#0d0887"
             ],
             [
              0.1111111111111111,
              "#46039f"
             ],
             [
              0.2222222222222222,
              "#7201a8"
             ],
             [
              0.3333333333333333,
              "#9c179e"
             ],
             [
              0.4444444444444444,
              "#bd3786"
             ],
             [
              0.5555555555555556,
              "#d8576b"
             ],
             [
              0.6666666666666666,
              "#ed7953"
             ],
             [
              0.7777777777777778,
              "#fb9f3a"
             ],
             [
              0.8888888888888888,
              "#fdca26"
             ],
             [
              1,
              "#f0f921"
             ]
            ],
            "type": "histogram2dcontour"
           }
          ],
          "mesh3d": [
           {
            "colorbar": {
             "outlinewidth": 0,
             "ticks": ""
            },
            "type": "mesh3d"
           }
          ],
          "parcoords": [
           {
            "line": {
             "colorbar": {
              "outlinewidth": 0,
              "ticks": ""
             }
            },
            "type": "parcoords"
           }
          ],
          "pie": [
           {
            "automargin": true,
            "type": "pie"
           }
          ],
          "scatter": [
           {
            "fillpattern": {
             "fillmode": "overlay",
             "size": 10,
             "solidity": 0.2
            },
            "type": "scatter"
           }
          ],
          "scatter3d": [
           {
            "line": {
             "colorbar": {
              "outlinewidth": 0,
              "ticks": ""
             }
            },
            "marker": {
             "colorbar": {
              "outlinewidth": 0,
              "ticks": ""
             }
            },
            "type": "scatter3d"
           }
          ],
          "scattercarpet": [
           {
            "marker": {
             "colorbar": {
              "outlinewidth": 0,
              "ticks": ""
             }
            },
            "type": "scattercarpet"
           }
          ],
          "scattergeo": [
           {
            "marker": {
             "colorbar": {
              "outlinewidth": 0,
              "ticks": ""
             }
            },
            "type": "scattergeo"
           }
          ],
          "scattergl": [
           {
            "marker": {
             "colorbar": {
              "outlinewidth": 0,
              "ticks": ""
             }
            },
            "type": "scattergl"
           }
          ],
          "scattermapbox": [
           {
            "marker": {
             "colorbar": {
              "outlinewidth": 0,
              "ticks": ""
             }
            },
            "type": "scattermapbox"
           }
          ],
          "scatterpolar": [
           {
            "marker": {
             "colorbar": {
              "outlinewidth": 0,
              "ticks": ""
             }
            },
            "type": "scatterpolar"
           }
          ],
          "scatterpolargl": [
           {
            "marker": {
             "colorbar": {
              "outlinewidth": 0,
              "ticks": ""
             }
            },
            "type": "scatterpolargl"
           }
          ],
          "scatterternary": [
           {
            "marker": {
             "colorbar": {
              "outlinewidth": 0,
              "ticks": ""
             }
            },
            "type": "scatterternary"
           }
          ],
          "surface": [
           {
            "colorbar": {
             "outlinewidth": 0,
             "ticks": ""
            },
            "colorscale": [
             [
              0,
              "#0d0887"
             ],
             [
              0.1111111111111111,
              "#46039f"
             ],
             [
              0.2222222222222222,
              "#7201a8"
             ],
             [
              0.3333333333333333,
              "#9c179e"
             ],
             [
              0.4444444444444444,
              "#bd3786"
             ],
             [
              0.5555555555555556,
              "#d8576b"
             ],
             [
              0.6666666666666666,
              "#ed7953"
             ],
             [
              0.7777777777777778,
              "#fb9f3a"
             ],
             [
              0.8888888888888888,
              "#fdca26"
             ],
             [
              1,
              "#f0f921"
             ]
            ],
            "type": "surface"
           }
          ],
          "table": [
           {
            "cells": {
             "fill": {
              "color": "#EBF0F8"
             },
             "line": {
              "color": "white"
             }
            },
            "header": {
             "fill": {
              "color": "#C8D4E3"
             },
             "line": {
              "color": "white"
             }
            },
            "type": "table"
           }
          ]
         },
         "layout": {
          "annotationdefaults": {
           "arrowcolor": "#2a3f5f",
           "arrowhead": 0,
           "arrowwidth": 1
          },
          "autotypenumbers": "strict",
          "coloraxis": {
           "colorbar": {
            "outlinewidth": 0,
            "ticks": ""
           }
          },
          "colorscale": {
           "diverging": [
            [
             0,
             "#8e0152"
            ],
            [
             0.1,
             "#c51b7d"
            ],
            [
             0.2,
             "#de77ae"
            ],
            [
             0.3,
             "#f1b6da"
            ],
            [
             0.4,
             "#fde0ef"
            ],
            [
             0.5,
             "#f7f7f7"
            ],
            [
             0.6,
             "#e6f5d0"
            ],
            [
             0.7,
             "#b8e186"
            ],
            [
             0.8,
             "#7fbc41"
            ],
            [
             0.9,
             "#4d9221"
            ],
            [
             1,
             "#276419"
            ]
           ],
           "sequential": [
            [
             0,
             "#0d0887"
            ],
            [
             0.1111111111111111,
             "#46039f"
            ],
            [
             0.2222222222222222,
             "#7201a8"
            ],
            [
             0.3333333333333333,
             "#9c179e"
            ],
            [
             0.4444444444444444,
             "#bd3786"
            ],
            [
             0.5555555555555556,
             "#d8576b"
            ],
            [
             0.6666666666666666,
             "#ed7953"
            ],
            [
             0.7777777777777778,
             "#fb9f3a"
            ],
            [
             0.8888888888888888,
             "#fdca26"
            ],
            [
             1,
             "#f0f921"
            ]
           ],
           "sequentialminus": [
            [
             0,
             "#0d0887"
            ],
            [
             0.1111111111111111,
             "#46039f"
            ],
            [
             0.2222222222222222,
             "#7201a8"
            ],
            [
             0.3333333333333333,
             "#9c179e"
            ],
            [
             0.4444444444444444,
             "#bd3786"
            ],
            [
             0.5555555555555556,
             "#d8576b"
            ],
            [
             0.6666666666666666,
             "#ed7953"
            ],
            [
             0.7777777777777778,
             "#fb9f3a"
            ],
            [
             0.8888888888888888,
             "#fdca26"
            ],
            [
             1,
             "#f0f921"
            ]
           ]
          },
          "colorway": [
           "#636efa",
           "#EF553B",
           "#00cc96",
           "#ab63fa",
           "#FFA15A",
           "#19d3f3",
           "#FF6692",
           "#B6E880",
           "#FF97FF",
           "#FECB52"
          ],
          "font": {
           "color": "#2a3f5f"
          },
          "geo": {
           "bgcolor": "white",
           "lakecolor": "white",
           "landcolor": "#E5ECF6",
           "showlakes": true,
           "showland": true,
           "subunitcolor": "white"
          },
          "hoverlabel": {
           "align": "left"
          },
          "hovermode": "closest",
          "mapbox": {
           "style": "light"
          },
          "paper_bgcolor": "white",
          "plot_bgcolor": "#E5ECF6",
          "polar": {
           "angularaxis": {
            "gridcolor": "white",
            "linecolor": "white",
            "ticks": ""
           },
           "bgcolor": "#E5ECF6",
           "radialaxis": {
            "gridcolor": "white",
            "linecolor": "white",
            "ticks": ""
           }
          },
          "scene": {
           "xaxis": {
            "backgroundcolor": "#E5ECF6",
            "gridcolor": "white",
            "gridwidth": 2,
            "linecolor": "white",
            "showbackground": true,
            "ticks": "",
            "zerolinecolor": "white"
           },
           "yaxis": {
            "backgroundcolor": "#E5ECF6",
            "gridcolor": "white",
            "gridwidth": 2,
            "linecolor": "white",
            "showbackground": true,
            "ticks": "",
            "zerolinecolor": "white"
           },
           "zaxis": {
            "backgroundcolor": "#E5ECF6",
            "gridcolor": "white",
            "gridwidth": 2,
            "linecolor": "white",
            "showbackground": true,
            "ticks": "",
            "zerolinecolor": "white"
           }
          },
          "shapedefaults": {
           "line": {
            "color": "#2a3f5f"
           }
          },
          "ternary": {
           "aaxis": {
            "gridcolor": "white",
            "linecolor": "white",
            "ticks": ""
           },
           "baxis": {
            "gridcolor": "white",
            "linecolor": "white",
            "ticks": ""
           },
           "bgcolor": "#E5ECF6",
           "caxis": {
            "gridcolor": "white",
            "linecolor": "white",
            "ticks": ""
           }
          },
          "title": {
           "x": 0.05
          },
          "xaxis": {
           "automargin": true,
           "gridcolor": "white",
           "linecolor": "white",
           "ticks": "",
           "title": {
            "standoff": 15
           },
           "zerolinecolor": "white",
           "zerolinewidth": 2
          },
          "yaxis": {
           "automargin": true,
           "gridcolor": "white",
           "linecolor": "white",
           "ticks": "",
           "title": {
            "standoff": 15
           },
           "zerolinecolor": "white",
           "zerolinewidth": 2
          }
         }
        },
        "title": {
         "font": {
          "color": "#4D5663"
         }
        },
        "xaxis": {
         "gridcolor": "#E1E5ED",
         "showgrid": true,
         "tickfont": {
          "color": "#4D5663"
         },
         "title": {
          "font": {
           "color": "#4D5663"
          },
          "text": ""
         },
         "zerolinecolor": "#E1E5ED"
        },
        "xaxis2": {
         "anchor": "y2",
         "gridcolor": "#E1E5ED",
         "showgrid": true,
         "showticklabels": false,
         "tickfont": {
          "color": "#4D5663"
         },
         "title": {
          "font": {
           "color": "#4D5663"
          },
          "text": ""
         },
         "zerolinecolor": "#E1E5ED"
        },
        "yaxis": {
         "domain": [
          0.3,
          1
         ],
         "gridcolor": "#E1E5ED",
         "showgrid": true,
         "tickfont": {
          "color": "#4D5663"
         },
         "title": {
          "font": {
           "color": "#4D5663"
          },
          "text": ""
         },
         "zerolinecolor": "#E1E5ED"
        },
        "yaxis2": {
         "domain": [
          0,
          0.25
         ],
         "gridcolor": "#E1E5ED",
         "showgrid": true,
         "tickfont": {
          "color": "#4D5663"
         },
         "title": {
          "font": {
           "color": "#4D5663"
          },
          "text": "Spread"
         },
         "zerolinecolor": "#E1E5ED"
        }
       }
      },
      "text/html": [
       "<div>                            <div id=\"5691b0f0-a719-460c-96cc-863742067d50\" class=\"plotly-graph-div\" style=\"height:525px; width:100%;\"></div>            <script type=\"text/javascript\">                require([\"plotly\"], function(Plotly) {                    window.PLOTLYENV=window.PLOTLYENV || {};\n",
       "                    window.PLOTLYENV.BASE_URL='https://plot.ly';                                    if (document.getElementById(\"5691b0f0-a719-460c-96cc-863742067d50\")) {                    Plotly.newPlot(                        \"5691b0f0-a719-460c-96cc-863742067d50\",                        [{\"line\":{\"color\":\"rgba(255, 153, 51, 1.0)\",\"dash\":\"solid\",\"shape\":\"linear\",\"width\":1.3},\"mode\":\"lines\",\"name\":\"A\",\"text\":\"\",\"x\":[0,1,2,3,4,5,6,7,8,9,10,11,12,13,14,15,16,17,18,19,20,21,22,23,24,25,26,27,28,29,30,31,32,33,34,35,36,37,38,39,40,41,42,43,44,45,46,47,48,49,50,51,52,53,54,55,56,57,58,59,60,61,62,63,64,65,66,67,68,69,70,71,72,73,74,75,76,77,78,79,80,81,82,83,84,85,86,87,88,89,90,91,92,93,94,95,96,97,98,99],\"y\":[0.6446209978304961,0.4078221920136122,-0.2765872970204885,0.10456735638555388,0.08324133721186451,0.057440297633351456,-1.2171690355819085,-0.09196308817524182,-1.4384482006426815,-0.9066078684780878,-3.0647955779058393,-0.5927155310656024,1.583409055253283,0.234106386964043,1.2987088354934264,-0.07913794969622139,1.9820971873442788,0.5300957800919711,0.0561241346154549,0.015369674156755879,-1.2127715104199281,0.035053315533376254,0.7118746375710167,-0.1952185441372051,-0.7579919569364388,0.8382884169380316,-0.2523101224096548,0.6311895916493456,-1.4756247761832622,-1.9698270932740207,-1.3372120572711683,-0.0055887604966179906,-1.7516160926744089,0.543208412020896,0.707473240158141,0.6593860529630602,-0.966138313509074,1.2445708261621509,-1.0802389340212704,0.5086900141225315,0.06968362854003969,-0.6676088576024096,-0.6772597043552857,1.0685188366936331,-1.197023278836309,1.3296472778183843,-1.7352843284646196,-1.0582875565845407,1.0617180487815374,1.4540725943983606,0.5317907297889919,0.7420563485732212,-0.18793332995515025,-1.2305655757068716,-0.1772600412850589,-1.148239267934772,0.4037983500944594,0.9812475937057795,-0.4956402857253395,-0.28809363061450555,-0.6487072922681356,0.8481841770338829,-0.3114926773390753,0.3471058665605341,2.8359142899847587,-0.10683669988149225,0.7333023074176133,-0.9756817628998831,-1.4734885498421182,-0.8026545150142835,-0.9084824357349854,0.451034781575594,-0.14441496470423662,-1.9756483521255614,-0.5332455788412271,-0.63886776707257,-2.2713107658786433,-0.40268261110912806,-1.953505525568803,0.21002398901558625,0.5515111078971915,1.8137764486502015,-0.5238352930793719,-0.2822937597610257,0.41863932362537837,0.10282204212326963,2.0754089376632825,0.6972799565874593,1.1614656583668113,1.3623377423265945,0.10708896322825404,-0.35965989943947024,0.7454316477825902,-0.5002942850467338,0.3404751564352129,-0.7529900522556313,0.21081704514965283,1.753849340431904,0.8556437691539508,0.701648831151324],\"type\":\"scatter\"},{\"line\":{\"color\":\"rgba(55, 128, 191, 1.0)\",\"dash\":\"solid\",\"shape\":\"linear\",\"width\":1.3},\"mode\":\"lines\",\"name\":\"B\",\"text\":\"\",\"x\":[0,1,2,3,4,5,6,7,8,9,10,11,12,13,14,15,16,17,18,19,20,21,22,23,24,25,26,27,28,29,30,31,32,33,34,35,36,37,38,39,40,41,42,43,44,45,46,47,48,49,50,51,52,53,54,55,56,57,58,59,60,61,62,63,64,65,66,67,68,69,70,71,72,73,74,75,76,77,78,79,80,81,82,83,84,85,86,87,88,89,90,91,92,93,94,95,96,97,98,99],\"y\":[-0.22160750690840028,1.7158554903880332,-0.6237740459654896,1.7171818589480066,-0.1968115099154782,-0.9178801038802831,-0.8648477636664242,-0.26311475476438756,-0.3644265939925632,-0.9804658128967962,1.0326790474999514,-1.5535104837887026,-0.16460272611477467,1.4317841740173647,0.13868359918099005,-0.26283282569495164,1.4671591243018076,0.9928316600028886,1.798718933737595,-0.12194429267969392,-1.2135185401556021,-0.5676843906954775,0.5466472148108473,1.5064364433330995,0.2294216562379941,-0.45183094530211637,-0.5990162630544981,1.2093106738320492,-0.5115952740366038,-1.3389739304237893,-0.05705254876762868,0.18038672055746063,1.7979243126872604,-0.9180546332511316,0.00838642535099962,-0.7440498127142733,0.42076697337853947,-1.4875438989362184,0.25306783994077015,1.8824847563507707,-0.5169299902217411,0.2883651291147273,-0.8722294837074352,0.2519290622637881,-1.8324172801056757,0.37575977161583207,0.9443994946857267,0.24775429904167792,-0.8099720675420381,0.8227450644967887,0.21290770852438837,-0.4753072455838816,-0.3011324544818885,-0.003528999951231824,-0.19640311199830598,0.34129342746016,0.8817453262399159,-0.14964935915574884,0.6386867039194815,1.6888518942380055,-0.954599303308324,-1.3586802403670986,-0.805279213474311,0.6484073187263913,0.23471787263488347,1.573593064081298,1.4803498296832225,-0.6778894932880246,-2.7440090441649985,0.5807543021017987,-0.8878887797836558,1.3493372535410566,-1.1731712522803317,0.9009129011476739,0.9927017366728492,-1.1113954750547725,-0.3911079194019816,-0.5604947607506066,-0.5130962215220196,0.296256896974686,-0.1897579204290804,-0.19731011276449487,1.2797615737542352,-0.3117436598969686,2.2371515544398384,1.1906124852355693,0.2381106335734882,-0.6858170151367708,1.150058581328844,0.19314586783555093,-1.3262365216682042,0.22266823381194942,-1.1045743475961767,-1.0501370436953776,1.2875349619480438,-1.570363318967189,-0.5266463105521983,0.5167043413713699,0.3411124470341882,2.987140002245271],\"type\":\"scatter\"},{\"connectgaps\":false,\"fill\":\"tozeroy\",\"line\":{\"color\":\"green\",\"dash\":\"solid\",\"shape\":\"linear\",\"width\":0.5},\"mode\":\"lines\",\"name\":\"Spread\",\"showlegend\":false,\"x\":[0,1,2,3,4,5,6,7,8,9,10,11,12,13,14,15,16,17,18,19,20,21,22,23,24,25,26,27,28,29,30,31,32,33,34,35,36,37,38,39,40,41,42,43,44,45,46,47,48,49,50,51,52,53,54,55,56,57,58,59,60,61,62,63,64,65,66,67,68,69,70,71,72,73,74,75,76,77,78,79,80,81,82,83,84,85,86,87,88,89,90,91,92,93,94,95,96,97,98,99],\"xaxis\":\"x2\",\"y\":[0.8662285047388963,\"\",0.34718674894500107,\"\",0.2800528471273427,0.9753204015136345,\"\",0.17115166658914574,\"\",0.07385794441870841,\"\",0.9607949527231002,1.7480117813680576,\"\",1.1600252363124364,0.18369487599873024,0.5149380630424711,\"\",\"\",0.1373139668364498,0.0007470297356739763,0.6027377062288537,0.16522742276016933,\"\",\"\",1.290119362240148,0.3467061406448433,\"\",\"\",\"\",\"\",\"\",\"\",1.4612630452720277,0.6990868148071413,1.4034358656773334,\"\",2.732114725098369,\"\",\"\",0.5866136187617809,\"\",0.19496977935214954,0.816589774429845,0.6353940012693666,0.9538875062025522,\"\",\"\",1.8716901163235755,0.6313275299015718,0.31888302126460355,1.2173635941571028,0.11319912452673828,\"\",0.019143070713247085,\"\",\"\",1.1308969528615282,\"\",\"\",0.30589201104018837,2.2068644174009817,0.49378653613523565,\"\",2.6011964173498754,\"\",\"\",\"\",1.2705204943228803,\"\",\"\",\"\",1.0287562875760952,\"\",\"\",0.47252770798220256,\"\",0.1578121496414785,\"\",\"\",0.741269028326272,2.011086561414696,\"\",0.029449900135942897,\"\",\"\",1.8372983040897943,1.38309697172423,0.011407077037967284,1.1691918744910437,1.4333254848964583,\"\",1.8500059953787669,0.5498427586486438,\"\",0.8173732667115577,0.7374633557018512,1.237144999060534,0.5145313221197626,\"\"],\"yaxis\":\"y2\",\"type\":\"scatter\"},{\"connectgaps\":false,\"fill\":\"tozeroy\",\"line\":{\"color\":\"red\",\"dash\":\"solid\",\"shape\":\"linear\",\"width\":0.5},\"mode\":\"lines\",\"name\":\"Spread\",\"showlegend\":false,\"x\":[0,1,2,3,4,5,6,7,8,9,10,11,12,13,14,15,16,17,18,19,20,21,22,23,24,25,26,27,28,29,30,31,32,33,34,35,36,37,38,39,40,41,42,43,44,45,46,47,48,49,50,51,52,53,54,55,56,57,58,59,60,61,62,63,64,65,66,67,68,69,70,71,72,73,74,75,76,77,78,79,80,81,82,83,84,85,86,87,88,89,90,91,92,93,94,95,96,97,98,99],\"xaxis\":\"x2\",\"y\":[\"\",-1.308033298374421,\"\",-1.6126145025624528,\"\",\"\",-0.35232127191548424,\"\",-1.0740216066501183,\"\",-4.097474625405791,\"\",\"\",-1.1976777870533217,\"\",\"\",\"\",-0.46273587991091747,-1.7425947991221402,\"\",\"\",\"\",\"\",-1.7016549874703046,-0.9874136131744329,\"\",\"\",-0.5781210821827035,-0.9640295021466584,-0.6308531628502314,-1.2801595085035395,-0.18597548105407863,-3.549540405361669,\"\",\"\",\"\",-1.3869052868876135,\"\",-1.3333067739620406,-1.3737947422282393,\"\",-0.9559739867171368,\"\",\"\",\"\",\"\",-2.6796838231503464,-1.3060418556262186,\"\",\"\",\"\",\"\",\"\",-1.2270365757556398,\"\",-1.489532695394932,-0.47794697614545645,\"\",-1.134326989644821,-1.976945524852511,\"\",\"\",\"\",-0.30130145216585724,\"\",-1.6804297639627903,-0.7470475222656092,-0.29779226961185845,\"\",-1.383408817116082,-0.02059365595132967,-0.8983024719654626,\"\",-2.8765612532732354,-1.5259473155140764,\"\",-1.8802028464766618,\"\",-1.4404093040467834,-0.08623290795909974,\"\",\"\",-1.803596866833607,\"\",-1.8185122308144601,-1.0877904431122996,\"\",\"\",\"\",\"\",\"\",-0.5823281332514196,\"\",\"\",-0.947059805512831,\"\",\"\",\"\",\"\",-2.2854911710939474],\"yaxis\":\"y2\",\"type\":\"scatter\"}],                        {\"hovermode\":\"x\",\"legend\":{\"bgcolor\":\"#F5F6F9\",\"font\":{\"color\":\"#4D5663\"}},\"paper_bgcolor\":\"#F5F6F9\",\"plot_bgcolor\":\"#F5F6F9\",\"template\":{\"data\":{\"barpolar\":[{\"marker\":{\"line\":{\"color\":\"#E5ECF6\",\"width\":0.5},\"pattern\":{\"fillmode\":\"overlay\",\"size\":10,\"solidity\":0.2}},\"type\":\"barpolar\"}],\"bar\":[{\"error_x\":{\"color\":\"#2a3f5f\"},\"error_y\":{\"color\":\"#2a3f5f\"},\"marker\":{\"line\":{\"color\":\"#E5ECF6\",\"width\":0.5},\"pattern\":{\"fillmode\":\"overlay\",\"size\":10,\"solidity\":0.2}},\"type\":\"bar\"}],\"carpet\":[{\"aaxis\":{\"endlinecolor\":\"#2a3f5f\",\"gridcolor\":\"white\",\"linecolor\":\"white\",\"minorgridcolor\":\"white\",\"startlinecolor\":\"#2a3f5f\"},\"baxis\":{\"endlinecolor\":\"#2a3f5f\",\"gridcolor\":\"white\",\"linecolor\":\"white\",\"minorgridcolor\":\"white\",\"startlinecolor\":\"#2a3f5f\"},\"type\":\"carpet\"}],\"choropleth\":[{\"colorbar\":{\"outlinewidth\":0,\"ticks\":\"\"},\"type\":\"choropleth\"}],\"contourcarpet\":[{\"colorbar\":{\"outlinewidth\":0,\"ticks\":\"\"},\"type\":\"contourcarpet\"}],\"contour\":[{\"colorbar\":{\"outlinewidth\":0,\"ticks\":\"\"},\"colorscale\":[[0.0,\"#0d0887\"],[0.1111111111111111,\"#46039f\"],[0.2222222222222222,\"#7201a8\"],[0.3333333333333333,\"#9c179e\"],[0.4444444444444444,\"#bd3786\"],[0.5555555555555556,\"#d8576b\"],[0.6666666666666666,\"#ed7953\"],[0.7777777777777778,\"#fb9f3a\"],[0.8888888888888888,\"#fdca26\"],[1.0,\"#f0f921\"]],\"type\":\"contour\"}],\"heatmapgl\":[{\"colorbar\":{\"outlinewidth\":0,\"ticks\":\"\"},\"colorscale\":[[0.0,\"#0d0887\"],[0.1111111111111111,\"#46039f\"],[0.2222222222222222,\"#7201a8\"],[0.3333333333333333,\"#9c179e\"],[0.4444444444444444,\"#bd3786\"],[0.5555555555555556,\"#d8576b\"],[0.6666666666666666,\"#ed7953\"],[0.7777777777777778,\"#fb9f3a\"],[0.8888888888888888,\"#fdca26\"],[1.0,\"#f0f921\"]],\"type\":\"heatmapgl\"}],\"heatmap\":[{\"colorbar\":{\"outlinewidth\":0,\"ticks\":\"\"},\"colorscale\":[[0.0,\"#0d0887\"],[0.1111111111111111,\"#46039f\"],[0.2222222222222222,\"#7201a8\"],[0.3333333333333333,\"#9c179e\"],[0.4444444444444444,\"#bd3786\"],[0.5555555555555556,\"#d8576b\"],[0.6666666666666666,\"#ed7953\"],[0.7777777777777778,\"#fb9f3a\"],[0.8888888888888888,\"#fdca26\"],[1.0,\"#f0f921\"]],\"type\":\"heatmap\"}],\"histogram2dcontour\":[{\"colorbar\":{\"outlinewidth\":0,\"ticks\":\"\"},\"colorscale\":[[0.0,\"#0d0887\"],[0.1111111111111111,\"#46039f\"],[0.2222222222222222,\"#7201a8\"],[0.3333333333333333,\"#9c179e\"],[0.4444444444444444,\"#bd3786\"],[0.5555555555555556,\"#d8576b\"],[0.6666666666666666,\"#ed7953\"],[0.7777777777777778,\"#fb9f3a\"],[0.8888888888888888,\"#fdca26\"],[1.0,\"#f0f921\"]],\"type\":\"histogram2dcontour\"}],\"histogram2d\":[{\"colorbar\":{\"outlinewidth\":0,\"ticks\":\"\"},\"colorscale\":[[0.0,\"#0d0887\"],[0.1111111111111111,\"#46039f\"],[0.2222222222222222,\"#7201a8\"],[0.3333333333333333,\"#9c179e\"],[0.4444444444444444,\"#bd3786\"],[0.5555555555555556,\"#d8576b\"],[0.6666666666666666,\"#ed7953\"],[0.7777777777777778,\"#fb9f3a\"],[0.8888888888888888,\"#fdca26\"],[1.0,\"#f0f921\"]],\"type\":\"histogram2d\"}],\"histogram\":[{\"marker\":{\"pattern\":{\"fillmode\":\"overlay\",\"size\":10,\"solidity\":0.2}},\"type\":\"histogram\"}],\"mesh3d\":[{\"colorbar\":{\"outlinewidth\":0,\"ticks\":\"\"},\"type\":\"mesh3d\"}],\"parcoords\":[{\"line\":{\"colorbar\":{\"outlinewidth\":0,\"ticks\":\"\"}},\"type\":\"parcoords\"}],\"pie\":[{\"automargin\":true,\"type\":\"pie\"}],\"scatter3d\":[{\"line\":{\"colorbar\":{\"outlinewidth\":0,\"ticks\":\"\"}},\"marker\":{\"colorbar\":{\"outlinewidth\":0,\"ticks\":\"\"}},\"type\":\"scatter3d\"}],\"scattercarpet\":[{\"marker\":{\"colorbar\":{\"outlinewidth\":0,\"ticks\":\"\"}},\"type\":\"scattercarpet\"}],\"scattergeo\":[{\"marker\":{\"colorbar\":{\"outlinewidth\":0,\"ticks\":\"\"}},\"type\":\"scattergeo\"}],\"scattergl\":[{\"marker\":{\"colorbar\":{\"outlinewidth\":0,\"ticks\":\"\"}},\"type\":\"scattergl\"}],\"scattermapbox\":[{\"marker\":{\"colorbar\":{\"outlinewidth\":0,\"ticks\":\"\"}},\"type\":\"scattermapbox\"}],\"scatterpolargl\":[{\"marker\":{\"colorbar\":{\"outlinewidth\":0,\"ticks\":\"\"}},\"type\":\"scatterpolargl\"}],\"scatterpolar\":[{\"marker\":{\"colorbar\":{\"outlinewidth\":0,\"ticks\":\"\"}},\"type\":\"scatterpolar\"}],\"scatter\":[{\"fillpattern\":{\"fillmode\":\"overlay\",\"size\":10,\"solidity\":0.2},\"type\":\"scatter\"}],\"scatterternary\":[{\"marker\":{\"colorbar\":{\"outlinewidth\":0,\"ticks\":\"\"}},\"type\":\"scatterternary\"}],\"surface\":[{\"colorbar\":{\"outlinewidth\":0,\"ticks\":\"\"},\"colorscale\":[[0.0,\"#0d0887\"],[0.1111111111111111,\"#46039f\"],[0.2222222222222222,\"#7201a8\"],[0.3333333333333333,\"#9c179e\"],[0.4444444444444444,\"#bd3786\"],[0.5555555555555556,\"#d8576b\"],[0.6666666666666666,\"#ed7953\"],[0.7777777777777778,\"#fb9f3a\"],[0.8888888888888888,\"#fdca26\"],[1.0,\"#f0f921\"]],\"type\":\"surface\"}],\"table\":[{\"cells\":{\"fill\":{\"color\":\"#EBF0F8\"},\"line\":{\"color\":\"white\"}},\"header\":{\"fill\":{\"color\":\"#C8D4E3\"},\"line\":{\"color\":\"white\"}},\"type\":\"table\"}]},\"layout\":{\"annotationdefaults\":{\"arrowcolor\":\"#2a3f5f\",\"arrowhead\":0,\"arrowwidth\":1},\"autotypenumbers\":\"strict\",\"coloraxis\":{\"colorbar\":{\"outlinewidth\":0,\"ticks\":\"\"}},\"colorscale\":{\"diverging\":[[0,\"#8e0152\"],[0.1,\"#c51b7d\"],[0.2,\"#de77ae\"],[0.3,\"#f1b6da\"],[0.4,\"#fde0ef\"],[0.5,\"#f7f7f7\"],[0.6,\"#e6f5d0\"],[0.7,\"#b8e186\"],[0.8,\"#7fbc41\"],[0.9,\"#4d9221\"],[1,\"#276419\"]],\"sequential\":[[0.0,\"#0d0887\"],[0.1111111111111111,\"#46039f\"],[0.2222222222222222,\"#7201a8\"],[0.3333333333333333,\"#9c179e\"],[0.4444444444444444,\"#bd3786\"],[0.5555555555555556,\"#d8576b\"],[0.6666666666666666,\"#ed7953\"],[0.7777777777777778,\"#fb9f3a\"],[0.8888888888888888,\"#fdca26\"],[1.0,\"#f0f921\"]],\"sequentialminus\":[[0.0,\"#0d0887\"],[0.1111111111111111,\"#46039f\"],[0.2222222222222222,\"#7201a8\"],[0.3333333333333333,\"#9c179e\"],[0.4444444444444444,\"#bd3786\"],[0.5555555555555556,\"#d8576b\"],[0.6666666666666666,\"#ed7953\"],[0.7777777777777778,\"#fb9f3a\"],[0.8888888888888888,\"#fdca26\"],[1.0,\"#f0f921\"]]},\"colorway\":[\"#636efa\",\"#EF553B\",\"#00cc96\",\"#ab63fa\",\"#FFA15A\",\"#19d3f3\",\"#FF6692\",\"#B6E880\",\"#FF97FF\",\"#FECB52\"],\"font\":{\"color\":\"#2a3f5f\"},\"geo\":{\"bgcolor\":\"white\",\"lakecolor\":\"white\",\"landcolor\":\"#E5ECF6\",\"showlakes\":true,\"showland\":true,\"subunitcolor\":\"white\"},\"hoverlabel\":{\"align\":\"left\"},\"hovermode\":\"closest\",\"mapbox\":{\"style\":\"light\"},\"paper_bgcolor\":\"white\",\"plot_bgcolor\":\"#E5ECF6\",\"polar\":{\"angularaxis\":{\"gridcolor\":\"white\",\"linecolor\":\"white\",\"ticks\":\"\"},\"bgcolor\":\"#E5ECF6\",\"radialaxis\":{\"gridcolor\":\"white\",\"linecolor\":\"white\",\"ticks\":\"\"}},\"scene\":{\"xaxis\":{\"backgroundcolor\":\"#E5ECF6\",\"gridcolor\":\"white\",\"gridwidth\":2,\"linecolor\":\"white\",\"showbackground\":true,\"ticks\":\"\",\"zerolinecolor\":\"white\"},\"yaxis\":{\"backgroundcolor\":\"#E5ECF6\",\"gridcolor\":\"white\",\"gridwidth\":2,\"linecolor\":\"white\",\"showbackground\":true,\"ticks\":\"\",\"zerolinecolor\":\"white\"},\"zaxis\":{\"backgroundcolor\":\"#E5ECF6\",\"gridcolor\":\"white\",\"gridwidth\":2,\"linecolor\":\"white\",\"showbackground\":true,\"ticks\":\"\",\"zerolinecolor\":\"white\"}},\"shapedefaults\":{\"line\":{\"color\":\"#2a3f5f\"}},\"ternary\":{\"aaxis\":{\"gridcolor\":\"white\",\"linecolor\":\"white\",\"ticks\":\"\"},\"baxis\":{\"gridcolor\":\"white\",\"linecolor\":\"white\",\"ticks\":\"\"},\"bgcolor\":\"#E5ECF6\",\"caxis\":{\"gridcolor\":\"white\",\"linecolor\":\"white\",\"ticks\":\"\"}},\"title\":{\"x\":0.05},\"xaxis\":{\"automargin\":true,\"gridcolor\":\"white\",\"linecolor\":\"white\",\"ticks\":\"\",\"title\":{\"standoff\":15},\"zerolinecolor\":\"white\",\"zerolinewidth\":2},\"yaxis\":{\"automargin\":true,\"gridcolor\":\"white\",\"linecolor\":\"white\",\"ticks\":\"\",\"title\":{\"standoff\":15},\"zerolinecolor\":\"white\",\"zerolinewidth\":2}}},\"title\":{\"font\":{\"color\":\"#4D5663\"}},\"xaxis\":{\"gridcolor\":\"#E1E5ED\",\"showgrid\":true,\"tickfont\":{\"color\":\"#4D5663\"},\"title\":{\"font\":{\"color\":\"#4D5663\"},\"text\":\"\"},\"zerolinecolor\":\"#E1E5ED\"},\"yaxis\":{\"domain\":[0.3,1],\"gridcolor\":\"#E1E5ED\",\"showgrid\":true,\"tickfont\":{\"color\":\"#4D5663\"},\"title\":{\"font\":{\"color\":\"#4D5663\"},\"text\":\"\"},\"zerolinecolor\":\"#E1E5ED\"},\"yaxis2\":{\"domain\":[0,0.25],\"gridcolor\":\"#E1E5ED\",\"showgrid\":true,\"tickfont\":{\"color\":\"#4D5663\"},\"title\":{\"font\":{\"color\":\"#4D5663\"},\"text\":\"Spread\"},\"zerolinecolor\":\"#E1E5ED\"},\"xaxis2\":{\"anchor\":\"y2\",\"gridcolor\":\"#E1E5ED\",\"showgrid\":true,\"showticklabels\":false,\"tickfont\":{\"color\":\"#4D5663\"},\"title\":{\"font\":{\"color\":\"#4D5663\"},\"text\":\"\"},\"zerolinecolor\":\"#E1E5ED\"}},                        {\"showLink\": true, \"linkText\": \"Export to plot.ly\", \"plotlyServerURL\": \"https://plot.ly\", \"responsive\": true}                    ).then(function(){\n",
       "                            \n",
       "var gd = document.getElementById('5691b0f0-a719-460c-96cc-863742067d50');\n",
       "var x = new MutationObserver(function (mutations, observer) {{\n",
       "        var display = window.getComputedStyle(gd).display;\n",
       "        if (!display || display === 'none') {{\n",
       "            console.log([gd, 'removed!']);\n",
       "            Plotly.purge(gd);\n",
       "            observer.disconnect();\n",
       "        }}\n",
       "}});\n",
       "\n",
       "// Listen for the removal of the full notebook cells\n",
       "var notebookContainer = gd.closest('#notebook-container');\n",
       "if (notebookContainer) {{\n",
       "    x.observe(notebookContainer, {childList: true});\n",
       "}}\n",
       "\n",
       "// Listen for the clearing of the current output cell\n",
       "var outputEl = gd.closest('.output');\n",
       "if (outputEl) {{\n",
       "    x.observe(outputEl, {childList: true});\n",
       "}}\n",
       "\n",
       "                        })                };                });            </script>        </div>"
      ]
     },
     "metadata": {},
     "output_type": "display_data"
    }
   ],
   "source": [
    "df[['A','B']].iplot(kind='spread')"
   ]
  },
  {
   "cell_type": "code",
   "execution_count": 24,
   "id": "aab452be",
   "metadata": {},
   "outputs": [
    {
     "data": {
      "application/vnd.plotly.v1+json": {
       "config": {
        "linkText": "Export to plot.ly",
        "plotlyServerURL": "https://plot.ly",
        "showLink": true
       },
       "data": [
        {
         "marker": {
          "color": [
           "rgb(255, 153, 51)",
           "rgb(55, 128, 191)",
           "rgb(50, 171, 96)",
           "rgb(128, 0, 128)",
           "rgb(219, 64, 82)",
           "rgb(0, 128, 128)",
           "rgb(255, 255, 51)",
           "rgb(128, 128, 0)",
           "rgb(251, 128, 114)",
           "rgb(128, 177, 211)"
          ],
          "line": {
           "width": 1.3
          },
          "size": [
           80,
           69,
           52,
           82,
           105,
           71,
           76,
           56,
           55,
           15,
           53,
           63,
           59,
           45,
           80,
           70,
           90,
           62,
           44,
           76,
           63,
           65,
           95,
           52,
           88,
           88,
           66,
           47,
           112,
           65,
           64,
           66,
           92,
           35,
           50,
           67,
           53,
           60,
           83,
           56,
           62,
           92,
           76,
           59,
           59,
           62,
           56,
           108,
           51,
           62,
           106,
           12,
           67,
           75,
           73,
           42,
           58,
           64,
           57,
           62,
           23,
           45,
           77,
           97,
           94,
           46,
           33,
           65,
           59,
           14,
           51,
           31,
           48,
           89,
           59,
           64,
           43,
           100,
           61,
           49,
           92,
           38,
           62,
           43,
           85,
           100,
           42,
           71,
           75,
           45,
           80,
           63,
           97,
           77,
           76,
           67,
           75,
           57,
           52,
           75
          ],
          "symbol": "circle"
         },
         "mode": "markers",
         "text": "",
         "type": "scatter",
         "x": [
          0.6446209978304961,
          0.4078221920136122,
          -0.2765872970204885,
          0.10456735638555388,
          0.08324133721186451,
          0.057440297633351456,
          -1.2171690355819085,
          -0.09196308817524182,
          -1.4384482006426815,
          -0.9066078684780878,
          -3.0647955779058393,
          -0.5927155310656024,
          1.583409055253283,
          0.234106386964043,
          1.2987088354934264,
          -0.07913794969622139,
          1.9820971873442788,
          0.5300957800919711,
          0.0561241346154549,
          0.015369674156755879,
          -1.2127715104199281,
          0.035053315533376254,
          0.7118746375710167,
          -0.1952185441372051,
          -0.7579919569364388,
          0.8382884169380316,
          -0.2523101224096548,
          0.6311895916493456,
          -1.4756247761832622,
          -1.9698270932740207,
          -1.3372120572711683,
          -0.0055887604966179906,
          -1.7516160926744089,
          0.543208412020896,
          0.707473240158141,
          0.6593860529630602,
          -0.966138313509074,
          1.2445708261621509,
          -1.0802389340212704,
          0.5086900141225315,
          0.06968362854003969,
          -0.6676088576024096,
          -0.6772597043552857,
          1.0685188366936331,
          -1.197023278836309,
          1.3296472778183843,
          -1.7352843284646196,
          -1.0582875565845407,
          1.0617180487815374,
          1.4540725943983606,
          0.5317907297889919,
          0.7420563485732212,
          -0.18793332995515025,
          -1.2305655757068716,
          -0.1772600412850589,
          -1.148239267934772,
          0.4037983500944594,
          0.9812475937057795,
          -0.4956402857253395,
          -0.28809363061450555,
          -0.6487072922681356,
          0.8481841770338829,
          -0.3114926773390753,
          0.3471058665605341,
          2.8359142899847587,
          -0.10683669988149225,
          0.7333023074176133,
          -0.9756817628998831,
          -1.4734885498421182,
          -0.8026545150142835,
          -0.9084824357349854,
          0.451034781575594,
          -0.14441496470423662,
          -1.9756483521255614,
          -0.5332455788412271,
          -0.63886776707257,
          -2.2713107658786433,
          -0.40268261110912806,
          -1.953505525568803,
          0.21002398901558625,
          0.5515111078971915,
          1.8137764486502015,
          -0.5238352930793719,
          -0.2822937597610257,
          0.41863932362537837,
          0.10282204212326963,
          2.0754089376632825,
          0.6972799565874593,
          1.1614656583668113,
          1.3623377423265945,
          0.10708896322825404,
          -0.35965989943947024,
          0.7454316477825902,
          -0.5002942850467338,
          0.3404751564352129,
          -0.7529900522556313,
          0.21081704514965283,
          1.753849340431904,
          0.8556437691539508,
          0.701648831151324
         ],
         "y": [
          -0.22160750690840028,
          1.7158554903880332,
          -0.6237740459654896,
          1.7171818589480066,
          -0.1968115099154782,
          -0.9178801038802831,
          -0.8648477636664242,
          -0.26311475476438756,
          -0.3644265939925632,
          -0.9804658128967962,
          1.0326790474999514,
          -1.5535104837887026,
          -0.16460272611477467,
          1.4317841740173647,
          0.13868359918099005,
          -0.26283282569495164,
          1.4671591243018076,
          0.9928316600028886,
          1.798718933737595,
          -0.12194429267969392,
          -1.2135185401556021,
          -0.5676843906954775,
          0.5466472148108473,
          1.5064364433330995,
          0.2294216562379941,
          -0.45183094530211637,
          -0.5990162630544981,
          1.2093106738320492,
          -0.5115952740366038,
          -1.3389739304237893,
          -0.05705254876762868,
          0.18038672055746063,
          1.7979243126872604,
          -0.9180546332511316,
          0.00838642535099962,
          -0.7440498127142733,
          0.42076697337853947,
          -1.4875438989362184,
          0.25306783994077015,
          1.8824847563507707,
          -0.5169299902217411,
          0.2883651291147273,
          -0.8722294837074352,
          0.2519290622637881,
          -1.8324172801056757,
          0.37575977161583207,
          0.9443994946857267,
          0.24775429904167792,
          -0.8099720675420381,
          0.8227450644967887,
          0.21290770852438837,
          -0.4753072455838816,
          -0.3011324544818885,
          -0.003528999951231824,
          -0.19640311199830598,
          0.34129342746016,
          0.8817453262399159,
          -0.14964935915574884,
          0.6386867039194815,
          1.6888518942380055,
          -0.954599303308324,
          -1.3586802403670986,
          -0.805279213474311,
          0.6484073187263913,
          0.23471787263488347,
          1.573593064081298,
          1.4803498296832225,
          -0.6778894932880246,
          -2.7440090441649985,
          0.5807543021017987,
          -0.8878887797836558,
          1.3493372535410566,
          -1.1731712522803317,
          0.9009129011476739,
          0.9927017366728492,
          -1.1113954750547725,
          -0.3911079194019816,
          -0.5604947607506066,
          -0.5130962215220196,
          0.296256896974686,
          -0.1897579204290804,
          -0.19731011276449487,
          1.2797615737542352,
          -0.3117436598969686,
          2.2371515544398384,
          1.1906124852355693,
          0.2381106335734882,
          -0.6858170151367708,
          1.150058581328844,
          0.19314586783555093,
          -1.3262365216682042,
          0.22266823381194942,
          -1.1045743475961767,
          -1.0501370436953776,
          1.2875349619480438,
          -1.570363318967189,
          -0.5266463105521983,
          0.5167043413713699,
          0.3411124470341882,
          2.987140002245271
         ]
        }
       ],
       "layout": {
        "legend": {
         "bgcolor": "#F5F6F9",
         "font": {
          "color": "#4D5663"
         }
        },
        "paper_bgcolor": "#F5F6F9",
        "plot_bgcolor": "#F5F6F9",
        "template": {
         "data": {
          "bar": [
           {
            "error_x": {
             "color": "#2a3f5f"
            },
            "error_y": {
             "color": "#2a3f5f"
            },
            "marker": {
             "line": {
              "color": "#E5ECF6",
              "width": 0.5
             },
             "pattern": {
              "fillmode": "overlay",
              "size": 10,
              "solidity": 0.2
             }
            },
            "type": "bar"
           }
          ],
          "barpolar": [
           {
            "marker": {
             "line": {
              "color": "#E5ECF6",
              "width": 0.5
             },
             "pattern": {
              "fillmode": "overlay",
              "size": 10,
              "solidity": 0.2
             }
            },
            "type": "barpolar"
           }
          ],
          "carpet": [
           {
            "aaxis": {
             "endlinecolor": "#2a3f5f",
             "gridcolor": "white",
             "linecolor": "white",
             "minorgridcolor": "white",
             "startlinecolor": "#2a3f5f"
            },
            "baxis": {
             "endlinecolor": "#2a3f5f",
             "gridcolor": "white",
             "linecolor": "white",
             "minorgridcolor": "white",
             "startlinecolor": "#2a3f5f"
            },
            "type": "carpet"
           }
          ],
          "choropleth": [
           {
            "colorbar": {
             "outlinewidth": 0,
             "ticks": ""
            },
            "type": "choropleth"
           }
          ],
          "contour": [
           {
            "colorbar": {
             "outlinewidth": 0,
             "ticks": ""
            },
            "colorscale": [
             [
              0,
              "#0d0887"
             ],
             [
              0.1111111111111111,
              "#46039f"
             ],
             [
              0.2222222222222222,
              "#7201a8"
             ],
             [
              0.3333333333333333,
              "#9c179e"
             ],
             [
              0.4444444444444444,
              "#bd3786"
             ],
             [
              0.5555555555555556,
              "#d8576b"
             ],
             [
              0.6666666666666666,
              "#ed7953"
             ],
             [
              0.7777777777777778,
              "#fb9f3a"
             ],
             [
              0.8888888888888888,
              "#fdca26"
             ],
             [
              1,
              "#f0f921"
             ]
            ],
            "type": "contour"
           }
          ],
          "contourcarpet": [
           {
            "colorbar": {
             "outlinewidth": 0,
             "ticks": ""
            },
            "type": "contourcarpet"
           }
          ],
          "heatmap": [
           {
            "colorbar": {
             "outlinewidth": 0,
             "ticks": ""
            },
            "colorscale": [
             [
              0,
              "#0d0887"
             ],
             [
              0.1111111111111111,
              "#46039f"
             ],
             [
              0.2222222222222222,
              "#7201a8"
             ],
             [
              0.3333333333333333,
              "#9c179e"
             ],
             [
              0.4444444444444444,
              "#bd3786"
             ],
             [
              0.5555555555555556,
              "#d8576b"
             ],
             [
              0.6666666666666666,
              "#ed7953"
             ],
             [
              0.7777777777777778,
              "#fb9f3a"
             ],
             [
              0.8888888888888888,
              "#fdca26"
             ],
             [
              1,
              "#f0f921"
             ]
            ],
            "type": "heatmap"
           }
          ],
          "heatmapgl": [
           {
            "colorbar": {
             "outlinewidth": 0,
             "ticks": ""
            },
            "colorscale": [
             [
              0,
              "#0d0887"
             ],
             [
              0.1111111111111111,
              "#46039f"
             ],
             [
              0.2222222222222222,
              "#7201a8"
             ],
             [
              0.3333333333333333,
              "#9c179e"
             ],
             [
              0.4444444444444444,
              "#bd3786"
             ],
             [
              0.5555555555555556,
              "#d8576b"
             ],
             [
              0.6666666666666666,
              "#ed7953"
             ],
             [
              0.7777777777777778,
              "#fb9f3a"
             ],
             [
              0.8888888888888888,
              "#fdca26"
             ],
             [
              1,
              "#f0f921"
             ]
            ],
            "type": "heatmapgl"
           }
          ],
          "histogram": [
           {
            "marker": {
             "pattern": {
              "fillmode": "overlay",
              "size": 10,
              "solidity": 0.2
             }
            },
            "type": "histogram"
           }
          ],
          "histogram2d": [
           {
            "colorbar": {
             "outlinewidth": 0,
             "ticks": ""
            },
            "colorscale": [
             [
              0,
              "#0d0887"
             ],
             [
              0.1111111111111111,
              "#46039f"
             ],
             [
              0.2222222222222222,
              "#7201a8"
             ],
             [
              0.3333333333333333,
              "#9c179e"
             ],
             [
              0.4444444444444444,
              "#bd3786"
             ],
             [
              0.5555555555555556,
              "#d8576b"
             ],
             [
              0.6666666666666666,
              "#ed7953"
             ],
             [
              0.7777777777777778,
              "#fb9f3a"
             ],
             [
              0.8888888888888888,
              "#fdca26"
             ],
             [
              1,
              "#f0f921"
             ]
            ],
            "type": "histogram2d"
           }
          ],
          "histogram2dcontour": [
           {
            "colorbar": {
             "outlinewidth": 0,
             "ticks": ""
            },
            "colorscale": [
             [
              0,
              "#0d0887"
             ],
             [
              0.1111111111111111,
              "#46039f"
             ],
             [
              0.2222222222222222,
              "#7201a8"
             ],
             [
              0.3333333333333333,
              "#9c179e"
             ],
             [
              0.4444444444444444,
              "#bd3786"
             ],
             [
              0.5555555555555556,
              "#d8576b"
             ],
             [
              0.6666666666666666,
              "#ed7953"
             ],
             [
              0.7777777777777778,
              "#fb9f3a"
             ],
             [
              0.8888888888888888,
              "#fdca26"
             ],
             [
              1,
              "#f0f921"
             ]
            ],
            "type": "histogram2dcontour"
           }
          ],
          "mesh3d": [
           {
            "colorbar": {
             "outlinewidth": 0,
             "ticks": ""
            },
            "type": "mesh3d"
           }
          ],
          "parcoords": [
           {
            "line": {
             "colorbar": {
              "outlinewidth": 0,
              "ticks": ""
             }
            },
            "type": "parcoords"
           }
          ],
          "pie": [
           {
            "automargin": true,
            "type": "pie"
           }
          ],
          "scatter": [
           {
            "fillpattern": {
             "fillmode": "overlay",
             "size": 10,
             "solidity": 0.2
            },
            "type": "scatter"
           }
          ],
          "scatter3d": [
           {
            "line": {
             "colorbar": {
              "outlinewidth": 0,
              "ticks": ""
             }
            },
            "marker": {
             "colorbar": {
              "outlinewidth": 0,
              "ticks": ""
             }
            },
            "type": "scatter3d"
           }
          ],
          "scattercarpet": [
           {
            "marker": {
             "colorbar": {
              "outlinewidth": 0,
              "ticks": ""
             }
            },
            "type": "scattercarpet"
           }
          ],
          "scattergeo": [
           {
            "marker": {
             "colorbar": {
              "outlinewidth": 0,
              "ticks": ""
             }
            },
            "type": "scattergeo"
           }
          ],
          "scattergl": [
           {
            "marker": {
             "colorbar": {
              "outlinewidth": 0,
              "ticks": ""
             }
            },
            "type": "scattergl"
           }
          ],
          "scattermapbox": [
           {
            "marker": {
             "colorbar": {
              "outlinewidth": 0,
              "ticks": ""
             }
            },
            "type": "scattermapbox"
           }
          ],
          "scatterpolar": [
           {
            "marker": {
             "colorbar": {
              "outlinewidth": 0,
              "ticks": ""
             }
            },
            "type": "scatterpolar"
           }
          ],
          "scatterpolargl": [
           {
            "marker": {
             "colorbar": {
              "outlinewidth": 0,
              "ticks": ""
             }
            },
            "type": "scatterpolargl"
           }
          ],
          "scatterternary": [
           {
            "marker": {
             "colorbar": {
              "outlinewidth": 0,
              "ticks": ""
             }
            },
            "type": "scatterternary"
           }
          ],
          "surface": [
           {
            "colorbar": {
             "outlinewidth": 0,
             "ticks": ""
            },
            "colorscale": [
             [
              0,
              "#0d0887"
             ],
             [
              0.1111111111111111,
              "#46039f"
             ],
             [
              0.2222222222222222,
              "#7201a8"
             ],
             [
              0.3333333333333333,
              "#9c179e"
             ],
             [
              0.4444444444444444,
              "#bd3786"
             ],
             [
              0.5555555555555556,
              "#d8576b"
             ],
             [
              0.6666666666666666,
              "#ed7953"
             ],
             [
              0.7777777777777778,
              "#fb9f3a"
             ],
             [
              0.8888888888888888,
              "#fdca26"
             ],
             [
              1,
              "#f0f921"
             ]
            ],
            "type": "surface"
           }
          ],
          "table": [
           {
            "cells": {
             "fill": {
              "color": "#EBF0F8"
             },
             "line": {
              "color": "white"
             }
            },
            "header": {
             "fill": {
              "color": "#C8D4E3"
             },
             "line": {
              "color": "white"
             }
            },
            "type": "table"
           }
          ]
         },
         "layout": {
          "annotationdefaults": {
           "arrowcolor": "#2a3f5f",
           "arrowhead": 0,
           "arrowwidth": 1
          },
          "autotypenumbers": "strict",
          "coloraxis": {
           "colorbar": {
            "outlinewidth": 0,
            "ticks": ""
           }
          },
          "colorscale": {
           "diverging": [
            [
             0,
             "#8e0152"
            ],
            [
             0.1,
             "#c51b7d"
            ],
            [
             0.2,
             "#de77ae"
            ],
            [
             0.3,
             "#f1b6da"
            ],
            [
             0.4,
             "#fde0ef"
            ],
            [
             0.5,
             "#f7f7f7"
            ],
            [
             0.6,
             "#e6f5d0"
            ],
            [
             0.7,
             "#b8e186"
            ],
            [
             0.8,
             "#7fbc41"
            ],
            [
             0.9,
             "#4d9221"
            ],
            [
             1,
             "#276419"
            ]
           ],
           "sequential": [
            [
             0,
             "#0d0887"
            ],
            [
             0.1111111111111111,
             "#46039f"
            ],
            [
             0.2222222222222222,
             "#7201a8"
            ],
            [
             0.3333333333333333,
             "#9c179e"
            ],
            [
             0.4444444444444444,
             "#bd3786"
            ],
            [
             0.5555555555555556,
             "#d8576b"
            ],
            [
             0.6666666666666666,
             "#ed7953"
            ],
            [
             0.7777777777777778,
             "#fb9f3a"
            ],
            [
             0.8888888888888888,
             "#fdca26"
            ],
            [
             1,
             "#f0f921"
            ]
           ],
           "sequentialminus": [
            [
             0,
             "#0d0887"
            ],
            [
             0.1111111111111111,
             "#46039f"
            ],
            [
             0.2222222222222222,
             "#7201a8"
            ],
            [
             0.3333333333333333,
             "#9c179e"
            ],
            [
             0.4444444444444444,
             "#bd3786"
            ],
            [
             0.5555555555555556,
             "#d8576b"
            ],
            [
             0.6666666666666666,
             "#ed7953"
            ],
            [
             0.7777777777777778,
             "#fb9f3a"
            ],
            [
             0.8888888888888888,
             "#fdca26"
            ],
            [
             1,
             "#f0f921"
            ]
           ]
          },
          "colorway": [
           "#636efa",
           "#EF553B",
           "#00cc96",
           "#ab63fa",
           "#FFA15A",
           "#19d3f3",
           "#FF6692",
           "#B6E880",
           "#FF97FF",
           "#FECB52"
          ],
          "font": {
           "color": "#2a3f5f"
          },
          "geo": {
           "bgcolor": "white",
           "lakecolor": "white",
           "landcolor": "#E5ECF6",
           "showlakes": true,
           "showland": true,
           "subunitcolor": "white"
          },
          "hoverlabel": {
           "align": "left"
          },
          "hovermode": "closest",
          "mapbox": {
           "style": "light"
          },
          "paper_bgcolor": "white",
          "plot_bgcolor": "#E5ECF6",
          "polar": {
           "angularaxis": {
            "gridcolor": "white",
            "linecolor": "white",
            "ticks": ""
           },
           "bgcolor": "#E5ECF6",
           "radialaxis": {
            "gridcolor": "white",
            "linecolor": "white",
            "ticks": ""
           }
          },
          "scene": {
           "xaxis": {
            "backgroundcolor": "#E5ECF6",
            "gridcolor": "white",
            "gridwidth": 2,
            "linecolor": "white",
            "showbackground": true,
            "ticks": "",
            "zerolinecolor": "white"
           },
           "yaxis": {
            "backgroundcolor": "#E5ECF6",
            "gridcolor": "white",
            "gridwidth": 2,
            "linecolor": "white",
            "showbackground": true,
            "ticks": "",
            "zerolinecolor": "white"
           },
           "zaxis": {
            "backgroundcolor": "#E5ECF6",
            "gridcolor": "white",
            "gridwidth": 2,
            "linecolor": "white",
            "showbackground": true,
            "ticks": "",
            "zerolinecolor": "white"
           }
          },
          "shapedefaults": {
           "line": {
            "color": "#2a3f5f"
           }
          },
          "ternary": {
           "aaxis": {
            "gridcolor": "white",
            "linecolor": "white",
            "ticks": ""
           },
           "baxis": {
            "gridcolor": "white",
            "linecolor": "white",
            "ticks": ""
           },
           "bgcolor": "#E5ECF6",
           "caxis": {
            "gridcolor": "white",
            "linecolor": "white",
            "ticks": ""
           }
          },
          "title": {
           "x": 0.05
          },
          "xaxis": {
           "automargin": true,
           "gridcolor": "white",
           "linecolor": "white",
           "ticks": "",
           "title": {
            "standoff": 15
           },
           "zerolinecolor": "white",
           "zerolinewidth": 2
          },
          "yaxis": {
           "automargin": true,
           "gridcolor": "white",
           "linecolor": "white",
           "ticks": "",
           "title": {
            "standoff": 15
           },
           "zerolinecolor": "white",
           "zerolinewidth": 2
          }
         }
        },
        "title": {
         "font": {
          "color": "#4D5663"
         }
        },
        "xaxis": {
         "gridcolor": "#E1E5ED",
         "showgrid": true,
         "tickfont": {
          "color": "#4D5663"
         },
         "title": {
          "font": {
           "color": "#4D5663"
          },
          "text": ""
         },
         "zerolinecolor": "#E1E5ED"
        },
        "yaxis": {
         "gridcolor": "#E1E5ED",
         "showgrid": true,
         "tickfont": {
          "color": "#4D5663"
         },
         "title": {
          "font": {
           "color": "#4D5663"
          },
          "text": ""
         },
         "zerolinecolor": "#E1E5ED"
        }
       }
      },
      "text/html": [
       "<div>                            <div id=\"e9ce3dc9-6665-427c-bf57-7caf3475b69d\" class=\"plotly-graph-div\" style=\"height:525px; width:100%;\"></div>            <script type=\"text/javascript\">                require([\"plotly\"], function(Plotly) {                    window.PLOTLYENV=window.PLOTLYENV || {};\n",
       "                    window.PLOTLYENV.BASE_URL='https://plot.ly';                                    if (document.getElementById(\"e9ce3dc9-6665-427c-bf57-7caf3475b69d\")) {                    Plotly.newPlot(                        \"e9ce3dc9-6665-427c-bf57-7caf3475b69d\",                        [{\"marker\":{\"color\":[\"rgb(255, 153, 51)\",\"rgb(55, 128, 191)\",\"rgb(50, 171, 96)\",\"rgb(128, 0, 128)\",\"rgb(219, 64, 82)\",\"rgb(0, 128, 128)\",\"rgb(255, 255, 51)\",\"rgb(128, 128, 0)\",\"rgb(251, 128, 114)\",\"rgb(128, 177, 211)\"],\"line\":{\"width\":1.3},\"size\":[80,69,52,82,105,71,76,56,55,15,53,63,59,45,80,70,90,62,44,76,63,65,95,52,88,88,66,47,112,65,64,66,92,35,50,67,53,60,83,56,62,92,76,59,59,62,56,108,51,62,106,12,67,75,73,42,58,64,57,62,23,45,77,97,94,46,33,65,59,14,51,31,48,89,59,64,43,100,61,49,92,38,62,43,85,100,42,71,75,45,80,63,97,77,76,67,75,57,52,75],\"symbol\":\"circle\"},\"mode\":\"markers\",\"text\":\"\",\"x\":[0.6446209978304961,0.4078221920136122,-0.2765872970204885,0.10456735638555388,0.08324133721186451,0.057440297633351456,-1.2171690355819085,-0.09196308817524182,-1.4384482006426815,-0.9066078684780878,-3.0647955779058393,-0.5927155310656024,1.583409055253283,0.234106386964043,1.2987088354934264,-0.07913794969622139,1.9820971873442788,0.5300957800919711,0.0561241346154549,0.015369674156755879,-1.2127715104199281,0.035053315533376254,0.7118746375710167,-0.1952185441372051,-0.7579919569364388,0.8382884169380316,-0.2523101224096548,0.6311895916493456,-1.4756247761832622,-1.9698270932740207,-1.3372120572711683,-0.0055887604966179906,-1.7516160926744089,0.543208412020896,0.707473240158141,0.6593860529630602,-0.966138313509074,1.2445708261621509,-1.0802389340212704,0.5086900141225315,0.06968362854003969,-0.6676088576024096,-0.6772597043552857,1.0685188366936331,-1.197023278836309,1.3296472778183843,-1.7352843284646196,-1.0582875565845407,1.0617180487815374,1.4540725943983606,0.5317907297889919,0.7420563485732212,-0.18793332995515025,-1.2305655757068716,-0.1772600412850589,-1.148239267934772,0.4037983500944594,0.9812475937057795,-0.4956402857253395,-0.28809363061450555,-0.6487072922681356,0.8481841770338829,-0.3114926773390753,0.3471058665605341,2.8359142899847587,-0.10683669988149225,0.7333023074176133,-0.9756817628998831,-1.4734885498421182,-0.8026545150142835,-0.9084824357349854,0.451034781575594,-0.14441496470423662,-1.9756483521255614,-0.5332455788412271,-0.63886776707257,-2.2713107658786433,-0.40268261110912806,-1.953505525568803,0.21002398901558625,0.5515111078971915,1.8137764486502015,-0.5238352930793719,-0.2822937597610257,0.41863932362537837,0.10282204212326963,2.0754089376632825,0.6972799565874593,1.1614656583668113,1.3623377423265945,0.10708896322825404,-0.35965989943947024,0.7454316477825902,-0.5002942850467338,0.3404751564352129,-0.7529900522556313,0.21081704514965283,1.753849340431904,0.8556437691539508,0.701648831151324],\"y\":[-0.22160750690840028,1.7158554903880332,-0.6237740459654896,1.7171818589480066,-0.1968115099154782,-0.9178801038802831,-0.8648477636664242,-0.26311475476438756,-0.3644265939925632,-0.9804658128967962,1.0326790474999514,-1.5535104837887026,-0.16460272611477467,1.4317841740173647,0.13868359918099005,-0.26283282569495164,1.4671591243018076,0.9928316600028886,1.798718933737595,-0.12194429267969392,-1.2135185401556021,-0.5676843906954775,0.5466472148108473,1.5064364433330995,0.2294216562379941,-0.45183094530211637,-0.5990162630544981,1.2093106738320492,-0.5115952740366038,-1.3389739304237893,-0.05705254876762868,0.18038672055746063,1.7979243126872604,-0.9180546332511316,0.00838642535099962,-0.7440498127142733,0.42076697337853947,-1.4875438989362184,0.25306783994077015,1.8824847563507707,-0.5169299902217411,0.2883651291147273,-0.8722294837074352,0.2519290622637881,-1.8324172801056757,0.37575977161583207,0.9443994946857267,0.24775429904167792,-0.8099720675420381,0.8227450644967887,0.21290770852438837,-0.4753072455838816,-0.3011324544818885,-0.003528999951231824,-0.19640311199830598,0.34129342746016,0.8817453262399159,-0.14964935915574884,0.6386867039194815,1.6888518942380055,-0.954599303308324,-1.3586802403670986,-0.805279213474311,0.6484073187263913,0.23471787263488347,1.573593064081298,1.4803498296832225,-0.6778894932880246,-2.7440090441649985,0.5807543021017987,-0.8878887797836558,1.3493372535410566,-1.1731712522803317,0.9009129011476739,0.9927017366728492,-1.1113954750547725,-0.3911079194019816,-0.5604947607506066,-0.5130962215220196,0.296256896974686,-0.1897579204290804,-0.19731011276449487,1.2797615737542352,-0.3117436598969686,2.2371515544398384,1.1906124852355693,0.2381106335734882,-0.6858170151367708,1.150058581328844,0.19314586783555093,-1.3262365216682042,0.22266823381194942,-1.1045743475961767,-1.0501370436953776,1.2875349619480438,-1.570363318967189,-0.5266463105521983,0.5167043413713699,0.3411124470341882,2.987140002245271],\"type\":\"scatter\"}],                        {\"legend\":{\"bgcolor\":\"#F5F6F9\",\"font\":{\"color\":\"#4D5663\"}},\"paper_bgcolor\":\"#F5F6F9\",\"plot_bgcolor\":\"#F5F6F9\",\"template\":{\"data\":{\"barpolar\":[{\"marker\":{\"line\":{\"color\":\"#E5ECF6\",\"width\":0.5},\"pattern\":{\"fillmode\":\"overlay\",\"size\":10,\"solidity\":0.2}},\"type\":\"barpolar\"}],\"bar\":[{\"error_x\":{\"color\":\"#2a3f5f\"},\"error_y\":{\"color\":\"#2a3f5f\"},\"marker\":{\"line\":{\"color\":\"#E5ECF6\",\"width\":0.5},\"pattern\":{\"fillmode\":\"overlay\",\"size\":10,\"solidity\":0.2}},\"type\":\"bar\"}],\"carpet\":[{\"aaxis\":{\"endlinecolor\":\"#2a3f5f\",\"gridcolor\":\"white\",\"linecolor\":\"white\",\"minorgridcolor\":\"white\",\"startlinecolor\":\"#2a3f5f\"},\"baxis\":{\"endlinecolor\":\"#2a3f5f\",\"gridcolor\":\"white\",\"linecolor\":\"white\",\"minorgridcolor\":\"white\",\"startlinecolor\":\"#2a3f5f\"},\"type\":\"carpet\"}],\"choropleth\":[{\"colorbar\":{\"outlinewidth\":0,\"ticks\":\"\"},\"type\":\"choropleth\"}],\"contourcarpet\":[{\"colorbar\":{\"outlinewidth\":0,\"ticks\":\"\"},\"type\":\"contourcarpet\"}],\"contour\":[{\"colorbar\":{\"outlinewidth\":0,\"ticks\":\"\"},\"colorscale\":[[0.0,\"#0d0887\"],[0.1111111111111111,\"#46039f\"],[0.2222222222222222,\"#7201a8\"],[0.3333333333333333,\"#9c179e\"],[0.4444444444444444,\"#bd3786\"],[0.5555555555555556,\"#d8576b\"],[0.6666666666666666,\"#ed7953\"],[0.7777777777777778,\"#fb9f3a\"],[0.8888888888888888,\"#fdca26\"],[1.0,\"#f0f921\"]],\"type\":\"contour\"}],\"heatmapgl\":[{\"colorbar\":{\"outlinewidth\":0,\"ticks\":\"\"},\"colorscale\":[[0.0,\"#0d0887\"],[0.1111111111111111,\"#46039f\"],[0.2222222222222222,\"#7201a8\"],[0.3333333333333333,\"#9c179e\"],[0.4444444444444444,\"#bd3786\"],[0.5555555555555556,\"#d8576b\"],[0.6666666666666666,\"#ed7953\"],[0.7777777777777778,\"#fb9f3a\"],[0.8888888888888888,\"#fdca26\"],[1.0,\"#f0f921\"]],\"type\":\"heatmapgl\"}],\"heatmap\":[{\"colorbar\":{\"outlinewidth\":0,\"ticks\":\"\"},\"colorscale\":[[0.0,\"#0d0887\"],[0.1111111111111111,\"#46039f\"],[0.2222222222222222,\"#7201a8\"],[0.3333333333333333,\"#9c179e\"],[0.4444444444444444,\"#bd3786\"],[0.5555555555555556,\"#d8576b\"],[0.6666666666666666,\"#ed7953\"],[0.7777777777777778,\"#fb9f3a\"],[0.8888888888888888,\"#fdca26\"],[1.0,\"#f0f921\"]],\"type\":\"heatmap\"}],\"histogram2dcontour\":[{\"colorbar\":{\"outlinewidth\":0,\"ticks\":\"\"},\"colorscale\":[[0.0,\"#0d0887\"],[0.1111111111111111,\"#46039f\"],[0.2222222222222222,\"#7201a8\"],[0.3333333333333333,\"#9c179e\"],[0.4444444444444444,\"#bd3786\"],[0.5555555555555556,\"#d8576b\"],[0.6666666666666666,\"#ed7953\"],[0.7777777777777778,\"#fb9f3a\"],[0.8888888888888888,\"#fdca26\"],[1.0,\"#f0f921\"]],\"type\":\"histogram2dcontour\"}],\"histogram2d\":[{\"colorbar\":{\"outlinewidth\":0,\"ticks\":\"\"},\"colorscale\":[[0.0,\"#0d0887\"],[0.1111111111111111,\"#46039f\"],[0.2222222222222222,\"#7201a8\"],[0.3333333333333333,\"#9c179e\"],[0.4444444444444444,\"#bd3786\"],[0.5555555555555556,\"#d8576b\"],[0.6666666666666666,\"#ed7953\"],[0.7777777777777778,\"#fb9f3a\"],[0.8888888888888888,\"#fdca26\"],[1.0,\"#f0f921\"]],\"type\":\"histogram2d\"}],\"histogram\":[{\"marker\":{\"pattern\":{\"fillmode\":\"overlay\",\"size\":10,\"solidity\":0.2}},\"type\":\"histogram\"}],\"mesh3d\":[{\"colorbar\":{\"outlinewidth\":0,\"ticks\":\"\"},\"type\":\"mesh3d\"}],\"parcoords\":[{\"line\":{\"colorbar\":{\"outlinewidth\":0,\"ticks\":\"\"}},\"type\":\"parcoords\"}],\"pie\":[{\"automargin\":true,\"type\":\"pie\"}],\"scatter3d\":[{\"line\":{\"colorbar\":{\"outlinewidth\":0,\"ticks\":\"\"}},\"marker\":{\"colorbar\":{\"outlinewidth\":0,\"ticks\":\"\"}},\"type\":\"scatter3d\"}],\"scattercarpet\":[{\"marker\":{\"colorbar\":{\"outlinewidth\":0,\"ticks\":\"\"}},\"type\":\"scattercarpet\"}],\"scattergeo\":[{\"marker\":{\"colorbar\":{\"outlinewidth\":0,\"ticks\":\"\"}},\"type\":\"scattergeo\"}],\"scattergl\":[{\"marker\":{\"colorbar\":{\"outlinewidth\":0,\"ticks\":\"\"}},\"type\":\"scattergl\"}],\"scattermapbox\":[{\"marker\":{\"colorbar\":{\"outlinewidth\":0,\"ticks\":\"\"}},\"type\":\"scattermapbox\"}],\"scatterpolargl\":[{\"marker\":{\"colorbar\":{\"outlinewidth\":0,\"ticks\":\"\"}},\"type\":\"scatterpolargl\"}],\"scatterpolar\":[{\"marker\":{\"colorbar\":{\"outlinewidth\":0,\"ticks\":\"\"}},\"type\":\"scatterpolar\"}],\"scatter\":[{\"fillpattern\":{\"fillmode\":\"overlay\",\"size\":10,\"solidity\":0.2},\"type\":\"scatter\"}],\"scatterternary\":[{\"marker\":{\"colorbar\":{\"outlinewidth\":0,\"ticks\":\"\"}},\"type\":\"scatterternary\"}],\"surface\":[{\"colorbar\":{\"outlinewidth\":0,\"ticks\":\"\"},\"colorscale\":[[0.0,\"#0d0887\"],[0.1111111111111111,\"#46039f\"],[0.2222222222222222,\"#7201a8\"],[0.3333333333333333,\"#9c179e\"],[0.4444444444444444,\"#bd3786\"],[0.5555555555555556,\"#d8576b\"],[0.6666666666666666,\"#ed7953\"],[0.7777777777777778,\"#fb9f3a\"],[0.8888888888888888,\"#fdca26\"],[1.0,\"#f0f921\"]],\"type\":\"surface\"}],\"table\":[{\"cells\":{\"fill\":{\"color\":\"#EBF0F8\"},\"line\":{\"color\":\"white\"}},\"header\":{\"fill\":{\"color\":\"#C8D4E3\"},\"line\":{\"color\":\"white\"}},\"type\":\"table\"}]},\"layout\":{\"annotationdefaults\":{\"arrowcolor\":\"#2a3f5f\",\"arrowhead\":0,\"arrowwidth\":1},\"autotypenumbers\":\"strict\",\"coloraxis\":{\"colorbar\":{\"outlinewidth\":0,\"ticks\":\"\"}},\"colorscale\":{\"diverging\":[[0,\"#8e0152\"],[0.1,\"#c51b7d\"],[0.2,\"#de77ae\"],[0.3,\"#f1b6da\"],[0.4,\"#fde0ef\"],[0.5,\"#f7f7f7\"],[0.6,\"#e6f5d0\"],[0.7,\"#b8e186\"],[0.8,\"#7fbc41\"],[0.9,\"#4d9221\"],[1,\"#276419\"]],\"sequential\":[[0.0,\"#0d0887\"],[0.1111111111111111,\"#46039f\"],[0.2222222222222222,\"#7201a8\"],[0.3333333333333333,\"#9c179e\"],[0.4444444444444444,\"#bd3786\"],[0.5555555555555556,\"#d8576b\"],[0.6666666666666666,\"#ed7953\"],[0.7777777777777778,\"#fb9f3a\"],[0.8888888888888888,\"#fdca26\"],[1.0,\"#f0f921\"]],\"sequentialminus\":[[0.0,\"#0d0887\"],[0.1111111111111111,\"#46039f\"],[0.2222222222222222,\"#7201a8\"],[0.3333333333333333,\"#9c179e\"],[0.4444444444444444,\"#bd3786\"],[0.5555555555555556,\"#d8576b\"],[0.6666666666666666,\"#ed7953\"],[0.7777777777777778,\"#fb9f3a\"],[0.8888888888888888,\"#fdca26\"],[1.0,\"#f0f921\"]]},\"colorway\":[\"#636efa\",\"#EF553B\",\"#00cc96\",\"#ab63fa\",\"#FFA15A\",\"#19d3f3\",\"#FF6692\",\"#B6E880\",\"#FF97FF\",\"#FECB52\"],\"font\":{\"color\":\"#2a3f5f\"},\"geo\":{\"bgcolor\":\"white\",\"lakecolor\":\"white\",\"landcolor\":\"#E5ECF6\",\"showlakes\":true,\"showland\":true,\"subunitcolor\":\"white\"},\"hoverlabel\":{\"align\":\"left\"},\"hovermode\":\"closest\",\"mapbox\":{\"style\":\"light\"},\"paper_bgcolor\":\"white\",\"plot_bgcolor\":\"#E5ECF6\",\"polar\":{\"angularaxis\":{\"gridcolor\":\"white\",\"linecolor\":\"white\",\"ticks\":\"\"},\"bgcolor\":\"#E5ECF6\",\"radialaxis\":{\"gridcolor\":\"white\",\"linecolor\":\"white\",\"ticks\":\"\"}},\"scene\":{\"xaxis\":{\"backgroundcolor\":\"#E5ECF6\",\"gridcolor\":\"white\",\"gridwidth\":2,\"linecolor\":\"white\",\"showbackground\":true,\"ticks\":\"\",\"zerolinecolor\":\"white\"},\"yaxis\":{\"backgroundcolor\":\"#E5ECF6\",\"gridcolor\":\"white\",\"gridwidth\":2,\"linecolor\":\"white\",\"showbackground\":true,\"ticks\":\"\",\"zerolinecolor\":\"white\"},\"zaxis\":{\"backgroundcolor\":\"#E5ECF6\",\"gridcolor\":\"white\",\"gridwidth\":2,\"linecolor\":\"white\",\"showbackground\":true,\"ticks\":\"\",\"zerolinecolor\":\"white\"}},\"shapedefaults\":{\"line\":{\"color\":\"#2a3f5f\"}},\"ternary\":{\"aaxis\":{\"gridcolor\":\"white\",\"linecolor\":\"white\",\"ticks\":\"\"},\"baxis\":{\"gridcolor\":\"white\",\"linecolor\":\"white\",\"ticks\":\"\"},\"bgcolor\":\"#E5ECF6\",\"caxis\":{\"gridcolor\":\"white\",\"linecolor\":\"white\",\"ticks\":\"\"}},\"title\":{\"x\":0.05},\"xaxis\":{\"automargin\":true,\"gridcolor\":\"white\",\"linecolor\":\"white\",\"ticks\":\"\",\"title\":{\"standoff\":15},\"zerolinecolor\":\"white\",\"zerolinewidth\":2},\"yaxis\":{\"automargin\":true,\"gridcolor\":\"white\",\"linecolor\":\"white\",\"ticks\":\"\",\"title\":{\"standoff\":15},\"zerolinecolor\":\"white\",\"zerolinewidth\":2}}},\"title\":{\"font\":{\"color\":\"#4D5663\"}},\"xaxis\":{\"gridcolor\":\"#E1E5ED\",\"showgrid\":true,\"tickfont\":{\"color\":\"#4D5663\"},\"title\":{\"font\":{\"color\":\"#4D5663\"},\"text\":\"\"},\"zerolinecolor\":\"#E1E5ED\"},\"yaxis\":{\"gridcolor\":\"#E1E5ED\",\"showgrid\":true,\"tickfont\":{\"color\":\"#4D5663\"},\"title\":{\"font\":{\"color\":\"#4D5663\"},\"text\":\"\"},\"zerolinecolor\":\"#E1E5ED\"}},                        {\"showLink\": true, \"linkText\": \"Export to plot.ly\", \"plotlyServerURL\": \"https://plot.ly\", \"responsive\": true}                    ).then(function(){\n",
       "                            \n",
       "var gd = document.getElementById('e9ce3dc9-6665-427c-bf57-7caf3475b69d');\n",
       "var x = new MutationObserver(function (mutations, observer) {{\n",
       "        var display = window.getComputedStyle(gd).display;\n",
       "        if (!display || display === 'none') {{\n",
       "            console.log([gd, 'removed!']);\n",
       "            Plotly.purge(gd);\n",
       "            observer.disconnect();\n",
       "        }}\n",
       "}});\n",
       "\n",
       "// Listen for the removal of the full notebook cells\n",
       "var notebookContainer = gd.closest('#notebook-container');\n",
       "if (notebookContainer) {{\n",
       "    x.observe(notebookContainer, {childList: true});\n",
       "}}\n",
       "\n",
       "// Listen for the clearing of the current output cell\n",
       "var outputEl = gd.closest('.output');\n",
       "if (outputEl) {{\n",
       "    x.observe(outputEl, {childList: true});\n",
       "}}\n",
       "\n",
       "                        })                };                });            </script>        </div>"
      ]
     },
     "metadata": {},
     "output_type": "display_data"
    }
   ],
   "source": [
    "df.iplot(kind='bubble',x='A',y='B',size='C')"
   ]
  },
  {
   "cell_type": "code",
   "execution_count": 25,
   "id": "0d42d446",
   "metadata": {},
   "outputs": [
    {
     "data": {
      "application/vnd.plotly.v1+json": {
       "config": {
        "linkText": "Export to plot.ly",
        "plotlyServerURL": "https://plot.ly",
        "showLink": true
       },
       "data": [
        {
         "histfunc": "count",
         "histnorm": "",
         "marker": {
          "color": "rgba(255, 153, 51, 1.0)",
          "line": {
           "color": "#4D5663",
           "width": 1.3
          }
         },
         "name": "A",
         "nbinsx": 10,
         "opacity": 0.8,
         "orientation": "v",
         "type": "histogram",
         "x": [
          0.6446209978304961,
          0.4078221920136122,
          -0.2765872970204885,
          0.10456735638555388,
          0.08324133721186451,
          0.057440297633351456,
          -1.2171690355819085,
          -0.09196308817524182,
          -1.4384482006426815,
          -0.9066078684780878,
          -3.0647955779058393,
          -0.5927155310656024,
          1.583409055253283,
          0.234106386964043,
          1.2987088354934264,
          -0.07913794969622139,
          1.9820971873442788,
          0.5300957800919711,
          0.0561241346154549,
          0.015369674156755879,
          -1.2127715104199281,
          0.035053315533376254,
          0.7118746375710167,
          -0.1952185441372051,
          -0.7579919569364388,
          0.8382884169380316,
          -0.2523101224096548,
          0.6311895916493456,
          -1.4756247761832622,
          -1.9698270932740207,
          -1.3372120572711683,
          -0.0055887604966179906,
          -1.7516160926744089,
          0.543208412020896,
          0.707473240158141,
          0.6593860529630602,
          -0.966138313509074,
          1.2445708261621509,
          -1.0802389340212704,
          0.5086900141225315,
          0.06968362854003969,
          -0.6676088576024096,
          -0.6772597043552857,
          1.0685188366936331,
          -1.197023278836309,
          1.3296472778183843,
          -1.7352843284646196,
          -1.0582875565845407,
          1.0617180487815374,
          1.4540725943983606,
          0.5317907297889919,
          0.7420563485732212,
          -0.18793332995515025,
          -1.2305655757068716,
          -0.1772600412850589,
          -1.148239267934772,
          0.4037983500944594,
          0.9812475937057795,
          -0.4956402857253395,
          -0.28809363061450555,
          -0.6487072922681356,
          0.8481841770338829,
          -0.3114926773390753,
          0.3471058665605341,
          2.8359142899847587,
          -0.10683669988149225,
          0.7333023074176133,
          -0.9756817628998831,
          -1.4734885498421182,
          -0.8026545150142835,
          -0.9084824357349854,
          0.451034781575594,
          -0.14441496470423662,
          -1.9756483521255614,
          -0.5332455788412271,
          -0.63886776707257,
          -2.2713107658786433,
          -0.40268261110912806,
          -1.953505525568803,
          0.21002398901558625,
          0.5515111078971915,
          1.8137764486502015,
          -0.5238352930793719,
          -0.2822937597610257,
          0.41863932362537837,
          0.10282204212326963,
          2.0754089376632825,
          0.6972799565874593,
          1.1614656583668113,
          1.3623377423265945,
          0.10708896322825404,
          -0.35965989943947024,
          0.7454316477825902,
          -0.5002942850467338,
          0.3404751564352129,
          -0.7529900522556313,
          0.21081704514965283,
          1.753849340431904,
          0.8556437691539508,
          0.701648831151324
         ],
         "xaxis": "x",
         "yaxis": "y"
        },
        {
         "line": {
          "color": "rgba(128, 128, 128, 1.0)",
          "dash": "solid",
          "shape": "linear",
          "width": 1.3
         },
         "marker": {
          "size": 2,
          "symbol": "circle"
         },
         "mode": "markers",
         "name": "A",
         "text": "",
         "type": "scatter",
         "x": [
          -0.22160750690840028,
          1.7158554903880332,
          -0.6237740459654896,
          1.7171818589480066,
          -0.1968115099154782,
          -0.9178801038802831,
          -0.8648477636664242,
          -0.26311475476438756,
          -0.3644265939925632,
          -0.9804658128967962,
          1.0326790474999514,
          -1.5535104837887026,
          -0.16460272611477467,
          1.4317841740173647,
          0.13868359918099005,
          -0.26283282569495164,
          1.4671591243018076,
          0.9928316600028886,
          1.798718933737595,
          -0.12194429267969392,
          -1.2135185401556021,
          -0.5676843906954775,
          0.5466472148108473,
          1.5064364433330995,
          0.2294216562379941,
          -0.45183094530211637,
          -0.5990162630544981,
          1.2093106738320492,
          -0.5115952740366038,
          -1.3389739304237893,
          -0.05705254876762868,
          0.18038672055746063,
          1.7979243126872604,
          -0.9180546332511316,
          0.00838642535099962,
          -0.7440498127142733,
          0.42076697337853947,
          -1.4875438989362184,
          0.25306783994077015,
          1.8824847563507707,
          -0.5169299902217411,
          0.2883651291147273,
          -0.8722294837074352,
          0.2519290622637881,
          -1.8324172801056757,
          0.37575977161583207,
          0.9443994946857267,
          0.24775429904167792,
          -0.8099720675420381,
          0.8227450644967887,
          0.21290770852438837,
          -0.4753072455838816,
          -0.3011324544818885,
          -0.003528999951231824,
          -0.19640311199830598,
          0.34129342746016,
          0.8817453262399159,
          -0.14964935915574884,
          0.6386867039194815,
          1.6888518942380055,
          -0.954599303308324,
          -1.3586802403670986,
          -0.805279213474311,
          0.6484073187263913,
          0.23471787263488347,
          1.573593064081298,
          1.4803498296832225,
          -0.6778894932880246,
          -2.7440090441649985,
          0.5807543021017987,
          -0.8878887797836558,
          1.3493372535410566,
          -1.1731712522803317,
          0.9009129011476739,
          0.9927017366728492,
          -1.1113954750547725,
          -0.3911079194019816,
          -0.5604947607506066,
          -0.5130962215220196,
          0.296256896974686,
          -0.1897579204290804,
          -0.19731011276449487,
          1.2797615737542352,
          -0.3117436598969686,
          2.2371515544398384,
          1.1906124852355693,
          0.2381106335734882,
          -0.6858170151367708,
          1.150058581328844,
          0.19314586783555093,
          -1.3262365216682042,
          0.22266823381194942,
          -1.1045743475961767,
          -1.0501370436953776,
          1.2875349619480438,
          -1.570363318967189,
          -0.5266463105521983,
          0.5167043413713699,
          0.3411124470341882,
          2.987140002245271
         ],
         "xaxis": "x2",
         "y": [
          0.6446209978304961,
          0.4078221920136122,
          -0.2765872970204885,
          0.10456735638555388,
          0.08324133721186451,
          0.057440297633351456,
          -1.2171690355819085,
          -0.09196308817524182,
          -1.4384482006426815,
          -0.9066078684780878,
          -3.0647955779058393,
          -0.5927155310656024,
          1.583409055253283,
          0.234106386964043,
          1.2987088354934264,
          -0.07913794969622139,
          1.9820971873442788,
          0.5300957800919711,
          0.0561241346154549,
          0.015369674156755879,
          -1.2127715104199281,
          0.035053315533376254,
          0.7118746375710167,
          -0.1952185441372051,
          -0.7579919569364388,
          0.8382884169380316,
          -0.2523101224096548,
          0.6311895916493456,
          -1.4756247761832622,
          -1.9698270932740207,
          -1.3372120572711683,
          -0.0055887604966179906,
          -1.7516160926744089,
          0.543208412020896,
          0.707473240158141,
          0.6593860529630602,
          -0.966138313509074,
          1.2445708261621509,
          -1.0802389340212704,
          0.5086900141225315,
          0.06968362854003969,
          -0.6676088576024096,
          -0.6772597043552857,
          1.0685188366936331,
          -1.197023278836309,
          1.3296472778183843,
          -1.7352843284646196,
          -1.0582875565845407,
          1.0617180487815374,
          1.4540725943983606,
          0.5317907297889919,
          0.7420563485732212,
          -0.18793332995515025,
          -1.2305655757068716,
          -0.1772600412850589,
          -1.148239267934772,
          0.4037983500944594,
          0.9812475937057795,
          -0.4956402857253395,
          -0.28809363061450555,
          -0.6487072922681356,
          0.8481841770338829,
          -0.3114926773390753,
          0.3471058665605341,
          2.8359142899847587,
          -0.10683669988149225,
          0.7333023074176133,
          -0.9756817628998831,
          -1.4734885498421182,
          -0.8026545150142835,
          -0.9084824357349854,
          0.451034781575594,
          -0.14441496470423662,
          -1.9756483521255614,
          -0.5332455788412271,
          -0.63886776707257,
          -2.2713107658786433,
          -0.40268261110912806,
          -1.953505525568803,
          0.21002398901558625,
          0.5515111078971915,
          1.8137764486502015,
          -0.5238352930793719,
          -0.2822937597610257,
          0.41863932362537837,
          0.10282204212326963,
          2.0754089376632825,
          0.6972799565874593,
          1.1614656583668113,
          1.3623377423265945,
          0.10708896322825404,
          -0.35965989943947024,
          0.7454316477825902,
          -0.5002942850467338,
          0.3404751564352129,
          -0.7529900522556313,
          0.21081704514965283,
          1.753849340431904,
          0.8556437691539508,
          0.701648831151324
         ],
         "yaxis": "y2"
        },
        {
         "line": {
          "color": "rgba(128, 128, 128, 1.0)",
          "dash": "solid",
          "shape": "linear",
          "width": 1.3
         },
         "marker": {
          "size": 2,
          "symbol": "circle"
         },
         "mode": "markers",
         "name": "A",
         "text": "",
         "type": "scatter",
         "x": [
          0.7012976858107476,
          0.13112876716322586,
          -0.6813970857853648,
          0.7626266599309006,
          1.8810574004548166,
          0.26033565690448307,
          0.4994790522032047,
          -0.5084750662647777,
          -0.5434176656881163,
          -2.4633927204653046,
          -0.6521249562522544,
          -0.14670782107135424,
          -0.3174865144850475,
          -1.0042400464938952,
          0.6658921866196987,
          0.19034364831626227,
          1.1553870061215892,
          -0.17220095106498723,
          -1.0537714587104434,
          0.500045590396657,
          -0.13451386173465865,
          -0.027892374212246027,
          1.4066424663771657,
          -0.6820547117786162,
          1.0939135918061562,
          1.079296940566886,
          0.010327137081296395,
          -0.9089530044668371,
          2.212218263471134,
          -0.02509365027062667,
          -0.07972747706023059,
          -0.011931537356809503,
          1.2590405432240899,
          -1.5154813110587153,
          -0.7681836657343759,
          0.07029045933967852,
          -0.6261877114432143,
          -0.29890390207145945,
          0.8076891914560079,
          -0.48900643341240624,
          -0.18229600927999168,
          1.2646900813903714,
          0.48761724025730246,
          -0.32419552319665174,
          -0.3195952241608016,
          -0.2141181762540822,
          -0.4732029597170572,
          2.065565663723758,
          -0.7236430797381805,
          -0.1879291151185566,
          1.9650445644037815,
          -2.647997803888273,
          0.0624412739324384,
          0.4214371683701604,
          0.32244681261181213,
          -1.1463309502872436,
          -0.4122642638641093,
          -0.1019974330153135,
          -0.42661888713341123,
          -0.2032627792764815,
          -2.076143637926378,
          -1.0133586709182414,
          0.5425889770145909,
          1.4972767985169795,
          1.3827028866954683,
          -0.9567475197195758,
          -1.6271696404774703,
          -0.04767927054525452,
          -0.3337362568629179,
          -2.5211967071004056,
          -0.7214255274482855,
          -1.6968238348366882,
          -0.8641714143407009,
          1.1314545083027825,
          -0.3464497033574137,
          -0.08399129750322462,
          -1.0997606369501673,
          1.6386602115224296,
          -0.24795699938403845,
          -0.8475456890457912,
          1.2632786197352313,
          -1.3752607005938815,
          -0.17727174377038782,
          -1.1141912635712727,
          0.9038545843165967,
          1.6682151489585701,
          -1.1539416875491058,
          0.26573596340025707,
          0.42537973515492217,
          -1.009847889051133,
          0.6854654840509039,
          -0.14944373300586317,
          1.5099303656959975,
          0.5367132482238024,
          0.5108694434056651,
          0.06396679098017176,
          0.4182402609127113,
          -0.45882135707575805,
          -0.6637807264473049,
          0.42826449790203475
         ],
         "xaxis": "x3",
         "y": [
          0.6446209978304961,
          0.4078221920136122,
          -0.2765872970204885,
          0.10456735638555388,
          0.08324133721186451,
          0.057440297633351456,
          -1.2171690355819085,
          -0.09196308817524182,
          -1.4384482006426815,
          -0.9066078684780878,
          -3.0647955779058393,
          -0.5927155310656024,
          1.583409055253283,
          0.234106386964043,
          1.2987088354934264,
          -0.07913794969622139,
          1.9820971873442788,
          0.5300957800919711,
          0.0561241346154549,
          0.015369674156755879,
          -1.2127715104199281,
          0.035053315533376254,
          0.7118746375710167,
          -0.1952185441372051,
          -0.7579919569364388,
          0.8382884169380316,
          -0.2523101224096548,
          0.6311895916493456,
          -1.4756247761832622,
          -1.9698270932740207,
          -1.3372120572711683,
          -0.0055887604966179906,
          -1.7516160926744089,
          0.543208412020896,
          0.707473240158141,
          0.6593860529630602,
          -0.966138313509074,
          1.2445708261621509,
          -1.0802389340212704,
          0.5086900141225315,
          0.06968362854003969,
          -0.6676088576024096,
          -0.6772597043552857,
          1.0685188366936331,
          -1.197023278836309,
          1.3296472778183843,
          -1.7352843284646196,
          -1.0582875565845407,
          1.0617180487815374,
          1.4540725943983606,
          0.5317907297889919,
          0.7420563485732212,
          -0.18793332995515025,
          -1.2305655757068716,
          -0.1772600412850589,
          -1.148239267934772,
          0.4037983500944594,
          0.9812475937057795,
          -0.4956402857253395,
          -0.28809363061450555,
          -0.6487072922681356,
          0.8481841770338829,
          -0.3114926773390753,
          0.3471058665605341,
          2.8359142899847587,
          -0.10683669988149225,
          0.7333023074176133,
          -0.9756817628998831,
          -1.4734885498421182,
          -0.8026545150142835,
          -0.9084824357349854,
          0.451034781575594,
          -0.14441496470423662,
          -1.9756483521255614,
          -0.5332455788412271,
          -0.63886776707257,
          -2.2713107658786433,
          -0.40268261110912806,
          -1.953505525568803,
          0.21002398901558625,
          0.5515111078971915,
          1.8137764486502015,
          -0.5238352930793719,
          -0.2822937597610257,
          0.41863932362537837,
          0.10282204212326963,
          2.0754089376632825,
          0.6972799565874593,
          1.1614656583668113,
          1.3623377423265945,
          0.10708896322825404,
          -0.35965989943947024,
          0.7454316477825902,
          -0.5002942850467338,
          0.3404751564352129,
          -0.7529900522556313,
          0.21081704514965283,
          1.753849340431904,
          0.8556437691539508,
          0.701648831151324
         ],
         "yaxis": "y3"
        },
        {
         "line": {
          "color": "rgba(128, 128, 128, 1.0)",
          "dash": "solid",
          "shape": "linear",
          "width": 1.3
         },
         "marker": {
          "size": 2,
          "symbol": "circle"
         },
         "mode": "markers",
         "name": "A",
         "text": "",
         "type": "scatter",
         "x": [
          0.7710685342518336,
          -0.08673281835562326,
          -0.9292275667399005,
          -0.08722718385502183,
          -1.8354093130966138,
          -2.3669215228779104,
          1.0162186933207766,
          -1.051591957466034,
          1.311789236964196,
          1.2835110909421699,
          -0.18647269648908388,
          -1.9897111315816265,
          -0.188104262986079,
          -0.40678348264882264,
          -0.2081853041598393,
          -1.0675398634804543,
          0.15879813814960225,
          -0.9335573209804557,
          -1.1794506269311265,
          -0.5086145798998463,
          0.19250525161798482,
          1.2816815797315007,
          0.5456407114917887,
          2.174008157133585,
          0.9716299509781058,
          1.4476394585223482,
          0.8031719567415391,
          0.6338801065749562,
          -1.3396047068103658,
          0.26898247138012976,
          0.06953687683686048,
          -0.782279081821717,
          0.8152780357039893,
          -0.5821296951628023,
          -0.08306425552288532,
          -1.2125532805221355,
          -0.01998873872392119,
          -1.7947383874599883,
          0.3722827373475316,
          0.34592233613599366,
          0.4469249252617456,
          0.9376267695284086,
          1.0977292764220554,
          0.90152666289788,
          0.6406890057757472,
          -0.7343690997457678,
          -1.1469319828890387,
          -3.5805232475388453,
          1.7333269996330503,
          -0.16988381138361097,
          0.053954263262173154,
          -1.5588014795073613,
          1.3637212251412825,
          0.6635556331193656,
          -0.9590459929753491,
          -0.18672923056468158,
          -0.04536186834589831,
          -0.986179375093094,
          0.3438924264706309,
          0.6693067098234198,
          -0.422152846774601,
          -0.82902191445765,
          0.6962418591367862,
          -0.9336714089215007,
          0.2771700521454067,
          -0.20530361172490166,
          -0.3870473361922757,
          0.04887067149170552,
          -0.5806307167987539,
          -0.06758041697691812,
          -0.9927284682004818,
          0.03569548773964057,
          0.6970934325532863,
          0.5200703942540074,
          -0.40308030657266836,
          0.26654996695149374,
          0.6133970024769643,
          0.7127654020511173,
          1.2338043037286743,
          0.6657650184138121,
          -1.0658224426141822,
          1.1329112648803752,
          0.4257779515125473,
          0.48174393345883953,
          -1.0064697749288969,
          0.8144570677497984,
          0.09904712954893766,
          -0.01667907684784322,
          -1.4899988133514555,
          -1.2307960774775202,
          1.5475895067518977,
          -0.6295026903629481,
          0.7470095780965724,
          -0.494454673834522,
          1.2715278291971563,
          0.8734646191239015,
          -0.21238519250933158,
          -1.0630629919021253,
          -0.01077421943135205,
          -1.0048395012750386
         ],
         "xaxis": "x4",
         "y": [
          0.6446209978304961,
          0.4078221920136122,
          -0.2765872970204885,
          0.10456735638555388,
          0.08324133721186451,
          0.057440297633351456,
          -1.2171690355819085,
          -0.09196308817524182,
          -1.4384482006426815,
          -0.9066078684780878,
          -3.0647955779058393,
          -0.5927155310656024,
          1.583409055253283,
          0.234106386964043,
          1.2987088354934264,
          -0.07913794969622139,
          1.9820971873442788,
          0.5300957800919711,
          0.0561241346154549,
          0.015369674156755879,
          -1.2127715104199281,
          0.035053315533376254,
          0.7118746375710167,
          -0.1952185441372051,
          -0.7579919569364388,
          0.8382884169380316,
          -0.2523101224096548,
          0.6311895916493456,
          -1.4756247761832622,
          -1.9698270932740207,
          -1.3372120572711683,
          -0.0055887604966179906,
          -1.7516160926744089,
          0.543208412020896,
          0.707473240158141,
          0.6593860529630602,
          -0.966138313509074,
          1.2445708261621509,
          -1.0802389340212704,
          0.5086900141225315,
          0.06968362854003969,
          -0.6676088576024096,
          -0.6772597043552857,
          1.0685188366936331,
          -1.197023278836309,
          1.3296472778183843,
          -1.7352843284646196,
          -1.0582875565845407,
          1.0617180487815374,
          1.4540725943983606,
          0.5317907297889919,
          0.7420563485732212,
          -0.18793332995515025,
          -1.2305655757068716,
          -0.1772600412850589,
          -1.148239267934772,
          0.4037983500944594,
          0.9812475937057795,
          -0.4956402857253395,
          -0.28809363061450555,
          -0.6487072922681356,
          0.8481841770338829,
          -0.3114926773390753,
          0.3471058665605341,
          2.8359142899847587,
          -0.10683669988149225,
          0.7333023074176133,
          -0.9756817628998831,
          -1.4734885498421182,
          -0.8026545150142835,
          -0.9084824357349854,
          0.451034781575594,
          -0.14441496470423662,
          -1.9756483521255614,
          -0.5332455788412271,
          -0.63886776707257,
          -2.2713107658786433,
          -0.40268261110912806,
          -1.953505525568803,
          0.21002398901558625,
          0.5515111078971915,
          1.8137764486502015,
          -0.5238352930793719,
          -0.2822937597610257,
          0.41863932362537837,
          0.10282204212326963,
          2.0754089376632825,
          0.6972799565874593,
          1.1614656583668113,
          1.3623377423265945,
          0.10708896322825404,
          -0.35965989943947024,
          0.7454316477825902,
          -0.5002942850467338,
          0.3404751564352129,
          -0.7529900522556313,
          0.21081704514965283,
          1.753849340431904,
          0.8556437691539508,
          0.701648831151324
         ],
         "yaxis": "y4"
        },
        {
         "line": {
          "color": "rgba(128, 128, 128, 1.0)",
          "dash": "solid",
          "shape": "linear",
          "width": 1.3
         },
         "marker": {
          "size": 2,
          "symbol": "circle"
         },
         "mode": "markers",
         "name": "B",
         "text": "",
         "type": "scatter",
         "x": [
          0.6446209978304961,
          0.4078221920136122,
          -0.2765872970204885,
          0.10456735638555388,
          0.08324133721186451,
          0.057440297633351456,
          -1.2171690355819085,
          -0.09196308817524182,
          -1.4384482006426815,
          -0.9066078684780878,
          -3.0647955779058393,
          -0.5927155310656024,
          1.583409055253283,
          0.234106386964043,
          1.2987088354934264,
          -0.07913794969622139,
          1.9820971873442788,
          0.5300957800919711,
          0.0561241346154549,
          0.015369674156755879,
          -1.2127715104199281,
          0.035053315533376254,
          0.7118746375710167,
          -0.1952185441372051,
          -0.7579919569364388,
          0.8382884169380316,
          -0.2523101224096548,
          0.6311895916493456,
          -1.4756247761832622,
          -1.9698270932740207,
          -1.3372120572711683,
          -0.0055887604966179906,
          -1.7516160926744089,
          0.543208412020896,
          0.707473240158141,
          0.6593860529630602,
          -0.966138313509074,
          1.2445708261621509,
          -1.0802389340212704,
          0.5086900141225315,
          0.06968362854003969,
          -0.6676088576024096,
          -0.6772597043552857,
          1.0685188366936331,
          -1.197023278836309,
          1.3296472778183843,
          -1.7352843284646196,
          -1.0582875565845407,
          1.0617180487815374,
          1.4540725943983606,
          0.5317907297889919,
          0.7420563485732212,
          -0.18793332995515025,
          -1.2305655757068716,
          -0.1772600412850589,
          -1.148239267934772,
          0.4037983500944594,
          0.9812475937057795,
          -0.4956402857253395,
          -0.28809363061450555,
          -0.6487072922681356,
          0.8481841770338829,
          -0.3114926773390753,
          0.3471058665605341,
          2.8359142899847587,
          -0.10683669988149225,
          0.7333023074176133,
          -0.9756817628998831,
          -1.4734885498421182,
          -0.8026545150142835,
          -0.9084824357349854,
          0.451034781575594,
          -0.14441496470423662,
          -1.9756483521255614,
          -0.5332455788412271,
          -0.63886776707257,
          -2.2713107658786433,
          -0.40268261110912806,
          -1.953505525568803,
          0.21002398901558625,
          0.5515111078971915,
          1.8137764486502015,
          -0.5238352930793719,
          -0.2822937597610257,
          0.41863932362537837,
          0.10282204212326963,
          2.0754089376632825,
          0.6972799565874593,
          1.1614656583668113,
          1.3623377423265945,
          0.10708896322825404,
          -0.35965989943947024,
          0.7454316477825902,
          -0.5002942850467338,
          0.3404751564352129,
          -0.7529900522556313,
          0.21081704514965283,
          1.753849340431904,
          0.8556437691539508,
          0.701648831151324
         ],
         "xaxis": "x5",
         "y": [
          -0.22160750690840028,
          1.7158554903880332,
          -0.6237740459654896,
          1.7171818589480066,
          -0.1968115099154782,
          -0.9178801038802831,
          -0.8648477636664242,
          -0.26311475476438756,
          -0.3644265939925632,
          -0.9804658128967962,
          1.0326790474999514,
          -1.5535104837887026,
          -0.16460272611477467,
          1.4317841740173647,
          0.13868359918099005,
          -0.26283282569495164,
          1.4671591243018076,
          0.9928316600028886,
          1.798718933737595,
          -0.12194429267969392,
          -1.2135185401556021,
          -0.5676843906954775,
          0.5466472148108473,
          1.5064364433330995,
          0.2294216562379941,
          -0.45183094530211637,
          -0.5990162630544981,
          1.2093106738320492,
          -0.5115952740366038,
          -1.3389739304237893,
          -0.05705254876762868,
          0.18038672055746063,
          1.7979243126872604,
          -0.9180546332511316,
          0.00838642535099962,
          -0.7440498127142733,
          0.42076697337853947,
          -1.4875438989362184,
          0.25306783994077015,
          1.8824847563507707,
          -0.5169299902217411,
          0.2883651291147273,
          -0.8722294837074352,
          0.2519290622637881,
          -1.8324172801056757,
          0.37575977161583207,
          0.9443994946857267,
          0.24775429904167792,
          -0.8099720675420381,
          0.8227450644967887,
          0.21290770852438837,
          -0.4753072455838816,
          -0.3011324544818885,
          -0.003528999951231824,
          -0.19640311199830598,
          0.34129342746016,
          0.8817453262399159,
          -0.14964935915574884,
          0.6386867039194815,
          1.6888518942380055,
          -0.954599303308324,
          -1.3586802403670986,
          -0.805279213474311,
          0.6484073187263913,
          0.23471787263488347,
          1.573593064081298,
          1.4803498296832225,
          -0.6778894932880246,
          -2.7440090441649985,
          0.5807543021017987,
          -0.8878887797836558,
          1.3493372535410566,
          -1.1731712522803317,
          0.9009129011476739,
          0.9927017366728492,
          -1.1113954750547725,
          -0.3911079194019816,
          -0.5604947607506066,
          -0.5130962215220196,
          0.296256896974686,
          -0.1897579204290804,
          -0.19731011276449487,
          1.2797615737542352,
          -0.3117436598969686,
          2.2371515544398384,
          1.1906124852355693,
          0.2381106335734882,
          -0.6858170151367708,
          1.150058581328844,
          0.19314586783555093,
          -1.3262365216682042,
          0.22266823381194942,
          -1.1045743475961767,
          -1.0501370436953776,
          1.2875349619480438,
          -1.570363318967189,
          -0.5266463105521983,
          0.5167043413713699,
          0.3411124470341882,
          2.987140002245271
         ],
         "yaxis": "y5"
        },
        {
         "histfunc": "count",
         "histnorm": "",
         "marker": {
          "color": "rgba(55, 128, 191, 1.0)",
          "line": {
           "color": "#4D5663",
           "width": 1.3
          }
         },
         "name": "B",
         "nbinsx": 10,
         "opacity": 0.8,
         "orientation": "v",
         "type": "histogram",
         "x": [
          -0.22160750690840028,
          1.7158554903880332,
          -0.6237740459654896,
          1.7171818589480066,
          -0.1968115099154782,
          -0.9178801038802831,
          -0.8648477636664242,
          -0.26311475476438756,
          -0.3644265939925632,
          -0.9804658128967962,
          1.0326790474999514,
          -1.5535104837887026,
          -0.16460272611477467,
          1.4317841740173647,
          0.13868359918099005,
          -0.26283282569495164,
          1.4671591243018076,
          0.9928316600028886,
          1.798718933737595,
          -0.12194429267969392,
          -1.2135185401556021,
          -0.5676843906954775,
          0.5466472148108473,
          1.5064364433330995,
          0.2294216562379941,
          -0.45183094530211637,
          -0.5990162630544981,
          1.2093106738320492,
          -0.5115952740366038,
          -1.3389739304237893,
          -0.05705254876762868,
          0.18038672055746063,
          1.7979243126872604,
          -0.9180546332511316,
          0.00838642535099962,
          -0.7440498127142733,
          0.42076697337853947,
          -1.4875438989362184,
          0.25306783994077015,
          1.8824847563507707,
          -0.5169299902217411,
          0.2883651291147273,
          -0.8722294837074352,
          0.2519290622637881,
          -1.8324172801056757,
          0.37575977161583207,
          0.9443994946857267,
          0.24775429904167792,
          -0.8099720675420381,
          0.8227450644967887,
          0.21290770852438837,
          -0.4753072455838816,
          -0.3011324544818885,
          -0.003528999951231824,
          -0.19640311199830598,
          0.34129342746016,
          0.8817453262399159,
          -0.14964935915574884,
          0.6386867039194815,
          1.6888518942380055,
          -0.954599303308324,
          -1.3586802403670986,
          -0.805279213474311,
          0.6484073187263913,
          0.23471787263488347,
          1.573593064081298,
          1.4803498296832225,
          -0.6778894932880246,
          -2.7440090441649985,
          0.5807543021017987,
          -0.8878887797836558,
          1.3493372535410566,
          -1.1731712522803317,
          0.9009129011476739,
          0.9927017366728492,
          -1.1113954750547725,
          -0.3911079194019816,
          -0.5604947607506066,
          -0.5130962215220196,
          0.296256896974686,
          -0.1897579204290804,
          -0.19731011276449487,
          1.2797615737542352,
          -0.3117436598969686,
          2.2371515544398384,
          1.1906124852355693,
          0.2381106335734882,
          -0.6858170151367708,
          1.150058581328844,
          0.19314586783555093,
          -1.3262365216682042,
          0.22266823381194942,
          -1.1045743475961767,
          -1.0501370436953776,
          1.2875349619480438,
          -1.570363318967189,
          -0.5266463105521983,
          0.5167043413713699,
          0.3411124470341882,
          2.987140002245271
         ],
         "xaxis": "x6",
         "yaxis": "y6"
        },
        {
         "line": {
          "color": "rgba(128, 128, 128, 1.0)",
          "dash": "solid",
          "shape": "linear",
          "width": 1.3
         },
         "marker": {
          "size": 2,
          "symbol": "circle"
         },
         "mode": "markers",
         "name": "B",
         "text": "",
         "type": "scatter",
         "x": [
          0.7012976858107476,
          0.13112876716322586,
          -0.6813970857853648,
          0.7626266599309006,
          1.8810574004548166,
          0.26033565690448307,
          0.4994790522032047,
          -0.5084750662647777,
          -0.5434176656881163,
          -2.4633927204653046,
          -0.6521249562522544,
          -0.14670782107135424,
          -0.3174865144850475,
          -1.0042400464938952,
          0.6658921866196987,
          0.19034364831626227,
          1.1553870061215892,
          -0.17220095106498723,
          -1.0537714587104434,
          0.500045590396657,
          -0.13451386173465865,
          -0.027892374212246027,
          1.4066424663771657,
          -0.6820547117786162,
          1.0939135918061562,
          1.079296940566886,
          0.010327137081296395,
          -0.9089530044668371,
          2.212218263471134,
          -0.02509365027062667,
          -0.07972747706023059,
          -0.011931537356809503,
          1.2590405432240899,
          -1.5154813110587153,
          -0.7681836657343759,
          0.07029045933967852,
          -0.6261877114432143,
          -0.29890390207145945,
          0.8076891914560079,
          -0.48900643341240624,
          -0.18229600927999168,
          1.2646900813903714,
          0.48761724025730246,
          -0.32419552319665174,
          -0.3195952241608016,
          -0.2141181762540822,
          -0.4732029597170572,
          2.065565663723758,
          -0.7236430797381805,
          -0.1879291151185566,
          1.9650445644037815,
          -2.647997803888273,
          0.0624412739324384,
          0.4214371683701604,
          0.32244681261181213,
          -1.1463309502872436,
          -0.4122642638641093,
          -0.1019974330153135,
          -0.42661888713341123,
          -0.2032627792764815,
          -2.076143637926378,
          -1.0133586709182414,
          0.5425889770145909,
          1.4972767985169795,
          1.3827028866954683,
          -0.9567475197195758,
          -1.6271696404774703,
          -0.04767927054525452,
          -0.3337362568629179,
          -2.5211967071004056,
          -0.7214255274482855,
          -1.6968238348366882,
          -0.8641714143407009,
          1.1314545083027825,
          -0.3464497033574137,
          -0.08399129750322462,
          -1.0997606369501673,
          1.6386602115224296,
          -0.24795699938403845,
          -0.8475456890457912,
          1.2632786197352313,
          -1.3752607005938815,
          -0.17727174377038782,
          -1.1141912635712727,
          0.9038545843165967,
          1.6682151489585701,
          -1.1539416875491058,
          0.26573596340025707,
          0.42537973515492217,
          -1.009847889051133,
          0.6854654840509039,
          -0.14944373300586317,
          1.5099303656959975,
          0.5367132482238024,
          0.5108694434056651,
          0.06396679098017176,
          0.4182402609127113,
          -0.45882135707575805,
          -0.6637807264473049,
          0.42826449790203475
         ],
         "xaxis": "x7",
         "y": [
          -0.22160750690840028,
          1.7158554903880332,
          -0.6237740459654896,
          1.7171818589480066,
          -0.1968115099154782,
          -0.9178801038802831,
          -0.8648477636664242,
          -0.26311475476438756,
          -0.3644265939925632,
          -0.9804658128967962,
          1.0326790474999514,
          -1.5535104837887026,
          -0.16460272611477467,
          1.4317841740173647,
          0.13868359918099005,
          -0.26283282569495164,
          1.4671591243018076,
          0.9928316600028886,
          1.798718933737595,
          -0.12194429267969392,
          -1.2135185401556021,
          -0.5676843906954775,
          0.5466472148108473,
          1.5064364433330995,
          0.2294216562379941,
          -0.45183094530211637,
          -0.5990162630544981,
          1.2093106738320492,
          -0.5115952740366038,
          -1.3389739304237893,
          -0.05705254876762868,
          0.18038672055746063,
          1.7979243126872604,
          -0.9180546332511316,
          0.00838642535099962,
          -0.7440498127142733,
          0.42076697337853947,
          -1.4875438989362184,
          0.25306783994077015,
          1.8824847563507707,
          -0.5169299902217411,
          0.2883651291147273,
          -0.8722294837074352,
          0.2519290622637881,
          -1.8324172801056757,
          0.37575977161583207,
          0.9443994946857267,
          0.24775429904167792,
          -0.8099720675420381,
          0.8227450644967887,
          0.21290770852438837,
          -0.4753072455838816,
          -0.3011324544818885,
          -0.003528999951231824,
          -0.19640311199830598,
          0.34129342746016,
          0.8817453262399159,
          -0.14964935915574884,
          0.6386867039194815,
          1.6888518942380055,
          -0.954599303308324,
          -1.3586802403670986,
          -0.805279213474311,
          0.6484073187263913,
          0.23471787263488347,
          1.573593064081298,
          1.4803498296832225,
          -0.6778894932880246,
          -2.7440090441649985,
          0.5807543021017987,
          -0.8878887797836558,
          1.3493372535410566,
          -1.1731712522803317,
          0.9009129011476739,
          0.9927017366728492,
          -1.1113954750547725,
          -0.3911079194019816,
          -0.5604947607506066,
          -0.5130962215220196,
          0.296256896974686,
          -0.1897579204290804,
          -0.19731011276449487,
          1.2797615737542352,
          -0.3117436598969686,
          2.2371515544398384,
          1.1906124852355693,
          0.2381106335734882,
          -0.6858170151367708,
          1.150058581328844,
          0.19314586783555093,
          -1.3262365216682042,
          0.22266823381194942,
          -1.1045743475961767,
          -1.0501370436953776,
          1.2875349619480438,
          -1.570363318967189,
          -0.5266463105521983,
          0.5167043413713699,
          0.3411124470341882,
          2.987140002245271
         ],
         "yaxis": "y7"
        },
        {
         "line": {
          "color": "rgba(128, 128, 128, 1.0)",
          "dash": "solid",
          "shape": "linear",
          "width": 1.3
         },
         "marker": {
          "size": 2,
          "symbol": "circle"
         },
         "mode": "markers",
         "name": "B",
         "text": "",
         "type": "scatter",
         "x": [
          0.7710685342518336,
          -0.08673281835562326,
          -0.9292275667399005,
          -0.08722718385502183,
          -1.8354093130966138,
          -2.3669215228779104,
          1.0162186933207766,
          -1.051591957466034,
          1.311789236964196,
          1.2835110909421699,
          -0.18647269648908388,
          -1.9897111315816265,
          -0.188104262986079,
          -0.40678348264882264,
          -0.2081853041598393,
          -1.0675398634804543,
          0.15879813814960225,
          -0.9335573209804557,
          -1.1794506269311265,
          -0.5086145798998463,
          0.19250525161798482,
          1.2816815797315007,
          0.5456407114917887,
          2.174008157133585,
          0.9716299509781058,
          1.4476394585223482,
          0.8031719567415391,
          0.6338801065749562,
          -1.3396047068103658,
          0.26898247138012976,
          0.06953687683686048,
          -0.782279081821717,
          0.8152780357039893,
          -0.5821296951628023,
          -0.08306425552288532,
          -1.2125532805221355,
          -0.01998873872392119,
          -1.7947383874599883,
          0.3722827373475316,
          0.34592233613599366,
          0.4469249252617456,
          0.9376267695284086,
          1.0977292764220554,
          0.90152666289788,
          0.6406890057757472,
          -0.7343690997457678,
          -1.1469319828890387,
          -3.5805232475388453,
          1.7333269996330503,
          -0.16988381138361097,
          0.053954263262173154,
          -1.5588014795073613,
          1.3637212251412825,
          0.6635556331193656,
          -0.9590459929753491,
          -0.18672923056468158,
          -0.04536186834589831,
          -0.986179375093094,
          0.3438924264706309,
          0.6693067098234198,
          -0.422152846774601,
          -0.82902191445765,
          0.6962418591367862,
          -0.9336714089215007,
          0.2771700521454067,
          -0.20530361172490166,
          -0.3870473361922757,
          0.04887067149170552,
          -0.5806307167987539,
          -0.06758041697691812,
          -0.9927284682004818,
          0.03569548773964057,
          0.6970934325532863,
          0.5200703942540074,
          -0.40308030657266836,
          0.26654996695149374,
          0.6133970024769643,
          0.7127654020511173,
          1.2338043037286743,
          0.6657650184138121,
          -1.0658224426141822,
          1.1329112648803752,
          0.4257779515125473,
          0.48174393345883953,
          -1.0064697749288969,
          0.8144570677497984,
          0.09904712954893766,
          -0.01667907684784322,
          -1.4899988133514555,
          -1.2307960774775202,
          1.5475895067518977,
          -0.6295026903629481,
          0.7470095780965724,
          -0.494454673834522,
          1.2715278291971563,
          0.8734646191239015,
          -0.21238519250933158,
          -1.0630629919021253,
          -0.01077421943135205,
          -1.0048395012750386
         ],
         "xaxis": "x8",
         "y": [
          -0.22160750690840028,
          1.7158554903880332,
          -0.6237740459654896,
          1.7171818589480066,
          -0.1968115099154782,
          -0.9178801038802831,
          -0.8648477636664242,
          -0.26311475476438756,
          -0.3644265939925632,
          -0.9804658128967962,
          1.0326790474999514,
          -1.5535104837887026,
          -0.16460272611477467,
          1.4317841740173647,
          0.13868359918099005,
          -0.26283282569495164,
          1.4671591243018076,
          0.9928316600028886,
          1.798718933737595,
          -0.12194429267969392,
          -1.2135185401556021,
          -0.5676843906954775,
          0.5466472148108473,
          1.5064364433330995,
          0.2294216562379941,
          -0.45183094530211637,
          -0.5990162630544981,
          1.2093106738320492,
          -0.5115952740366038,
          -1.3389739304237893,
          -0.05705254876762868,
          0.18038672055746063,
          1.7979243126872604,
          -0.9180546332511316,
          0.00838642535099962,
          -0.7440498127142733,
          0.42076697337853947,
          -1.4875438989362184,
          0.25306783994077015,
          1.8824847563507707,
          -0.5169299902217411,
          0.2883651291147273,
          -0.8722294837074352,
          0.2519290622637881,
          -1.8324172801056757,
          0.37575977161583207,
          0.9443994946857267,
          0.24775429904167792,
          -0.8099720675420381,
          0.8227450644967887,
          0.21290770852438837,
          -0.4753072455838816,
          -0.3011324544818885,
          -0.003528999951231824,
          -0.19640311199830598,
          0.34129342746016,
          0.8817453262399159,
          -0.14964935915574884,
          0.6386867039194815,
          1.6888518942380055,
          -0.954599303308324,
          -1.3586802403670986,
          -0.805279213474311,
          0.6484073187263913,
          0.23471787263488347,
          1.573593064081298,
          1.4803498296832225,
          -0.6778894932880246,
          -2.7440090441649985,
          0.5807543021017987,
          -0.8878887797836558,
          1.3493372535410566,
          -1.1731712522803317,
          0.9009129011476739,
          0.9927017366728492,
          -1.1113954750547725,
          -0.3911079194019816,
          -0.5604947607506066,
          -0.5130962215220196,
          0.296256896974686,
          -0.1897579204290804,
          -0.19731011276449487,
          1.2797615737542352,
          -0.3117436598969686,
          2.2371515544398384,
          1.1906124852355693,
          0.2381106335734882,
          -0.6858170151367708,
          1.150058581328844,
          0.19314586783555093,
          -1.3262365216682042,
          0.22266823381194942,
          -1.1045743475961767,
          -1.0501370436953776,
          1.2875349619480438,
          -1.570363318967189,
          -0.5266463105521983,
          0.5167043413713699,
          0.3411124470341882,
          2.987140002245271
         ],
         "yaxis": "y8"
        },
        {
         "line": {
          "color": "rgba(128, 128, 128, 1.0)",
          "dash": "solid",
          "shape": "linear",
          "width": 1.3
         },
         "marker": {
          "size": 2,
          "symbol": "circle"
         },
         "mode": "markers",
         "name": "C",
         "text": "",
         "type": "scatter",
         "x": [
          0.6446209978304961,
          0.4078221920136122,
          -0.2765872970204885,
          0.10456735638555388,
          0.08324133721186451,
          0.057440297633351456,
          -1.2171690355819085,
          -0.09196308817524182,
          -1.4384482006426815,
          -0.9066078684780878,
          -3.0647955779058393,
          -0.5927155310656024,
          1.583409055253283,
          0.234106386964043,
          1.2987088354934264,
          -0.07913794969622139,
          1.9820971873442788,
          0.5300957800919711,
          0.0561241346154549,
          0.015369674156755879,
          -1.2127715104199281,
          0.035053315533376254,
          0.7118746375710167,
          -0.1952185441372051,
          -0.7579919569364388,
          0.8382884169380316,
          -0.2523101224096548,
          0.6311895916493456,
          -1.4756247761832622,
          -1.9698270932740207,
          -1.3372120572711683,
          -0.0055887604966179906,
          -1.7516160926744089,
          0.543208412020896,
          0.707473240158141,
          0.6593860529630602,
          -0.966138313509074,
          1.2445708261621509,
          -1.0802389340212704,
          0.5086900141225315,
          0.06968362854003969,
          -0.6676088576024096,
          -0.6772597043552857,
          1.0685188366936331,
          -1.197023278836309,
          1.3296472778183843,
          -1.7352843284646196,
          -1.0582875565845407,
          1.0617180487815374,
          1.4540725943983606,
          0.5317907297889919,
          0.7420563485732212,
          -0.18793332995515025,
          -1.2305655757068716,
          -0.1772600412850589,
          -1.148239267934772,
          0.4037983500944594,
          0.9812475937057795,
          -0.4956402857253395,
          -0.28809363061450555,
          -0.6487072922681356,
          0.8481841770338829,
          -0.3114926773390753,
          0.3471058665605341,
          2.8359142899847587,
          -0.10683669988149225,
          0.7333023074176133,
          -0.9756817628998831,
          -1.4734885498421182,
          -0.8026545150142835,
          -0.9084824357349854,
          0.451034781575594,
          -0.14441496470423662,
          -1.9756483521255614,
          -0.5332455788412271,
          -0.63886776707257,
          -2.2713107658786433,
          -0.40268261110912806,
          -1.953505525568803,
          0.21002398901558625,
          0.5515111078971915,
          1.8137764486502015,
          -0.5238352930793719,
          -0.2822937597610257,
          0.41863932362537837,
          0.10282204212326963,
          2.0754089376632825,
          0.6972799565874593,
          1.1614656583668113,
          1.3623377423265945,
          0.10708896322825404,
          -0.35965989943947024,
          0.7454316477825902,
          -0.5002942850467338,
          0.3404751564352129,
          -0.7529900522556313,
          0.21081704514965283,
          1.753849340431904,
          0.8556437691539508,
          0.701648831151324
         ],
         "xaxis": "x9",
         "y": [
          0.7012976858107476,
          0.13112876716322586,
          -0.6813970857853648,
          0.7626266599309006,
          1.8810574004548166,
          0.26033565690448307,
          0.4994790522032047,
          -0.5084750662647777,
          -0.5434176656881163,
          -2.4633927204653046,
          -0.6521249562522544,
          -0.14670782107135424,
          -0.3174865144850475,
          -1.0042400464938952,
          0.6658921866196987,
          0.19034364831626227,
          1.1553870061215892,
          -0.17220095106498723,
          -1.0537714587104434,
          0.500045590396657,
          -0.13451386173465865,
          -0.027892374212246027,
          1.4066424663771657,
          -0.6820547117786162,
          1.0939135918061562,
          1.079296940566886,
          0.010327137081296395,
          -0.9089530044668371,
          2.212218263471134,
          -0.02509365027062667,
          -0.07972747706023059,
          -0.011931537356809503,
          1.2590405432240899,
          -1.5154813110587153,
          -0.7681836657343759,
          0.07029045933967852,
          -0.6261877114432143,
          -0.29890390207145945,
          0.8076891914560079,
          -0.48900643341240624,
          -0.18229600927999168,
          1.2646900813903714,
          0.48761724025730246,
          -0.32419552319665174,
          -0.3195952241608016,
          -0.2141181762540822,
          -0.4732029597170572,
          2.065565663723758,
          -0.7236430797381805,
          -0.1879291151185566,
          1.9650445644037815,
          -2.647997803888273,
          0.0624412739324384,
          0.4214371683701604,
          0.32244681261181213,
          -1.1463309502872436,
          -0.4122642638641093,
          -0.1019974330153135,
          -0.42661888713341123,
          -0.2032627792764815,
          -2.076143637926378,
          -1.0133586709182414,
          0.5425889770145909,
          1.4972767985169795,
          1.3827028866954683,
          -0.9567475197195758,
          -1.6271696404774703,
          -0.04767927054525452,
          -0.3337362568629179,
          -2.5211967071004056,
          -0.7214255274482855,
          -1.6968238348366882,
          -0.8641714143407009,
          1.1314545083027825,
          -0.3464497033574137,
          -0.08399129750322462,
          -1.0997606369501673,
          1.6386602115224296,
          -0.24795699938403845,
          -0.8475456890457912,
          1.2632786197352313,
          -1.3752607005938815,
          -0.17727174377038782,
          -1.1141912635712727,
          0.9038545843165967,
          1.6682151489585701,
          -1.1539416875491058,
          0.26573596340025707,
          0.42537973515492217,
          -1.009847889051133,
          0.6854654840509039,
          -0.14944373300586317,
          1.5099303656959975,
          0.5367132482238024,
          0.5108694434056651,
          0.06396679098017176,
          0.4182402609127113,
          -0.45882135707575805,
          -0.6637807264473049,
          0.42826449790203475
         ],
         "yaxis": "y9"
        },
        {
         "line": {
          "color": "rgba(128, 128, 128, 1.0)",
          "dash": "solid",
          "shape": "linear",
          "width": 1.3
         },
         "marker": {
          "size": 2,
          "symbol": "circle"
         },
         "mode": "markers",
         "name": "C",
         "text": "",
         "type": "scatter",
         "x": [
          -0.22160750690840028,
          1.7158554903880332,
          -0.6237740459654896,
          1.7171818589480066,
          -0.1968115099154782,
          -0.9178801038802831,
          -0.8648477636664242,
          -0.26311475476438756,
          -0.3644265939925632,
          -0.9804658128967962,
          1.0326790474999514,
          -1.5535104837887026,
          -0.16460272611477467,
          1.4317841740173647,
          0.13868359918099005,
          -0.26283282569495164,
          1.4671591243018076,
          0.9928316600028886,
          1.798718933737595,
          -0.12194429267969392,
          -1.2135185401556021,
          -0.5676843906954775,
          0.5466472148108473,
          1.5064364433330995,
          0.2294216562379941,
          -0.45183094530211637,
          -0.5990162630544981,
          1.2093106738320492,
          -0.5115952740366038,
          -1.3389739304237893,
          -0.05705254876762868,
          0.18038672055746063,
          1.7979243126872604,
          -0.9180546332511316,
          0.00838642535099962,
          -0.7440498127142733,
          0.42076697337853947,
          -1.4875438989362184,
          0.25306783994077015,
          1.8824847563507707,
          -0.5169299902217411,
          0.2883651291147273,
          -0.8722294837074352,
          0.2519290622637881,
          -1.8324172801056757,
          0.37575977161583207,
          0.9443994946857267,
          0.24775429904167792,
          -0.8099720675420381,
          0.8227450644967887,
          0.21290770852438837,
          -0.4753072455838816,
          -0.3011324544818885,
          -0.003528999951231824,
          -0.19640311199830598,
          0.34129342746016,
          0.8817453262399159,
          -0.14964935915574884,
          0.6386867039194815,
          1.6888518942380055,
          -0.954599303308324,
          -1.3586802403670986,
          -0.805279213474311,
          0.6484073187263913,
          0.23471787263488347,
          1.573593064081298,
          1.4803498296832225,
          -0.6778894932880246,
          -2.7440090441649985,
          0.5807543021017987,
          -0.8878887797836558,
          1.3493372535410566,
          -1.1731712522803317,
          0.9009129011476739,
          0.9927017366728492,
          -1.1113954750547725,
          -0.3911079194019816,
          -0.5604947607506066,
          -0.5130962215220196,
          0.296256896974686,
          -0.1897579204290804,
          -0.19731011276449487,
          1.2797615737542352,
          -0.3117436598969686,
          2.2371515544398384,
          1.1906124852355693,
          0.2381106335734882,
          -0.6858170151367708,
          1.150058581328844,
          0.19314586783555093,
          -1.3262365216682042,
          0.22266823381194942,
          -1.1045743475961767,
          -1.0501370436953776,
          1.2875349619480438,
          -1.570363318967189,
          -0.5266463105521983,
          0.5167043413713699,
          0.3411124470341882,
          2.987140002245271
         ],
         "xaxis": "x10",
         "y": [
          0.7012976858107476,
          0.13112876716322586,
          -0.6813970857853648,
          0.7626266599309006,
          1.8810574004548166,
          0.26033565690448307,
          0.4994790522032047,
          -0.5084750662647777,
          -0.5434176656881163,
          -2.4633927204653046,
          -0.6521249562522544,
          -0.14670782107135424,
          -0.3174865144850475,
          -1.0042400464938952,
          0.6658921866196987,
          0.19034364831626227,
          1.1553870061215892,
          -0.17220095106498723,
          -1.0537714587104434,
          0.500045590396657,
          -0.13451386173465865,
          -0.027892374212246027,
          1.4066424663771657,
          -0.6820547117786162,
          1.0939135918061562,
          1.079296940566886,
          0.010327137081296395,
          -0.9089530044668371,
          2.212218263471134,
          -0.02509365027062667,
          -0.07972747706023059,
          -0.011931537356809503,
          1.2590405432240899,
          -1.5154813110587153,
          -0.7681836657343759,
          0.07029045933967852,
          -0.6261877114432143,
          -0.29890390207145945,
          0.8076891914560079,
          -0.48900643341240624,
          -0.18229600927999168,
          1.2646900813903714,
          0.48761724025730246,
          -0.32419552319665174,
          -0.3195952241608016,
          -0.2141181762540822,
          -0.4732029597170572,
          2.065565663723758,
          -0.7236430797381805,
          -0.1879291151185566,
          1.9650445644037815,
          -2.647997803888273,
          0.0624412739324384,
          0.4214371683701604,
          0.32244681261181213,
          -1.1463309502872436,
          -0.4122642638641093,
          -0.1019974330153135,
          -0.42661888713341123,
          -0.2032627792764815,
          -2.076143637926378,
          -1.0133586709182414,
          0.5425889770145909,
          1.4972767985169795,
          1.3827028866954683,
          -0.9567475197195758,
          -1.6271696404774703,
          -0.04767927054525452,
          -0.3337362568629179,
          -2.5211967071004056,
          -0.7214255274482855,
          -1.6968238348366882,
          -0.8641714143407009,
          1.1314545083027825,
          -0.3464497033574137,
          -0.08399129750322462,
          -1.0997606369501673,
          1.6386602115224296,
          -0.24795699938403845,
          -0.8475456890457912,
          1.2632786197352313,
          -1.3752607005938815,
          -0.17727174377038782,
          -1.1141912635712727,
          0.9038545843165967,
          1.6682151489585701,
          -1.1539416875491058,
          0.26573596340025707,
          0.42537973515492217,
          -1.009847889051133,
          0.6854654840509039,
          -0.14944373300586317,
          1.5099303656959975,
          0.5367132482238024,
          0.5108694434056651,
          0.06396679098017176,
          0.4182402609127113,
          -0.45882135707575805,
          -0.6637807264473049,
          0.42826449790203475
         ],
         "yaxis": "y10"
        },
        {
         "histfunc": "count",
         "histnorm": "",
         "marker": {
          "color": "rgba(50, 171, 96, 1.0)",
          "line": {
           "color": "#4D5663",
           "width": 1.3
          }
         },
         "name": "C",
         "nbinsx": 10,
         "opacity": 0.8,
         "orientation": "v",
         "type": "histogram",
         "x": [
          0.7012976858107476,
          0.13112876716322586,
          -0.6813970857853648,
          0.7626266599309006,
          1.8810574004548166,
          0.26033565690448307,
          0.4994790522032047,
          -0.5084750662647777,
          -0.5434176656881163,
          -2.4633927204653046,
          -0.6521249562522544,
          -0.14670782107135424,
          -0.3174865144850475,
          -1.0042400464938952,
          0.6658921866196987,
          0.19034364831626227,
          1.1553870061215892,
          -0.17220095106498723,
          -1.0537714587104434,
          0.500045590396657,
          -0.13451386173465865,
          -0.027892374212246027,
          1.4066424663771657,
          -0.6820547117786162,
          1.0939135918061562,
          1.079296940566886,
          0.010327137081296395,
          -0.9089530044668371,
          2.212218263471134,
          -0.02509365027062667,
          -0.07972747706023059,
          -0.011931537356809503,
          1.2590405432240899,
          -1.5154813110587153,
          -0.7681836657343759,
          0.07029045933967852,
          -0.6261877114432143,
          -0.29890390207145945,
          0.8076891914560079,
          -0.48900643341240624,
          -0.18229600927999168,
          1.2646900813903714,
          0.48761724025730246,
          -0.32419552319665174,
          -0.3195952241608016,
          -0.2141181762540822,
          -0.4732029597170572,
          2.065565663723758,
          -0.7236430797381805,
          -0.1879291151185566,
          1.9650445644037815,
          -2.647997803888273,
          0.0624412739324384,
          0.4214371683701604,
          0.32244681261181213,
          -1.1463309502872436,
          -0.4122642638641093,
          -0.1019974330153135,
          -0.42661888713341123,
          -0.2032627792764815,
          -2.076143637926378,
          -1.0133586709182414,
          0.5425889770145909,
          1.4972767985169795,
          1.3827028866954683,
          -0.9567475197195758,
          -1.6271696404774703,
          -0.04767927054525452,
          -0.3337362568629179,
          -2.5211967071004056,
          -0.7214255274482855,
          -1.6968238348366882,
          -0.8641714143407009,
          1.1314545083027825,
          -0.3464497033574137,
          -0.08399129750322462,
          -1.0997606369501673,
          1.6386602115224296,
          -0.24795699938403845,
          -0.8475456890457912,
          1.2632786197352313,
          -1.3752607005938815,
          -0.17727174377038782,
          -1.1141912635712727,
          0.9038545843165967,
          1.6682151489585701,
          -1.1539416875491058,
          0.26573596340025707,
          0.42537973515492217,
          -1.009847889051133,
          0.6854654840509039,
          -0.14944373300586317,
          1.5099303656959975,
          0.5367132482238024,
          0.5108694434056651,
          0.06396679098017176,
          0.4182402609127113,
          -0.45882135707575805,
          -0.6637807264473049,
          0.42826449790203475
         ],
         "xaxis": "x11",
         "yaxis": "y11"
        },
        {
         "line": {
          "color": "rgba(128, 128, 128, 1.0)",
          "dash": "solid",
          "shape": "linear",
          "width": 1.3
         },
         "marker": {
          "size": 2,
          "symbol": "circle"
         },
         "mode": "markers",
         "name": "C",
         "text": "",
         "type": "scatter",
         "x": [
          0.7710685342518336,
          -0.08673281835562326,
          -0.9292275667399005,
          -0.08722718385502183,
          -1.8354093130966138,
          -2.3669215228779104,
          1.0162186933207766,
          -1.051591957466034,
          1.311789236964196,
          1.2835110909421699,
          -0.18647269648908388,
          -1.9897111315816265,
          -0.188104262986079,
          -0.40678348264882264,
          -0.2081853041598393,
          -1.0675398634804543,
          0.15879813814960225,
          -0.9335573209804557,
          -1.1794506269311265,
          -0.5086145798998463,
          0.19250525161798482,
          1.2816815797315007,
          0.5456407114917887,
          2.174008157133585,
          0.9716299509781058,
          1.4476394585223482,
          0.8031719567415391,
          0.6338801065749562,
          -1.3396047068103658,
          0.26898247138012976,
          0.06953687683686048,
          -0.782279081821717,
          0.8152780357039893,
          -0.5821296951628023,
          -0.08306425552288532,
          -1.2125532805221355,
          -0.01998873872392119,
          -1.7947383874599883,
          0.3722827373475316,
          0.34592233613599366,
          0.4469249252617456,
          0.9376267695284086,
          1.0977292764220554,
          0.90152666289788,
          0.6406890057757472,
          -0.7343690997457678,
          -1.1469319828890387,
          -3.5805232475388453,
          1.7333269996330503,
          -0.16988381138361097,
          0.053954263262173154,
          -1.5588014795073613,
          1.3637212251412825,
          0.6635556331193656,
          -0.9590459929753491,
          -0.18672923056468158,
          -0.04536186834589831,
          -0.986179375093094,
          0.3438924264706309,
          0.6693067098234198,
          -0.422152846774601,
          -0.82902191445765,
          0.6962418591367862,
          -0.9336714089215007,
          0.2771700521454067,
          -0.20530361172490166,
          -0.3870473361922757,
          0.04887067149170552,
          -0.5806307167987539,
          -0.06758041697691812,
          -0.9927284682004818,
          0.03569548773964057,
          0.6970934325532863,
          0.5200703942540074,
          -0.40308030657266836,
          0.26654996695149374,
          0.6133970024769643,
          0.7127654020511173,
          1.2338043037286743,
          0.6657650184138121,
          -1.0658224426141822,
          1.1329112648803752,
          0.4257779515125473,
          0.48174393345883953,
          -1.0064697749288969,
          0.8144570677497984,
          0.09904712954893766,
          -0.01667907684784322,
          -1.4899988133514555,
          -1.2307960774775202,
          1.5475895067518977,
          -0.6295026903629481,
          0.7470095780965724,
          -0.494454673834522,
          1.2715278291971563,
          0.8734646191239015,
          -0.21238519250933158,
          -1.0630629919021253,
          -0.01077421943135205,
          -1.0048395012750386
         ],
         "xaxis": "x12",
         "y": [
          0.7012976858107476,
          0.13112876716322586,
          -0.6813970857853648,
          0.7626266599309006,
          1.8810574004548166,
          0.26033565690448307,
          0.4994790522032047,
          -0.5084750662647777,
          -0.5434176656881163,
          -2.4633927204653046,
          -0.6521249562522544,
          -0.14670782107135424,
          -0.3174865144850475,
          -1.0042400464938952,
          0.6658921866196987,
          0.19034364831626227,
          1.1553870061215892,
          -0.17220095106498723,
          -1.0537714587104434,
          0.500045590396657,
          -0.13451386173465865,
          -0.027892374212246027,
          1.4066424663771657,
          -0.6820547117786162,
          1.0939135918061562,
          1.079296940566886,
          0.010327137081296395,
          -0.9089530044668371,
          2.212218263471134,
          -0.02509365027062667,
          -0.07972747706023059,
          -0.011931537356809503,
          1.2590405432240899,
          -1.5154813110587153,
          -0.7681836657343759,
          0.07029045933967852,
          -0.6261877114432143,
          -0.29890390207145945,
          0.8076891914560079,
          -0.48900643341240624,
          -0.18229600927999168,
          1.2646900813903714,
          0.48761724025730246,
          -0.32419552319665174,
          -0.3195952241608016,
          -0.2141181762540822,
          -0.4732029597170572,
          2.065565663723758,
          -0.7236430797381805,
          -0.1879291151185566,
          1.9650445644037815,
          -2.647997803888273,
          0.0624412739324384,
          0.4214371683701604,
          0.32244681261181213,
          -1.1463309502872436,
          -0.4122642638641093,
          -0.1019974330153135,
          -0.42661888713341123,
          -0.2032627792764815,
          -2.076143637926378,
          -1.0133586709182414,
          0.5425889770145909,
          1.4972767985169795,
          1.3827028866954683,
          -0.9567475197195758,
          -1.6271696404774703,
          -0.04767927054525452,
          -0.3337362568629179,
          -2.5211967071004056,
          -0.7214255274482855,
          -1.6968238348366882,
          -0.8641714143407009,
          1.1314545083027825,
          -0.3464497033574137,
          -0.08399129750322462,
          -1.0997606369501673,
          1.6386602115224296,
          -0.24795699938403845,
          -0.8475456890457912,
          1.2632786197352313,
          -1.3752607005938815,
          -0.17727174377038782,
          -1.1141912635712727,
          0.9038545843165967,
          1.6682151489585701,
          -1.1539416875491058,
          0.26573596340025707,
          0.42537973515492217,
          -1.009847889051133,
          0.6854654840509039,
          -0.14944373300586317,
          1.5099303656959975,
          0.5367132482238024,
          0.5108694434056651,
          0.06396679098017176,
          0.4182402609127113,
          -0.45882135707575805,
          -0.6637807264473049,
          0.42826449790203475
         ],
         "yaxis": "y12"
        },
        {
         "line": {
          "color": "rgba(128, 128, 128, 1.0)",
          "dash": "solid",
          "shape": "linear",
          "width": 1.3
         },
         "marker": {
          "size": 2,
          "symbol": "circle"
         },
         "mode": "markers",
         "name": "D",
         "text": "",
         "type": "scatter",
         "x": [
          0.6446209978304961,
          0.4078221920136122,
          -0.2765872970204885,
          0.10456735638555388,
          0.08324133721186451,
          0.057440297633351456,
          -1.2171690355819085,
          -0.09196308817524182,
          -1.4384482006426815,
          -0.9066078684780878,
          -3.0647955779058393,
          -0.5927155310656024,
          1.583409055253283,
          0.234106386964043,
          1.2987088354934264,
          -0.07913794969622139,
          1.9820971873442788,
          0.5300957800919711,
          0.0561241346154549,
          0.015369674156755879,
          -1.2127715104199281,
          0.035053315533376254,
          0.7118746375710167,
          -0.1952185441372051,
          -0.7579919569364388,
          0.8382884169380316,
          -0.2523101224096548,
          0.6311895916493456,
          -1.4756247761832622,
          -1.9698270932740207,
          -1.3372120572711683,
          -0.0055887604966179906,
          -1.7516160926744089,
          0.543208412020896,
          0.707473240158141,
          0.6593860529630602,
          -0.966138313509074,
          1.2445708261621509,
          -1.0802389340212704,
          0.5086900141225315,
          0.06968362854003969,
          -0.6676088576024096,
          -0.6772597043552857,
          1.0685188366936331,
          -1.197023278836309,
          1.3296472778183843,
          -1.7352843284646196,
          -1.0582875565845407,
          1.0617180487815374,
          1.4540725943983606,
          0.5317907297889919,
          0.7420563485732212,
          -0.18793332995515025,
          -1.2305655757068716,
          -0.1772600412850589,
          -1.148239267934772,
          0.4037983500944594,
          0.9812475937057795,
          -0.4956402857253395,
          -0.28809363061450555,
          -0.6487072922681356,
          0.8481841770338829,
          -0.3114926773390753,
          0.3471058665605341,
          2.8359142899847587,
          -0.10683669988149225,
          0.7333023074176133,
          -0.9756817628998831,
          -1.4734885498421182,
          -0.8026545150142835,
          -0.9084824357349854,
          0.451034781575594,
          -0.14441496470423662,
          -1.9756483521255614,
          -0.5332455788412271,
          -0.63886776707257,
          -2.2713107658786433,
          -0.40268261110912806,
          -1.953505525568803,
          0.21002398901558625,
          0.5515111078971915,
          1.8137764486502015,
          -0.5238352930793719,
          -0.2822937597610257,
          0.41863932362537837,
          0.10282204212326963,
          2.0754089376632825,
          0.6972799565874593,
          1.1614656583668113,
          1.3623377423265945,
          0.10708896322825404,
          -0.35965989943947024,
          0.7454316477825902,
          -0.5002942850467338,
          0.3404751564352129,
          -0.7529900522556313,
          0.21081704514965283,
          1.753849340431904,
          0.8556437691539508,
          0.701648831151324
         ],
         "xaxis": "x13",
         "y": [
          0.7710685342518336,
          -0.08673281835562326,
          -0.9292275667399005,
          -0.08722718385502183,
          -1.8354093130966138,
          -2.3669215228779104,
          1.0162186933207766,
          -1.051591957466034,
          1.311789236964196,
          1.2835110909421699,
          -0.18647269648908388,
          -1.9897111315816265,
          -0.188104262986079,
          -0.40678348264882264,
          -0.2081853041598393,
          -1.0675398634804543,
          0.15879813814960225,
          -0.9335573209804557,
          -1.1794506269311265,
          -0.5086145798998463,
          0.19250525161798482,
          1.2816815797315007,
          0.5456407114917887,
          2.174008157133585,
          0.9716299509781058,
          1.4476394585223482,
          0.8031719567415391,
          0.6338801065749562,
          -1.3396047068103658,
          0.26898247138012976,
          0.06953687683686048,
          -0.782279081821717,
          0.8152780357039893,
          -0.5821296951628023,
          -0.08306425552288532,
          -1.2125532805221355,
          -0.01998873872392119,
          -1.7947383874599883,
          0.3722827373475316,
          0.34592233613599366,
          0.4469249252617456,
          0.9376267695284086,
          1.0977292764220554,
          0.90152666289788,
          0.6406890057757472,
          -0.7343690997457678,
          -1.1469319828890387,
          -3.5805232475388453,
          1.7333269996330503,
          -0.16988381138361097,
          0.053954263262173154,
          -1.5588014795073613,
          1.3637212251412825,
          0.6635556331193656,
          -0.9590459929753491,
          -0.18672923056468158,
          -0.04536186834589831,
          -0.986179375093094,
          0.3438924264706309,
          0.6693067098234198,
          -0.422152846774601,
          -0.82902191445765,
          0.6962418591367862,
          -0.9336714089215007,
          0.2771700521454067,
          -0.20530361172490166,
          -0.3870473361922757,
          0.04887067149170552,
          -0.5806307167987539,
          -0.06758041697691812,
          -0.9927284682004818,
          0.03569548773964057,
          0.6970934325532863,
          0.5200703942540074,
          -0.40308030657266836,
          0.26654996695149374,
          0.6133970024769643,
          0.7127654020511173,
          1.2338043037286743,
          0.6657650184138121,
          -1.0658224426141822,
          1.1329112648803752,
          0.4257779515125473,
          0.48174393345883953,
          -1.0064697749288969,
          0.8144570677497984,
          0.09904712954893766,
          -0.01667907684784322,
          -1.4899988133514555,
          -1.2307960774775202,
          1.5475895067518977,
          -0.6295026903629481,
          0.7470095780965724,
          -0.494454673834522,
          1.2715278291971563,
          0.8734646191239015,
          -0.21238519250933158,
          -1.0630629919021253,
          -0.01077421943135205,
          -1.0048395012750386
         ],
         "yaxis": "y13"
        },
        {
         "line": {
          "color": "rgba(128, 128, 128, 1.0)",
          "dash": "solid",
          "shape": "linear",
          "width": 1.3
         },
         "marker": {
          "size": 2,
          "symbol": "circle"
         },
         "mode": "markers",
         "name": "D",
         "text": "",
         "type": "scatter",
         "x": [
          -0.22160750690840028,
          1.7158554903880332,
          -0.6237740459654896,
          1.7171818589480066,
          -0.1968115099154782,
          -0.9178801038802831,
          -0.8648477636664242,
          -0.26311475476438756,
          -0.3644265939925632,
          -0.9804658128967962,
          1.0326790474999514,
          -1.5535104837887026,
          -0.16460272611477467,
          1.4317841740173647,
          0.13868359918099005,
          -0.26283282569495164,
          1.4671591243018076,
          0.9928316600028886,
          1.798718933737595,
          -0.12194429267969392,
          -1.2135185401556021,
          -0.5676843906954775,
          0.5466472148108473,
          1.5064364433330995,
          0.2294216562379941,
          -0.45183094530211637,
          -0.5990162630544981,
          1.2093106738320492,
          -0.5115952740366038,
          -1.3389739304237893,
          -0.05705254876762868,
          0.18038672055746063,
          1.7979243126872604,
          -0.9180546332511316,
          0.00838642535099962,
          -0.7440498127142733,
          0.42076697337853947,
          -1.4875438989362184,
          0.25306783994077015,
          1.8824847563507707,
          -0.5169299902217411,
          0.2883651291147273,
          -0.8722294837074352,
          0.2519290622637881,
          -1.8324172801056757,
          0.37575977161583207,
          0.9443994946857267,
          0.24775429904167792,
          -0.8099720675420381,
          0.8227450644967887,
          0.21290770852438837,
          -0.4753072455838816,
          -0.3011324544818885,
          -0.003528999951231824,
          -0.19640311199830598,
          0.34129342746016,
          0.8817453262399159,
          -0.14964935915574884,
          0.6386867039194815,
          1.6888518942380055,
          -0.954599303308324,
          -1.3586802403670986,
          -0.805279213474311,
          0.6484073187263913,
          0.23471787263488347,
          1.573593064081298,
          1.4803498296832225,
          -0.6778894932880246,
          -2.7440090441649985,
          0.5807543021017987,
          -0.8878887797836558,
          1.3493372535410566,
          -1.1731712522803317,
          0.9009129011476739,
          0.9927017366728492,
          -1.1113954750547725,
          -0.3911079194019816,
          -0.5604947607506066,
          -0.5130962215220196,
          0.296256896974686,
          -0.1897579204290804,
          -0.19731011276449487,
          1.2797615737542352,
          -0.3117436598969686,
          2.2371515544398384,
          1.1906124852355693,
          0.2381106335734882,
          -0.6858170151367708,
          1.150058581328844,
          0.19314586783555093,
          -1.3262365216682042,
          0.22266823381194942,
          -1.1045743475961767,
          -1.0501370436953776,
          1.2875349619480438,
          -1.570363318967189,
          -0.5266463105521983,
          0.5167043413713699,
          0.3411124470341882,
          2.987140002245271
         ],
         "xaxis": "x14",
         "y": [
          0.7710685342518336,
          -0.08673281835562326,
          -0.9292275667399005,
          -0.08722718385502183,
          -1.8354093130966138,
          -2.3669215228779104,
          1.0162186933207766,
          -1.051591957466034,
          1.311789236964196,
          1.2835110909421699,
          -0.18647269648908388,
          -1.9897111315816265,
          -0.188104262986079,
          -0.40678348264882264,
          -0.2081853041598393,
          -1.0675398634804543,
          0.15879813814960225,
          -0.9335573209804557,
          -1.1794506269311265,
          -0.5086145798998463,
          0.19250525161798482,
          1.2816815797315007,
          0.5456407114917887,
          2.174008157133585,
          0.9716299509781058,
          1.4476394585223482,
          0.8031719567415391,
          0.6338801065749562,
          -1.3396047068103658,
          0.26898247138012976,
          0.06953687683686048,
          -0.782279081821717,
          0.8152780357039893,
          -0.5821296951628023,
          -0.08306425552288532,
          -1.2125532805221355,
          -0.01998873872392119,
          -1.7947383874599883,
          0.3722827373475316,
          0.34592233613599366,
          0.4469249252617456,
          0.9376267695284086,
          1.0977292764220554,
          0.90152666289788,
          0.6406890057757472,
          -0.7343690997457678,
          -1.1469319828890387,
          -3.5805232475388453,
          1.7333269996330503,
          -0.16988381138361097,
          0.053954263262173154,
          -1.5588014795073613,
          1.3637212251412825,
          0.6635556331193656,
          -0.9590459929753491,
          -0.18672923056468158,
          -0.04536186834589831,
          -0.986179375093094,
          0.3438924264706309,
          0.6693067098234198,
          -0.422152846774601,
          -0.82902191445765,
          0.6962418591367862,
          -0.9336714089215007,
          0.2771700521454067,
          -0.20530361172490166,
          -0.3870473361922757,
          0.04887067149170552,
          -0.5806307167987539,
          -0.06758041697691812,
          -0.9927284682004818,
          0.03569548773964057,
          0.6970934325532863,
          0.5200703942540074,
          -0.40308030657266836,
          0.26654996695149374,
          0.6133970024769643,
          0.7127654020511173,
          1.2338043037286743,
          0.6657650184138121,
          -1.0658224426141822,
          1.1329112648803752,
          0.4257779515125473,
          0.48174393345883953,
          -1.0064697749288969,
          0.8144570677497984,
          0.09904712954893766,
          -0.01667907684784322,
          -1.4899988133514555,
          -1.2307960774775202,
          1.5475895067518977,
          -0.6295026903629481,
          0.7470095780965724,
          -0.494454673834522,
          1.2715278291971563,
          0.8734646191239015,
          -0.21238519250933158,
          -1.0630629919021253,
          -0.01077421943135205,
          -1.0048395012750386
         ],
         "yaxis": "y14"
        },
        {
         "line": {
          "color": "rgba(128, 128, 128, 1.0)",
          "dash": "solid",
          "shape": "linear",
          "width": 1.3
         },
         "marker": {
          "size": 2,
          "symbol": "circle"
         },
         "mode": "markers",
         "name": "D",
         "text": "",
         "type": "scatter",
         "x": [
          0.7012976858107476,
          0.13112876716322586,
          -0.6813970857853648,
          0.7626266599309006,
          1.8810574004548166,
          0.26033565690448307,
          0.4994790522032047,
          -0.5084750662647777,
          -0.5434176656881163,
          -2.4633927204653046,
          -0.6521249562522544,
          -0.14670782107135424,
          -0.3174865144850475,
          -1.0042400464938952,
          0.6658921866196987,
          0.19034364831626227,
          1.1553870061215892,
          -0.17220095106498723,
          -1.0537714587104434,
          0.500045590396657,
          -0.13451386173465865,
          -0.027892374212246027,
          1.4066424663771657,
          -0.6820547117786162,
          1.0939135918061562,
          1.079296940566886,
          0.010327137081296395,
          -0.9089530044668371,
          2.212218263471134,
          -0.02509365027062667,
          -0.07972747706023059,
          -0.011931537356809503,
          1.2590405432240899,
          -1.5154813110587153,
          -0.7681836657343759,
          0.07029045933967852,
          -0.6261877114432143,
          -0.29890390207145945,
          0.8076891914560079,
          -0.48900643341240624,
          -0.18229600927999168,
          1.2646900813903714,
          0.48761724025730246,
          -0.32419552319665174,
          -0.3195952241608016,
          -0.2141181762540822,
          -0.4732029597170572,
          2.065565663723758,
          -0.7236430797381805,
          -0.1879291151185566,
          1.9650445644037815,
          -2.647997803888273,
          0.0624412739324384,
          0.4214371683701604,
          0.32244681261181213,
          -1.1463309502872436,
          -0.4122642638641093,
          -0.1019974330153135,
          -0.42661888713341123,
          -0.2032627792764815,
          -2.076143637926378,
          -1.0133586709182414,
          0.5425889770145909,
          1.4972767985169795,
          1.3827028866954683,
          -0.9567475197195758,
          -1.6271696404774703,
          -0.04767927054525452,
          -0.3337362568629179,
          -2.5211967071004056,
          -0.7214255274482855,
          -1.6968238348366882,
          -0.8641714143407009,
          1.1314545083027825,
          -0.3464497033574137,
          -0.08399129750322462,
          -1.0997606369501673,
          1.6386602115224296,
          -0.24795699938403845,
          -0.8475456890457912,
          1.2632786197352313,
          -1.3752607005938815,
          -0.17727174377038782,
          -1.1141912635712727,
          0.9038545843165967,
          1.6682151489585701,
          -1.1539416875491058,
          0.26573596340025707,
          0.42537973515492217,
          -1.009847889051133,
          0.6854654840509039,
          -0.14944373300586317,
          1.5099303656959975,
          0.5367132482238024,
          0.5108694434056651,
          0.06396679098017176,
          0.4182402609127113,
          -0.45882135707575805,
          -0.6637807264473049,
          0.42826449790203475
         ],
         "xaxis": "x15",
         "y": [
          0.7710685342518336,
          -0.08673281835562326,
          -0.9292275667399005,
          -0.08722718385502183,
          -1.8354093130966138,
          -2.3669215228779104,
          1.0162186933207766,
          -1.051591957466034,
          1.311789236964196,
          1.2835110909421699,
          -0.18647269648908388,
          -1.9897111315816265,
          -0.188104262986079,
          -0.40678348264882264,
          -0.2081853041598393,
          -1.0675398634804543,
          0.15879813814960225,
          -0.9335573209804557,
          -1.1794506269311265,
          -0.5086145798998463,
          0.19250525161798482,
          1.2816815797315007,
          0.5456407114917887,
          2.174008157133585,
          0.9716299509781058,
          1.4476394585223482,
          0.8031719567415391,
          0.6338801065749562,
          -1.3396047068103658,
          0.26898247138012976,
          0.06953687683686048,
          -0.782279081821717,
          0.8152780357039893,
          -0.5821296951628023,
          -0.08306425552288532,
          -1.2125532805221355,
          -0.01998873872392119,
          -1.7947383874599883,
          0.3722827373475316,
          0.34592233613599366,
          0.4469249252617456,
          0.9376267695284086,
          1.0977292764220554,
          0.90152666289788,
          0.6406890057757472,
          -0.7343690997457678,
          -1.1469319828890387,
          -3.5805232475388453,
          1.7333269996330503,
          -0.16988381138361097,
          0.053954263262173154,
          -1.5588014795073613,
          1.3637212251412825,
          0.6635556331193656,
          -0.9590459929753491,
          -0.18672923056468158,
          -0.04536186834589831,
          -0.986179375093094,
          0.3438924264706309,
          0.6693067098234198,
          -0.422152846774601,
          -0.82902191445765,
          0.6962418591367862,
          -0.9336714089215007,
          0.2771700521454067,
          -0.20530361172490166,
          -0.3870473361922757,
          0.04887067149170552,
          -0.5806307167987539,
          -0.06758041697691812,
          -0.9927284682004818,
          0.03569548773964057,
          0.6970934325532863,
          0.5200703942540074,
          -0.40308030657266836,
          0.26654996695149374,
          0.6133970024769643,
          0.7127654020511173,
          1.2338043037286743,
          0.6657650184138121,
          -1.0658224426141822,
          1.1329112648803752,
          0.4257779515125473,
          0.48174393345883953,
          -1.0064697749288969,
          0.8144570677497984,
          0.09904712954893766,
          -0.01667907684784322,
          -1.4899988133514555,
          -1.2307960774775202,
          1.5475895067518977,
          -0.6295026903629481,
          0.7470095780965724,
          -0.494454673834522,
          1.2715278291971563,
          0.8734646191239015,
          -0.21238519250933158,
          -1.0630629919021253,
          -0.01077421943135205,
          -1.0048395012750386
         ],
         "yaxis": "y15"
        },
        {
         "histfunc": "count",
         "histnorm": "",
         "marker": {
          "color": "rgba(128, 0, 128, 1.0)",
          "line": {
           "color": "#4D5663",
           "width": 1.3
          }
         },
         "name": "D",
         "nbinsx": 10,
         "opacity": 0.8,
         "orientation": "v",
         "type": "histogram",
         "x": [
          0.7710685342518336,
          -0.08673281835562326,
          -0.9292275667399005,
          -0.08722718385502183,
          -1.8354093130966138,
          -2.3669215228779104,
          1.0162186933207766,
          -1.051591957466034,
          1.311789236964196,
          1.2835110909421699,
          -0.18647269648908388,
          -1.9897111315816265,
          -0.188104262986079,
          -0.40678348264882264,
          -0.2081853041598393,
          -1.0675398634804543,
          0.15879813814960225,
          -0.9335573209804557,
          -1.1794506269311265,
          -0.5086145798998463,
          0.19250525161798482,
          1.2816815797315007,
          0.5456407114917887,
          2.174008157133585,
          0.9716299509781058,
          1.4476394585223482,
          0.8031719567415391,
          0.6338801065749562,
          -1.3396047068103658,
          0.26898247138012976,
          0.06953687683686048,
          -0.782279081821717,
          0.8152780357039893,
          -0.5821296951628023,
          -0.08306425552288532,
          -1.2125532805221355,
          -0.01998873872392119,
          -1.7947383874599883,
          0.3722827373475316,
          0.34592233613599366,
          0.4469249252617456,
          0.9376267695284086,
          1.0977292764220554,
          0.90152666289788,
          0.6406890057757472,
          -0.7343690997457678,
          -1.1469319828890387,
          -3.5805232475388453,
          1.7333269996330503,
          -0.16988381138361097,
          0.053954263262173154,
          -1.5588014795073613,
          1.3637212251412825,
          0.6635556331193656,
          -0.9590459929753491,
          -0.18672923056468158,
          -0.04536186834589831,
          -0.986179375093094,
          0.3438924264706309,
          0.6693067098234198,
          -0.422152846774601,
          -0.82902191445765,
          0.6962418591367862,
          -0.9336714089215007,
          0.2771700521454067,
          -0.20530361172490166,
          -0.3870473361922757,
          0.04887067149170552,
          -0.5806307167987539,
          -0.06758041697691812,
          -0.9927284682004818,
          0.03569548773964057,
          0.6970934325532863,
          0.5200703942540074,
          -0.40308030657266836,
          0.26654996695149374,
          0.6133970024769643,
          0.7127654020511173,
          1.2338043037286743,
          0.6657650184138121,
          -1.0658224426141822,
          1.1329112648803752,
          0.4257779515125473,
          0.48174393345883953,
          -1.0064697749288969,
          0.8144570677497984,
          0.09904712954893766,
          -0.01667907684784322,
          -1.4899988133514555,
          -1.2307960774775202,
          1.5475895067518977,
          -0.6295026903629481,
          0.7470095780965724,
          -0.494454673834522,
          1.2715278291971563,
          0.8734646191239015,
          -0.21238519250933158,
          -1.0630629919021253,
          -0.01077421943135205,
          -1.0048395012750386
         ],
         "xaxis": "x16",
         "yaxis": "y16"
        }
       ],
       "layout": {
        "bargap": 0.02,
        "legend": {
         "bgcolor": "#F5F6F9",
         "font": {
          "color": "#4D5663"
         }
        },
        "paper_bgcolor": "#F5F6F9",
        "plot_bgcolor": "#F5F6F9",
        "showlegend": false,
        "template": {
         "data": {
          "bar": [
           {
            "error_x": {
             "color": "#2a3f5f"
            },
            "error_y": {
             "color": "#2a3f5f"
            },
            "marker": {
             "line": {
              "color": "#E5ECF6",
              "width": 0.5
             },
             "pattern": {
              "fillmode": "overlay",
              "size": 10,
              "solidity": 0.2
             }
            },
            "type": "bar"
           }
          ],
          "barpolar": [
           {
            "marker": {
             "line": {
              "color": "#E5ECF6",
              "width": 0.5
             },
             "pattern": {
              "fillmode": "overlay",
              "size": 10,
              "solidity": 0.2
             }
            },
            "type": "barpolar"
           }
          ],
          "carpet": [
           {
            "aaxis": {
             "endlinecolor": "#2a3f5f",
             "gridcolor": "white",
             "linecolor": "white",
             "minorgridcolor": "white",
             "startlinecolor": "#2a3f5f"
            },
            "baxis": {
             "endlinecolor": "#2a3f5f",
             "gridcolor": "white",
             "linecolor": "white",
             "minorgridcolor": "white",
             "startlinecolor": "#2a3f5f"
            },
            "type": "carpet"
           }
          ],
          "choropleth": [
           {
            "colorbar": {
             "outlinewidth": 0,
             "ticks": ""
            },
            "type": "choropleth"
           }
          ],
          "contour": [
           {
            "colorbar": {
             "outlinewidth": 0,
             "ticks": ""
            },
            "colorscale": [
             [
              0,
              "#0d0887"
             ],
             [
              0.1111111111111111,
              "#46039f"
             ],
             [
              0.2222222222222222,
              "#7201a8"
             ],
             [
              0.3333333333333333,
              "#9c179e"
             ],
             [
              0.4444444444444444,
              "#bd3786"
             ],
             [
              0.5555555555555556,
              "#d8576b"
             ],
             [
              0.6666666666666666,
              "#ed7953"
             ],
             [
              0.7777777777777778,
              "#fb9f3a"
             ],
             [
              0.8888888888888888,
              "#fdca26"
             ],
             [
              1,
              "#f0f921"
             ]
            ],
            "type": "contour"
           }
          ],
          "contourcarpet": [
           {
            "colorbar": {
             "outlinewidth": 0,
             "ticks": ""
            },
            "type": "contourcarpet"
           }
          ],
          "heatmap": [
           {
            "colorbar": {
             "outlinewidth": 0,
             "ticks": ""
            },
            "colorscale": [
             [
              0,
              "#0d0887"
             ],
             [
              0.1111111111111111,
              "#46039f"
             ],
             [
              0.2222222222222222,
              "#7201a8"
             ],
             [
              0.3333333333333333,
              "#9c179e"
             ],
             [
              0.4444444444444444,
              "#bd3786"
             ],
             [
              0.5555555555555556,
              "#d8576b"
             ],
             [
              0.6666666666666666,
              "#ed7953"
             ],
             [
              0.7777777777777778,
              "#fb9f3a"
             ],
             [
              0.8888888888888888,
              "#fdca26"
             ],
             [
              1,
              "#f0f921"
             ]
            ],
            "type": "heatmap"
           }
          ],
          "heatmapgl": [
           {
            "colorbar": {
             "outlinewidth": 0,
             "ticks": ""
            },
            "colorscale": [
             [
              0,
              "#0d0887"
             ],
             [
              0.1111111111111111,
              "#46039f"
             ],
             [
              0.2222222222222222,
              "#7201a8"
             ],
             [
              0.3333333333333333,
              "#9c179e"
             ],
             [
              0.4444444444444444,
              "#bd3786"
             ],
             [
              0.5555555555555556,
              "#d8576b"
             ],
             [
              0.6666666666666666,
              "#ed7953"
             ],
             [
              0.7777777777777778,
              "#fb9f3a"
             ],
             [
              0.8888888888888888,
              "#fdca26"
             ],
             [
              1,
              "#f0f921"
             ]
            ],
            "type": "heatmapgl"
           }
          ],
          "histogram": [
           {
            "marker": {
             "pattern": {
              "fillmode": "overlay",
              "size": 10,
              "solidity": 0.2
             }
            },
            "type": "histogram"
           }
          ],
          "histogram2d": [
           {
            "colorbar": {
             "outlinewidth": 0,
             "ticks": ""
            },
            "colorscale": [
             [
              0,
              "#0d0887"
             ],
             [
              0.1111111111111111,
              "#46039f"
             ],
             [
              0.2222222222222222,
              "#7201a8"
             ],
             [
              0.3333333333333333,
              "#9c179e"
             ],
             [
              0.4444444444444444,
              "#bd3786"
             ],
             [
              0.5555555555555556,
              "#d8576b"
             ],
             [
              0.6666666666666666,
              "#ed7953"
             ],
             [
              0.7777777777777778,
              "#fb9f3a"
             ],
             [
              0.8888888888888888,
              "#fdca26"
             ],
             [
              1,
              "#f0f921"
             ]
            ],
            "type": "histogram2d"
           }
          ],
          "histogram2dcontour": [
           {
            "colorbar": {
             "outlinewidth": 0,
             "ticks": ""
            },
            "colorscale": [
             [
              0,
              "#0d0887"
             ],
             [
              0.1111111111111111,
              "#46039f"
             ],
             [
              0.2222222222222222,
              "#7201a8"
             ],
             [
              0.3333333333333333,
              "#9c179e"
             ],
             [
              0.4444444444444444,
              "#bd3786"
             ],
             [
              0.5555555555555556,
              "#d8576b"
             ],
             [
              0.6666666666666666,
              "#ed7953"
             ],
             [
              0.7777777777777778,
              "#fb9f3a"
             ],
             [
              0.8888888888888888,
              "#fdca26"
             ],
             [
              1,
              "#f0f921"
             ]
            ],
            "type": "histogram2dcontour"
           }
          ],
          "mesh3d": [
           {
            "colorbar": {
             "outlinewidth": 0,
             "ticks": ""
            },
            "type": "mesh3d"
           }
          ],
          "parcoords": [
           {
            "line": {
             "colorbar": {
              "outlinewidth": 0,
              "ticks": ""
             }
            },
            "type": "parcoords"
           }
          ],
          "pie": [
           {
            "automargin": true,
            "type": "pie"
           }
          ],
          "scatter": [
           {
            "fillpattern": {
             "fillmode": "overlay",
             "size": 10,
             "solidity": 0.2
            },
            "type": "scatter"
           }
          ],
          "scatter3d": [
           {
            "line": {
             "colorbar": {
              "outlinewidth": 0,
              "ticks": ""
             }
            },
            "marker": {
             "colorbar": {
              "outlinewidth": 0,
              "ticks": ""
             }
            },
            "type": "scatter3d"
           }
          ],
          "scattercarpet": [
           {
            "marker": {
             "colorbar": {
              "outlinewidth": 0,
              "ticks": ""
             }
            },
            "type": "scattercarpet"
           }
          ],
          "scattergeo": [
           {
            "marker": {
             "colorbar": {
              "outlinewidth": 0,
              "ticks": ""
             }
            },
            "type": "scattergeo"
           }
          ],
          "scattergl": [
           {
            "marker": {
             "colorbar": {
              "outlinewidth": 0,
              "ticks": ""
             }
            },
            "type": "scattergl"
           }
          ],
          "scattermapbox": [
           {
            "marker": {
             "colorbar": {
              "outlinewidth": 0,
              "ticks": ""
             }
            },
            "type": "scattermapbox"
           }
          ],
          "scatterpolar": [
           {
            "marker": {
             "colorbar": {
              "outlinewidth": 0,
              "ticks": ""
             }
            },
            "type": "scatterpolar"
           }
          ],
          "scatterpolargl": [
           {
            "marker": {
             "colorbar": {
              "outlinewidth": 0,
              "ticks": ""
             }
            },
            "type": "scatterpolargl"
           }
          ],
          "scatterternary": [
           {
            "marker": {
             "colorbar": {
              "outlinewidth": 0,
              "ticks": ""
             }
            },
            "type": "scatterternary"
           }
          ],
          "surface": [
           {
            "colorbar": {
             "outlinewidth": 0,
             "ticks": ""
            },
            "colorscale": [
             [
              0,
              "#0d0887"
             ],
             [
              0.1111111111111111,
              "#46039f"
             ],
             [
              0.2222222222222222,
              "#7201a8"
             ],
             [
              0.3333333333333333,
              "#9c179e"
             ],
             [
              0.4444444444444444,
              "#bd3786"
             ],
             [
              0.5555555555555556,
              "#d8576b"
             ],
             [
              0.6666666666666666,
              "#ed7953"
             ],
             [
              0.7777777777777778,
              "#fb9f3a"
             ],
             [
              0.8888888888888888,
              "#fdca26"
             ],
             [
              1,
              "#f0f921"
             ]
            ],
            "type": "surface"
           }
          ],
          "table": [
           {
            "cells": {
             "fill": {
              "color": "#EBF0F8"
             },
             "line": {
              "color": "white"
             }
            },
            "header": {
             "fill": {
              "color": "#C8D4E3"
             },
             "line": {
              "color": "white"
             }
            },
            "type": "table"
           }
          ]
         },
         "layout": {
          "annotationdefaults": {
           "arrowcolor": "#2a3f5f",
           "arrowhead": 0,
           "arrowwidth": 1
          },
          "autotypenumbers": "strict",
          "coloraxis": {
           "colorbar": {
            "outlinewidth": 0,
            "ticks": ""
           }
          },
          "colorscale": {
           "diverging": [
            [
             0,
             "#8e0152"
            ],
            [
             0.1,
             "#c51b7d"
            ],
            [
             0.2,
             "#de77ae"
            ],
            [
             0.3,
             "#f1b6da"
            ],
            [
             0.4,
             "#fde0ef"
            ],
            [
             0.5,
             "#f7f7f7"
            ],
            [
             0.6,
             "#e6f5d0"
            ],
            [
             0.7,
             "#b8e186"
            ],
            [
             0.8,
             "#7fbc41"
            ],
            [
             0.9,
             "#4d9221"
            ],
            [
             1,
             "#276419"
            ]
           ],
           "sequential": [
            [
             0,
             "#0d0887"
            ],
            [
             0.1111111111111111,
             "#46039f"
            ],
            [
             0.2222222222222222,
             "#7201a8"
            ],
            [
             0.3333333333333333,
             "#9c179e"
            ],
            [
             0.4444444444444444,
             "#bd3786"
            ],
            [
             0.5555555555555556,
             "#d8576b"
            ],
            [
             0.6666666666666666,
             "#ed7953"
            ],
            [
             0.7777777777777778,
             "#fb9f3a"
            ],
            [
             0.8888888888888888,
             "#fdca26"
            ],
            [
             1,
             "#f0f921"
            ]
           ],
           "sequentialminus": [
            [
             0,
             "#0d0887"
            ],
            [
             0.1111111111111111,
             "#46039f"
            ],
            [
             0.2222222222222222,
             "#7201a8"
            ],
            [
             0.3333333333333333,
             "#9c179e"
            ],
            [
             0.4444444444444444,
             "#bd3786"
            ],
            [
             0.5555555555555556,
             "#d8576b"
            ],
            [
             0.6666666666666666,
             "#ed7953"
            ],
            [
             0.7777777777777778,
             "#fb9f3a"
            ],
            [
             0.8888888888888888,
             "#fdca26"
            ],
            [
             1,
             "#f0f921"
            ]
           ]
          },
          "colorway": [
           "#636efa",
           "#EF553B",
           "#00cc96",
           "#ab63fa",
           "#FFA15A",
           "#19d3f3",
           "#FF6692",
           "#B6E880",
           "#FF97FF",
           "#FECB52"
          ],
          "font": {
           "color": "#2a3f5f"
          },
          "geo": {
           "bgcolor": "white",
           "lakecolor": "white",
           "landcolor": "#E5ECF6",
           "showlakes": true,
           "showland": true,
           "subunitcolor": "white"
          },
          "hoverlabel": {
           "align": "left"
          },
          "hovermode": "closest",
          "mapbox": {
           "style": "light"
          },
          "paper_bgcolor": "white",
          "plot_bgcolor": "#E5ECF6",
          "polar": {
           "angularaxis": {
            "gridcolor": "white",
            "linecolor": "white",
            "ticks": ""
           },
           "bgcolor": "#E5ECF6",
           "radialaxis": {
            "gridcolor": "white",
            "linecolor": "white",
            "ticks": ""
           }
          },
          "scene": {
           "xaxis": {
            "backgroundcolor": "#E5ECF6",
            "gridcolor": "white",
            "gridwidth": 2,
            "linecolor": "white",
            "showbackground": true,
            "ticks": "",
            "zerolinecolor": "white"
           },
           "yaxis": {
            "backgroundcolor": "#E5ECF6",
            "gridcolor": "white",
            "gridwidth": 2,
            "linecolor": "white",
            "showbackground": true,
            "ticks": "",
            "zerolinecolor": "white"
           },
           "zaxis": {
            "backgroundcolor": "#E5ECF6",
            "gridcolor": "white",
            "gridwidth": 2,
            "linecolor": "white",
            "showbackground": true,
            "ticks": "",
            "zerolinecolor": "white"
           }
          },
          "shapedefaults": {
           "line": {
            "color": "#2a3f5f"
           }
          },
          "ternary": {
           "aaxis": {
            "gridcolor": "white",
            "linecolor": "white",
            "ticks": ""
           },
           "baxis": {
            "gridcolor": "white",
            "linecolor": "white",
            "ticks": ""
           },
           "bgcolor": "#E5ECF6",
           "caxis": {
            "gridcolor": "white",
            "linecolor": "white",
            "ticks": ""
           }
          },
          "title": {
           "x": 0.05
          },
          "xaxis": {
           "automargin": true,
           "gridcolor": "white",
           "linecolor": "white",
           "ticks": "",
           "title": {
            "standoff": 15
           },
           "zerolinecolor": "white",
           "zerolinewidth": 2
          },
          "yaxis": {
           "automargin": true,
           "gridcolor": "white",
           "linecolor": "white",
           "ticks": "",
           "title": {
            "standoff": 15
           },
           "zerolinecolor": "white",
           "zerolinewidth": 2
          }
         }
        },
        "title": {
         "font": {
          "color": "#4D5663"
         }
        },
        "xaxis": {
         "anchor": "y",
         "domain": [
          0,
          0.2125
         ],
         "gridcolor": "#E1E5ED",
         "showgrid": false,
         "tickfont": {
          "color": "#4D5663"
         },
         "title": {
          "font": {
           "color": "#4D5663"
          },
          "text": ""
         },
         "zerolinecolor": "#E1E5ED"
        },
        "xaxis10": {
         "anchor": "y10",
         "domain": [
          0.2625,
          0.475
         ],
         "gridcolor": "#E1E5ED",
         "showgrid": false,
         "tickfont": {
          "color": "#4D5663"
         },
         "title": {
          "font": {
           "color": "#4D5663"
          },
          "text": ""
         },
         "zerolinecolor": "#E1E5ED"
        },
        "xaxis11": {
         "anchor": "y11",
         "domain": [
          0.525,
          0.7375
         ],
         "gridcolor": "#E1E5ED",
         "showgrid": false,
         "tickfont": {
          "color": "#4D5663"
         },
         "title": {
          "font": {
           "color": "#4D5663"
          },
          "text": ""
         },
         "zerolinecolor": "#E1E5ED"
        },
        "xaxis12": {
         "anchor": "y12",
         "domain": [
          0.7875,
          1
         ],
         "gridcolor": "#E1E5ED",
         "showgrid": false,
         "tickfont": {
          "color": "#4D5663"
         },
         "title": {
          "font": {
           "color": "#4D5663"
          },
          "text": ""
         },
         "zerolinecolor": "#E1E5ED"
        },
        "xaxis13": {
         "anchor": "y13",
         "domain": [
          0,
          0.2125
         ],
         "gridcolor": "#E1E5ED",
         "showgrid": false,
         "tickfont": {
          "color": "#4D5663"
         },
         "title": {
          "font": {
           "color": "#4D5663"
          },
          "text": ""
         },
         "zerolinecolor": "#E1E5ED"
        },
        "xaxis14": {
         "anchor": "y14",
         "domain": [
          0.2625,
          0.475
         ],
         "gridcolor": "#E1E5ED",
         "showgrid": false,
         "tickfont": {
          "color": "#4D5663"
         },
         "title": {
          "font": {
           "color": "#4D5663"
          },
          "text": ""
         },
         "zerolinecolor": "#E1E5ED"
        },
        "xaxis15": {
         "anchor": "y15",
         "domain": [
          0.525,
          0.7375
         ],
         "gridcolor": "#E1E5ED",
         "showgrid": false,
         "tickfont": {
          "color": "#4D5663"
         },
         "title": {
          "font": {
           "color": "#4D5663"
          },
          "text": ""
         },
         "zerolinecolor": "#E1E5ED"
        },
        "xaxis16": {
         "anchor": "y16",
         "domain": [
          0.7875,
          1
         ],
         "gridcolor": "#E1E5ED",
         "showgrid": false,
         "tickfont": {
          "color": "#4D5663"
         },
         "title": {
          "font": {
           "color": "#4D5663"
          },
          "text": ""
         },
         "zerolinecolor": "#E1E5ED"
        },
        "xaxis2": {
         "anchor": "y2",
         "domain": [
          0.2625,
          0.475
         ],
         "gridcolor": "#E1E5ED",
         "showgrid": false,
         "tickfont": {
          "color": "#4D5663"
         },
         "title": {
          "font": {
           "color": "#4D5663"
          },
          "text": ""
         },
         "zerolinecolor": "#E1E5ED"
        },
        "xaxis3": {
         "anchor": "y3",
         "domain": [
          0.525,
          0.7375
         ],
         "gridcolor": "#E1E5ED",
         "showgrid": false,
         "tickfont": {
          "color": "#4D5663"
         },
         "title": {
          "font": {
           "color": "#4D5663"
          },
          "text": ""
         },
         "zerolinecolor": "#E1E5ED"
        },
        "xaxis4": {
         "anchor": "y4",
         "domain": [
          0.7875,
          1
         ],
         "gridcolor": "#E1E5ED",
         "showgrid": false,
         "tickfont": {
          "color": "#4D5663"
         },
         "title": {
          "font": {
           "color": "#4D5663"
          },
          "text": ""
         },
         "zerolinecolor": "#E1E5ED"
        },
        "xaxis5": {
         "anchor": "y5",
         "domain": [
          0,
          0.2125
         ],
         "gridcolor": "#E1E5ED",
         "showgrid": false,
         "tickfont": {
          "color": "#4D5663"
         },
         "title": {
          "font": {
           "color": "#4D5663"
          },
          "text": ""
         },
         "zerolinecolor": "#E1E5ED"
        },
        "xaxis6": {
         "anchor": "y6",
         "domain": [
          0.2625,
          0.475
         ],
         "gridcolor": "#E1E5ED",
         "showgrid": false,
         "tickfont": {
          "color": "#4D5663"
         },
         "title": {
          "font": {
           "color": "#4D5663"
          },
          "text": ""
         },
         "zerolinecolor": "#E1E5ED"
        },
        "xaxis7": {
         "anchor": "y7",
         "domain": [
          0.525,
          0.7375
         ],
         "gridcolor": "#E1E5ED",
         "showgrid": false,
         "tickfont": {
          "color": "#4D5663"
         },
         "title": {
          "font": {
           "color": "#4D5663"
          },
          "text": ""
         },
         "zerolinecolor": "#E1E5ED"
        },
        "xaxis8": {
         "anchor": "y8",
         "domain": [
          0.7875,
          1
         ],
         "gridcolor": "#E1E5ED",
         "showgrid": false,
         "tickfont": {
          "color": "#4D5663"
         },
         "title": {
          "font": {
           "color": "#4D5663"
          },
          "text": ""
         },
         "zerolinecolor": "#E1E5ED"
        },
        "xaxis9": {
         "anchor": "y9",
         "domain": [
          0,
          0.2125
         ],
         "gridcolor": "#E1E5ED",
         "showgrid": false,
         "tickfont": {
          "color": "#4D5663"
         },
         "title": {
          "font": {
           "color": "#4D5663"
          },
          "text": ""
         },
         "zerolinecolor": "#E1E5ED"
        },
        "yaxis": {
         "anchor": "x",
         "domain": [
          0.8025,
          1
         ],
         "gridcolor": "#E1E5ED",
         "showgrid": false,
         "tickfont": {
          "color": "#4D5663"
         },
         "title": {
          "font": {
           "color": "#4D5663"
          },
          "text": ""
         },
         "zerolinecolor": "#E1E5ED"
        },
        "yaxis10": {
         "anchor": "x10",
         "domain": [
          0.2675,
          0.465
         ],
         "gridcolor": "#E1E5ED",
         "showgrid": false,
         "tickfont": {
          "color": "#4D5663"
         },
         "title": {
          "font": {
           "color": "#4D5663"
          },
          "text": ""
         },
         "zerolinecolor": "#E1E5ED"
        },
        "yaxis11": {
         "anchor": "x11",
         "domain": [
          0.2675,
          0.465
         ],
         "gridcolor": "#E1E5ED",
         "showgrid": false,
         "tickfont": {
          "color": "#4D5663"
         },
         "title": {
          "font": {
           "color": "#4D5663"
          },
          "text": ""
         },
         "zerolinecolor": "#E1E5ED"
        },
        "yaxis12": {
         "anchor": "x12",
         "domain": [
          0.2675,
          0.465
         ],
         "gridcolor": "#E1E5ED",
         "showgrid": false,
         "tickfont": {
          "color": "#4D5663"
         },
         "title": {
          "font": {
           "color": "#4D5663"
          },
          "text": ""
         },
         "zerolinecolor": "#E1E5ED"
        },
        "yaxis13": {
         "anchor": "x13",
         "domain": [
          0,
          0.1975
         ],
         "gridcolor": "#E1E5ED",
         "showgrid": false,
         "tickfont": {
          "color": "#4D5663"
         },
         "title": {
          "font": {
           "color": "#4D5663"
          },
          "text": ""
         },
         "zerolinecolor": "#E1E5ED"
        },
        "yaxis14": {
         "anchor": "x14",
         "domain": [
          0,
          0.1975
         ],
         "gridcolor": "#E1E5ED",
         "showgrid": false,
         "tickfont": {
          "color": "#4D5663"
         },
         "title": {
          "font": {
           "color": "#4D5663"
          },
          "text": ""
         },
         "zerolinecolor": "#E1E5ED"
        },
        "yaxis15": {
         "anchor": "x15",
         "domain": [
          0,
          0.1975
         ],
         "gridcolor": "#E1E5ED",
         "showgrid": false,
         "tickfont": {
          "color": "#4D5663"
         },
         "title": {
          "font": {
           "color": "#4D5663"
          },
          "text": ""
         },
         "zerolinecolor": "#E1E5ED"
        },
        "yaxis16": {
         "anchor": "x16",
         "domain": [
          0,
          0.1975
         ],
         "gridcolor": "#E1E5ED",
         "showgrid": false,
         "tickfont": {
          "color": "#4D5663"
         },
         "title": {
          "font": {
           "color": "#4D5663"
          },
          "text": ""
         },
         "zerolinecolor": "#E1E5ED"
        },
        "yaxis2": {
         "anchor": "x2",
         "domain": [
          0.8025,
          1
         ],
         "gridcolor": "#E1E5ED",
         "showgrid": false,
         "tickfont": {
          "color": "#4D5663"
         },
         "title": {
          "font": {
           "color": "#4D5663"
          },
          "text": ""
         },
         "zerolinecolor": "#E1E5ED"
        },
        "yaxis3": {
         "anchor": "x3",
         "domain": [
          0.8025,
          1
         ],
         "gridcolor": "#E1E5ED",
         "showgrid": false,
         "tickfont": {
          "color": "#4D5663"
         },
         "title": {
          "font": {
           "color": "#4D5663"
          },
          "text": ""
         },
         "zerolinecolor": "#E1E5ED"
        },
        "yaxis4": {
         "anchor": "x4",
         "domain": [
          0.8025,
          1
         ],
         "gridcolor": "#E1E5ED",
         "showgrid": false,
         "tickfont": {
          "color": "#4D5663"
         },
         "title": {
          "font": {
           "color": "#4D5663"
          },
          "text": ""
         },
         "zerolinecolor": "#E1E5ED"
        },
        "yaxis5": {
         "anchor": "x5",
         "domain": [
          0.535,
          0.7325
         ],
         "gridcolor": "#E1E5ED",
         "showgrid": false,
         "tickfont": {
          "color": "#4D5663"
         },
         "title": {
          "font": {
           "color": "#4D5663"
          },
          "text": ""
         },
         "zerolinecolor": "#E1E5ED"
        },
        "yaxis6": {
         "anchor": "x6",
         "domain": [
          0.535,
          0.7325
         ],
         "gridcolor": "#E1E5ED",
         "showgrid": false,
         "tickfont": {
          "color": "#4D5663"
         },
         "title": {
          "font": {
           "color": "#4D5663"
          },
          "text": ""
         },
         "zerolinecolor": "#E1E5ED"
        },
        "yaxis7": {
         "anchor": "x7",
         "domain": [
          0.535,
          0.7325
         ],
         "gridcolor": "#E1E5ED",
         "showgrid": false,
         "tickfont": {
          "color": "#4D5663"
         },
         "title": {
          "font": {
           "color": "#4D5663"
          },
          "text": ""
         },
         "zerolinecolor": "#E1E5ED"
        },
        "yaxis8": {
         "anchor": "x8",
         "domain": [
          0.535,
          0.7325
         ],
         "gridcolor": "#E1E5ED",
         "showgrid": false,
         "tickfont": {
          "color": "#4D5663"
         },
         "title": {
          "font": {
           "color": "#4D5663"
          },
          "text": ""
         },
         "zerolinecolor": "#E1E5ED"
        },
        "yaxis9": {
         "anchor": "x9",
         "domain": [
          0.2675,
          0.465
         ],
         "gridcolor": "#E1E5ED",
         "showgrid": false,
         "tickfont": {
          "color": "#4D5663"
         },
         "title": {
          "font": {
           "color": "#4D5663"
          },
          "text": ""
         },
         "zerolinecolor": "#E1E5ED"
        }
       }
      },
      "text/html": [
       "<div>                            <div id=\"3aa23d05-657e-49c1-add9-beb03b1b682b\" class=\"plotly-graph-div\" style=\"height:525px; width:100%;\"></div>            <script type=\"text/javascript\">                require([\"plotly\"], function(Plotly) {                    window.PLOTLYENV=window.PLOTLYENV || {};\n",
       "                    window.PLOTLYENV.BASE_URL='https://plot.ly';                                    if (document.getElementById(\"3aa23d05-657e-49c1-add9-beb03b1b682b\")) {                    Plotly.newPlot(                        \"3aa23d05-657e-49c1-add9-beb03b1b682b\",                        [{\"histfunc\":\"count\",\"histnorm\":\"\",\"marker\":{\"color\":\"rgba(255, 153, 51, 1.0)\",\"line\":{\"color\":\"#4D5663\",\"width\":1.3}},\"name\":\"A\",\"nbinsx\":10,\"opacity\":0.8,\"orientation\":\"v\",\"x\":[0.6446209978304961,0.4078221920136122,-0.2765872970204885,0.10456735638555388,0.08324133721186451,0.057440297633351456,-1.2171690355819085,-0.09196308817524182,-1.4384482006426815,-0.9066078684780878,-3.0647955779058393,-0.5927155310656024,1.583409055253283,0.234106386964043,1.2987088354934264,-0.07913794969622139,1.9820971873442788,0.5300957800919711,0.0561241346154549,0.015369674156755879,-1.2127715104199281,0.035053315533376254,0.7118746375710167,-0.1952185441372051,-0.7579919569364388,0.8382884169380316,-0.2523101224096548,0.6311895916493456,-1.4756247761832622,-1.9698270932740207,-1.3372120572711683,-0.0055887604966179906,-1.7516160926744089,0.543208412020896,0.707473240158141,0.6593860529630602,-0.966138313509074,1.2445708261621509,-1.0802389340212704,0.5086900141225315,0.06968362854003969,-0.6676088576024096,-0.6772597043552857,1.0685188366936331,-1.197023278836309,1.3296472778183843,-1.7352843284646196,-1.0582875565845407,1.0617180487815374,1.4540725943983606,0.5317907297889919,0.7420563485732212,-0.18793332995515025,-1.2305655757068716,-0.1772600412850589,-1.148239267934772,0.4037983500944594,0.9812475937057795,-0.4956402857253395,-0.28809363061450555,-0.6487072922681356,0.8481841770338829,-0.3114926773390753,0.3471058665605341,2.8359142899847587,-0.10683669988149225,0.7333023074176133,-0.9756817628998831,-1.4734885498421182,-0.8026545150142835,-0.9084824357349854,0.451034781575594,-0.14441496470423662,-1.9756483521255614,-0.5332455788412271,-0.63886776707257,-2.2713107658786433,-0.40268261110912806,-1.953505525568803,0.21002398901558625,0.5515111078971915,1.8137764486502015,-0.5238352930793719,-0.2822937597610257,0.41863932362537837,0.10282204212326963,2.0754089376632825,0.6972799565874593,1.1614656583668113,1.3623377423265945,0.10708896322825404,-0.35965989943947024,0.7454316477825902,-0.5002942850467338,0.3404751564352129,-0.7529900522556313,0.21081704514965283,1.753849340431904,0.8556437691539508,0.701648831151324],\"xaxis\":\"x\",\"yaxis\":\"y\",\"type\":\"histogram\"},{\"line\":{\"color\":\"rgba(128, 128, 128, 1.0)\",\"dash\":\"solid\",\"shape\":\"linear\",\"width\":1.3},\"marker\":{\"size\":2,\"symbol\":\"circle\"},\"mode\":\"markers\",\"name\":\"A\",\"text\":\"\",\"x\":[-0.22160750690840028,1.7158554903880332,-0.6237740459654896,1.7171818589480066,-0.1968115099154782,-0.9178801038802831,-0.8648477636664242,-0.26311475476438756,-0.3644265939925632,-0.9804658128967962,1.0326790474999514,-1.5535104837887026,-0.16460272611477467,1.4317841740173647,0.13868359918099005,-0.26283282569495164,1.4671591243018076,0.9928316600028886,1.798718933737595,-0.12194429267969392,-1.2135185401556021,-0.5676843906954775,0.5466472148108473,1.5064364433330995,0.2294216562379941,-0.45183094530211637,-0.5990162630544981,1.2093106738320492,-0.5115952740366038,-1.3389739304237893,-0.05705254876762868,0.18038672055746063,1.7979243126872604,-0.9180546332511316,0.00838642535099962,-0.7440498127142733,0.42076697337853947,-1.4875438989362184,0.25306783994077015,1.8824847563507707,-0.5169299902217411,0.2883651291147273,-0.8722294837074352,0.2519290622637881,-1.8324172801056757,0.37575977161583207,0.9443994946857267,0.24775429904167792,-0.8099720675420381,0.8227450644967887,0.21290770852438837,-0.4753072455838816,-0.3011324544818885,-0.003528999951231824,-0.19640311199830598,0.34129342746016,0.8817453262399159,-0.14964935915574884,0.6386867039194815,1.6888518942380055,-0.954599303308324,-1.3586802403670986,-0.805279213474311,0.6484073187263913,0.23471787263488347,1.573593064081298,1.4803498296832225,-0.6778894932880246,-2.7440090441649985,0.5807543021017987,-0.8878887797836558,1.3493372535410566,-1.1731712522803317,0.9009129011476739,0.9927017366728492,-1.1113954750547725,-0.3911079194019816,-0.5604947607506066,-0.5130962215220196,0.296256896974686,-0.1897579204290804,-0.19731011276449487,1.2797615737542352,-0.3117436598969686,2.2371515544398384,1.1906124852355693,0.2381106335734882,-0.6858170151367708,1.150058581328844,0.19314586783555093,-1.3262365216682042,0.22266823381194942,-1.1045743475961767,-1.0501370436953776,1.2875349619480438,-1.570363318967189,-0.5266463105521983,0.5167043413713699,0.3411124470341882,2.987140002245271],\"xaxis\":\"x2\",\"y\":[0.6446209978304961,0.4078221920136122,-0.2765872970204885,0.10456735638555388,0.08324133721186451,0.057440297633351456,-1.2171690355819085,-0.09196308817524182,-1.4384482006426815,-0.9066078684780878,-3.0647955779058393,-0.5927155310656024,1.583409055253283,0.234106386964043,1.2987088354934264,-0.07913794969622139,1.9820971873442788,0.5300957800919711,0.0561241346154549,0.015369674156755879,-1.2127715104199281,0.035053315533376254,0.7118746375710167,-0.1952185441372051,-0.7579919569364388,0.8382884169380316,-0.2523101224096548,0.6311895916493456,-1.4756247761832622,-1.9698270932740207,-1.3372120572711683,-0.0055887604966179906,-1.7516160926744089,0.543208412020896,0.707473240158141,0.6593860529630602,-0.966138313509074,1.2445708261621509,-1.0802389340212704,0.5086900141225315,0.06968362854003969,-0.6676088576024096,-0.6772597043552857,1.0685188366936331,-1.197023278836309,1.3296472778183843,-1.7352843284646196,-1.0582875565845407,1.0617180487815374,1.4540725943983606,0.5317907297889919,0.7420563485732212,-0.18793332995515025,-1.2305655757068716,-0.1772600412850589,-1.148239267934772,0.4037983500944594,0.9812475937057795,-0.4956402857253395,-0.28809363061450555,-0.6487072922681356,0.8481841770338829,-0.3114926773390753,0.3471058665605341,2.8359142899847587,-0.10683669988149225,0.7333023074176133,-0.9756817628998831,-1.4734885498421182,-0.8026545150142835,-0.9084824357349854,0.451034781575594,-0.14441496470423662,-1.9756483521255614,-0.5332455788412271,-0.63886776707257,-2.2713107658786433,-0.40268261110912806,-1.953505525568803,0.21002398901558625,0.5515111078971915,1.8137764486502015,-0.5238352930793719,-0.2822937597610257,0.41863932362537837,0.10282204212326963,2.0754089376632825,0.6972799565874593,1.1614656583668113,1.3623377423265945,0.10708896322825404,-0.35965989943947024,0.7454316477825902,-0.5002942850467338,0.3404751564352129,-0.7529900522556313,0.21081704514965283,1.753849340431904,0.8556437691539508,0.701648831151324],\"yaxis\":\"y2\",\"type\":\"scatter\"},{\"line\":{\"color\":\"rgba(128, 128, 128, 1.0)\",\"dash\":\"solid\",\"shape\":\"linear\",\"width\":1.3},\"marker\":{\"size\":2,\"symbol\":\"circle\"},\"mode\":\"markers\",\"name\":\"A\",\"text\":\"\",\"x\":[0.7012976858107476,0.13112876716322586,-0.6813970857853648,0.7626266599309006,1.8810574004548166,0.26033565690448307,0.4994790522032047,-0.5084750662647777,-0.5434176656881163,-2.4633927204653046,-0.6521249562522544,-0.14670782107135424,-0.3174865144850475,-1.0042400464938952,0.6658921866196987,0.19034364831626227,1.1553870061215892,-0.17220095106498723,-1.0537714587104434,0.500045590396657,-0.13451386173465865,-0.027892374212246027,1.4066424663771657,-0.6820547117786162,1.0939135918061562,1.079296940566886,0.010327137081296395,-0.9089530044668371,2.212218263471134,-0.02509365027062667,-0.07972747706023059,-0.011931537356809503,1.2590405432240899,-1.5154813110587153,-0.7681836657343759,0.07029045933967852,-0.6261877114432143,-0.29890390207145945,0.8076891914560079,-0.48900643341240624,-0.18229600927999168,1.2646900813903714,0.48761724025730246,-0.32419552319665174,-0.3195952241608016,-0.2141181762540822,-0.4732029597170572,2.065565663723758,-0.7236430797381805,-0.1879291151185566,1.9650445644037815,-2.647997803888273,0.0624412739324384,0.4214371683701604,0.32244681261181213,-1.1463309502872436,-0.4122642638641093,-0.1019974330153135,-0.42661888713341123,-0.2032627792764815,-2.076143637926378,-1.0133586709182414,0.5425889770145909,1.4972767985169795,1.3827028866954683,-0.9567475197195758,-1.6271696404774703,-0.04767927054525452,-0.3337362568629179,-2.5211967071004056,-0.7214255274482855,-1.6968238348366882,-0.8641714143407009,1.1314545083027825,-0.3464497033574137,-0.08399129750322462,-1.0997606369501673,1.6386602115224296,-0.24795699938403845,-0.8475456890457912,1.2632786197352313,-1.3752607005938815,-0.17727174377038782,-1.1141912635712727,0.9038545843165967,1.6682151489585701,-1.1539416875491058,0.26573596340025707,0.42537973515492217,-1.009847889051133,0.6854654840509039,-0.14944373300586317,1.5099303656959975,0.5367132482238024,0.5108694434056651,0.06396679098017176,0.4182402609127113,-0.45882135707575805,-0.6637807264473049,0.42826449790203475],\"xaxis\":\"x3\",\"y\":[0.6446209978304961,0.4078221920136122,-0.2765872970204885,0.10456735638555388,0.08324133721186451,0.057440297633351456,-1.2171690355819085,-0.09196308817524182,-1.4384482006426815,-0.9066078684780878,-3.0647955779058393,-0.5927155310656024,1.583409055253283,0.234106386964043,1.2987088354934264,-0.07913794969622139,1.9820971873442788,0.5300957800919711,0.0561241346154549,0.015369674156755879,-1.2127715104199281,0.035053315533376254,0.7118746375710167,-0.1952185441372051,-0.7579919569364388,0.8382884169380316,-0.2523101224096548,0.6311895916493456,-1.4756247761832622,-1.9698270932740207,-1.3372120572711683,-0.0055887604966179906,-1.7516160926744089,0.543208412020896,0.707473240158141,0.6593860529630602,-0.966138313509074,1.2445708261621509,-1.0802389340212704,0.5086900141225315,0.06968362854003969,-0.6676088576024096,-0.6772597043552857,1.0685188366936331,-1.197023278836309,1.3296472778183843,-1.7352843284646196,-1.0582875565845407,1.0617180487815374,1.4540725943983606,0.5317907297889919,0.7420563485732212,-0.18793332995515025,-1.2305655757068716,-0.1772600412850589,-1.148239267934772,0.4037983500944594,0.9812475937057795,-0.4956402857253395,-0.28809363061450555,-0.6487072922681356,0.8481841770338829,-0.3114926773390753,0.3471058665605341,2.8359142899847587,-0.10683669988149225,0.7333023074176133,-0.9756817628998831,-1.4734885498421182,-0.8026545150142835,-0.9084824357349854,0.451034781575594,-0.14441496470423662,-1.9756483521255614,-0.5332455788412271,-0.63886776707257,-2.2713107658786433,-0.40268261110912806,-1.953505525568803,0.21002398901558625,0.5515111078971915,1.8137764486502015,-0.5238352930793719,-0.2822937597610257,0.41863932362537837,0.10282204212326963,2.0754089376632825,0.6972799565874593,1.1614656583668113,1.3623377423265945,0.10708896322825404,-0.35965989943947024,0.7454316477825902,-0.5002942850467338,0.3404751564352129,-0.7529900522556313,0.21081704514965283,1.753849340431904,0.8556437691539508,0.701648831151324],\"yaxis\":\"y3\",\"type\":\"scatter\"},{\"line\":{\"color\":\"rgba(128, 128, 128, 1.0)\",\"dash\":\"solid\",\"shape\":\"linear\",\"width\":1.3},\"marker\":{\"size\":2,\"symbol\":\"circle\"},\"mode\":\"markers\",\"name\":\"A\",\"text\":\"\",\"x\":[0.7710685342518336,-0.08673281835562326,-0.9292275667399005,-0.08722718385502183,-1.8354093130966138,-2.3669215228779104,1.0162186933207766,-1.051591957466034,1.311789236964196,1.2835110909421699,-0.18647269648908388,-1.9897111315816265,-0.188104262986079,-0.40678348264882264,-0.2081853041598393,-1.0675398634804543,0.15879813814960225,-0.9335573209804557,-1.1794506269311265,-0.5086145798998463,0.19250525161798482,1.2816815797315007,0.5456407114917887,2.174008157133585,0.9716299509781058,1.4476394585223482,0.8031719567415391,0.6338801065749562,-1.3396047068103658,0.26898247138012976,0.06953687683686048,-0.782279081821717,0.8152780357039893,-0.5821296951628023,-0.08306425552288532,-1.2125532805221355,-0.01998873872392119,-1.7947383874599883,0.3722827373475316,0.34592233613599366,0.4469249252617456,0.9376267695284086,1.0977292764220554,0.90152666289788,0.6406890057757472,-0.7343690997457678,-1.1469319828890387,-3.5805232475388453,1.7333269996330503,-0.16988381138361097,0.053954263262173154,-1.5588014795073613,1.3637212251412825,0.6635556331193656,-0.9590459929753491,-0.18672923056468158,-0.04536186834589831,-0.986179375093094,0.3438924264706309,0.6693067098234198,-0.422152846774601,-0.82902191445765,0.6962418591367862,-0.9336714089215007,0.2771700521454067,-0.20530361172490166,-0.3870473361922757,0.04887067149170552,-0.5806307167987539,-0.06758041697691812,-0.9927284682004818,0.03569548773964057,0.6970934325532863,0.5200703942540074,-0.40308030657266836,0.26654996695149374,0.6133970024769643,0.7127654020511173,1.2338043037286743,0.6657650184138121,-1.0658224426141822,1.1329112648803752,0.4257779515125473,0.48174393345883953,-1.0064697749288969,0.8144570677497984,0.09904712954893766,-0.01667907684784322,-1.4899988133514555,-1.2307960774775202,1.5475895067518977,-0.6295026903629481,0.7470095780965724,-0.494454673834522,1.2715278291971563,0.8734646191239015,-0.21238519250933158,-1.0630629919021253,-0.01077421943135205,-1.0048395012750386],\"xaxis\":\"x4\",\"y\":[0.6446209978304961,0.4078221920136122,-0.2765872970204885,0.10456735638555388,0.08324133721186451,0.057440297633351456,-1.2171690355819085,-0.09196308817524182,-1.4384482006426815,-0.9066078684780878,-3.0647955779058393,-0.5927155310656024,1.583409055253283,0.234106386964043,1.2987088354934264,-0.07913794969622139,1.9820971873442788,0.5300957800919711,0.0561241346154549,0.015369674156755879,-1.2127715104199281,0.035053315533376254,0.7118746375710167,-0.1952185441372051,-0.7579919569364388,0.8382884169380316,-0.2523101224096548,0.6311895916493456,-1.4756247761832622,-1.9698270932740207,-1.3372120572711683,-0.0055887604966179906,-1.7516160926744089,0.543208412020896,0.707473240158141,0.6593860529630602,-0.966138313509074,1.2445708261621509,-1.0802389340212704,0.5086900141225315,0.06968362854003969,-0.6676088576024096,-0.6772597043552857,1.0685188366936331,-1.197023278836309,1.3296472778183843,-1.7352843284646196,-1.0582875565845407,1.0617180487815374,1.4540725943983606,0.5317907297889919,0.7420563485732212,-0.18793332995515025,-1.2305655757068716,-0.1772600412850589,-1.148239267934772,0.4037983500944594,0.9812475937057795,-0.4956402857253395,-0.28809363061450555,-0.6487072922681356,0.8481841770338829,-0.3114926773390753,0.3471058665605341,2.8359142899847587,-0.10683669988149225,0.7333023074176133,-0.9756817628998831,-1.4734885498421182,-0.8026545150142835,-0.9084824357349854,0.451034781575594,-0.14441496470423662,-1.9756483521255614,-0.5332455788412271,-0.63886776707257,-2.2713107658786433,-0.40268261110912806,-1.953505525568803,0.21002398901558625,0.5515111078971915,1.8137764486502015,-0.5238352930793719,-0.2822937597610257,0.41863932362537837,0.10282204212326963,2.0754089376632825,0.6972799565874593,1.1614656583668113,1.3623377423265945,0.10708896322825404,-0.35965989943947024,0.7454316477825902,-0.5002942850467338,0.3404751564352129,-0.7529900522556313,0.21081704514965283,1.753849340431904,0.8556437691539508,0.701648831151324],\"yaxis\":\"y4\",\"type\":\"scatter\"},{\"line\":{\"color\":\"rgba(128, 128, 128, 1.0)\",\"dash\":\"solid\",\"shape\":\"linear\",\"width\":1.3},\"marker\":{\"size\":2,\"symbol\":\"circle\"},\"mode\":\"markers\",\"name\":\"B\",\"text\":\"\",\"x\":[0.6446209978304961,0.4078221920136122,-0.2765872970204885,0.10456735638555388,0.08324133721186451,0.057440297633351456,-1.2171690355819085,-0.09196308817524182,-1.4384482006426815,-0.9066078684780878,-3.0647955779058393,-0.5927155310656024,1.583409055253283,0.234106386964043,1.2987088354934264,-0.07913794969622139,1.9820971873442788,0.5300957800919711,0.0561241346154549,0.015369674156755879,-1.2127715104199281,0.035053315533376254,0.7118746375710167,-0.1952185441372051,-0.7579919569364388,0.8382884169380316,-0.2523101224096548,0.6311895916493456,-1.4756247761832622,-1.9698270932740207,-1.3372120572711683,-0.0055887604966179906,-1.7516160926744089,0.543208412020896,0.707473240158141,0.6593860529630602,-0.966138313509074,1.2445708261621509,-1.0802389340212704,0.5086900141225315,0.06968362854003969,-0.6676088576024096,-0.6772597043552857,1.0685188366936331,-1.197023278836309,1.3296472778183843,-1.7352843284646196,-1.0582875565845407,1.0617180487815374,1.4540725943983606,0.5317907297889919,0.7420563485732212,-0.18793332995515025,-1.2305655757068716,-0.1772600412850589,-1.148239267934772,0.4037983500944594,0.9812475937057795,-0.4956402857253395,-0.28809363061450555,-0.6487072922681356,0.8481841770338829,-0.3114926773390753,0.3471058665605341,2.8359142899847587,-0.10683669988149225,0.7333023074176133,-0.9756817628998831,-1.4734885498421182,-0.8026545150142835,-0.9084824357349854,0.451034781575594,-0.14441496470423662,-1.9756483521255614,-0.5332455788412271,-0.63886776707257,-2.2713107658786433,-0.40268261110912806,-1.953505525568803,0.21002398901558625,0.5515111078971915,1.8137764486502015,-0.5238352930793719,-0.2822937597610257,0.41863932362537837,0.10282204212326963,2.0754089376632825,0.6972799565874593,1.1614656583668113,1.3623377423265945,0.10708896322825404,-0.35965989943947024,0.7454316477825902,-0.5002942850467338,0.3404751564352129,-0.7529900522556313,0.21081704514965283,1.753849340431904,0.8556437691539508,0.701648831151324],\"xaxis\":\"x5\",\"y\":[-0.22160750690840028,1.7158554903880332,-0.6237740459654896,1.7171818589480066,-0.1968115099154782,-0.9178801038802831,-0.8648477636664242,-0.26311475476438756,-0.3644265939925632,-0.9804658128967962,1.0326790474999514,-1.5535104837887026,-0.16460272611477467,1.4317841740173647,0.13868359918099005,-0.26283282569495164,1.4671591243018076,0.9928316600028886,1.798718933737595,-0.12194429267969392,-1.2135185401556021,-0.5676843906954775,0.5466472148108473,1.5064364433330995,0.2294216562379941,-0.45183094530211637,-0.5990162630544981,1.2093106738320492,-0.5115952740366038,-1.3389739304237893,-0.05705254876762868,0.18038672055746063,1.7979243126872604,-0.9180546332511316,0.00838642535099962,-0.7440498127142733,0.42076697337853947,-1.4875438989362184,0.25306783994077015,1.8824847563507707,-0.5169299902217411,0.2883651291147273,-0.8722294837074352,0.2519290622637881,-1.8324172801056757,0.37575977161583207,0.9443994946857267,0.24775429904167792,-0.8099720675420381,0.8227450644967887,0.21290770852438837,-0.4753072455838816,-0.3011324544818885,-0.003528999951231824,-0.19640311199830598,0.34129342746016,0.8817453262399159,-0.14964935915574884,0.6386867039194815,1.6888518942380055,-0.954599303308324,-1.3586802403670986,-0.805279213474311,0.6484073187263913,0.23471787263488347,1.573593064081298,1.4803498296832225,-0.6778894932880246,-2.7440090441649985,0.5807543021017987,-0.8878887797836558,1.3493372535410566,-1.1731712522803317,0.9009129011476739,0.9927017366728492,-1.1113954750547725,-0.3911079194019816,-0.5604947607506066,-0.5130962215220196,0.296256896974686,-0.1897579204290804,-0.19731011276449487,1.2797615737542352,-0.3117436598969686,2.2371515544398384,1.1906124852355693,0.2381106335734882,-0.6858170151367708,1.150058581328844,0.19314586783555093,-1.3262365216682042,0.22266823381194942,-1.1045743475961767,-1.0501370436953776,1.2875349619480438,-1.570363318967189,-0.5266463105521983,0.5167043413713699,0.3411124470341882,2.987140002245271],\"yaxis\":\"y5\",\"type\":\"scatter\"},{\"histfunc\":\"count\",\"histnorm\":\"\",\"marker\":{\"color\":\"rgba(55, 128, 191, 1.0)\",\"line\":{\"color\":\"#4D5663\",\"width\":1.3}},\"name\":\"B\",\"nbinsx\":10,\"opacity\":0.8,\"orientation\":\"v\",\"x\":[-0.22160750690840028,1.7158554903880332,-0.6237740459654896,1.7171818589480066,-0.1968115099154782,-0.9178801038802831,-0.8648477636664242,-0.26311475476438756,-0.3644265939925632,-0.9804658128967962,1.0326790474999514,-1.5535104837887026,-0.16460272611477467,1.4317841740173647,0.13868359918099005,-0.26283282569495164,1.4671591243018076,0.9928316600028886,1.798718933737595,-0.12194429267969392,-1.2135185401556021,-0.5676843906954775,0.5466472148108473,1.5064364433330995,0.2294216562379941,-0.45183094530211637,-0.5990162630544981,1.2093106738320492,-0.5115952740366038,-1.3389739304237893,-0.05705254876762868,0.18038672055746063,1.7979243126872604,-0.9180546332511316,0.00838642535099962,-0.7440498127142733,0.42076697337853947,-1.4875438989362184,0.25306783994077015,1.8824847563507707,-0.5169299902217411,0.2883651291147273,-0.8722294837074352,0.2519290622637881,-1.8324172801056757,0.37575977161583207,0.9443994946857267,0.24775429904167792,-0.8099720675420381,0.8227450644967887,0.21290770852438837,-0.4753072455838816,-0.3011324544818885,-0.003528999951231824,-0.19640311199830598,0.34129342746016,0.8817453262399159,-0.14964935915574884,0.6386867039194815,1.6888518942380055,-0.954599303308324,-1.3586802403670986,-0.805279213474311,0.6484073187263913,0.23471787263488347,1.573593064081298,1.4803498296832225,-0.6778894932880246,-2.7440090441649985,0.5807543021017987,-0.8878887797836558,1.3493372535410566,-1.1731712522803317,0.9009129011476739,0.9927017366728492,-1.1113954750547725,-0.3911079194019816,-0.5604947607506066,-0.5130962215220196,0.296256896974686,-0.1897579204290804,-0.19731011276449487,1.2797615737542352,-0.3117436598969686,2.2371515544398384,1.1906124852355693,0.2381106335734882,-0.6858170151367708,1.150058581328844,0.19314586783555093,-1.3262365216682042,0.22266823381194942,-1.1045743475961767,-1.0501370436953776,1.2875349619480438,-1.570363318967189,-0.5266463105521983,0.5167043413713699,0.3411124470341882,2.987140002245271],\"xaxis\":\"x6\",\"yaxis\":\"y6\",\"type\":\"histogram\"},{\"line\":{\"color\":\"rgba(128, 128, 128, 1.0)\",\"dash\":\"solid\",\"shape\":\"linear\",\"width\":1.3},\"marker\":{\"size\":2,\"symbol\":\"circle\"},\"mode\":\"markers\",\"name\":\"B\",\"text\":\"\",\"x\":[0.7012976858107476,0.13112876716322586,-0.6813970857853648,0.7626266599309006,1.8810574004548166,0.26033565690448307,0.4994790522032047,-0.5084750662647777,-0.5434176656881163,-2.4633927204653046,-0.6521249562522544,-0.14670782107135424,-0.3174865144850475,-1.0042400464938952,0.6658921866196987,0.19034364831626227,1.1553870061215892,-0.17220095106498723,-1.0537714587104434,0.500045590396657,-0.13451386173465865,-0.027892374212246027,1.4066424663771657,-0.6820547117786162,1.0939135918061562,1.079296940566886,0.010327137081296395,-0.9089530044668371,2.212218263471134,-0.02509365027062667,-0.07972747706023059,-0.011931537356809503,1.2590405432240899,-1.5154813110587153,-0.7681836657343759,0.07029045933967852,-0.6261877114432143,-0.29890390207145945,0.8076891914560079,-0.48900643341240624,-0.18229600927999168,1.2646900813903714,0.48761724025730246,-0.32419552319665174,-0.3195952241608016,-0.2141181762540822,-0.4732029597170572,2.065565663723758,-0.7236430797381805,-0.1879291151185566,1.9650445644037815,-2.647997803888273,0.0624412739324384,0.4214371683701604,0.32244681261181213,-1.1463309502872436,-0.4122642638641093,-0.1019974330153135,-0.42661888713341123,-0.2032627792764815,-2.076143637926378,-1.0133586709182414,0.5425889770145909,1.4972767985169795,1.3827028866954683,-0.9567475197195758,-1.6271696404774703,-0.04767927054525452,-0.3337362568629179,-2.5211967071004056,-0.7214255274482855,-1.6968238348366882,-0.8641714143407009,1.1314545083027825,-0.3464497033574137,-0.08399129750322462,-1.0997606369501673,1.6386602115224296,-0.24795699938403845,-0.8475456890457912,1.2632786197352313,-1.3752607005938815,-0.17727174377038782,-1.1141912635712727,0.9038545843165967,1.6682151489585701,-1.1539416875491058,0.26573596340025707,0.42537973515492217,-1.009847889051133,0.6854654840509039,-0.14944373300586317,1.5099303656959975,0.5367132482238024,0.5108694434056651,0.06396679098017176,0.4182402609127113,-0.45882135707575805,-0.6637807264473049,0.42826449790203475],\"xaxis\":\"x7\",\"y\":[-0.22160750690840028,1.7158554903880332,-0.6237740459654896,1.7171818589480066,-0.1968115099154782,-0.9178801038802831,-0.8648477636664242,-0.26311475476438756,-0.3644265939925632,-0.9804658128967962,1.0326790474999514,-1.5535104837887026,-0.16460272611477467,1.4317841740173647,0.13868359918099005,-0.26283282569495164,1.4671591243018076,0.9928316600028886,1.798718933737595,-0.12194429267969392,-1.2135185401556021,-0.5676843906954775,0.5466472148108473,1.5064364433330995,0.2294216562379941,-0.45183094530211637,-0.5990162630544981,1.2093106738320492,-0.5115952740366038,-1.3389739304237893,-0.05705254876762868,0.18038672055746063,1.7979243126872604,-0.9180546332511316,0.00838642535099962,-0.7440498127142733,0.42076697337853947,-1.4875438989362184,0.25306783994077015,1.8824847563507707,-0.5169299902217411,0.2883651291147273,-0.8722294837074352,0.2519290622637881,-1.8324172801056757,0.37575977161583207,0.9443994946857267,0.24775429904167792,-0.8099720675420381,0.8227450644967887,0.21290770852438837,-0.4753072455838816,-0.3011324544818885,-0.003528999951231824,-0.19640311199830598,0.34129342746016,0.8817453262399159,-0.14964935915574884,0.6386867039194815,1.6888518942380055,-0.954599303308324,-1.3586802403670986,-0.805279213474311,0.6484073187263913,0.23471787263488347,1.573593064081298,1.4803498296832225,-0.6778894932880246,-2.7440090441649985,0.5807543021017987,-0.8878887797836558,1.3493372535410566,-1.1731712522803317,0.9009129011476739,0.9927017366728492,-1.1113954750547725,-0.3911079194019816,-0.5604947607506066,-0.5130962215220196,0.296256896974686,-0.1897579204290804,-0.19731011276449487,1.2797615737542352,-0.3117436598969686,2.2371515544398384,1.1906124852355693,0.2381106335734882,-0.6858170151367708,1.150058581328844,0.19314586783555093,-1.3262365216682042,0.22266823381194942,-1.1045743475961767,-1.0501370436953776,1.2875349619480438,-1.570363318967189,-0.5266463105521983,0.5167043413713699,0.3411124470341882,2.987140002245271],\"yaxis\":\"y7\",\"type\":\"scatter\"},{\"line\":{\"color\":\"rgba(128, 128, 128, 1.0)\",\"dash\":\"solid\",\"shape\":\"linear\",\"width\":1.3},\"marker\":{\"size\":2,\"symbol\":\"circle\"},\"mode\":\"markers\",\"name\":\"B\",\"text\":\"\",\"x\":[0.7710685342518336,-0.08673281835562326,-0.9292275667399005,-0.08722718385502183,-1.8354093130966138,-2.3669215228779104,1.0162186933207766,-1.051591957466034,1.311789236964196,1.2835110909421699,-0.18647269648908388,-1.9897111315816265,-0.188104262986079,-0.40678348264882264,-0.2081853041598393,-1.0675398634804543,0.15879813814960225,-0.9335573209804557,-1.1794506269311265,-0.5086145798998463,0.19250525161798482,1.2816815797315007,0.5456407114917887,2.174008157133585,0.9716299509781058,1.4476394585223482,0.8031719567415391,0.6338801065749562,-1.3396047068103658,0.26898247138012976,0.06953687683686048,-0.782279081821717,0.8152780357039893,-0.5821296951628023,-0.08306425552288532,-1.2125532805221355,-0.01998873872392119,-1.7947383874599883,0.3722827373475316,0.34592233613599366,0.4469249252617456,0.9376267695284086,1.0977292764220554,0.90152666289788,0.6406890057757472,-0.7343690997457678,-1.1469319828890387,-3.5805232475388453,1.7333269996330503,-0.16988381138361097,0.053954263262173154,-1.5588014795073613,1.3637212251412825,0.6635556331193656,-0.9590459929753491,-0.18672923056468158,-0.04536186834589831,-0.986179375093094,0.3438924264706309,0.6693067098234198,-0.422152846774601,-0.82902191445765,0.6962418591367862,-0.9336714089215007,0.2771700521454067,-0.20530361172490166,-0.3870473361922757,0.04887067149170552,-0.5806307167987539,-0.06758041697691812,-0.9927284682004818,0.03569548773964057,0.6970934325532863,0.5200703942540074,-0.40308030657266836,0.26654996695149374,0.6133970024769643,0.7127654020511173,1.2338043037286743,0.6657650184138121,-1.0658224426141822,1.1329112648803752,0.4257779515125473,0.48174393345883953,-1.0064697749288969,0.8144570677497984,0.09904712954893766,-0.01667907684784322,-1.4899988133514555,-1.2307960774775202,1.5475895067518977,-0.6295026903629481,0.7470095780965724,-0.494454673834522,1.2715278291971563,0.8734646191239015,-0.21238519250933158,-1.0630629919021253,-0.01077421943135205,-1.0048395012750386],\"xaxis\":\"x8\",\"y\":[-0.22160750690840028,1.7158554903880332,-0.6237740459654896,1.7171818589480066,-0.1968115099154782,-0.9178801038802831,-0.8648477636664242,-0.26311475476438756,-0.3644265939925632,-0.9804658128967962,1.0326790474999514,-1.5535104837887026,-0.16460272611477467,1.4317841740173647,0.13868359918099005,-0.26283282569495164,1.4671591243018076,0.9928316600028886,1.798718933737595,-0.12194429267969392,-1.2135185401556021,-0.5676843906954775,0.5466472148108473,1.5064364433330995,0.2294216562379941,-0.45183094530211637,-0.5990162630544981,1.2093106738320492,-0.5115952740366038,-1.3389739304237893,-0.05705254876762868,0.18038672055746063,1.7979243126872604,-0.9180546332511316,0.00838642535099962,-0.7440498127142733,0.42076697337853947,-1.4875438989362184,0.25306783994077015,1.8824847563507707,-0.5169299902217411,0.2883651291147273,-0.8722294837074352,0.2519290622637881,-1.8324172801056757,0.37575977161583207,0.9443994946857267,0.24775429904167792,-0.8099720675420381,0.8227450644967887,0.21290770852438837,-0.4753072455838816,-0.3011324544818885,-0.003528999951231824,-0.19640311199830598,0.34129342746016,0.8817453262399159,-0.14964935915574884,0.6386867039194815,1.6888518942380055,-0.954599303308324,-1.3586802403670986,-0.805279213474311,0.6484073187263913,0.23471787263488347,1.573593064081298,1.4803498296832225,-0.6778894932880246,-2.7440090441649985,0.5807543021017987,-0.8878887797836558,1.3493372535410566,-1.1731712522803317,0.9009129011476739,0.9927017366728492,-1.1113954750547725,-0.3911079194019816,-0.5604947607506066,-0.5130962215220196,0.296256896974686,-0.1897579204290804,-0.19731011276449487,1.2797615737542352,-0.3117436598969686,2.2371515544398384,1.1906124852355693,0.2381106335734882,-0.6858170151367708,1.150058581328844,0.19314586783555093,-1.3262365216682042,0.22266823381194942,-1.1045743475961767,-1.0501370436953776,1.2875349619480438,-1.570363318967189,-0.5266463105521983,0.5167043413713699,0.3411124470341882,2.987140002245271],\"yaxis\":\"y8\",\"type\":\"scatter\"},{\"line\":{\"color\":\"rgba(128, 128, 128, 1.0)\",\"dash\":\"solid\",\"shape\":\"linear\",\"width\":1.3},\"marker\":{\"size\":2,\"symbol\":\"circle\"},\"mode\":\"markers\",\"name\":\"C\",\"text\":\"\",\"x\":[0.6446209978304961,0.4078221920136122,-0.2765872970204885,0.10456735638555388,0.08324133721186451,0.057440297633351456,-1.2171690355819085,-0.09196308817524182,-1.4384482006426815,-0.9066078684780878,-3.0647955779058393,-0.5927155310656024,1.583409055253283,0.234106386964043,1.2987088354934264,-0.07913794969622139,1.9820971873442788,0.5300957800919711,0.0561241346154549,0.015369674156755879,-1.2127715104199281,0.035053315533376254,0.7118746375710167,-0.1952185441372051,-0.7579919569364388,0.8382884169380316,-0.2523101224096548,0.6311895916493456,-1.4756247761832622,-1.9698270932740207,-1.3372120572711683,-0.0055887604966179906,-1.7516160926744089,0.543208412020896,0.707473240158141,0.6593860529630602,-0.966138313509074,1.2445708261621509,-1.0802389340212704,0.5086900141225315,0.06968362854003969,-0.6676088576024096,-0.6772597043552857,1.0685188366936331,-1.197023278836309,1.3296472778183843,-1.7352843284646196,-1.0582875565845407,1.0617180487815374,1.4540725943983606,0.5317907297889919,0.7420563485732212,-0.18793332995515025,-1.2305655757068716,-0.1772600412850589,-1.148239267934772,0.4037983500944594,0.9812475937057795,-0.4956402857253395,-0.28809363061450555,-0.6487072922681356,0.8481841770338829,-0.3114926773390753,0.3471058665605341,2.8359142899847587,-0.10683669988149225,0.7333023074176133,-0.9756817628998831,-1.4734885498421182,-0.8026545150142835,-0.9084824357349854,0.451034781575594,-0.14441496470423662,-1.9756483521255614,-0.5332455788412271,-0.63886776707257,-2.2713107658786433,-0.40268261110912806,-1.953505525568803,0.21002398901558625,0.5515111078971915,1.8137764486502015,-0.5238352930793719,-0.2822937597610257,0.41863932362537837,0.10282204212326963,2.0754089376632825,0.6972799565874593,1.1614656583668113,1.3623377423265945,0.10708896322825404,-0.35965989943947024,0.7454316477825902,-0.5002942850467338,0.3404751564352129,-0.7529900522556313,0.21081704514965283,1.753849340431904,0.8556437691539508,0.701648831151324],\"xaxis\":\"x9\",\"y\":[0.7012976858107476,0.13112876716322586,-0.6813970857853648,0.7626266599309006,1.8810574004548166,0.26033565690448307,0.4994790522032047,-0.5084750662647777,-0.5434176656881163,-2.4633927204653046,-0.6521249562522544,-0.14670782107135424,-0.3174865144850475,-1.0042400464938952,0.6658921866196987,0.19034364831626227,1.1553870061215892,-0.17220095106498723,-1.0537714587104434,0.500045590396657,-0.13451386173465865,-0.027892374212246027,1.4066424663771657,-0.6820547117786162,1.0939135918061562,1.079296940566886,0.010327137081296395,-0.9089530044668371,2.212218263471134,-0.02509365027062667,-0.07972747706023059,-0.011931537356809503,1.2590405432240899,-1.5154813110587153,-0.7681836657343759,0.07029045933967852,-0.6261877114432143,-0.29890390207145945,0.8076891914560079,-0.48900643341240624,-0.18229600927999168,1.2646900813903714,0.48761724025730246,-0.32419552319665174,-0.3195952241608016,-0.2141181762540822,-0.4732029597170572,2.065565663723758,-0.7236430797381805,-0.1879291151185566,1.9650445644037815,-2.647997803888273,0.0624412739324384,0.4214371683701604,0.32244681261181213,-1.1463309502872436,-0.4122642638641093,-0.1019974330153135,-0.42661888713341123,-0.2032627792764815,-2.076143637926378,-1.0133586709182414,0.5425889770145909,1.4972767985169795,1.3827028866954683,-0.9567475197195758,-1.6271696404774703,-0.04767927054525452,-0.3337362568629179,-2.5211967071004056,-0.7214255274482855,-1.6968238348366882,-0.8641714143407009,1.1314545083027825,-0.3464497033574137,-0.08399129750322462,-1.0997606369501673,1.6386602115224296,-0.24795699938403845,-0.8475456890457912,1.2632786197352313,-1.3752607005938815,-0.17727174377038782,-1.1141912635712727,0.9038545843165967,1.6682151489585701,-1.1539416875491058,0.26573596340025707,0.42537973515492217,-1.009847889051133,0.6854654840509039,-0.14944373300586317,1.5099303656959975,0.5367132482238024,0.5108694434056651,0.06396679098017176,0.4182402609127113,-0.45882135707575805,-0.6637807264473049,0.42826449790203475],\"yaxis\":\"y9\",\"type\":\"scatter\"},{\"line\":{\"color\":\"rgba(128, 128, 128, 1.0)\",\"dash\":\"solid\",\"shape\":\"linear\",\"width\":1.3},\"marker\":{\"size\":2,\"symbol\":\"circle\"},\"mode\":\"markers\",\"name\":\"C\",\"text\":\"\",\"x\":[-0.22160750690840028,1.7158554903880332,-0.6237740459654896,1.7171818589480066,-0.1968115099154782,-0.9178801038802831,-0.8648477636664242,-0.26311475476438756,-0.3644265939925632,-0.9804658128967962,1.0326790474999514,-1.5535104837887026,-0.16460272611477467,1.4317841740173647,0.13868359918099005,-0.26283282569495164,1.4671591243018076,0.9928316600028886,1.798718933737595,-0.12194429267969392,-1.2135185401556021,-0.5676843906954775,0.5466472148108473,1.5064364433330995,0.2294216562379941,-0.45183094530211637,-0.5990162630544981,1.2093106738320492,-0.5115952740366038,-1.3389739304237893,-0.05705254876762868,0.18038672055746063,1.7979243126872604,-0.9180546332511316,0.00838642535099962,-0.7440498127142733,0.42076697337853947,-1.4875438989362184,0.25306783994077015,1.8824847563507707,-0.5169299902217411,0.2883651291147273,-0.8722294837074352,0.2519290622637881,-1.8324172801056757,0.37575977161583207,0.9443994946857267,0.24775429904167792,-0.8099720675420381,0.8227450644967887,0.21290770852438837,-0.4753072455838816,-0.3011324544818885,-0.003528999951231824,-0.19640311199830598,0.34129342746016,0.8817453262399159,-0.14964935915574884,0.6386867039194815,1.6888518942380055,-0.954599303308324,-1.3586802403670986,-0.805279213474311,0.6484073187263913,0.23471787263488347,1.573593064081298,1.4803498296832225,-0.6778894932880246,-2.7440090441649985,0.5807543021017987,-0.8878887797836558,1.3493372535410566,-1.1731712522803317,0.9009129011476739,0.9927017366728492,-1.1113954750547725,-0.3911079194019816,-0.5604947607506066,-0.5130962215220196,0.296256896974686,-0.1897579204290804,-0.19731011276449487,1.2797615737542352,-0.3117436598969686,2.2371515544398384,1.1906124852355693,0.2381106335734882,-0.6858170151367708,1.150058581328844,0.19314586783555093,-1.3262365216682042,0.22266823381194942,-1.1045743475961767,-1.0501370436953776,1.2875349619480438,-1.570363318967189,-0.5266463105521983,0.5167043413713699,0.3411124470341882,2.987140002245271],\"xaxis\":\"x10\",\"y\":[0.7012976858107476,0.13112876716322586,-0.6813970857853648,0.7626266599309006,1.8810574004548166,0.26033565690448307,0.4994790522032047,-0.5084750662647777,-0.5434176656881163,-2.4633927204653046,-0.6521249562522544,-0.14670782107135424,-0.3174865144850475,-1.0042400464938952,0.6658921866196987,0.19034364831626227,1.1553870061215892,-0.17220095106498723,-1.0537714587104434,0.500045590396657,-0.13451386173465865,-0.027892374212246027,1.4066424663771657,-0.6820547117786162,1.0939135918061562,1.079296940566886,0.010327137081296395,-0.9089530044668371,2.212218263471134,-0.02509365027062667,-0.07972747706023059,-0.011931537356809503,1.2590405432240899,-1.5154813110587153,-0.7681836657343759,0.07029045933967852,-0.6261877114432143,-0.29890390207145945,0.8076891914560079,-0.48900643341240624,-0.18229600927999168,1.2646900813903714,0.48761724025730246,-0.32419552319665174,-0.3195952241608016,-0.2141181762540822,-0.4732029597170572,2.065565663723758,-0.7236430797381805,-0.1879291151185566,1.9650445644037815,-2.647997803888273,0.0624412739324384,0.4214371683701604,0.32244681261181213,-1.1463309502872436,-0.4122642638641093,-0.1019974330153135,-0.42661888713341123,-0.2032627792764815,-2.076143637926378,-1.0133586709182414,0.5425889770145909,1.4972767985169795,1.3827028866954683,-0.9567475197195758,-1.6271696404774703,-0.04767927054525452,-0.3337362568629179,-2.5211967071004056,-0.7214255274482855,-1.6968238348366882,-0.8641714143407009,1.1314545083027825,-0.3464497033574137,-0.08399129750322462,-1.0997606369501673,1.6386602115224296,-0.24795699938403845,-0.8475456890457912,1.2632786197352313,-1.3752607005938815,-0.17727174377038782,-1.1141912635712727,0.9038545843165967,1.6682151489585701,-1.1539416875491058,0.26573596340025707,0.42537973515492217,-1.009847889051133,0.6854654840509039,-0.14944373300586317,1.5099303656959975,0.5367132482238024,0.5108694434056651,0.06396679098017176,0.4182402609127113,-0.45882135707575805,-0.6637807264473049,0.42826449790203475],\"yaxis\":\"y10\",\"type\":\"scatter\"},{\"histfunc\":\"count\",\"histnorm\":\"\",\"marker\":{\"color\":\"rgba(50, 171, 96, 1.0)\",\"line\":{\"color\":\"#4D5663\",\"width\":1.3}},\"name\":\"C\",\"nbinsx\":10,\"opacity\":0.8,\"orientation\":\"v\",\"x\":[0.7012976858107476,0.13112876716322586,-0.6813970857853648,0.7626266599309006,1.8810574004548166,0.26033565690448307,0.4994790522032047,-0.5084750662647777,-0.5434176656881163,-2.4633927204653046,-0.6521249562522544,-0.14670782107135424,-0.3174865144850475,-1.0042400464938952,0.6658921866196987,0.19034364831626227,1.1553870061215892,-0.17220095106498723,-1.0537714587104434,0.500045590396657,-0.13451386173465865,-0.027892374212246027,1.4066424663771657,-0.6820547117786162,1.0939135918061562,1.079296940566886,0.010327137081296395,-0.9089530044668371,2.212218263471134,-0.02509365027062667,-0.07972747706023059,-0.011931537356809503,1.2590405432240899,-1.5154813110587153,-0.7681836657343759,0.07029045933967852,-0.6261877114432143,-0.29890390207145945,0.8076891914560079,-0.48900643341240624,-0.18229600927999168,1.2646900813903714,0.48761724025730246,-0.32419552319665174,-0.3195952241608016,-0.2141181762540822,-0.4732029597170572,2.065565663723758,-0.7236430797381805,-0.1879291151185566,1.9650445644037815,-2.647997803888273,0.0624412739324384,0.4214371683701604,0.32244681261181213,-1.1463309502872436,-0.4122642638641093,-0.1019974330153135,-0.42661888713341123,-0.2032627792764815,-2.076143637926378,-1.0133586709182414,0.5425889770145909,1.4972767985169795,1.3827028866954683,-0.9567475197195758,-1.6271696404774703,-0.04767927054525452,-0.3337362568629179,-2.5211967071004056,-0.7214255274482855,-1.6968238348366882,-0.8641714143407009,1.1314545083027825,-0.3464497033574137,-0.08399129750322462,-1.0997606369501673,1.6386602115224296,-0.24795699938403845,-0.8475456890457912,1.2632786197352313,-1.3752607005938815,-0.17727174377038782,-1.1141912635712727,0.9038545843165967,1.6682151489585701,-1.1539416875491058,0.26573596340025707,0.42537973515492217,-1.009847889051133,0.6854654840509039,-0.14944373300586317,1.5099303656959975,0.5367132482238024,0.5108694434056651,0.06396679098017176,0.4182402609127113,-0.45882135707575805,-0.6637807264473049,0.42826449790203475],\"xaxis\":\"x11\",\"yaxis\":\"y11\",\"type\":\"histogram\"},{\"line\":{\"color\":\"rgba(128, 128, 128, 1.0)\",\"dash\":\"solid\",\"shape\":\"linear\",\"width\":1.3},\"marker\":{\"size\":2,\"symbol\":\"circle\"},\"mode\":\"markers\",\"name\":\"C\",\"text\":\"\",\"x\":[0.7710685342518336,-0.08673281835562326,-0.9292275667399005,-0.08722718385502183,-1.8354093130966138,-2.3669215228779104,1.0162186933207766,-1.051591957466034,1.311789236964196,1.2835110909421699,-0.18647269648908388,-1.9897111315816265,-0.188104262986079,-0.40678348264882264,-0.2081853041598393,-1.0675398634804543,0.15879813814960225,-0.9335573209804557,-1.1794506269311265,-0.5086145798998463,0.19250525161798482,1.2816815797315007,0.5456407114917887,2.174008157133585,0.9716299509781058,1.4476394585223482,0.8031719567415391,0.6338801065749562,-1.3396047068103658,0.26898247138012976,0.06953687683686048,-0.782279081821717,0.8152780357039893,-0.5821296951628023,-0.08306425552288532,-1.2125532805221355,-0.01998873872392119,-1.7947383874599883,0.3722827373475316,0.34592233613599366,0.4469249252617456,0.9376267695284086,1.0977292764220554,0.90152666289788,0.6406890057757472,-0.7343690997457678,-1.1469319828890387,-3.5805232475388453,1.7333269996330503,-0.16988381138361097,0.053954263262173154,-1.5588014795073613,1.3637212251412825,0.6635556331193656,-0.9590459929753491,-0.18672923056468158,-0.04536186834589831,-0.986179375093094,0.3438924264706309,0.6693067098234198,-0.422152846774601,-0.82902191445765,0.6962418591367862,-0.9336714089215007,0.2771700521454067,-0.20530361172490166,-0.3870473361922757,0.04887067149170552,-0.5806307167987539,-0.06758041697691812,-0.9927284682004818,0.03569548773964057,0.6970934325532863,0.5200703942540074,-0.40308030657266836,0.26654996695149374,0.6133970024769643,0.7127654020511173,1.2338043037286743,0.6657650184138121,-1.0658224426141822,1.1329112648803752,0.4257779515125473,0.48174393345883953,-1.0064697749288969,0.8144570677497984,0.09904712954893766,-0.01667907684784322,-1.4899988133514555,-1.2307960774775202,1.5475895067518977,-0.6295026903629481,0.7470095780965724,-0.494454673834522,1.2715278291971563,0.8734646191239015,-0.21238519250933158,-1.0630629919021253,-0.01077421943135205,-1.0048395012750386],\"xaxis\":\"x12\",\"y\":[0.7012976858107476,0.13112876716322586,-0.6813970857853648,0.7626266599309006,1.8810574004548166,0.26033565690448307,0.4994790522032047,-0.5084750662647777,-0.5434176656881163,-2.4633927204653046,-0.6521249562522544,-0.14670782107135424,-0.3174865144850475,-1.0042400464938952,0.6658921866196987,0.19034364831626227,1.1553870061215892,-0.17220095106498723,-1.0537714587104434,0.500045590396657,-0.13451386173465865,-0.027892374212246027,1.4066424663771657,-0.6820547117786162,1.0939135918061562,1.079296940566886,0.010327137081296395,-0.9089530044668371,2.212218263471134,-0.02509365027062667,-0.07972747706023059,-0.011931537356809503,1.2590405432240899,-1.5154813110587153,-0.7681836657343759,0.07029045933967852,-0.6261877114432143,-0.29890390207145945,0.8076891914560079,-0.48900643341240624,-0.18229600927999168,1.2646900813903714,0.48761724025730246,-0.32419552319665174,-0.3195952241608016,-0.2141181762540822,-0.4732029597170572,2.065565663723758,-0.7236430797381805,-0.1879291151185566,1.9650445644037815,-2.647997803888273,0.0624412739324384,0.4214371683701604,0.32244681261181213,-1.1463309502872436,-0.4122642638641093,-0.1019974330153135,-0.42661888713341123,-0.2032627792764815,-2.076143637926378,-1.0133586709182414,0.5425889770145909,1.4972767985169795,1.3827028866954683,-0.9567475197195758,-1.6271696404774703,-0.04767927054525452,-0.3337362568629179,-2.5211967071004056,-0.7214255274482855,-1.6968238348366882,-0.8641714143407009,1.1314545083027825,-0.3464497033574137,-0.08399129750322462,-1.0997606369501673,1.6386602115224296,-0.24795699938403845,-0.8475456890457912,1.2632786197352313,-1.3752607005938815,-0.17727174377038782,-1.1141912635712727,0.9038545843165967,1.6682151489585701,-1.1539416875491058,0.26573596340025707,0.42537973515492217,-1.009847889051133,0.6854654840509039,-0.14944373300586317,1.5099303656959975,0.5367132482238024,0.5108694434056651,0.06396679098017176,0.4182402609127113,-0.45882135707575805,-0.6637807264473049,0.42826449790203475],\"yaxis\":\"y12\",\"type\":\"scatter\"},{\"line\":{\"color\":\"rgba(128, 128, 128, 1.0)\",\"dash\":\"solid\",\"shape\":\"linear\",\"width\":1.3},\"marker\":{\"size\":2,\"symbol\":\"circle\"},\"mode\":\"markers\",\"name\":\"D\",\"text\":\"\",\"x\":[0.6446209978304961,0.4078221920136122,-0.2765872970204885,0.10456735638555388,0.08324133721186451,0.057440297633351456,-1.2171690355819085,-0.09196308817524182,-1.4384482006426815,-0.9066078684780878,-3.0647955779058393,-0.5927155310656024,1.583409055253283,0.234106386964043,1.2987088354934264,-0.07913794969622139,1.9820971873442788,0.5300957800919711,0.0561241346154549,0.015369674156755879,-1.2127715104199281,0.035053315533376254,0.7118746375710167,-0.1952185441372051,-0.7579919569364388,0.8382884169380316,-0.2523101224096548,0.6311895916493456,-1.4756247761832622,-1.9698270932740207,-1.3372120572711683,-0.0055887604966179906,-1.7516160926744089,0.543208412020896,0.707473240158141,0.6593860529630602,-0.966138313509074,1.2445708261621509,-1.0802389340212704,0.5086900141225315,0.06968362854003969,-0.6676088576024096,-0.6772597043552857,1.0685188366936331,-1.197023278836309,1.3296472778183843,-1.7352843284646196,-1.0582875565845407,1.0617180487815374,1.4540725943983606,0.5317907297889919,0.7420563485732212,-0.18793332995515025,-1.2305655757068716,-0.1772600412850589,-1.148239267934772,0.4037983500944594,0.9812475937057795,-0.4956402857253395,-0.28809363061450555,-0.6487072922681356,0.8481841770338829,-0.3114926773390753,0.3471058665605341,2.8359142899847587,-0.10683669988149225,0.7333023074176133,-0.9756817628998831,-1.4734885498421182,-0.8026545150142835,-0.9084824357349854,0.451034781575594,-0.14441496470423662,-1.9756483521255614,-0.5332455788412271,-0.63886776707257,-2.2713107658786433,-0.40268261110912806,-1.953505525568803,0.21002398901558625,0.5515111078971915,1.8137764486502015,-0.5238352930793719,-0.2822937597610257,0.41863932362537837,0.10282204212326963,2.0754089376632825,0.6972799565874593,1.1614656583668113,1.3623377423265945,0.10708896322825404,-0.35965989943947024,0.7454316477825902,-0.5002942850467338,0.3404751564352129,-0.7529900522556313,0.21081704514965283,1.753849340431904,0.8556437691539508,0.701648831151324],\"xaxis\":\"x13\",\"y\":[0.7710685342518336,-0.08673281835562326,-0.9292275667399005,-0.08722718385502183,-1.8354093130966138,-2.3669215228779104,1.0162186933207766,-1.051591957466034,1.311789236964196,1.2835110909421699,-0.18647269648908388,-1.9897111315816265,-0.188104262986079,-0.40678348264882264,-0.2081853041598393,-1.0675398634804543,0.15879813814960225,-0.9335573209804557,-1.1794506269311265,-0.5086145798998463,0.19250525161798482,1.2816815797315007,0.5456407114917887,2.174008157133585,0.9716299509781058,1.4476394585223482,0.8031719567415391,0.6338801065749562,-1.3396047068103658,0.26898247138012976,0.06953687683686048,-0.782279081821717,0.8152780357039893,-0.5821296951628023,-0.08306425552288532,-1.2125532805221355,-0.01998873872392119,-1.7947383874599883,0.3722827373475316,0.34592233613599366,0.4469249252617456,0.9376267695284086,1.0977292764220554,0.90152666289788,0.6406890057757472,-0.7343690997457678,-1.1469319828890387,-3.5805232475388453,1.7333269996330503,-0.16988381138361097,0.053954263262173154,-1.5588014795073613,1.3637212251412825,0.6635556331193656,-0.9590459929753491,-0.18672923056468158,-0.04536186834589831,-0.986179375093094,0.3438924264706309,0.6693067098234198,-0.422152846774601,-0.82902191445765,0.6962418591367862,-0.9336714089215007,0.2771700521454067,-0.20530361172490166,-0.3870473361922757,0.04887067149170552,-0.5806307167987539,-0.06758041697691812,-0.9927284682004818,0.03569548773964057,0.6970934325532863,0.5200703942540074,-0.40308030657266836,0.26654996695149374,0.6133970024769643,0.7127654020511173,1.2338043037286743,0.6657650184138121,-1.0658224426141822,1.1329112648803752,0.4257779515125473,0.48174393345883953,-1.0064697749288969,0.8144570677497984,0.09904712954893766,-0.01667907684784322,-1.4899988133514555,-1.2307960774775202,1.5475895067518977,-0.6295026903629481,0.7470095780965724,-0.494454673834522,1.2715278291971563,0.8734646191239015,-0.21238519250933158,-1.0630629919021253,-0.01077421943135205,-1.0048395012750386],\"yaxis\":\"y13\",\"type\":\"scatter\"},{\"line\":{\"color\":\"rgba(128, 128, 128, 1.0)\",\"dash\":\"solid\",\"shape\":\"linear\",\"width\":1.3},\"marker\":{\"size\":2,\"symbol\":\"circle\"},\"mode\":\"markers\",\"name\":\"D\",\"text\":\"\",\"x\":[-0.22160750690840028,1.7158554903880332,-0.6237740459654896,1.7171818589480066,-0.1968115099154782,-0.9178801038802831,-0.8648477636664242,-0.26311475476438756,-0.3644265939925632,-0.9804658128967962,1.0326790474999514,-1.5535104837887026,-0.16460272611477467,1.4317841740173647,0.13868359918099005,-0.26283282569495164,1.4671591243018076,0.9928316600028886,1.798718933737595,-0.12194429267969392,-1.2135185401556021,-0.5676843906954775,0.5466472148108473,1.5064364433330995,0.2294216562379941,-0.45183094530211637,-0.5990162630544981,1.2093106738320492,-0.5115952740366038,-1.3389739304237893,-0.05705254876762868,0.18038672055746063,1.7979243126872604,-0.9180546332511316,0.00838642535099962,-0.7440498127142733,0.42076697337853947,-1.4875438989362184,0.25306783994077015,1.8824847563507707,-0.5169299902217411,0.2883651291147273,-0.8722294837074352,0.2519290622637881,-1.8324172801056757,0.37575977161583207,0.9443994946857267,0.24775429904167792,-0.8099720675420381,0.8227450644967887,0.21290770852438837,-0.4753072455838816,-0.3011324544818885,-0.003528999951231824,-0.19640311199830598,0.34129342746016,0.8817453262399159,-0.14964935915574884,0.6386867039194815,1.6888518942380055,-0.954599303308324,-1.3586802403670986,-0.805279213474311,0.6484073187263913,0.23471787263488347,1.573593064081298,1.4803498296832225,-0.6778894932880246,-2.7440090441649985,0.5807543021017987,-0.8878887797836558,1.3493372535410566,-1.1731712522803317,0.9009129011476739,0.9927017366728492,-1.1113954750547725,-0.3911079194019816,-0.5604947607506066,-0.5130962215220196,0.296256896974686,-0.1897579204290804,-0.19731011276449487,1.2797615737542352,-0.3117436598969686,2.2371515544398384,1.1906124852355693,0.2381106335734882,-0.6858170151367708,1.150058581328844,0.19314586783555093,-1.3262365216682042,0.22266823381194942,-1.1045743475961767,-1.0501370436953776,1.2875349619480438,-1.570363318967189,-0.5266463105521983,0.5167043413713699,0.3411124470341882,2.987140002245271],\"xaxis\":\"x14\",\"y\":[0.7710685342518336,-0.08673281835562326,-0.9292275667399005,-0.08722718385502183,-1.8354093130966138,-2.3669215228779104,1.0162186933207766,-1.051591957466034,1.311789236964196,1.2835110909421699,-0.18647269648908388,-1.9897111315816265,-0.188104262986079,-0.40678348264882264,-0.2081853041598393,-1.0675398634804543,0.15879813814960225,-0.9335573209804557,-1.1794506269311265,-0.5086145798998463,0.19250525161798482,1.2816815797315007,0.5456407114917887,2.174008157133585,0.9716299509781058,1.4476394585223482,0.8031719567415391,0.6338801065749562,-1.3396047068103658,0.26898247138012976,0.06953687683686048,-0.782279081821717,0.8152780357039893,-0.5821296951628023,-0.08306425552288532,-1.2125532805221355,-0.01998873872392119,-1.7947383874599883,0.3722827373475316,0.34592233613599366,0.4469249252617456,0.9376267695284086,1.0977292764220554,0.90152666289788,0.6406890057757472,-0.7343690997457678,-1.1469319828890387,-3.5805232475388453,1.7333269996330503,-0.16988381138361097,0.053954263262173154,-1.5588014795073613,1.3637212251412825,0.6635556331193656,-0.9590459929753491,-0.18672923056468158,-0.04536186834589831,-0.986179375093094,0.3438924264706309,0.6693067098234198,-0.422152846774601,-0.82902191445765,0.6962418591367862,-0.9336714089215007,0.2771700521454067,-0.20530361172490166,-0.3870473361922757,0.04887067149170552,-0.5806307167987539,-0.06758041697691812,-0.9927284682004818,0.03569548773964057,0.6970934325532863,0.5200703942540074,-0.40308030657266836,0.26654996695149374,0.6133970024769643,0.7127654020511173,1.2338043037286743,0.6657650184138121,-1.0658224426141822,1.1329112648803752,0.4257779515125473,0.48174393345883953,-1.0064697749288969,0.8144570677497984,0.09904712954893766,-0.01667907684784322,-1.4899988133514555,-1.2307960774775202,1.5475895067518977,-0.6295026903629481,0.7470095780965724,-0.494454673834522,1.2715278291971563,0.8734646191239015,-0.21238519250933158,-1.0630629919021253,-0.01077421943135205,-1.0048395012750386],\"yaxis\":\"y14\",\"type\":\"scatter\"},{\"line\":{\"color\":\"rgba(128, 128, 128, 1.0)\",\"dash\":\"solid\",\"shape\":\"linear\",\"width\":1.3},\"marker\":{\"size\":2,\"symbol\":\"circle\"},\"mode\":\"markers\",\"name\":\"D\",\"text\":\"\",\"x\":[0.7012976858107476,0.13112876716322586,-0.6813970857853648,0.7626266599309006,1.8810574004548166,0.26033565690448307,0.4994790522032047,-0.5084750662647777,-0.5434176656881163,-2.4633927204653046,-0.6521249562522544,-0.14670782107135424,-0.3174865144850475,-1.0042400464938952,0.6658921866196987,0.19034364831626227,1.1553870061215892,-0.17220095106498723,-1.0537714587104434,0.500045590396657,-0.13451386173465865,-0.027892374212246027,1.4066424663771657,-0.6820547117786162,1.0939135918061562,1.079296940566886,0.010327137081296395,-0.9089530044668371,2.212218263471134,-0.02509365027062667,-0.07972747706023059,-0.011931537356809503,1.2590405432240899,-1.5154813110587153,-0.7681836657343759,0.07029045933967852,-0.6261877114432143,-0.29890390207145945,0.8076891914560079,-0.48900643341240624,-0.18229600927999168,1.2646900813903714,0.48761724025730246,-0.32419552319665174,-0.3195952241608016,-0.2141181762540822,-0.4732029597170572,2.065565663723758,-0.7236430797381805,-0.1879291151185566,1.9650445644037815,-2.647997803888273,0.0624412739324384,0.4214371683701604,0.32244681261181213,-1.1463309502872436,-0.4122642638641093,-0.1019974330153135,-0.42661888713341123,-0.2032627792764815,-2.076143637926378,-1.0133586709182414,0.5425889770145909,1.4972767985169795,1.3827028866954683,-0.9567475197195758,-1.6271696404774703,-0.04767927054525452,-0.3337362568629179,-2.5211967071004056,-0.7214255274482855,-1.6968238348366882,-0.8641714143407009,1.1314545083027825,-0.3464497033574137,-0.08399129750322462,-1.0997606369501673,1.6386602115224296,-0.24795699938403845,-0.8475456890457912,1.2632786197352313,-1.3752607005938815,-0.17727174377038782,-1.1141912635712727,0.9038545843165967,1.6682151489585701,-1.1539416875491058,0.26573596340025707,0.42537973515492217,-1.009847889051133,0.6854654840509039,-0.14944373300586317,1.5099303656959975,0.5367132482238024,0.5108694434056651,0.06396679098017176,0.4182402609127113,-0.45882135707575805,-0.6637807264473049,0.42826449790203475],\"xaxis\":\"x15\",\"y\":[0.7710685342518336,-0.08673281835562326,-0.9292275667399005,-0.08722718385502183,-1.8354093130966138,-2.3669215228779104,1.0162186933207766,-1.051591957466034,1.311789236964196,1.2835110909421699,-0.18647269648908388,-1.9897111315816265,-0.188104262986079,-0.40678348264882264,-0.2081853041598393,-1.0675398634804543,0.15879813814960225,-0.9335573209804557,-1.1794506269311265,-0.5086145798998463,0.19250525161798482,1.2816815797315007,0.5456407114917887,2.174008157133585,0.9716299509781058,1.4476394585223482,0.8031719567415391,0.6338801065749562,-1.3396047068103658,0.26898247138012976,0.06953687683686048,-0.782279081821717,0.8152780357039893,-0.5821296951628023,-0.08306425552288532,-1.2125532805221355,-0.01998873872392119,-1.7947383874599883,0.3722827373475316,0.34592233613599366,0.4469249252617456,0.9376267695284086,1.0977292764220554,0.90152666289788,0.6406890057757472,-0.7343690997457678,-1.1469319828890387,-3.5805232475388453,1.7333269996330503,-0.16988381138361097,0.053954263262173154,-1.5588014795073613,1.3637212251412825,0.6635556331193656,-0.9590459929753491,-0.18672923056468158,-0.04536186834589831,-0.986179375093094,0.3438924264706309,0.6693067098234198,-0.422152846774601,-0.82902191445765,0.6962418591367862,-0.9336714089215007,0.2771700521454067,-0.20530361172490166,-0.3870473361922757,0.04887067149170552,-0.5806307167987539,-0.06758041697691812,-0.9927284682004818,0.03569548773964057,0.6970934325532863,0.5200703942540074,-0.40308030657266836,0.26654996695149374,0.6133970024769643,0.7127654020511173,1.2338043037286743,0.6657650184138121,-1.0658224426141822,1.1329112648803752,0.4257779515125473,0.48174393345883953,-1.0064697749288969,0.8144570677497984,0.09904712954893766,-0.01667907684784322,-1.4899988133514555,-1.2307960774775202,1.5475895067518977,-0.6295026903629481,0.7470095780965724,-0.494454673834522,1.2715278291971563,0.8734646191239015,-0.21238519250933158,-1.0630629919021253,-0.01077421943135205,-1.0048395012750386],\"yaxis\":\"y15\",\"type\":\"scatter\"},{\"histfunc\":\"count\",\"histnorm\":\"\",\"marker\":{\"color\":\"rgba(128, 0, 128, 1.0)\",\"line\":{\"color\":\"#4D5663\",\"width\":1.3}},\"name\":\"D\",\"nbinsx\":10,\"opacity\":0.8,\"orientation\":\"v\",\"x\":[0.7710685342518336,-0.08673281835562326,-0.9292275667399005,-0.08722718385502183,-1.8354093130966138,-2.3669215228779104,1.0162186933207766,-1.051591957466034,1.311789236964196,1.2835110909421699,-0.18647269648908388,-1.9897111315816265,-0.188104262986079,-0.40678348264882264,-0.2081853041598393,-1.0675398634804543,0.15879813814960225,-0.9335573209804557,-1.1794506269311265,-0.5086145798998463,0.19250525161798482,1.2816815797315007,0.5456407114917887,2.174008157133585,0.9716299509781058,1.4476394585223482,0.8031719567415391,0.6338801065749562,-1.3396047068103658,0.26898247138012976,0.06953687683686048,-0.782279081821717,0.8152780357039893,-0.5821296951628023,-0.08306425552288532,-1.2125532805221355,-0.01998873872392119,-1.7947383874599883,0.3722827373475316,0.34592233613599366,0.4469249252617456,0.9376267695284086,1.0977292764220554,0.90152666289788,0.6406890057757472,-0.7343690997457678,-1.1469319828890387,-3.5805232475388453,1.7333269996330503,-0.16988381138361097,0.053954263262173154,-1.5588014795073613,1.3637212251412825,0.6635556331193656,-0.9590459929753491,-0.18672923056468158,-0.04536186834589831,-0.986179375093094,0.3438924264706309,0.6693067098234198,-0.422152846774601,-0.82902191445765,0.6962418591367862,-0.9336714089215007,0.2771700521454067,-0.20530361172490166,-0.3870473361922757,0.04887067149170552,-0.5806307167987539,-0.06758041697691812,-0.9927284682004818,0.03569548773964057,0.6970934325532863,0.5200703942540074,-0.40308030657266836,0.26654996695149374,0.6133970024769643,0.7127654020511173,1.2338043037286743,0.6657650184138121,-1.0658224426141822,1.1329112648803752,0.4257779515125473,0.48174393345883953,-1.0064697749288969,0.8144570677497984,0.09904712954893766,-0.01667907684784322,-1.4899988133514555,-1.2307960774775202,1.5475895067518977,-0.6295026903629481,0.7470095780965724,-0.494454673834522,1.2715278291971563,0.8734646191239015,-0.21238519250933158,-1.0630629919021253,-0.01077421943135205,-1.0048395012750386],\"xaxis\":\"x16\",\"yaxis\":\"y16\",\"type\":\"histogram\"}],                        {\"bargap\":0.02,\"legend\":{\"bgcolor\":\"#F5F6F9\",\"font\":{\"color\":\"#4D5663\"}},\"paper_bgcolor\":\"#F5F6F9\",\"plot_bgcolor\":\"#F5F6F9\",\"showlegend\":false,\"template\":{\"data\":{\"barpolar\":[{\"marker\":{\"line\":{\"color\":\"#E5ECF6\",\"width\":0.5},\"pattern\":{\"fillmode\":\"overlay\",\"size\":10,\"solidity\":0.2}},\"type\":\"barpolar\"}],\"bar\":[{\"error_x\":{\"color\":\"#2a3f5f\"},\"error_y\":{\"color\":\"#2a3f5f\"},\"marker\":{\"line\":{\"color\":\"#E5ECF6\",\"width\":0.5},\"pattern\":{\"fillmode\":\"overlay\",\"size\":10,\"solidity\":0.2}},\"type\":\"bar\"}],\"carpet\":[{\"aaxis\":{\"endlinecolor\":\"#2a3f5f\",\"gridcolor\":\"white\",\"linecolor\":\"white\",\"minorgridcolor\":\"white\",\"startlinecolor\":\"#2a3f5f\"},\"baxis\":{\"endlinecolor\":\"#2a3f5f\",\"gridcolor\":\"white\",\"linecolor\":\"white\",\"minorgridcolor\":\"white\",\"startlinecolor\":\"#2a3f5f\"},\"type\":\"carpet\"}],\"choropleth\":[{\"colorbar\":{\"outlinewidth\":0,\"ticks\":\"\"},\"type\":\"choropleth\"}],\"contourcarpet\":[{\"colorbar\":{\"outlinewidth\":0,\"ticks\":\"\"},\"type\":\"contourcarpet\"}],\"contour\":[{\"colorbar\":{\"outlinewidth\":0,\"ticks\":\"\"},\"colorscale\":[[0.0,\"#0d0887\"],[0.1111111111111111,\"#46039f\"],[0.2222222222222222,\"#7201a8\"],[0.3333333333333333,\"#9c179e\"],[0.4444444444444444,\"#bd3786\"],[0.5555555555555556,\"#d8576b\"],[0.6666666666666666,\"#ed7953\"],[0.7777777777777778,\"#fb9f3a\"],[0.8888888888888888,\"#fdca26\"],[1.0,\"#f0f921\"]],\"type\":\"contour\"}],\"heatmapgl\":[{\"colorbar\":{\"outlinewidth\":0,\"ticks\":\"\"},\"colorscale\":[[0.0,\"#0d0887\"],[0.1111111111111111,\"#46039f\"],[0.2222222222222222,\"#7201a8\"],[0.3333333333333333,\"#9c179e\"],[0.4444444444444444,\"#bd3786\"],[0.5555555555555556,\"#d8576b\"],[0.6666666666666666,\"#ed7953\"],[0.7777777777777778,\"#fb9f3a\"],[0.8888888888888888,\"#fdca26\"],[1.0,\"#f0f921\"]],\"type\":\"heatmapgl\"}],\"heatmap\":[{\"colorbar\":{\"outlinewidth\":0,\"ticks\":\"\"},\"colorscale\":[[0.0,\"#0d0887\"],[0.1111111111111111,\"#46039f\"],[0.2222222222222222,\"#7201a8\"],[0.3333333333333333,\"#9c179e\"],[0.4444444444444444,\"#bd3786\"],[0.5555555555555556,\"#d8576b\"],[0.6666666666666666,\"#ed7953\"],[0.7777777777777778,\"#fb9f3a\"],[0.8888888888888888,\"#fdca26\"],[1.0,\"#f0f921\"]],\"type\":\"heatmap\"}],\"histogram2dcontour\":[{\"colorbar\":{\"outlinewidth\":0,\"ticks\":\"\"},\"colorscale\":[[0.0,\"#0d0887\"],[0.1111111111111111,\"#46039f\"],[0.2222222222222222,\"#7201a8\"],[0.3333333333333333,\"#9c179e\"],[0.4444444444444444,\"#bd3786\"],[0.5555555555555556,\"#d8576b\"],[0.6666666666666666,\"#ed7953\"],[0.7777777777777778,\"#fb9f3a\"],[0.8888888888888888,\"#fdca26\"],[1.0,\"#f0f921\"]],\"type\":\"histogram2dcontour\"}],\"histogram2d\":[{\"colorbar\":{\"outlinewidth\":0,\"ticks\":\"\"},\"colorscale\":[[0.0,\"#0d0887\"],[0.1111111111111111,\"#46039f\"],[0.2222222222222222,\"#7201a8\"],[0.3333333333333333,\"#9c179e\"],[0.4444444444444444,\"#bd3786\"],[0.5555555555555556,\"#d8576b\"],[0.6666666666666666,\"#ed7953\"],[0.7777777777777778,\"#fb9f3a\"],[0.8888888888888888,\"#fdca26\"],[1.0,\"#f0f921\"]],\"type\":\"histogram2d\"}],\"histogram\":[{\"marker\":{\"pattern\":{\"fillmode\":\"overlay\",\"size\":10,\"solidity\":0.2}},\"type\":\"histogram\"}],\"mesh3d\":[{\"colorbar\":{\"outlinewidth\":0,\"ticks\":\"\"},\"type\":\"mesh3d\"}],\"parcoords\":[{\"line\":{\"colorbar\":{\"outlinewidth\":0,\"ticks\":\"\"}},\"type\":\"parcoords\"}],\"pie\":[{\"automargin\":true,\"type\":\"pie\"}],\"scatter3d\":[{\"line\":{\"colorbar\":{\"outlinewidth\":0,\"ticks\":\"\"}},\"marker\":{\"colorbar\":{\"outlinewidth\":0,\"ticks\":\"\"}},\"type\":\"scatter3d\"}],\"scattercarpet\":[{\"marker\":{\"colorbar\":{\"outlinewidth\":0,\"ticks\":\"\"}},\"type\":\"scattercarpet\"}],\"scattergeo\":[{\"marker\":{\"colorbar\":{\"outlinewidth\":0,\"ticks\":\"\"}},\"type\":\"scattergeo\"}],\"scattergl\":[{\"marker\":{\"colorbar\":{\"outlinewidth\":0,\"ticks\":\"\"}},\"type\":\"scattergl\"}],\"scattermapbox\":[{\"marker\":{\"colorbar\":{\"outlinewidth\":0,\"ticks\":\"\"}},\"type\":\"scattermapbox\"}],\"scatterpolargl\":[{\"marker\":{\"colorbar\":{\"outlinewidth\":0,\"ticks\":\"\"}},\"type\":\"scatterpolargl\"}],\"scatterpolar\":[{\"marker\":{\"colorbar\":{\"outlinewidth\":0,\"ticks\":\"\"}},\"type\":\"scatterpolar\"}],\"scatter\":[{\"fillpattern\":{\"fillmode\":\"overlay\",\"size\":10,\"solidity\":0.2},\"type\":\"scatter\"}],\"scatterternary\":[{\"marker\":{\"colorbar\":{\"outlinewidth\":0,\"ticks\":\"\"}},\"type\":\"scatterternary\"}],\"surface\":[{\"colorbar\":{\"outlinewidth\":0,\"ticks\":\"\"},\"colorscale\":[[0.0,\"#0d0887\"],[0.1111111111111111,\"#46039f\"],[0.2222222222222222,\"#7201a8\"],[0.3333333333333333,\"#9c179e\"],[0.4444444444444444,\"#bd3786\"],[0.5555555555555556,\"#d8576b\"],[0.6666666666666666,\"#ed7953\"],[0.7777777777777778,\"#fb9f3a\"],[0.8888888888888888,\"#fdca26\"],[1.0,\"#f0f921\"]],\"type\":\"surface\"}],\"table\":[{\"cells\":{\"fill\":{\"color\":\"#EBF0F8\"},\"line\":{\"color\":\"white\"}},\"header\":{\"fill\":{\"color\":\"#C8D4E3\"},\"line\":{\"color\":\"white\"}},\"type\":\"table\"}]},\"layout\":{\"annotationdefaults\":{\"arrowcolor\":\"#2a3f5f\",\"arrowhead\":0,\"arrowwidth\":1},\"autotypenumbers\":\"strict\",\"coloraxis\":{\"colorbar\":{\"outlinewidth\":0,\"ticks\":\"\"}},\"colorscale\":{\"diverging\":[[0,\"#8e0152\"],[0.1,\"#c51b7d\"],[0.2,\"#de77ae\"],[0.3,\"#f1b6da\"],[0.4,\"#fde0ef\"],[0.5,\"#f7f7f7\"],[0.6,\"#e6f5d0\"],[0.7,\"#b8e186\"],[0.8,\"#7fbc41\"],[0.9,\"#4d9221\"],[1,\"#276419\"]],\"sequential\":[[0.0,\"#0d0887\"],[0.1111111111111111,\"#46039f\"],[0.2222222222222222,\"#7201a8\"],[0.3333333333333333,\"#9c179e\"],[0.4444444444444444,\"#bd3786\"],[0.5555555555555556,\"#d8576b\"],[0.6666666666666666,\"#ed7953\"],[0.7777777777777778,\"#fb9f3a\"],[0.8888888888888888,\"#fdca26\"],[1.0,\"#f0f921\"]],\"sequentialminus\":[[0.0,\"#0d0887\"],[0.1111111111111111,\"#46039f\"],[0.2222222222222222,\"#7201a8\"],[0.3333333333333333,\"#9c179e\"],[0.4444444444444444,\"#bd3786\"],[0.5555555555555556,\"#d8576b\"],[0.6666666666666666,\"#ed7953\"],[0.7777777777777778,\"#fb9f3a\"],[0.8888888888888888,\"#fdca26\"],[1.0,\"#f0f921\"]]},\"colorway\":[\"#636efa\",\"#EF553B\",\"#00cc96\",\"#ab63fa\",\"#FFA15A\",\"#19d3f3\",\"#FF6692\",\"#B6E880\",\"#FF97FF\",\"#FECB52\"],\"font\":{\"color\":\"#2a3f5f\"},\"geo\":{\"bgcolor\":\"white\",\"lakecolor\":\"white\",\"landcolor\":\"#E5ECF6\",\"showlakes\":true,\"showland\":true,\"subunitcolor\":\"white\"},\"hoverlabel\":{\"align\":\"left\"},\"hovermode\":\"closest\",\"mapbox\":{\"style\":\"light\"},\"paper_bgcolor\":\"white\",\"plot_bgcolor\":\"#E5ECF6\",\"polar\":{\"angularaxis\":{\"gridcolor\":\"white\",\"linecolor\":\"white\",\"ticks\":\"\"},\"bgcolor\":\"#E5ECF6\",\"radialaxis\":{\"gridcolor\":\"white\",\"linecolor\":\"white\",\"ticks\":\"\"}},\"scene\":{\"xaxis\":{\"backgroundcolor\":\"#E5ECF6\",\"gridcolor\":\"white\",\"gridwidth\":2,\"linecolor\":\"white\",\"showbackground\":true,\"ticks\":\"\",\"zerolinecolor\":\"white\"},\"yaxis\":{\"backgroundcolor\":\"#E5ECF6\",\"gridcolor\":\"white\",\"gridwidth\":2,\"linecolor\":\"white\",\"showbackground\":true,\"ticks\":\"\",\"zerolinecolor\":\"white\"},\"zaxis\":{\"backgroundcolor\":\"#E5ECF6\",\"gridcolor\":\"white\",\"gridwidth\":2,\"linecolor\":\"white\",\"showbackground\":true,\"ticks\":\"\",\"zerolinecolor\":\"white\"}},\"shapedefaults\":{\"line\":{\"color\":\"#2a3f5f\"}},\"ternary\":{\"aaxis\":{\"gridcolor\":\"white\",\"linecolor\":\"white\",\"ticks\":\"\"},\"baxis\":{\"gridcolor\":\"white\",\"linecolor\":\"white\",\"ticks\":\"\"},\"bgcolor\":\"#E5ECF6\",\"caxis\":{\"gridcolor\":\"white\",\"linecolor\":\"white\",\"ticks\":\"\"}},\"title\":{\"x\":0.05},\"xaxis\":{\"automargin\":true,\"gridcolor\":\"white\",\"linecolor\":\"white\",\"ticks\":\"\",\"title\":{\"standoff\":15},\"zerolinecolor\":\"white\",\"zerolinewidth\":2},\"yaxis\":{\"automargin\":true,\"gridcolor\":\"white\",\"linecolor\":\"white\",\"ticks\":\"\",\"title\":{\"standoff\":15},\"zerolinecolor\":\"white\",\"zerolinewidth\":2}}},\"title\":{\"font\":{\"color\":\"#4D5663\"}},\"xaxis\":{\"anchor\":\"y\",\"domain\":[0.0,0.2125],\"gridcolor\":\"#E1E5ED\",\"showgrid\":false,\"tickfont\":{\"color\":\"#4D5663\"},\"title\":{\"font\":{\"color\":\"#4D5663\"},\"text\":\"\"},\"zerolinecolor\":\"#E1E5ED\"},\"yaxis\":{\"anchor\":\"x\",\"domain\":[0.8025,1.0],\"gridcolor\":\"#E1E5ED\",\"showgrid\":false,\"tickfont\":{\"color\":\"#4D5663\"},\"title\":{\"font\":{\"color\":\"#4D5663\"},\"text\":\"\"},\"zerolinecolor\":\"#E1E5ED\"},\"xaxis2\":{\"anchor\":\"y2\",\"domain\":[0.2625,0.475],\"gridcolor\":\"#E1E5ED\",\"showgrid\":false,\"tickfont\":{\"color\":\"#4D5663\"},\"title\":{\"font\":{\"color\":\"#4D5663\"},\"text\":\"\"},\"zerolinecolor\":\"#E1E5ED\"},\"yaxis2\":{\"anchor\":\"x2\",\"domain\":[0.8025,1.0],\"gridcolor\":\"#E1E5ED\",\"showgrid\":false,\"tickfont\":{\"color\":\"#4D5663\"},\"title\":{\"font\":{\"color\":\"#4D5663\"},\"text\":\"\"},\"zerolinecolor\":\"#E1E5ED\"},\"xaxis3\":{\"anchor\":\"y3\",\"domain\":[0.525,0.7375],\"gridcolor\":\"#E1E5ED\",\"showgrid\":false,\"tickfont\":{\"color\":\"#4D5663\"},\"title\":{\"font\":{\"color\":\"#4D5663\"},\"text\":\"\"},\"zerolinecolor\":\"#E1E5ED\"},\"yaxis3\":{\"anchor\":\"x3\",\"domain\":[0.8025,1.0],\"gridcolor\":\"#E1E5ED\",\"showgrid\":false,\"tickfont\":{\"color\":\"#4D5663\"},\"title\":{\"font\":{\"color\":\"#4D5663\"},\"text\":\"\"},\"zerolinecolor\":\"#E1E5ED\"},\"xaxis4\":{\"anchor\":\"y4\",\"domain\":[0.7875,1.0],\"gridcolor\":\"#E1E5ED\",\"showgrid\":false,\"tickfont\":{\"color\":\"#4D5663\"},\"title\":{\"font\":{\"color\":\"#4D5663\"},\"text\":\"\"},\"zerolinecolor\":\"#E1E5ED\"},\"yaxis4\":{\"anchor\":\"x4\",\"domain\":[0.8025,1.0],\"gridcolor\":\"#E1E5ED\",\"showgrid\":false,\"tickfont\":{\"color\":\"#4D5663\"},\"title\":{\"font\":{\"color\":\"#4D5663\"},\"text\":\"\"},\"zerolinecolor\":\"#E1E5ED\"},\"xaxis5\":{\"anchor\":\"y5\",\"domain\":[0.0,0.2125],\"gridcolor\":\"#E1E5ED\",\"showgrid\":false,\"tickfont\":{\"color\":\"#4D5663\"},\"title\":{\"font\":{\"color\":\"#4D5663\"},\"text\":\"\"},\"zerolinecolor\":\"#E1E5ED\"},\"yaxis5\":{\"anchor\":\"x5\",\"domain\":[0.535,0.7325],\"gridcolor\":\"#E1E5ED\",\"showgrid\":false,\"tickfont\":{\"color\":\"#4D5663\"},\"title\":{\"font\":{\"color\":\"#4D5663\"},\"text\":\"\"},\"zerolinecolor\":\"#E1E5ED\"},\"xaxis6\":{\"anchor\":\"y6\",\"domain\":[0.2625,0.475],\"gridcolor\":\"#E1E5ED\",\"showgrid\":false,\"tickfont\":{\"color\":\"#4D5663\"},\"title\":{\"font\":{\"color\":\"#4D5663\"},\"text\":\"\"},\"zerolinecolor\":\"#E1E5ED\"},\"yaxis6\":{\"anchor\":\"x6\",\"domain\":[0.535,0.7325],\"gridcolor\":\"#E1E5ED\",\"showgrid\":false,\"tickfont\":{\"color\":\"#4D5663\"},\"title\":{\"font\":{\"color\":\"#4D5663\"},\"text\":\"\"},\"zerolinecolor\":\"#E1E5ED\"},\"xaxis7\":{\"anchor\":\"y7\",\"domain\":[0.525,0.7375],\"gridcolor\":\"#E1E5ED\",\"showgrid\":false,\"tickfont\":{\"color\":\"#4D5663\"},\"title\":{\"font\":{\"color\":\"#4D5663\"},\"text\":\"\"},\"zerolinecolor\":\"#E1E5ED\"},\"yaxis7\":{\"anchor\":\"x7\",\"domain\":[0.535,0.7325],\"gridcolor\":\"#E1E5ED\",\"showgrid\":false,\"tickfont\":{\"color\":\"#4D5663\"},\"title\":{\"font\":{\"color\":\"#4D5663\"},\"text\":\"\"},\"zerolinecolor\":\"#E1E5ED\"},\"xaxis8\":{\"anchor\":\"y8\",\"domain\":[0.7875,1.0],\"gridcolor\":\"#E1E5ED\",\"showgrid\":false,\"tickfont\":{\"color\":\"#4D5663\"},\"title\":{\"font\":{\"color\":\"#4D5663\"},\"text\":\"\"},\"zerolinecolor\":\"#E1E5ED\"},\"yaxis8\":{\"anchor\":\"x8\",\"domain\":[0.535,0.7325],\"gridcolor\":\"#E1E5ED\",\"showgrid\":false,\"tickfont\":{\"color\":\"#4D5663\"},\"title\":{\"font\":{\"color\":\"#4D5663\"},\"text\":\"\"},\"zerolinecolor\":\"#E1E5ED\"},\"xaxis9\":{\"anchor\":\"y9\",\"domain\":[0.0,0.2125],\"gridcolor\":\"#E1E5ED\",\"showgrid\":false,\"tickfont\":{\"color\":\"#4D5663\"},\"title\":{\"font\":{\"color\":\"#4D5663\"},\"text\":\"\"},\"zerolinecolor\":\"#E1E5ED\"},\"yaxis9\":{\"anchor\":\"x9\",\"domain\":[0.2675,0.465],\"gridcolor\":\"#E1E5ED\",\"showgrid\":false,\"tickfont\":{\"color\":\"#4D5663\"},\"title\":{\"font\":{\"color\":\"#4D5663\"},\"text\":\"\"},\"zerolinecolor\":\"#E1E5ED\"},\"xaxis10\":{\"anchor\":\"y10\",\"domain\":[0.2625,0.475],\"gridcolor\":\"#E1E5ED\",\"showgrid\":false,\"tickfont\":{\"color\":\"#4D5663\"},\"title\":{\"font\":{\"color\":\"#4D5663\"},\"text\":\"\"},\"zerolinecolor\":\"#E1E5ED\"},\"yaxis10\":{\"anchor\":\"x10\",\"domain\":[0.2675,0.465],\"gridcolor\":\"#E1E5ED\",\"showgrid\":false,\"tickfont\":{\"color\":\"#4D5663\"},\"title\":{\"font\":{\"color\":\"#4D5663\"},\"text\":\"\"},\"zerolinecolor\":\"#E1E5ED\"},\"xaxis11\":{\"anchor\":\"y11\",\"domain\":[0.525,0.7375],\"gridcolor\":\"#E1E5ED\",\"showgrid\":false,\"tickfont\":{\"color\":\"#4D5663\"},\"title\":{\"font\":{\"color\":\"#4D5663\"},\"text\":\"\"},\"zerolinecolor\":\"#E1E5ED\"},\"yaxis11\":{\"anchor\":\"x11\",\"domain\":[0.2675,0.465],\"gridcolor\":\"#E1E5ED\",\"showgrid\":false,\"tickfont\":{\"color\":\"#4D5663\"},\"title\":{\"font\":{\"color\":\"#4D5663\"},\"text\":\"\"},\"zerolinecolor\":\"#E1E5ED\"},\"xaxis12\":{\"anchor\":\"y12\",\"domain\":[0.7875,1.0],\"gridcolor\":\"#E1E5ED\",\"showgrid\":false,\"tickfont\":{\"color\":\"#4D5663\"},\"title\":{\"font\":{\"color\":\"#4D5663\"},\"text\":\"\"},\"zerolinecolor\":\"#E1E5ED\"},\"yaxis12\":{\"anchor\":\"x12\",\"domain\":[0.2675,0.465],\"gridcolor\":\"#E1E5ED\",\"showgrid\":false,\"tickfont\":{\"color\":\"#4D5663\"},\"title\":{\"font\":{\"color\":\"#4D5663\"},\"text\":\"\"},\"zerolinecolor\":\"#E1E5ED\"},\"xaxis13\":{\"anchor\":\"y13\",\"domain\":[0.0,0.2125],\"gridcolor\":\"#E1E5ED\",\"showgrid\":false,\"tickfont\":{\"color\":\"#4D5663\"},\"title\":{\"font\":{\"color\":\"#4D5663\"},\"text\":\"\"},\"zerolinecolor\":\"#E1E5ED\"},\"yaxis13\":{\"anchor\":\"x13\",\"domain\":[0.0,0.1975],\"gridcolor\":\"#E1E5ED\",\"showgrid\":false,\"tickfont\":{\"color\":\"#4D5663\"},\"title\":{\"font\":{\"color\":\"#4D5663\"},\"text\":\"\"},\"zerolinecolor\":\"#E1E5ED\"},\"xaxis14\":{\"anchor\":\"y14\",\"domain\":[0.2625,0.475],\"gridcolor\":\"#E1E5ED\",\"showgrid\":false,\"tickfont\":{\"color\":\"#4D5663\"},\"title\":{\"font\":{\"color\":\"#4D5663\"},\"text\":\"\"},\"zerolinecolor\":\"#E1E5ED\"},\"yaxis14\":{\"anchor\":\"x14\",\"domain\":[0.0,0.1975],\"gridcolor\":\"#E1E5ED\",\"showgrid\":false,\"tickfont\":{\"color\":\"#4D5663\"},\"title\":{\"font\":{\"color\":\"#4D5663\"},\"text\":\"\"},\"zerolinecolor\":\"#E1E5ED\"},\"xaxis15\":{\"anchor\":\"y15\",\"domain\":[0.525,0.7375],\"gridcolor\":\"#E1E5ED\",\"showgrid\":false,\"tickfont\":{\"color\":\"#4D5663\"},\"title\":{\"font\":{\"color\":\"#4D5663\"},\"text\":\"\"},\"zerolinecolor\":\"#E1E5ED\"},\"yaxis15\":{\"anchor\":\"x15\",\"domain\":[0.0,0.1975],\"gridcolor\":\"#E1E5ED\",\"showgrid\":false,\"tickfont\":{\"color\":\"#4D5663\"},\"title\":{\"font\":{\"color\":\"#4D5663\"},\"text\":\"\"},\"zerolinecolor\":\"#E1E5ED\"},\"xaxis16\":{\"anchor\":\"y16\",\"domain\":[0.7875,1.0],\"gridcolor\":\"#E1E5ED\",\"showgrid\":false,\"tickfont\":{\"color\":\"#4D5663\"},\"title\":{\"font\":{\"color\":\"#4D5663\"},\"text\":\"\"},\"zerolinecolor\":\"#E1E5ED\"},\"yaxis16\":{\"anchor\":\"x16\",\"domain\":[0.0,0.1975],\"gridcolor\":\"#E1E5ED\",\"showgrid\":false,\"tickfont\":{\"color\":\"#4D5663\"},\"title\":{\"font\":{\"color\":\"#4D5663\"},\"text\":\"\"},\"zerolinecolor\":\"#E1E5ED\"}},                        {\"showLink\": true, \"linkText\": \"Export to plot.ly\", \"plotlyServerURL\": \"https://plot.ly\", \"responsive\": true}                    ).then(function(){\n",
       "                            \n",
       "var gd = document.getElementById('3aa23d05-657e-49c1-add9-beb03b1b682b');\n",
       "var x = new MutationObserver(function (mutations, observer) {{\n",
       "        var display = window.getComputedStyle(gd).display;\n",
       "        if (!display || display === 'none') {{\n",
       "            console.log([gd, 'removed!']);\n",
       "            Plotly.purge(gd);\n",
       "            observer.disconnect();\n",
       "        }}\n",
       "}});\n",
       "\n",
       "// Listen for the removal of the full notebook cells\n",
       "var notebookContainer = gd.closest('#notebook-container');\n",
       "if (notebookContainer) {{\n",
       "    x.observe(notebookContainer, {childList: true});\n",
       "}}\n",
       "\n",
       "// Listen for the clearing of the current output cell\n",
       "var outputEl = gd.closest('.output');\n",
       "if (outputEl) {{\n",
       "    x.observe(outputEl, {childList: true});\n",
       "}}\n",
       "\n",
       "                        })                };                });            </script>        </div>"
      ]
     },
     "metadata": {},
     "output_type": "display_data"
    }
   ],
   "source": [
    "df.scatter_matrix()"
   ]
  },
  {
   "cell_type": "code",
   "execution_count": null,
   "id": "13263878",
   "metadata": {},
   "outputs": [],
   "source": []
  },
  {
   "cell_type": "code",
   "execution_count": null,
   "id": "ae280eba",
   "metadata": {},
   "outputs": [],
   "source": []
  },
  {
   "cell_type": "code",
   "execution_count": null,
   "id": "623300d1",
   "metadata": {},
   "outputs": [],
   "source": []
  },
  {
   "cell_type": "code",
   "execution_count": null,
   "id": "66357ee3",
   "metadata": {},
   "outputs": [],
   "source": []
  }
 ],
 "metadata": {
  "kernelspec": {
   "display_name": "Python 3 (ipykernel)",
   "language": "python",
   "name": "python3"
  },
  "language_info": {
   "codemirror_mode": {
    "name": "ipython",
    "version": 3
   },
   "file_extension": ".py",
   "mimetype": "text/x-python",
   "name": "python",
   "nbconvert_exporter": "python",
   "pygments_lexer": "ipython3",
   "version": "3.9.13"
  }
 },
 "nbformat": 4,
 "nbformat_minor": 5
}
